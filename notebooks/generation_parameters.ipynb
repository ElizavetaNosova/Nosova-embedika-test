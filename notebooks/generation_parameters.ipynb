{
  "nbformat": 4,
  "nbformat_minor": 0,
  "metadata": {
    "colab": {
      "name": "generation_parameters.ipynb",
      "provenance": []
    },
    "kernelspec": {
      "name": "python3",
      "display_name": "Python 3"
    },
    "language_info": {
      "name": "python"
    },
    "gpuClass": "standard",
    "widgets": {
      "application/vnd.jupyter.widget-state+json": {
        "0e48a562c4f847a1b3a683a8603e3765": {
          "model_module": "@jupyter-widgets/controls",
          "model_name": "HBoxModel",
          "model_module_version": "1.5.0",
          "state": {
            "_dom_classes": [],
            "_model_module": "@jupyter-widgets/controls",
            "_model_module_version": "1.5.0",
            "_model_name": "HBoxModel",
            "_view_count": null,
            "_view_module": "@jupyter-widgets/controls",
            "_view_module_version": "1.5.0",
            "_view_name": "HBoxView",
            "box_style": "",
            "children": [
              "IPY_MODEL_dc8fc827904e4521b91e5b24f51ced42",
              "IPY_MODEL_9a3f9e31d0744b2d8cce5ea20d922d23",
              "IPY_MODEL_293fad34eb1b41ddb3d6b7f995ed47f8"
            ],
            "layout": "IPY_MODEL_7049262b1f7d4072beb2d2abedd7e148"
          }
        },
        "dc8fc827904e4521b91e5b24f51ced42": {
          "model_module": "@jupyter-widgets/controls",
          "model_name": "HTMLModel",
          "model_module_version": "1.5.0",
          "state": {
            "_dom_classes": [],
            "_model_module": "@jupyter-widgets/controls",
            "_model_module_version": "1.5.0",
            "_model_name": "HTMLModel",
            "_view_count": null,
            "_view_module": "@jupyter-widgets/controls",
            "_view_module_version": "1.5.0",
            "_view_name": "HTMLView",
            "description": "",
            "description_tooltip": null,
            "layout": "IPY_MODEL_b6bf3b0bed814ed9aa5241d4d287bd37",
            "placeholder": "​",
            "style": "IPY_MODEL_10adf7be9dc743d3ab28c68acecc09eb",
            "value": "Downloading: 100%"
          }
        },
        "9a3f9e31d0744b2d8cce5ea20d922d23": {
          "model_module": "@jupyter-widgets/controls",
          "model_name": "FloatProgressModel",
          "model_module_version": "1.5.0",
          "state": {
            "_dom_classes": [],
            "_model_module": "@jupyter-widgets/controls",
            "_model_module_version": "1.5.0",
            "_model_name": "FloatProgressModel",
            "_view_count": null,
            "_view_module": "@jupyter-widgets/controls",
            "_view_module_version": "1.5.0",
            "_view_name": "ProgressView",
            "bar_style": "success",
            "description": "",
            "description_tooltip": null,
            "layout": "IPY_MODEL_3333a59ab5154f95b79b691c88d054ac",
            "max": 608,
            "min": 0,
            "orientation": "horizontal",
            "style": "IPY_MODEL_9e5ccafed95b4635ac07c33e1b0367f4",
            "value": 608
          }
        },
        "293fad34eb1b41ddb3d6b7f995ed47f8": {
          "model_module": "@jupyter-widgets/controls",
          "model_name": "HTMLModel",
          "model_module_version": "1.5.0",
          "state": {
            "_dom_classes": [],
            "_model_module": "@jupyter-widgets/controls",
            "_model_module_version": "1.5.0",
            "_model_name": "HTMLModel",
            "_view_count": null,
            "_view_module": "@jupyter-widgets/controls",
            "_view_module_version": "1.5.0",
            "_view_name": "HTMLView",
            "description": "",
            "description_tooltip": null,
            "layout": "IPY_MODEL_10c4eb838cb14f1cb60dd9ef191791d6",
            "placeholder": "​",
            "style": "IPY_MODEL_7a0bea1b0f784b9b9c566f1d923ae52b",
            "value": " 608/608 [00:00&lt;00:00, 15.2kB/s]"
          }
        },
        "7049262b1f7d4072beb2d2abedd7e148": {
          "model_module": "@jupyter-widgets/base",
          "model_name": "LayoutModel",
          "model_module_version": "1.2.0",
          "state": {
            "_model_module": "@jupyter-widgets/base",
            "_model_module_version": "1.2.0",
            "_model_name": "LayoutModel",
            "_view_count": null,
            "_view_module": "@jupyter-widgets/base",
            "_view_module_version": "1.2.0",
            "_view_name": "LayoutView",
            "align_content": null,
            "align_items": null,
            "align_self": null,
            "border": null,
            "bottom": null,
            "display": null,
            "flex": null,
            "flex_flow": null,
            "grid_area": null,
            "grid_auto_columns": null,
            "grid_auto_flow": null,
            "grid_auto_rows": null,
            "grid_column": null,
            "grid_gap": null,
            "grid_row": null,
            "grid_template_areas": null,
            "grid_template_columns": null,
            "grid_template_rows": null,
            "height": null,
            "justify_content": null,
            "justify_items": null,
            "left": null,
            "margin": null,
            "max_height": null,
            "max_width": null,
            "min_height": null,
            "min_width": null,
            "object_fit": null,
            "object_position": null,
            "order": null,
            "overflow": null,
            "overflow_x": null,
            "overflow_y": null,
            "padding": null,
            "right": null,
            "top": null,
            "visibility": null,
            "width": null
          }
        },
        "b6bf3b0bed814ed9aa5241d4d287bd37": {
          "model_module": "@jupyter-widgets/base",
          "model_name": "LayoutModel",
          "model_module_version": "1.2.0",
          "state": {
            "_model_module": "@jupyter-widgets/base",
            "_model_module_version": "1.2.0",
            "_model_name": "LayoutModel",
            "_view_count": null,
            "_view_module": "@jupyter-widgets/base",
            "_view_module_version": "1.2.0",
            "_view_name": "LayoutView",
            "align_content": null,
            "align_items": null,
            "align_self": null,
            "border": null,
            "bottom": null,
            "display": null,
            "flex": null,
            "flex_flow": null,
            "grid_area": null,
            "grid_auto_columns": null,
            "grid_auto_flow": null,
            "grid_auto_rows": null,
            "grid_column": null,
            "grid_gap": null,
            "grid_row": null,
            "grid_template_areas": null,
            "grid_template_columns": null,
            "grid_template_rows": null,
            "height": null,
            "justify_content": null,
            "justify_items": null,
            "left": null,
            "margin": null,
            "max_height": null,
            "max_width": null,
            "min_height": null,
            "min_width": null,
            "object_fit": null,
            "object_position": null,
            "order": null,
            "overflow": null,
            "overflow_x": null,
            "overflow_y": null,
            "padding": null,
            "right": null,
            "top": null,
            "visibility": null,
            "width": null
          }
        },
        "10adf7be9dc743d3ab28c68acecc09eb": {
          "model_module": "@jupyter-widgets/controls",
          "model_name": "DescriptionStyleModel",
          "model_module_version": "1.5.0",
          "state": {
            "_model_module": "@jupyter-widgets/controls",
            "_model_module_version": "1.5.0",
            "_model_name": "DescriptionStyleModel",
            "_view_count": null,
            "_view_module": "@jupyter-widgets/base",
            "_view_module_version": "1.2.0",
            "_view_name": "StyleView",
            "description_width": ""
          }
        },
        "3333a59ab5154f95b79b691c88d054ac": {
          "model_module": "@jupyter-widgets/base",
          "model_name": "LayoutModel",
          "model_module_version": "1.2.0",
          "state": {
            "_model_module": "@jupyter-widgets/base",
            "_model_module_version": "1.2.0",
            "_model_name": "LayoutModel",
            "_view_count": null,
            "_view_module": "@jupyter-widgets/base",
            "_view_module_version": "1.2.0",
            "_view_name": "LayoutView",
            "align_content": null,
            "align_items": null,
            "align_self": null,
            "border": null,
            "bottom": null,
            "display": null,
            "flex": null,
            "flex_flow": null,
            "grid_area": null,
            "grid_auto_columns": null,
            "grid_auto_flow": null,
            "grid_auto_rows": null,
            "grid_column": null,
            "grid_gap": null,
            "grid_row": null,
            "grid_template_areas": null,
            "grid_template_columns": null,
            "grid_template_rows": null,
            "height": null,
            "justify_content": null,
            "justify_items": null,
            "left": null,
            "margin": null,
            "max_height": null,
            "max_width": null,
            "min_height": null,
            "min_width": null,
            "object_fit": null,
            "object_position": null,
            "order": null,
            "overflow": null,
            "overflow_x": null,
            "overflow_y": null,
            "padding": null,
            "right": null,
            "top": null,
            "visibility": null,
            "width": null
          }
        },
        "9e5ccafed95b4635ac07c33e1b0367f4": {
          "model_module": "@jupyter-widgets/controls",
          "model_name": "ProgressStyleModel",
          "model_module_version": "1.5.0",
          "state": {
            "_model_module": "@jupyter-widgets/controls",
            "_model_module_version": "1.5.0",
            "_model_name": "ProgressStyleModel",
            "_view_count": null,
            "_view_module": "@jupyter-widgets/base",
            "_view_module_version": "1.2.0",
            "_view_name": "StyleView",
            "bar_color": null,
            "description_width": ""
          }
        },
        "10c4eb838cb14f1cb60dd9ef191791d6": {
          "model_module": "@jupyter-widgets/base",
          "model_name": "LayoutModel",
          "model_module_version": "1.2.0",
          "state": {
            "_model_module": "@jupyter-widgets/base",
            "_model_module_version": "1.2.0",
            "_model_name": "LayoutModel",
            "_view_count": null,
            "_view_module": "@jupyter-widgets/base",
            "_view_module_version": "1.2.0",
            "_view_name": "LayoutView",
            "align_content": null,
            "align_items": null,
            "align_self": null,
            "border": null,
            "bottom": null,
            "display": null,
            "flex": null,
            "flex_flow": null,
            "grid_area": null,
            "grid_auto_columns": null,
            "grid_auto_flow": null,
            "grid_auto_rows": null,
            "grid_column": null,
            "grid_gap": null,
            "grid_row": null,
            "grid_template_areas": null,
            "grid_template_columns": null,
            "grid_template_rows": null,
            "height": null,
            "justify_content": null,
            "justify_items": null,
            "left": null,
            "margin": null,
            "max_height": null,
            "max_width": null,
            "min_height": null,
            "min_width": null,
            "object_fit": null,
            "object_position": null,
            "order": null,
            "overflow": null,
            "overflow_x": null,
            "overflow_y": null,
            "padding": null,
            "right": null,
            "top": null,
            "visibility": null,
            "width": null
          }
        },
        "7a0bea1b0f784b9b9c566f1d923ae52b": {
          "model_module": "@jupyter-widgets/controls",
          "model_name": "DescriptionStyleModel",
          "model_module_version": "1.5.0",
          "state": {
            "_model_module": "@jupyter-widgets/controls",
            "_model_module_version": "1.5.0",
            "_model_name": "DescriptionStyleModel",
            "_view_count": null,
            "_view_module": "@jupyter-widgets/base",
            "_view_module_version": "1.2.0",
            "_view_name": "StyleView",
            "description_width": ""
          }
        },
        "3d47824f9a3b4231af60e72c3f1a179f": {
          "model_module": "@jupyter-widgets/controls",
          "model_name": "HBoxModel",
          "model_module_version": "1.5.0",
          "state": {
            "_dom_classes": [],
            "_model_module": "@jupyter-widgets/controls",
            "_model_module_version": "1.5.0",
            "_model_name": "HBoxModel",
            "_view_count": null,
            "_view_module": "@jupyter-widgets/controls",
            "_view_module_version": "1.5.0",
            "_view_name": "HBoxView",
            "box_style": "",
            "children": [
              "IPY_MODEL_3464f0d615de4060bfef9402e575f5d0",
              "IPY_MODEL_b5b3a835057a4376aa23f56584bab657",
              "IPY_MODEL_0c0a222047c245caa827ab254ab18d42"
            ],
            "layout": "IPY_MODEL_42ae9f21e0524ff0b66730543375cb1f"
          }
        },
        "3464f0d615de4060bfef9402e575f5d0": {
          "model_module": "@jupyter-widgets/controls",
          "model_name": "HTMLModel",
          "model_module_version": "1.5.0",
          "state": {
            "_dom_classes": [],
            "_model_module": "@jupyter-widgets/controls",
            "_model_module_version": "1.5.0",
            "_model_name": "HTMLModel",
            "_view_count": null,
            "_view_module": "@jupyter-widgets/controls",
            "_view_module_version": "1.5.0",
            "_view_name": "HTMLView",
            "description": "",
            "description_tooltip": null,
            "layout": "IPY_MODEL_14bbfbaac5f44126a40657facd93c9a9",
            "placeholder": "​",
            "style": "IPY_MODEL_20c81abfd2c44820b1283883635328f3",
            "value": "Downloading: 100%"
          }
        },
        "b5b3a835057a4376aa23f56584bab657": {
          "model_module": "@jupyter-widgets/controls",
          "model_name": "FloatProgressModel",
          "model_module_version": "1.5.0",
          "state": {
            "_dom_classes": [],
            "_model_module": "@jupyter-widgets/controls",
            "_model_module_version": "1.5.0",
            "_model_name": "FloatProgressModel",
            "_view_count": null,
            "_view_module": "@jupyter-widgets/controls",
            "_view_module_version": "1.5.0",
            "_view_name": "ProgressView",
            "bar_style": "success",
            "description": "",
            "description_tooltip": null,
            "layout": "IPY_MODEL_d8a84115db254eb2a45734692ac3e75e",
            "max": 1713123,
            "min": 0,
            "orientation": "horizontal",
            "style": "IPY_MODEL_611dc4061e154d7fa846e508ae99b242",
            "value": 1713123
          }
        },
        "0c0a222047c245caa827ab254ab18d42": {
          "model_module": "@jupyter-widgets/controls",
          "model_name": "HTMLModel",
          "model_module_version": "1.5.0",
          "state": {
            "_dom_classes": [],
            "_model_module": "@jupyter-widgets/controls",
            "_model_module_version": "1.5.0",
            "_model_name": "HTMLModel",
            "_view_count": null,
            "_view_module": "@jupyter-widgets/controls",
            "_view_module_version": "1.5.0",
            "_view_name": "HTMLView",
            "description": "",
            "description_tooltip": null,
            "layout": "IPY_MODEL_7835f1c54ed94326b19ad3d6da749a5a",
            "placeholder": "​",
            "style": "IPY_MODEL_c0cab394430a4aabad3de11011acf89b",
            "value": " 1.63M/1.63M [00:00&lt;00:00, 3.05MB/s]"
          }
        },
        "42ae9f21e0524ff0b66730543375cb1f": {
          "model_module": "@jupyter-widgets/base",
          "model_name": "LayoutModel",
          "model_module_version": "1.2.0",
          "state": {
            "_model_module": "@jupyter-widgets/base",
            "_model_module_version": "1.2.0",
            "_model_name": "LayoutModel",
            "_view_count": null,
            "_view_module": "@jupyter-widgets/base",
            "_view_module_version": "1.2.0",
            "_view_name": "LayoutView",
            "align_content": null,
            "align_items": null,
            "align_self": null,
            "border": null,
            "bottom": null,
            "display": null,
            "flex": null,
            "flex_flow": null,
            "grid_area": null,
            "grid_auto_columns": null,
            "grid_auto_flow": null,
            "grid_auto_rows": null,
            "grid_column": null,
            "grid_gap": null,
            "grid_row": null,
            "grid_template_areas": null,
            "grid_template_columns": null,
            "grid_template_rows": null,
            "height": null,
            "justify_content": null,
            "justify_items": null,
            "left": null,
            "margin": null,
            "max_height": null,
            "max_width": null,
            "min_height": null,
            "min_width": null,
            "object_fit": null,
            "object_position": null,
            "order": null,
            "overflow": null,
            "overflow_x": null,
            "overflow_y": null,
            "padding": null,
            "right": null,
            "top": null,
            "visibility": null,
            "width": null
          }
        },
        "14bbfbaac5f44126a40657facd93c9a9": {
          "model_module": "@jupyter-widgets/base",
          "model_name": "LayoutModel",
          "model_module_version": "1.2.0",
          "state": {
            "_model_module": "@jupyter-widgets/base",
            "_model_module_version": "1.2.0",
            "_model_name": "LayoutModel",
            "_view_count": null,
            "_view_module": "@jupyter-widgets/base",
            "_view_module_version": "1.2.0",
            "_view_name": "LayoutView",
            "align_content": null,
            "align_items": null,
            "align_self": null,
            "border": null,
            "bottom": null,
            "display": null,
            "flex": null,
            "flex_flow": null,
            "grid_area": null,
            "grid_auto_columns": null,
            "grid_auto_flow": null,
            "grid_auto_rows": null,
            "grid_column": null,
            "grid_gap": null,
            "grid_row": null,
            "grid_template_areas": null,
            "grid_template_columns": null,
            "grid_template_rows": null,
            "height": null,
            "justify_content": null,
            "justify_items": null,
            "left": null,
            "margin": null,
            "max_height": null,
            "max_width": null,
            "min_height": null,
            "min_width": null,
            "object_fit": null,
            "object_position": null,
            "order": null,
            "overflow": null,
            "overflow_x": null,
            "overflow_y": null,
            "padding": null,
            "right": null,
            "top": null,
            "visibility": null,
            "width": null
          }
        },
        "20c81abfd2c44820b1283883635328f3": {
          "model_module": "@jupyter-widgets/controls",
          "model_name": "DescriptionStyleModel",
          "model_module_version": "1.5.0",
          "state": {
            "_model_module": "@jupyter-widgets/controls",
            "_model_module_version": "1.5.0",
            "_model_name": "DescriptionStyleModel",
            "_view_count": null,
            "_view_module": "@jupyter-widgets/base",
            "_view_module_version": "1.2.0",
            "_view_name": "StyleView",
            "description_width": ""
          }
        },
        "d8a84115db254eb2a45734692ac3e75e": {
          "model_module": "@jupyter-widgets/base",
          "model_name": "LayoutModel",
          "model_module_version": "1.2.0",
          "state": {
            "_model_module": "@jupyter-widgets/base",
            "_model_module_version": "1.2.0",
            "_model_name": "LayoutModel",
            "_view_count": null,
            "_view_module": "@jupyter-widgets/base",
            "_view_module_version": "1.2.0",
            "_view_name": "LayoutView",
            "align_content": null,
            "align_items": null,
            "align_self": null,
            "border": null,
            "bottom": null,
            "display": null,
            "flex": null,
            "flex_flow": null,
            "grid_area": null,
            "grid_auto_columns": null,
            "grid_auto_flow": null,
            "grid_auto_rows": null,
            "grid_column": null,
            "grid_gap": null,
            "grid_row": null,
            "grid_template_areas": null,
            "grid_template_columns": null,
            "grid_template_rows": null,
            "height": null,
            "justify_content": null,
            "justify_items": null,
            "left": null,
            "margin": null,
            "max_height": null,
            "max_width": null,
            "min_height": null,
            "min_width": null,
            "object_fit": null,
            "object_position": null,
            "order": null,
            "overflow": null,
            "overflow_x": null,
            "overflow_y": null,
            "padding": null,
            "right": null,
            "top": null,
            "visibility": null,
            "width": null
          }
        },
        "611dc4061e154d7fa846e508ae99b242": {
          "model_module": "@jupyter-widgets/controls",
          "model_name": "ProgressStyleModel",
          "model_module_version": "1.5.0",
          "state": {
            "_model_module": "@jupyter-widgets/controls",
            "_model_module_version": "1.5.0",
            "_model_name": "ProgressStyleModel",
            "_view_count": null,
            "_view_module": "@jupyter-widgets/base",
            "_view_module_version": "1.2.0",
            "_view_name": "StyleView",
            "bar_color": null,
            "description_width": ""
          }
        },
        "7835f1c54ed94326b19ad3d6da749a5a": {
          "model_module": "@jupyter-widgets/base",
          "model_name": "LayoutModel",
          "model_module_version": "1.2.0",
          "state": {
            "_model_module": "@jupyter-widgets/base",
            "_model_module_version": "1.2.0",
            "_model_name": "LayoutModel",
            "_view_count": null,
            "_view_module": "@jupyter-widgets/base",
            "_view_module_version": "1.2.0",
            "_view_name": "LayoutView",
            "align_content": null,
            "align_items": null,
            "align_self": null,
            "border": null,
            "bottom": null,
            "display": null,
            "flex": null,
            "flex_flow": null,
            "grid_area": null,
            "grid_auto_columns": null,
            "grid_auto_flow": null,
            "grid_auto_rows": null,
            "grid_column": null,
            "grid_gap": null,
            "grid_row": null,
            "grid_template_areas": null,
            "grid_template_columns": null,
            "grid_template_rows": null,
            "height": null,
            "justify_content": null,
            "justify_items": null,
            "left": null,
            "margin": null,
            "max_height": null,
            "max_width": null,
            "min_height": null,
            "min_width": null,
            "object_fit": null,
            "object_position": null,
            "order": null,
            "overflow": null,
            "overflow_x": null,
            "overflow_y": null,
            "padding": null,
            "right": null,
            "top": null,
            "visibility": null,
            "width": null
          }
        },
        "c0cab394430a4aabad3de11011acf89b": {
          "model_module": "@jupyter-widgets/controls",
          "model_name": "DescriptionStyleModel",
          "model_module_version": "1.5.0",
          "state": {
            "_model_module": "@jupyter-widgets/controls",
            "_model_module_version": "1.5.0",
            "_model_name": "DescriptionStyleModel",
            "_view_count": null,
            "_view_module": "@jupyter-widgets/base",
            "_view_module_version": "1.2.0",
            "_view_name": "StyleView",
            "description_width": ""
          }
        },
        "5b487a149b57410ea3bef706fb69eac9": {
          "model_module": "@jupyter-widgets/controls",
          "model_name": "HBoxModel",
          "model_module_version": "1.5.0",
          "state": {
            "_dom_classes": [],
            "_model_module": "@jupyter-widgets/controls",
            "_model_module_version": "1.5.0",
            "_model_name": "HBoxModel",
            "_view_count": null,
            "_view_module": "@jupyter-widgets/controls",
            "_view_module_version": "1.5.0",
            "_view_name": "HBoxView",
            "box_style": "",
            "children": [
              "IPY_MODEL_469c87044b344f85ab8f8445791ac811",
              "IPY_MODEL_8abe1c56c3aa4b87b14406a176c17ea8",
              "IPY_MODEL_f02c2543068042749fd589d07a46848d"
            ],
            "layout": "IPY_MODEL_e136407305124a63ae7119135e00d505"
          }
        },
        "469c87044b344f85ab8f8445791ac811": {
          "model_module": "@jupyter-widgets/controls",
          "model_name": "HTMLModel",
          "model_module_version": "1.5.0",
          "state": {
            "_dom_classes": [],
            "_model_module": "@jupyter-widgets/controls",
            "_model_module_version": "1.5.0",
            "_model_name": "HTMLModel",
            "_view_count": null,
            "_view_module": "@jupyter-widgets/controls",
            "_view_module_version": "1.5.0",
            "_view_name": "HTMLView",
            "description": "",
            "description_tooltip": null,
            "layout": "IPY_MODEL_92b47eeab14943ec891380722df8fca0",
            "placeholder": "​",
            "style": "IPY_MODEL_60d957d3094f488f90705ff4aefdaae1",
            "value": "Downloading: 100%"
          }
        },
        "8abe1c56c3aa4b87b14406a176c17ea8": {
          "model_module": "@jupyter-widgets/controls",
          "model_name": "FloatProgressModel",
          "model_module_version": "1.5.0",
          "state": {
            "_dom_classes": [],
            "_model_module": "@jupyter-widgets/controls",
            "_model_module_version": "1.5.0",
            "_model_name": "FloatProgressModel",
            "_view_count": null,
            "_view_module": "@jupyter-widgets/controls",
            "_view_module_version": "1.5.0",
            "_view_name": "ProgressView",
            "bar_style": "success",
            "description": "",
            "description_tooltip": null,
            "layout": "IPY_MODEL_10fd9419cfd044ad937d7f2a53343753",
            "max": 1270925,
            "min": 0,
            "orientation": "horizontal",
            "style": "IPY_MODEL_115140b90a7a47e3b335f4904754de09",
            "value": 1270925
          }
        },
        "f02c2543068042749fd589d07a46848d": {
          "model_module": "@jupyter-widgets/controls",
          "model_name": "HTMLModel",
          "model_module_version": "1.5.0",
          "state": {
            "_dom_classes": [],
            "_model_module": "@jupyter-widgets/controls",
            "_model_module_version": "1.5.0",
            "_model_name": "HTMLModel",
            "_view_count": null,
            "_view_module": "@jupyter-widgets/controls",
            "_view_module_version": "1.5.0",
            "_view_name": "HTMLView",
            "description": "",
            "description_tooltip": null,
            "layout": "IPY_MODEL_3c3a148e652f4a459b06ab00d4cf4303",
            "placeholder": "​",
            "style": "IPY_MODEL_b3750a9daeee4043b6b666cf71e90651",
            "value": " 1.21M/1.21M [00:00&lt;00:00, 3.04MB/s]"
          }
        },
        "e136407305124a63ae7119135e00d505": {
          "model_module": "@jupyter-widgets/base",
          "model_name": "LayoutModel",
          "model_module_version": "1.2.0",
          "state": {
            "_model_module": "@jupyter-widgets/base",
            "_model_module_version": "1.2.0",
            "_model_name": "LayoutModel",
            "_view_count": null,
            "_view_module": "@jupyter-widgets/base",
            "_view_module_version": "1.2.0",
            "_view_name": "LayoutView",
            "align_content": null,
            "align_items": null,
            "align_self": null,
            "border": null,
            "bottom": null,
            "display": null,
            "flex": null,
            "flex_flow": null,
            "grid_area": null,
            "grid_auto_columns": null,
            "grid_auto_flow": null,
            "grid_auto_rows": null,
            "grid_column": null,
            "grid_gap": null,
            "grid_row": null,
            "grid_template_areas": null,
            "grid_template_columns": null,
            "grid_template_rows": null,
            "height": null,
            "justify_content": null,
            "justify_items": null,
            "left": null,
            "margin": null,
            "max_height": null,
            "max_width": null,
            "min_height": null,
            "min_width": null,
            "object_fit": null,
            "object_position": null,
            "order": null,
            "overflow": null,
            "overflow_x": null,
            "overflow_y": null,
            "padding": null,
            "right": null,
            "top": null,
            "visibility": null,
            "width": null
          }
        },
        "92b47eeab14943ec891380722df8fca0": {
          "model_module": "@jupyter-widgets/base",
          "model_name": "LayoutModel",
          "model_module_version": "1.2.0",
          "state": {
            "_model_module": "@jupyter-widgets/base",
            "_model_module_version": "1.2.0",
            "_model_name": "LayoutModel",
            "_view_count": null,
            "_view_module": "@jupyter-widgets/base",
            "_view_module_version": "1.2.0",
            "_view_name": "LayoutView",
            "align_content": null,
            "align_items": null,
            "align_self": null,
            "border": null,
            "bottom": null,
            "display": null,
            "flex": null,
            "flex_flow": null,
            "grid_area": null,
            "grid_auto_columns": null,
            "grid_auto_flow": null,
            "grid_auto_rows": null,
            "grid_column": null,
            "grid_gap": null,
            "grid_row": null,
            "grid_template_areas": null,
            "grid_template_columns": null,
            "grid_template_rows": null,
            "height": null,
            "justify_content": null,
            "justify_items": null,
            "left": null,
            "margin": null,
            "max_height": null,
            "max_width": null,
            "min_height": null,
            "min_width": null,
            "object_fit": null,
            "object_position": null,
            "order": null,
            "overflow": null,
            "overflow_x": null,
            "overflow_y": null,
            "padding": null,
            "right": null,
            "top": null,
            "visibility": null,
            "width": null
          }
        },
        "60d957d3094f488f90705ff4aefdaae1": {
          "model_module": "@jupyter-widgets/controls",
          "model_name": "DescriptionStyleModel",
          "model_module_version": "1.5.0",
          "state": {
            "_model_module": "@jupyter-widgets/controls",
            "_model_module_version": "1.5.0",
            "_model_name": "DescriptionStyleModel",
            "_view_count": null,
            "_view_module": "@jupyter-widgets/base",
            "_view_module_version": "1.2.0",
            "_view_name": "StyleView",
            "description_width": ""
          }
        },
        "10fd9419cfd044ad937d7f2a53343753": {
          "model_module": "@jupyter-widgets/base",
          "model_name": "LayoutModel",
          "model_module_version": "1.2.0",
          "state": {
            "_model_module": "@jupyter-widgets/base",
            "_model_module_version": "1.2.0",
            "_model_name": "LayoutModel",
            "_view_count": null,
            "_view_module": "@jupyter-widgets/base",
            "_view_module_version": "1.2.0",
            "_view_name": "LayoutView",
            "align_content": null,
            "align_items": null,
            "align_self": null,
            "border": null,
            "bottom": null,
            "display": null,
            "flex": null,
            "flex_flow": null,
            "grid_area": null,
            "grid_auto_columns": null,
            "grid_auto_flow": null,
            "grid_auto_rows": null,
            "grid_column": null,
            "grid_gap": null,
            "grid_row": null,
            "grid_template_areas": null,
            "grid_template_columns": null,
            "grid_template_rows": null,
            "height": null,
            "justify_content": null,
            "justify_items": null,
            "left": null,
            "margin": null,
            "max_height": null,
            "max_width": null,
            "min_height": null,
            "min_width": null,
            "object_fit": null,
            "object_position": null,
            "order": null,
            "overflow": null,
            "overflow_x": null,
            "overflow_y": null,
            "padding": null,
            "right": null,
            "top": null,
            "visibility": null,
            "width": null
          }
        },
        "115140b90a7a47e3b335f4904754de09": {
          "model_module": "@jupyter-widgets/controls",
          "model_name": "ProgressStyleModel",
          "model_module_version": "1.5.0",
          "state": {
            "_model_module": "@jupyter-widgets/controls",
            "_model_module_version": "1.5.0",
            "_model_name": "ProgressStyleModel",
            "_view_count": null,
            "_view_module": "@jupyter-widgets/base",
            "_view_module_version": "1.2.0",
            "_view_name": "StyleView",
            "bar_color": null,
            "description_width": ""
          }
        },
        "3c3a148e652f4a459b06ab00d4cf4303": {
          "model_module": "@jupyter-widgets/base",
          "model_name": "LayoutModel",
          "model_module_version": "1.2.0",
          "state": {
            "_model_module": "@jupyter-widgets/base",
            "_model_module_version": "1.2.0",
            "_model_name": "LayoutModel",
            "_view_count": null,
            "_view_module": "@jupyter-widgets/base",
            "_view_module_version": "1.2.0",
            "_view_name": "LayoutView",
            "align_content": null,
            "align_items": null,
            "align_self": null,
            "border": null,
            "bottom": null,
            "display": null,
            "flex": null,
            "flex_flow": null,
            "grid_area": null,
            "grid_auto_columns": null,
            "grid_auto_flow": null,
            "grid_auto_rows": null,
            "grid_column": null,
            "grid_gap": null,
            "grid_row": null,
            "grid_template_areas": null,
            "grid_template_columns": null,
            "grid_template_rows": null,
            "height": null,
            "justify_content": null,
            "justify_items": null,
            "left": null,
            "margin": null,
            "max_height": null,
            "max_width": null,
            "min_height": null,
            "min_width": null,
            "object_fit": null,
            "object_position": null,
            "order": null,
            "overflow": null,
            "overflow_x": null,
            "overflow_y": null,
            "padding": null,
            "right": null,
            "top": null,
            "visibility": null,
            "width": null
          }
        },
        "b3750a9daeee4043b6b666cf71e90651": {
          "model_module": "@jupyter-widgets/controls",
          "model_name": "DescriptionStyleModel",
          "model_module_version": "1.5.0",
          "state": {
            "_model_module": "@jupyter-widgets/controls",
            "_model_module_version": "1.5.0",
            "_model_name": "DescriptionStyleModel",
            "_view_count": null,
            "_view_module": "@jupyter-widgets/base",
            "_view_module_version": "1.2.0",
            "_view_name": "StyleView",
            "description_width": ""
          }
        }
      }
    }
  },
  "cells": [
    {
      "cell_type": "markdown",
      "source": [
        "# Подбор параметров nucleus-самплинга, с которыми вероятнее всего получение правильного следующего токена\n",
        "\n"
      ],
      "metadata": {
        "id": "Lgl8v-0ViWqy"
      }
    },
    {
      "cell_type": "code",
      "source": [
        "import torch\n",
        "from torch.nn import functional as F\n",
        "from transformers import AutoTokenizer, AutoModelWithLMHead\n",
        "import pandas as pd\n",
        "import json\n",
        "from tqdm import tqdm\n",
        "from typing import List\n",
        "from nltk.stem.snowball import SnowballStemmer\n",
        "from nltk.tokenize import wordpunct_tokenize\n",
        "import re\n",
        "from statistics import mean\n",
        "from copy import copy\n",
        "from tqdm import tqdm\n",
        "tqdm.pandas()"
      ],
      "metadata": {
        "id": "T9tyG1JhqQMs"
      },
      "execution_count": 21,
      "outputs": []
    },
    {
      "cell_type": "code",
      "source": [
        "from google.colab import drive"
      ],
      "metadata": {
        "id": "22YcuUFRq_ZU"
      },
      "execution_count": 4,
      "outputs": []
    },
    {
      "cell_type": "code",
      "source": [
        "drive.mount('gdrive')"
      ],
      "metadata": {
        "colab": {
          "base_uri": "https://localhost:8080/"
        },
        "id": "MVKchfCcrEok",
        "outputId": "71a693d5-7fc1-4874-f275-f15b3c78c3c3"
      },
      "execution_count": 8,
      "outputs": [
        {
          "output_type": "stream",
          "name": "stdout",
          "text": [
            "Mounted at gdrive\n"
          ]
        }
      ]
    },
    {
      "cell_type": "code",
      "source": [
        "TEST_DF_PATH = 'gdrive/MyDrive/test_prompts.csv'"
      ],
      "metadata": {
        "id": "submAPPRpL9q"
      },
      "execution_count": 6,
      "outputs": []
    },
    {
      "cell_type": "code",
      "source": [
        "test_df = pd.read_csv(TEST_DF_PATH)"
      ],
      "metadata": {
        "id": "YutnS13OyysW"
      },
      "execution_count": 9,
      "outputs": []
    },
    {
      "cell_type": "code",
      "source": [
        "for column in ['title_ner', 'text_ner', 'selected_entities']:\n",
        "    test_df[column] = test_df[column].apply(json.loads)"
      ],
      "metadata": {
        "id": "YaAxnWoay5BL"
      },
      "execution_count": null,
      "outputs": []
    },
    {
      "cell_type": "code",
      "source": [
        "SELECTED_ENTITIES = ['PER', 'ORG']\n",
        "\n",
        "BOS_TAG = 'BOS'\n",
        "EOS_TAG = 'EOS'\n",
        "TITLE_TAG = 'TITLE'\n",
        "TEXT_TAG = 'TEXT'"
      ],
      "metadata": {
        "id": "cmf0YULHrpxO"
      },
      "execution_count": null,
      "outputs": []
    },
    {
      "cell_type": "code",
      "source": [
        "device = 'cuda' if torch.cuda.is_available() else 'cpu'"
      ],
      "metadata": {
        "id": "mJnc9Ag11RiJ"
      },
      "execution_count": null,
      "outputs": []
    },
    {
      "cell_type": "code",
      "source": [
        "TOKENIZER_PATH = 'sberbank-ai/rugpt3small_based_on_gpt2'\n",
        "tokenizer = AutoTokenizer.from_pretrained(TOKENIZER_PATH)\n",
        "tokenizer.add_special_tokens({'bos_token':BOS_TAG,\n",
        "                              'eos_token':EOS_TAG,\n",
        "                              'pad_token': '[PAD]',\n",
        "                              'additional_special_tokens':[TITLE_TAG, TEXT_TAG, *SELECTED_ENTITIES]})\n"
      ],
      "metadata": {
        "colab": {
          "base_uri": "https://localhost:8080/",
          "height": 149,
          "referenced_widgets": [
            "0e48a562c4f847a1b3a683a8603e3765",
            "dc8fc827904e4521b91e5b24f51ced42",
            "9a3f9e31d0744b2d8cce5ea20d922d23",
            "293fad34eb1b41ddb3d6b7f995ed47f8",
            "7049262b1f7d4072beb2d2abedd7e148",
            "b6bf3b0bed814ed9aa5241d4d287bd37",
            "10adf7be9dc743d3ab28c68acecc09eb",
            "3333a59ab5154f95b79b691c88d054ac",
            "9e5ccafed95b4635ac07c33e1b0367f4",
            "10c4eb838cb14f1cb60dd9ef191791d6",
            "7a0bea1b0f784b9b9c566f1d923ae52b",
            "3d47824f9a3b4231af60e72c3f1a179f",
            "3464f0d615de4060bfef9402e575f5d0",
            "b5b3a835057a4376aa23f56584bab657",
            "0c0a222047c245caa827ab254ab18d42",
            "42ae9f21e0524ff0b66730543375cb1f",
            "14bbfbaac5f44126a40657facd93c9a9",
            "20c81abfd2c44820b1283883635328f3",
            "d8a84115db254eb2a45734692ac3e75e",
            "611dc4061e154d7fa846e508ae99b242",
            "7835f1c54ed94326b19ad3d6da749a5a",
            "c0cab394430a4aabad3de11011acf89b",
            "5b487a149b57410ea3bef706fb69eac9",
            "469c87044b344f85ab8f8445791ac811",
            "8abe1c56c3aa4b87b14406a176c17ea8",
            "f02c2543068042749fd589d07a46848d",
            "e136407305124a63ae7119135e00d505",
            "92b47eeab14943ec891380722df8fca0",
            "60d957d3094f488f90705ff4aefdaae1",
            "10fd9419cfd044ad937d7f2a53343753",
            "115140b90a7a47e3b335f4904754de09",
            "3c3a148e652f4a459b06ab00d4cf4303",
            "b3750a9daeee4043b6b666cf71e90651"
          ]
        },
        "id": "s1SGMm6brK9X",
        "outputId": "908a993e-34f4-4b27-e5df-6399f794c751"
      },
      "execution_count": null,
      "outputs": [
        {
          "output_type": "display_data",
          "data": {
            "text/plain": [
              "Downloading:   0%|          | 0.00/608 [00:00<?, ?B/s]"
            ],
            "application/vnd.jupyter.widget-view+json": {
              "version_major": 2,
              "version_minor": 0,
              "model_id": "0e48a562c4f847a1b3a683a8603e3765"
            }
          },
          "metadata": {}
        },
        {
          "output_type": "display_data",
          "data": {
            "text/plain": [
              "Downloading:   0%|          | 0.00/1.63M [00:00<?, ?B/s]"
            ],
            "application/vnd.jupyter.widget-view+json": {
              "version_major": 2,
              "version_minor": 0,
              "model_id": "3d47824f9a3b4231af60e72c3f1a179f"
            }
          },
          "metadata": {}
        },
        {
          "output_type": "display_data",
          "data": {
            "text/plain": [
              "Downloading:   0%|          | 0.00/1.21M [00:00<?, ?B/s]"
            ],
            "application/vnd.jupyter.widget-view+json": {
              "version_major": 2,
              "version_minor": 0,
              "model_id": "5b487a149b57410ea3bef706fb69eac9"
            }
          },
          "metadata": {}
        },
        {
          "output_type": "stream",
          "name": "stderr",
          "text": [
            "Special tokens have been added in the vocabulary, make sure the associated word embeddings are fine-tuned or trained.\n"
          ]
        },
        {
          "output_type": "execute_result",
          "data": {
            "text/plain": [
              "7"
            ]
          },
          "metadata": {},
          "execution_count": 13
        }
      ]
    },
    {
      "cell_type": "code",
      "source": [
        "MODEL_PATH = 'gdrive/MyDrive/gpt_small_president_letter'\n",
        "gpt = AutoModelWithLMHead.from_pretrained(MODEL_PATH).to(device).eval()"
      ],
      "metadata": {
        "colab": {
          "base_uri": "https://localhost:8080/"
        },
        "id": "XcTOGmb-1Xfi",
        "outputId": "59fd2a99-5583-46e3-fc1d-2d083540be3b"
      },
      "execution_count": null,
      "outputs": [
        {
          "output_type": "stream",
          "name": "stderr",
          "text": [
            "/usr/local/lib/python3.7/dist-packages/transformers/models/auto/modeling_auto.py:973: FutureWarning: The class `AutoModelWithLMHead` is deprecated and will be removed in a future version. Please use `AutoModelForCausalLM` for causal language models, `AutoModelForMaskedLM` for masked language models and `AutoModelForSeq2SeqLM` for encoder-decoder models.\n",
            "  FutureWarning,\n"
          ]
        }
      ]
    },
    {
      "cell_type": "markdown",
      "source": [
        "Лучшие параметры самплинга для конкретного случая - такие, когда правильный токен последний из рассматриваемых (если ограничения более строгие, он никогда не будет выбран, если менее строгие - он может быть выбран, но с меньшей вероятностью)"
      ],
      "metadata": {
        "id": "WemQYBjW8f5s"
      }
    },
    {
      "cell_type": "code",
      "source": [
        "# функция была откуда-то скопирована, но давно и не мной, не помню источник и поэтому не могу сослаться\n",
        "def best_k_p(logits:torch.tensor, golden:torch.tensor):\n",
        "    sorted_logits, sorted_indices = torch.sort(logits, descending=True)\n",
        "    cumulative_probs = torch.cumsum(F.softmax(sorted_logits, dim=-1), dim=-1)\n",
        "    ks = (sorted_indices == golden).nonzero()[:, 1]\n",
        "    ps = cumulative_probs[sorted_indices == golden]\n",
        "    return ks, ps"
      ],
      "metadata": {
        "id": "ZYBgbbl9l8hh"
      },
      "execution_count": null,
      "outputs": []
    },
    {
      "cell_type": "markdown",
      "source": [
        "ToDo: вместо использования batch_size=1 написать учет падингов "
      ],
      "metadata": {
        "id": "zFFCIVo63tju"
      }
    },
    {
      "cell_type": "code",
      "source": [
        "all_best_ks, all_best_ps = [], []\n",
        "\n",
        "for prompt in tqdm(list(test_df['prompt'])):\n",
        "    encoding = tokenizer([prompt], return_tensors='pt').to(gpt.device)\n",
        "    input_ids = encoding['input_ids']\n",
        "    with torch.no_grad():\n",
        "         logits = gpt(**encoding).logits\n",
        "    # считаем параметры для всех токенов, кроме нулевого\n",
        "    for token_idx in range(input_ids.shape[-1]-1):\n",
        "        # по логиту предыдущего токена нужно с наивысшим качеством предсказывать следующий\n",
        "        logit = logits[:, token_idx, :]\n",
        "        gold = input_ids[:, token_idx+1]\n",
        "        current_best_k, current_best_p = best_k_p(logit, gold)\n",
        "        all_best_ks.append(current_best_k.item())\n",
        "        all_best_ps.append(current_best_p.item())\n",
        "    "
      ],
      "metadata": {
        "colab": {
          "base_uri": "https://localhost:8080/"
        },
        "id": "U6fcIHar3ctH",
        "outputId": "d7c84f1f-f637-448b-8ac1-d8f02494cc8a"
      },
      "execution_count": null,
      "outputs": [
        {
          "output_type": "stream",
          "name": "stderr",
          "text": [
            "100%|██████████| 200/200 [06:44<00:00,  2.02s/it]\n"
          ]
        }
      ]
    },
    {
      "cell_type": "code",
      "source": [
        "pd.Series(all_best_ks).describe()"
      ],
      "metadata": {
        "colab": {
          "base_uri": "https://localhost:8080/"
        },
        "id": "th6pWSZV6isn",
        "outputId": "1c992351-158f-41e9-9fa6-741aa9858edb"
      },
      "execution_count": null,
      "outputs": [
        {
          "output_type": "execute_result",
          "data": {
            "text/plain": [
              "count    34088.000000\n",
              "mean        36.104494\n",
              "std        376.503023\n",
              "min          0.000000\n",
              "25%          0.000000\n",
              "50%          0.000000\n",
              "75%          2.000000\n",
              "max      25915.000000\n",
              "dtype: float64"
            ]
          },
          "metadata": {},
          "execution_count": 61
        }
      ]
    },
    {
      "cell_type": "code",
      "source": [
        "pd.Series(all_best_ps).describe()"
      ],
      "metadata": {
        "colab": {
          "base_uri": "https://localhost:8080/"
        },
        "id": "XWl1TM4j6mGQ",
        "outputId": "2f9fc4d7-aa5f-4c83-fe05-117e692f517a"
      },
      "execution_count": null,
      "outputs": [
        {
          "output_type": "execute_result",
          "data": {
            "text/plain": [
              "count    34088.000000\n",
              "mean         0.922318\n",
              "std          0.145132\n",
              "min          0.115349\n",
              "25%          0.922961\n",
              "50%          0.993392\n",
              "75%          0.999726\n",
              "max          1.000008\n",
              "dtype: float64"
            ]
          },
          "metadata": {},
          "execution_count": 62
        }
      ]
    },
    {
      "cell_type": "code",
      "source": [
        "import matplotlib.pyplot as plt\n",
        "%matplotlib inline\n",
        "plt.rcParams['figure.figsize'] = [15, 4]\n",
        "\n",
        "plt.subplot(1, 2, 1)\n",
        "plt.hist(all_best_ks)\n",
        "plt.title('top_k')\n",
        "plt.subplot(1, 2, 2)\n",
        "plt.hist(all_best_ps)\n",
        "plt.title('top_p')\n",
        "plt.show()"
      ],
      "metadata": {
        "colab": {
          "base_uri": "https://localhost:8080/",
          "height": 281
        },
        "id": "UTqr5x116fxp",
        "outputId": "85467529-e9fb-423c-ed38-e2870a03ebbd"
      },
      "execution_count": null,
      "outputs": [
        {
          "output_type": "display_data",
          "data": {
            "text/plain": [
              "<Figure size 1080x288 with 2 Axes>"
            ],
            "image/png": "[encoded data removed]"
          },
          "metadata": {
            "needs_background": "light"
          }
        }
      ]
    },
    {
      "cell_type": "markdown",
      "source": [
        "Судя по распределению лучших top_k, лучшие параметры nucleus-самплинга близки к жадной генерации. То, что значения выше 0 наблюдаются только на 75-м перцентиле, подозрительно, но может быть связано с тем, что \n",
        "\n",
        "Если затравка генерации включает в себя фрагменты текста, которые нужно повторить, это ожидаемо.\n"
      ],
      "metadata": {
        "id": "dqWPpEPp9Vv8"
      }
    },
    {
      "cell_type": "markdown",
      "source": [
        "# Генерация с разными параметрами"
      ],
      "metadata": {
        "id": "sEYM7Wx9JwTG"
      }
    },
    {
      "cell_type": "markdown",
      "source": [
        "Сгенерирую тексты разными способами: жадно генерацией, beam search, nucleus_sampling с разными параметрами"
      ],
      "metadata": {
        "id": "LTUnJk6jf3JS"
      }
    },
    {
      "cell_type": "code",
      "source": [
        "universal_parameters = {\n",
        "    'min_length': 50,\n",
        "    'max_length':250,\n",
        "    # не позволяет модели генерировать падинги перед текстом и генерировать текст, реальная длина которого меньше заданной\n",
        "    'bad_words_ids':[[tokenizer.pad_token_id]],\n",
        "    'eos_token_id':tokenizer.eos_token_id,\n",
        "    # параметр нужен исключительно чтобы избежать большого количества логов \"Setting `pad_token_id` to `eos_token_id`\"\n",
        "    'pad_token_id':tokenizer.eos_token_id\n",
        "}\n"
      ],
      "metadata": {
        "id": "mJGfXd6_gJ6w"
      },
      "execution_count": null,
      "outputs": []
    },
    {
      "cell_type": "code",
      "source": [
        "method2generation_parameters = {\n",
        "    'greedy':{},\n",
        "    'beam_search_5beams': {'num_beams':5},\n",
        "    'top_p_0.97': {'do_sample':True, 'top_p': 0.97},\n",
        "    'top_p_0.9': {'do_sample':True, 'top_p':0.9},\n",
        "    'top_k_3': {'do_sample':True, 'top_k':3},\n",
        "    'top_k_15':{'do_sample':True, 'top_k':15},\n",
        "    'top_p_0.9_temp2': {'do_sample':True, 'top_p':0.9, 'temperature':2.0},\n",
        "    'top_k_15_temp2':{'do_sample':True, 'top_k':15, 'temperature':2.0}\n",
        "}"
      ],
      "metadata": {
        "id": "MVfS7Bseu1Wf"
      },
      "execution_count": 16,
      "outputs": []
    },
    {
      "cell_type": "code",
      "source": [
        "def generate(prompt, generation_method):\n",
        "    if generation_method not in method2generation_parameters:\n",
        "        raise ValueError('unknown generation method')\n",
        "    input = tokenizer([prompt], return_tensors='pt').to(gpt.device)\n",
        "    input.update(universal_parameters)\n",
        "    input.update(method2generation_parameters[generation_method])\n",
        "    output = gpt.generate(**input)\n",
        "    return tokenizer.decode(output[0].tolist())"
      ],
      "metadata": {
        "id": "bEeOymnakrjX"
      },
      "execution_count": null,
      "outputs": []
    },
    {
      "cell_type": "code",
      "source": [
        "def get_input_text(correct_formatted_text, separator_tag=TITLE_TAG):\n",
        "   return correct_formatted_text.split(separator_tag)[0]+separator_tag"
      ],
      "metadata": {
        "id": "XR_UG9fHmU6d"
      },
      "execution_count": null,
      "outputs": []
    },
    {
      "cell_type": "code",
      "source": [
        "test_df['prompt_beginning'] = test_df['prompt'].apply(get_input_text)"
      ],
      "metadata": {
        "id": "-xgQodh0nT_R"
      },
      "execution_count": null,
      "outputs": []
    },
    {
      "cell_type": "code",
      "source": [
        "for column in ['title_ner', 'text_ner', 'selected_entities']:\n",
        "    test_df[column] = test_df[column].apply(json.dumps)"
      ],
      "metadata": {
        "id": "55d7xmG2pFkp"
      },
      "execution_count": null,
      "outputs": []
    },
    {
      "cell_type": "code",
      "source": [
        "for method in method2generation_parameters:\n",
        "    print(method)\n",
        "    test_df[method] = test_df['prompt_beginning'].progress_apply(lambda x: generate(x, method))\n",
        "    test_df.to_csv(TEST_DF_PATH, index=False)"
      ],
      "metadata": {
        "id": "qlE4wDx_ng6E"
      },
      "execution_count": null,
      "outputs": []
    },
    {
      "cell_type": "code",
      "source": [
        "for column in ['title_ner', 'text_ner', 'selected_entities']:\n",
        "    test_df[column] = test_df[column].apply(json.loads)"
      ],
      "metadata": {
        "id": "AaHRtLtxfP9L"
      },
      "execution_count": 10,
      "outputs": []
    },
    {
      "cell_type": "code",
      "source": [
        "for method in method2generation_parameters:\n",
        "    print(method)\n",
        "    print(test_df[method].loc[0])\n",
        "    print('________')"
      ],
      "metadata": {
        "colab": {
          "base_uri": "https://localhost:8080/"
        },
        "id": "D8eJLAEBuII-",
        "outputId": "4cfc9435-3234-4620-f2b2-99442982085d"
      },
      "execution_count": 17,
      "outputs": [
        {
          "output_type": "stream",
          "name": "stdout",
          "text": [
            "greedy\n",
            "BOS PER Сергея Крамаренко ORG Вооружённых Сил TITLE Родным и близким Сергея Крамаренко TEXT Примите глубокие соболезнования в связи с кончиной Сергея Леонидовича Крамаренко. Сергей Леонидович был опытным руководителем, честным, порядочным, очень отзывчивым и доброжелательным человеком. Все, кто знал Сергея Леонидовича, ценили его за высокую компетентность, силу воли и мужество, честность и порядочность, верность своим принципам и долгу. Светлая память о Сергее Леонидовиче Крамаренко навсегда сохранится в сердцах близких, коллег, друзей. EOS\n",
            "________\n",
            "beam_search_5beams\n",
            "BOS PER Сергея Крамаренко ORG Вооружённых Сил TITLE Родным и близким Сергея Крамаренко TEXT Примите глубокие соболезнования в связи с кончиной Сергея Леонидовича Крамаренко. Сергей Леонидович был опытным руководителем, честным, порядочным, очень отзывчивым и доброжелательным человеком. Высокие профессиональные и личные качества, безграничная преданность делу снискали ему заслуженный авторитет и неизменно были востребованы на самых ответственных направлениях государственной службы. Светлая память о Сергее Леонидовиче Крамаренко навсегда сохранится в сердцах близких, коллег, учеников, всех почитателей его щедрого дарования. EOS\n",
            "________\n",
            "top_p_0.97\n",
            "BOS PER Сергея Крамаренко ORG Вооружённых Сил TITLE Родным и близким Сергея Крамаренко TEXT Уважаемые Сергей Леонидович и Светлана Владимировна, примите глубокие соболезнования, слова поддержки и участия в связи с кончиной Сергея Владимировича Крамаренко. Сергей Леонидович был опытным руководителем, честным, порядочным, очень отзывчивым и доброжелательным человеком. Высокие профессиональные и личные качества снискали ему заслуженный авторитет и признание. Светлая память об этом замечательном человеке, настоящем профессионале навсегда сохранится в сердцах близких, коллег, друзей, в наших сердцах. EOS\n",
            "________\n",
            "top_p_0.9\n",
            "BOS PER Сергея Крамаренко ORG Вооружённых Сил TITLE Родным и близким Сергея Крамаренко TEXT Примите глубокие соболезнования в связи с кончиной Сергея Леонидовича Крамаренко. Сергей Леонидович был опытным руководителем, честным, порядочным, очень отзывчивым и доброжелательным человеком. Все, кто знал Сергея Леонидовича, ценили его за высокие профессиональные качества, честную, порядочную работу, доброго, удивительно искреннего и доброжелательного человека. Светлая память о Сергее Леонидовиче навсегда сохранится в сердцах близких, коллег, друзей, всех, кто знал этого замечательного человека. EOS\n",
            "________\n",
            "top_k_3\n",
            "BOS PER Сергея Крамаренко ORG Вооружённых Сил TITLE Родным и близким Сергея Крамаренко TEXT Примите глубокие соболезнования в связи с кончиной Сергея Владимировича Крамаренко. Сергей Крамаренко был опытным руководителем и настоящим профессионалом, который многое сделал для становления и развития оборонно-промышленного комплекса страны, укрепления обороноспособности и национальной безопасности страны. Он посвятил жизнь развитию национальной промышленности, оборонно-промышленного комплекса, защите национальных интересов. Светлая память об этом талантливом, преданном своему призванию, интересам Отечества человеке навсегда сохранится в наших сердцах. EOS\n",
            "________\n",
            "top_k_15\n",
            "BOS PER Сергея Крамаренко ORG Вооружённых Сил TITLE Родным и близким Сергея Крамаренко TEXT Примите глубокие соболезнования в связи с кончиной Сергея Леонидовича Крамаренко. Сергей Леонидович прошёл большой профессиональный путь, оставил богатое творческое наследие, целую плеяду учеников и последователей. Его уход – большая, невосполнимая утрата для кинематографа, отечественной культуры, для нашего общества, для всей страны. Светлая память об этом замечательном человеке и настоящем Мастере навсегда сохранится в сердцах близких, друзей, коллег, учеников. EOS\n",
            "________\n",
            "top_p_0.9_temp2\n",
            "BOS PER Сергея Крамаренко ORG Вооружённых Сил TITLE Родным и близким Сергея Крамаренко TEXT Примите глубокие соболезнования в связи с кончиной Сергея Игоревича Крамаренко. Сергей Крамаренко был выдающимся учёным, конструктором, искренним, душевно щедрым человеком. Он верил в лучшее, никогда не винил других, в свою бессмертность не предавал забвению достигнутых результатами товарищей, друзей, коллег. Добрая память об Игоре Крамаренко навсегда сохранится в наших сердцах, как будут сохраняться семейные летописи, ратные, патриотические биографии. EOS\n",
            "________\n",
            "top_k_15_temp2\n",
            "BOS PER Сергея Крамаренко ORG Вооружённых Сил TITLE Родным и близким сценариста, сценариста, режиссёра Сергея Крамуренко TEXT Примите глубокие соболезнования, слова участия и поддержки в связи с кончиной Сергея Викторовича Крамаренко. За годы неустанной, кропотливой, востребованной творческой работы он убедительно продемонстрировал замечательные профессиональные и актёрские образы, яркий артистический талант и потрясающее актёрское мастерство. Светлая память о Сергее Викторовиче навсегда сохранится в сердцах близких, друзей, коллег, учеников. EOS\n",
            "________\n"
          ]
        }
      ]
    },
    {
      "cell_type": "markdown",
      "source": [
        "При рандомизации модель может потерять какой-то обязательный компонет содержания (генерировать текст не про вооруженные силы, а про культуру). Эта проблема не могла бы решиться заменой каких-то слов на сущность \"Вооруженные силы\".\n",
        "При генерации top_p_0.97 модель сгенерировала несколько имен людей, но не смогла выдержать понятные связи между ними (умер то ли Сергей Владимирович, то ли Сергей Леонидович), однако замена всех персон на одну и ту же сделала бы текст еще более абсурдным"
      ],
      "metadata": {
        "id": "0gaLgx_MvXMF"
      }
    },
    {
      "cell_type": "code",
      "source": [
        "for method in method2generation_parameters:\n",
        "    print(method)\n",
        "    print(test_df[method].loc[1])\n",
        "    print('________')"
      ],
      "metadata": {
        "colab": {
          "base_uri": "https://localhost:8080/"
        },
        "id": "XCQVlBXsxOc8",
        "outputId": "88da2d21-aa70-4b4b-e938-e688b4ceede6"
      },
      "execution_count": 18,
      "outputs": [
        {
          "output_type": "stream",
          "name": "stdout",
          "text": [
            "greedy\n",
            "BOS PER ORG Национального центра управления обороной TITLE Участникам, организаторам и гостям XXV Международного военно-морского салона TEXT Уважаемые друзья! Приветствую вас на торжественном открытии XXV Международного военно-морского салона. Наша страна по праву славится большим опытом реализации масштабных проектов, направленных на развитие Военно-Морского Флота и укрепление обороноспособности страны. Проведение этого масштабного, представительного международного смотра – большое событие в жизни отечественного флота, важный вклад в укрепление международного сотрудничества в военно-технической сфере. Уверен, что нынешний Морской салон вызовет широкий интерес специалистов и самой широкой публики, запомнится участникам и гостям салоном как яркое, запоминающееся событие в международной военно-морской жизни, так и будет способствовать наращиванию военно-технического сотрудничества, продвижению российской продукции военного назначения на мировые рынки. Желаю вам успехов и всего самого доброго. EOS\n",
            "________\n",
            "beam_search_5beams\n",
            "BOS PER ORG Национального центра управления обороной TITLE Участникам, организаторам и гостям XV Международного военно-морского салона TEXT Уважаемые друзья! Рад приветствовать вас на XV Международном военно-морском салоне, который по сложившейся традиции проходит в Санкт-Петербурге. Программа форума и его масштабная экспозиция, демонстрирующая новейшие образцы вооружения и военно-морской техники, современные технологии и передовые достижения научной, инженерной мысли, неизменно привлекают заинтересованное внимание представителей органов власти, крупных компаний, экспертов и учёных, пользуются признанием зарубежных партнёров. И потому МВМС на протяжении многих лет является авторитетной площадкой для делового общения специалистов из разных стран по широкому спектру вопросов наращивания военно-технического сотрудничества и международной кооперации. Убеждён, что нынешний салон пройдёт успешно, а заключённые на его полях контракты и соглашения послужат запуску новых взаимовыгодных проектов, продвижению российской продукции военного назначения на глобальные рынки и, конечно, реализации наших больших планов по развитию Военно-Морского Флота России. Желаю вам всего самого доброго. EOS\n",
            "________\n",
            "top_p_0.97\n",
            "BOS PER ORG Национального центра управления обороной TITLE Участникам, организаторам и гостям XXV Международной выставки вооружения и военной техники «Национальная выставка вооружения и военной техники – 2019» TEXT Уважаемые друзья! Приветствую вас на XXV юбилейной Международной выставке вооружения и военной техники «Национальная выставка». Ваш традиционный форум, неизменно собирающий на своих площадках большое количество участников, заслуженно пользуется заслуженной популярностью как авторитетная площадка для обсуждения актуальных профессиональных проблем, демонстрации новейших достижений вооружения и военной техники. Выставка неизменно привлекает внимание представителей органов власти, крупных компаний и предприятий оборонно-промышленного комплекса, служит востребованной площадкой для делового общения специалистов – оружейников, учёных, специалистов профильных вузов, учреждений культуры и искусства. Убеждён, что столь представительный смотр вызовет широкий интерес специалистов, послужит развитию военного дела, укреплению сотрудничества в сфере вооружения и военной техники. Желаю вам успешной работы и всего самого доброго. EOS\n",
            "________\n",
            "top_p_0.9\n",
            "BOS PER ORG Национального центра управления обороной TITLE Участникам торжественного собрания, посвящённого 10-летию создания Национального центра управления обороной TEXT Уважаемые друзья! Поздравляю вас с 10-летием создания Национального центра управления обороной. За прошедшие годы ваш институт внёс значимый, поистине уникальный вклад в укрепление потенциала Вооружённых Сил, совершенствование подготовки талантливой, целеустремлённой молодёжи. Наставники, опытнейшие специалисты, преданные своему делу, посвятили себя защите национальных интересов, укреплению национальной безопасности страны. Вы по праву можете гордиться достигнутыми результатами, ярким вкладом в развитие национальной Академии Генерального штаба, других ведущих военных училищ страны. Сегодня перед вами стоят масштабные, востребованные временем задачи, главные из которых – повышение боеготовности Вооружённых Сил, совершенствование структуры и методов подготовки личного состава, выработка общих подходов к решению приоритетных задач, главные из которых – эффективное применение современного вооружения и военной техники, обеспечение эффективной защиты национальных интересов России. И конечно, необходимо в полной мере использовать огромный опыт и замечательные традиции, заложенные ветеранами, уделять неустанное внимание популяризации достижений российской науки и передовой военной истории. Желаю вам успехов и всего наилучшего. EOS\n",
            "________\n",
            "top_k_3\n",
            "BOS PER ORG Национального центра управления обороной TITLE Коллективу Национального центра управления обороной TEXT Уважаемые друзья! Поздравляю вас с 10-летием создания Национального центра управления обороной. За прошедшее время коллективом Центра были сформированы и успешно действуют перспективные боевые вертолётные войска, стратегические бомбардировщики, разведывательные и поисковые отряды, другие высокотехнологичные образцы вооружения. Успешно развивается научно-исследовательский и производственный потенциал Центра, пополняется его продукция новыми образцами вооружения и военной техники. Убеждён, что нынешний коллектив Национального центра управления обороной будет и впредь успешно решать поставленные задачи на благо России и её граждан. Желаю вам всего самого доброго. EOS\n",
            "________\n",
            "top_k_15\n",
            "BOS PER ORG Национального центра управления обороной TITLE Участникам, организаторам и гостям XXX Международного военно-морского салона TEXT Уважаемые друзья! Приветствую вас на торжественном открытии XXX Международного военно-морского салона. Этот представительный международный смотр по праву считается большим, знаковым событием в международной военно-политической, экономической, научно-технической и гуманитарной сфере. Он неизменно собирает в Северной столице ведущих учёных, инженеров, лётчиков, военных экспертов, судовладельцев и моряков, славится широким спектром предложений вооружения и военно-морской техники. И конечно, в этом году в экспозициях нынешнего, юбилейного Салона впервые представлены образцы вооружения и военно-морской техники стран «широкой колеи». Уверен, что нынешний Салон пройдёт в творческом, конструктивном ключе, надолго запомнится своей насыщенной и разнообразной программой, послужит продвижению передовых достижений отечественной кораблестроения и кораблестроения всего мира. Желаю вам успехов и всего самого доброго. EOS\n",
            "________\n",
            "top_p_0.9_temp2\n",
            "BOS PER ORG Национального центра управления обороной TITLE Сотрудникам и ветеранам Национального центра управления обороной TEXT Уважаемые друзья! Поздравляю вас с 10‑летием создания Национального центра управления обороной. За прошедшее время благодаря таланту и трудолюбию коллектива вам удалось на высокой военно-технической базе полностью сконцентрировать лучшие вооружения и оборудование, на серьёзном уровне использовать современный кибервойскового дела и Вооружённые силы страны в решении поставленных задач. Убеждён, что вы продолжите достойно трудиться, совершенствовать военно-техническое сотрудничество с иностранными государствами, наращивать конструктивно-значимый инновационный, высокотехнологичный потенциал России. Желаю вам успехов и всего самого доброго. EOS\n",
            "________\n",
            "top_k_15_temp2\n",
            "BOS PER ORG Национального центра управления обороной TITLE Сотрудникам и ветеранам Национального центра управления оборонной частью Российской Федерации TEXT Дорогие друзья! Поздравляю вас со знаменательной датой – 95-летием Национального центра управления оборонной частью Российской Федерации. Этот легендарный офицер высочайшего класса был наделён серьёзным, заслуженным авторитетом и высоким уважением среди военачальников и командиров, специалистов и ветеранов Вооружённых Сил. Он высоко держал поднятый за годы войны патриотический авторитет, последовательно и решительно подавлял любые проявления государственной власти, любые понуждения к участию в боевых операциях и мирной жизни. Важно, что и сейчас высочайший профессионализм и личное понимание исключительной важности своей работы остаются в его сердце. Как и полвека назад, в вас верят, ждут от вас новых свершений и инициатив. Вы с честью справляетесь даже с самыми суровыми трудностями, своими защитниками честно служите России. Убеждён, что сотрудники Национального центра управления оборонной частью Российской Федерации и впредь будут беречь служебный долг, честно служить России. Желаю успехов в вашей нелёгкой, очень благородной, ответственной, востребованной работе. Пользуясь случаем, от души поздравляю всех вас с новогодними праздниками. EOS\n",
            "________\n"
          ]
        }
      ]
    },
    {
      "cell_type": "markdown",
      "source": [
        "Субъективно кажется, что лучшей окажется жадная генерация или beam search. Проверю это метриками"
      ],
      "metadata": {
        "id": "N0iBdKNZyFU5"
      }
    }
  ]
}