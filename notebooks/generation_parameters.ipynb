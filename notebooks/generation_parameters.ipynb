{
 "cells": [
  {
   "cell_type": "markdown",
   "metadata": {
    "id": "Lgl8v-0ViWqy"
   },
   "source": [
    "# Подбор параметров nucleus-самплинга, с которыми вероятнее всего получение правильного следующего токена\n",
    "\n"
   ]
  },
  {
   "cell_type": "code",
   "execution_count": 1,
   "metadata": {
    "id": "T9tyG1JhqQMs"
   },
   "outputs": [],
   "source": [
    "import torch\n",
    "from torch.nn import functional as F\n",
    "from transformers import AutoTokenizer, AutoModelWithLMHead\n",
    "import pandas as pd\n",
    "import json\n",
    "from tqdm import tqdm\n",
    "from typing import List, Dict\n",
    "import re\n",
    "from statistics import mean\n",
    "from copy import copy\n",
    "from tqdm import tqdm\n",
    "tqdm.pandas()"
   ]
  },
  {
   "cell_type": "code",
   "execution_count": 1,
   "metadata": {},
   "outputs": [],
   "source": [
    "import sys\n",
    "sys.path.append('..')"
   ]
  },
  {
   "cell_type": "code",
   "execution_count": 3,
   "metadata": {
    "id": "submAPPRpL9q"
   },
   "outputs": [],
   "source": [
    "TEST_DF_PATH = '../data/test_prompts.csv'"
   ]
  },
  {
   "cell_type": "code",
   "execution_count": 4,
   "metadata": {
    "id": "YutnS13OyysW"
   },
   "outputs": [],
   "source": [
    "test_df = pd.read_csv(TEST_DF_PATH)"
   ]
  },
  {
   "cell_type": "code",
   "execution_count": null,
   "metadata": {
    "id": "mJnc9Ag11RiJ"
   },
   "outputs": [],
   "source": [
    "device = 'cuda' if torch.cuda.is_available() else 'cpu'"
   ]
  },
  {
   "cell_type": "code",
   "execution_count": 2,
   "metadata": {},
   "outputs": [],
   "source": [
    "from generation.init_tokenizer import init_kremlin_tokenizer\n",
    "from generation.load_model import load_kremlin_gpt"
   ]
  },
  {
   "cell_type": "code",
   "execution_count": 8,
   "metadata": {},
   "outputs": [
    {
     "name": "stderr",
     "output_type": "stream",
     "text": [
      "Special tokens have been added in the vocabulary, make sure the associated word embeddings are fine-tuned or trained.\n"
     ]
    }
   ],
   "source": [
    "tokenizer = init_kremlin_tokenizer()"
   ]
  },
  {
   "cell_type": "code",
   "execution_count": 7,
   "metadata": {
    "id": "XcTOGmb-1Xfi"
   },
   "outputs": [],
   "source": [
    "gpt = load_kremlin_gpt()"
   ]
  },
  {
   "cell_type": "markdown",
   "metadata": {
    "id": "WemQYBjW8f5s"
   },
   "source": [
    "Лучшие параметры самплинга для конкретного случая - такие, когда правильный токен последний из рассматриваемых (если ограничения более строгие, он никогда не будет выбран, если менее строгие - он может быть выбран, но с меньшей вероятностью)"
   ]
  },
  {
   "cell_type": "code",
   "execution_count": null,
   "metadata": {
    "id": "ZYBgbbl9l8hh"
   },
   "outputs": [],
   "source": [
    "# функция была откуда-то скопирована, но давно и не мной, не помню источник и поэтому не могу сослаться\n",
    "def best_k_p(logits:torch.tensor, golden:torch.tensor):\n",
    "    sorted_logits, sorted_indices = torch.sort(logits, descending=True)\n",
    "    cumulative_probs = torch.cumsum(F.softmax(sorted_logits, dim=-1), dim=-1)\n",
    "    ks = (sorted_indices == golden).nonzero()[:, 1]\n",
    "    ps = cumulative_probs[sorted_indices == golden]\n",
    "    return ks, ps"
   ]
  },
  {
   "cell_type": "code",
   "execution_count": null,
   "metadata": {
    "colab": {
     "base_uri": "https://localhost:8080/"
    },
    "id": "U6fcIHar3ctH",
    "outputId": "106ffc76-0623-46d7-f4f4-4415cbbfa432"
   },
   "outputs": [
    {
     "name": "stderr",
     "output_type": "stream",
     "text": [
      "100%|██████████| 127/127 [00:11<00:00, 10.68it/s]\n"
     ]
    }
   ],
   "source": [
    "all_best_ks, all_best_ps = [], []\n",
    "\n",
    "for prompt in tqdm(list(test_df['prompt'])):\n",
    "    encoding = tokenizer([prompt], return_tensors='pt').to(gpt.device)\n",
    "    input_ids = encoding['input_ids']\n",
    "    with torch.no_grad():\n",
    "         logits = gpt(**encoding).logits\n",
    "    # считаем параметры для всех токенов, кроме нулевого\n",
    "    for token_idx in range(input_ids.shape[-1]-1):\n",
    "        # по логиту предыдущего токена нужно с наивысшим качеством предсказывать следующий\n",
    "        logit = logits[:, token_idx, :]\n",
    "        gold = input_ids[:, token_idx+1]\n",
    "        current_best_k, current_best_p = best_k_p(logit, gold)\n",
    "        all_best_ks.append(current_best_k.item())\n",
    "        all_best_ps.append(current_best_p.item())\n",
    "    "
   ]
  },
  {
   "cell_type": "code",
   "execution_count": null,
   "metadata": {
    "colab": {
     "base_uri": "https://localhost:8080/"
    },
    "id": "th6pWSZV6isn",
    "outputId": "5242ef60-63c2-4a69-fda2-322997675c97"
   },
   "outputs": [
    {
     "data": {
      "text/plain": [
       "count    22048.000000\n",
       "mean        38.990566\n",
       "std        361.709193\n",
       "min          0.000000\n",
       "25%          0.000000\n",
       "50%          0.000000\n",
       "75%          2.000000\n",
       "max      21059.000000\n",
       "dtype: float64"
      ]
     },
     "execution_count": 15,
     "metadata": {},
     "output_type": "execute_result"
    }
   ],
   "source": [
    "pd.Series(all_best_ks).describe()"
   ]
  },
  {
   "cell_type": "code",
   "execution_count": null,
   "metadata": {
    "colab": {
     "base_uri": "https://localhost:8080/"
    },
    "id": "XWl1TM4j6mGQ",
    "outputId": "34041385-d7be-4ae7-934f-a09e705ef0b8"
   },
   "outputs": [
    {
     "data": {
      "text/plain": [
       "count    22048.000000\n",
       "mean         0.924812\n",
       "std          0.142089\n",
       "min          0.123641\n",
       "25%          0.925858\n",
       "50%          0.993348\n",
       "75%          0.999725\n",
       "max          1.000000\n",
       "dtype: float64"
      ]
     },
     "execution_count": 16,
     "metadata": {},
     "output_type": "execute_result"
    }
   ],
   "source": [
    "pd.Series(all_best_ps).describe()"
   ]
  },
  {
   "cell_type": "code",
   "execution_count": null,
   "metadata": {
    "colab": {
     "base_uri": "https://localhost:8080/",
     "height": 281
    },
    "id": "UTqr5x116fxp",
    "outputId": "073678bc-2fca-4d37-a937-508405289a41"
   },
   "outputs": [
    {
     "data": {
      "image/png": "[encoded data removed]",
      "text/plain": [
       "<Figure size 1080x288 with 2 Axes>"
      ]
     },
     "metadata": {},
     "output_type": "display_data"
    }
   ],
   "source": [
    "import matplotlib.pyplot as plt\n",
    "%matplotlib inline\n",
    "plt.rcParams['figure.figsize'] = [15, 4]\n",
    "\n",
    "plt.subplot(1, 2, 1)\n",
    "plt.hist(all_best_ks)\n",
    "plt.title('top_k')\n",
    "plt.subplot(1, 2, 2)\n",
    "plt.hist(all_best_ps)\n",
    "plt.title('top_p')\n",
    "plt.show()"
   ]
  },
  {
   "cell_type": "markdown",
   "metadata": {
    "id": "dqWPpEPp9Vv8"
   },
   "source": [
    "Судя по распределению лучших top_k, лучшие параметры nucleus-самплинга близки к жадной генерации. То, что значения выше 0 наблюдаются только на 75-м перцентиле, подозрительно, но может быть связано с тем, что \n",
    "\n",
    "Если затравка генерации включает в себя фрагменты текста, которые нужно повторить, это ожидаемо.\n"
   ]
  },
  {
   "cell_type": "markdown",
   "metadata": {
    "id": "sEYM7Wx9JwTG"
   },
   "source": [
    "# Генерация с разными параметрами"
   ]
  },
  {
   "cell_type": "markdown",
   "metadata": {
    "id": "LTUnJk6jf3JS"
   },
   "source": [
    "Сгенерирую тексты разными способами: жадно генерацией, beam search, nucleus_sampling с разными параметрами"
   ]
  },
  {
   "cell_type": "code",
   "execution_count": 11,
   "metadata": {
    "id": "mJGfXd6_gJ6w"
   },
   "outputs": [],
   "source": [
    "universal_parameters = {\n",
    "    'min_length': 50,\n",
    "    'max_length':250,\n",
    "    # не позволяет модели генерировать падинги перед текстом и генерировать текст, реальная длина которого меньше заданной\n",
    "    'bad_words_ids':[[tokenizer.pad_token_id]],\n",
    "    'eos_token_id':tokenizer.eos_token_id,\n",
    "    # параметр нужен исключительно чтобы избежать большого количества логов \"Setting `pad_token_id` to `eos_token_id`\"\n",
    "    'pad_token_id':tokenizer.eos_token_id\n",
    "}\n"
   ]
  },
  {
   "cell_type": "code",
   "execution_count": 12,
   "metadata": {
    "id": "MVfS7Bseu1Wf"
   },
   "outputs": [],
   "source": [
    "method2generation_parameters = {\n",
    "    'greedy':{},\n",
    "    'beam_search_5beams': {'num_beams':5},\n",
    "    'top_p_0.97': {'do_sample':True, 'top_p': 0.97},\n",
    "    'top_p_0.9': {'do_sample':True, 'top_p':0.9},\n",
    "    'top_k_3': {'do_sample':True, 'top_k':3},\n",
    "    'top_k_15':{'do_sample':True, 'top_k':15},\n",
    "    'top_p_0.9_temp1.5': {'do_sample':True, 'top_p':0.9, 'temperature':1.5},\n",
    "    'top_k_15_temp1.5':{'do_sample':True, 'top_k':15, 'temperature':1.5}\n",
    "}"
   ]
  },
  {
   "cell_type": "markdown",
   "metadata": {
    "id": "gcCQuq4WIRwX"
   },
   "source": [
    "Так как нужно, чтобы модель повторяла название сущностей, repetition_penalty не настраиваю (иначе я буду штрафовать модель не только за зацикливание, но и за правильное выполнение поставленной перед ней задачи). Можно попробовать написать написать кастомный самплер, игнорирующий заданные сущности при подсчете repetition_penalty, но это займет много времени и в рамках тестового задания я это делать не буду"
   ]
  },
  {
   "cell_type": "code",
   "execution_count": null,
   "metadata": {
    "id": "bEeOymnakrjX"
   },
   "outputs": [],
   "source": [
    "def generate(prompt, generation_method):\n",
    "    if generation_method not in method2generation_parameters:\n",
    "        raise ValueError('unknown generation method')\n",
    "    input = tokenizer([prompt], return_tensors='pt').to(gpt.device)\n",
    "    input.update(universal_parameters)\n",
    "    input.update(method2generation_parameters[generation_method])\n",
    "    output = gpt.generate(**input)\n",
    "    return tokenizer.decode(output[0].tolist())"
   ]
  },
  {
   "cell_type": "code",
   "execution_count": 7,
   "metadata": {},
   "outputs": [],
   "source": [
    "from generation.tags import TITLE_TAG"
   ]
  },
  {
   "cell_type": "code",
   "execution_count": 8,
   "metadata": {},
   "outputs": [
    {
     "data": {
      "text/plain": [
       "'TITLE'"
      ]
     },
     "execution_count": 8,
     "metadata": {},
     "output_type": "execute_result"
    }
   ],
   "source": [
    "TITLE_TAG"
   ]
  },
  {
   "cell_type": "code",
   "execution_count": 9,
   "metadata": {
    "id": "XR_UG9fHmU6d"
   },
   "outputs": [],
   "source": [
    "def get_input_text(correct_formatted_text, separator_tag=TITLE_TAG):\n",
    "    return correct_formatted_text.split(separator_tag)[0]+separator_tag"
   ]
  },
  {
   "cell_type": "code",
   "execution_count": null,
   "metadata": {
    "id": "-xgQodh0nT_R"
   },
   "outputs": [],
   "source": [
    "test_df['prompt_beginning'] = test_df['prompt'].apply(get_input_text)"
   ]
  },
  {
   "cell_type": "code",
   "execution_count": null,
   "metadata": {
    "id": "55d7xmG2pFkp"
   },
   "outputs": [],
   "source": [
    "for column in ['title_ner', 'text_ner', 'selected_entities']:\n",
    "    test_df[column] = test_df[column].apply(json.dumps)"
   ]
  },
  {
   "cell_type": "code",
   "execution_count": null,
   "metadata": {
    "colab": {
     "base_uri": "https://localhost:8080/"
    },
    "id": "qlE4wDx_ng6E",
    "outputId": "4114c93e-9fff-4170-da8b-c36e7ebed06a"
   },
   "outputs": [
    {
     "name": "stdout",
     "output_type": "stream",
     "text": [
      "greedy\n"
     ]
    },
    {
     "name": "stderr",
     "output_type": "stream",
     "text": [
      "100%|██████████| 127/127 [02:59<00:00,  1.41s/it]\n"
     ]
    },
    {
     "name": "stdout",
     "output_type": "stream",
     "text": [
      "beam_search_5beams\n"
     ]
    },
    {
     "name": "stderr",
     "output_type": "stream",
     "text": [
      "100%|██████████| 127/127 [04:17<00:00,  2.03s/it]\n"
     ]
    },
    {
     "name": "stdout",
     "output_type": "stream",
     "text": [
      "top_p_0.97\n"
     ]
    },
    {
     "name": "stderr",
     "output_type": "stream",
     "text": [
      "100%|██████████| 127/127 [03:17<00:00,  1.55s/it]\n"
     ]
    },
    {
     "name": "stdout",
     "output_type": "stream",
     "text": [
      "top_p_0.9\n"
     ]
    },
    {
     "name": "stderr",
     "output_type": "stream",
     "text": [
      "100%|██████████| 127/127 [03:17<00:00,  1.55s/it]\n"
     ]
    },
    {
     "name": "stdout",
     "output_type": "stream",
     "text": [
      "top_k_3\n"
     ]
    },
    {
     "name": "stderr",
     "output_type": "stream",
     "text": [
      "100%|██████████| 127/127 [02:50<00:00,  1.34s/it]\n"
     ]
    },
    {
     "name": "stdout",
     "output_type": "stream",
     "text": [
      "top_k_15\n"
     ]
    },
    {
     "name": "stderr",
     "output_type": "stream",
     "text": [
      "100%|██████████| 127/127 [03:22<00:00,  1.59s/it]\n"
     ]
    },
    {
     "name": "stdout",
     "output_type": "stream",
     "text": [
      "top_p_0.9_temp1.5\n"
     ]
    },
    {
     "name": "stderr",
     "output_type": "stream",
     "text": [
      "100%|██████████| 127/127 [03:50<00:00,  1.81s/it]\n"
     ]
    },
    {
     "name": "stdout",
     "output_type": "stream",
     "text": [
      "top_k_15_temp1.5\n"
     ]
    },
    {
     "name": "stderr",
     "output_type": "stream",
     "text": [
      "100%|██████████| 127/127 [03:40<00:00,  1.73s/it]\n"
     ]
    }
   ],
   "source": [
    "for method in method2generation_parameters:\n",
    "    print(method)\n",
    "    test_df[method] = test_df['prompt_beginning'].progress_apply(lambda x: generate(x, method))\n",
    "    test_df.to_csv(TEST_DF_PATH, index=False)"
   ]
  },
  {
   "cell_type": "code",
   "execution_count": 81,
   "metadata": {},
   "outputs": [
    {
     "name": "stdout",
     "output_type": "stream",
     "text": [
      "greedy\n",
      "BOS PER ORG Геральдический совет, Геральдический совет TITLE Коллективу и ветеранам Геральдического совета TEXT Дорогие друзья! Поздравляю вас с 75-летием создания Геральдического совета. За прошедшие годы Геральдический совет вырос в крупное, авторитетное общественное объединение, которое объединяет представителей самых разных сословий, представителей разных поколений. Важно, что вы бережно храните традиции своих предшественников, стремитесь эффективно решать поставленные задачи, вносить значимый вклад в развитие отечественной культуры и искусства, в укрепление международного гуманитарного сотрудничества. И конечно, важно, что вы уделяете неустанное внимание реализации востребованных благотворительных, образовательных, просветительских инициатив, уделяете неустанное внимание реализации востребованных благотворительных, образовательных, просветительских инициатив, уделяете неустанное внимание реализации востребованных благотворительных, образовательных, просветительских инициатив, уделяете неустанное внимание реализации востребованных благотворительных, образовательных, просветительских инициатив, уделяете неустанное внимание реализации востребованных благотворительных, образовательных, просветительских инициатив, уделяете неустанное внимание реализации востребованных благотворительных, образовательных, просветительских инициатив, уделяете неустанное внимание реализации востребованных благотворительных, образовательных, просвет\n",
      "________\n",
      "beam_search_5beams\n",
      "BOS PER ORG Геральдический совет, Геральдический совет TITLE Коллективу и ветеранам Геральдического совета России TEXT Уважаемые друзья! Поздравляю вас со знаменательной датой – 100-летием создания Геральдического совета России. История Геральдического совета России неразрывно связана с именами выдающихся деятелей отечественной культуры и искусства, которые внесли значимый вклад в развитие отечественной культуры и искусства, внесли значимый вклад в сбережение нашего бесценного исторического, культурного, духовного наследия. Отрадно, что вы бережно храните и приумножаете замечательные традиции, заложенные многими поколениями ваших предшественников, вносите значимый вклад в развитие отечественной культуры и искусства. Желаю вам успехов и всего наилучшего. EOS\n",
      "________\n",
      "top_p_0.97\n",
      "BOS PER ORG Геральдический совет, Геральдический совет TITLE Участникам торжественного собрания, посвящённого 200-летию Геральдического совета России TEXT Уважаемые друзья! Приветствую вас и поздравляю с 200-летием юбилейного Геральдического совета России. Вы по праву пользуетесь высоким авторитетом в российской и мировой государственной символике, и потому можете смело сказать, что на протяжении всей своей истории Геральдический совет служил хранителем памяти о великих русских богах и героях, оказывал огромную поддержку гражданам России в самых разных областях, в том числе по вопросам государственного управления. Важно, что, оказывая действенную поддержку инициативам правительства, законодательств и организаций, вы не останавливаетесь на достигнутом, стремитесь идти вперёд, настойчиво внедрять современные технологии и практики в жизнь, вносите значимый вклад в развитие отечественной экономики, укрепление гражданского общества. И конечно, особо отмечу плодотворный труд, самоотверженную работу по подготовке и опубликованию первых официальных документов по вопросам наследования государственных наград, исторических событий и топонимических памятников. В нынешнем году вам исполняется 200 лет. Убеждён, что каждый из вас будет по-настоящему предан своему призванию. Желаю вам успехов, благополучия\n",
      "________\n",
      "top_p_0.9\n",
      "BOS PER ORG Геральдический совет, Геральдический совет TITLE Коллективу и ветеранам Геральдического совета при Министерстве культуры Российской Федерации TEXT Дорогие друзья! Поздравляю вас со знаменательной датой – 80-летним юбилеем учреждения. Учреждённый в 1922 году Геральдическим советом, он с огромным уважением относится к своему призванию, стремится обеспечить преемственность исторического, культурного, духовного наследия нашей страны, воспитать настоящих профессионалов в сфере художественного творчества. И потому здесь неизменно уделяется огромное внимание развитию музейного дела, поддержке талантливых художников, скульпторов, художников, реставраторов, специалистов в сфере искусства. Важно, что коллектив вашего совета с искренним уважением относится к непреходящим традициям, заложенным предшественниками, с особым уважением относится к тем, кто посвятил себя благородному делу, своим талантом вдохновлял писателей, поэтов, музыкантов, реставраторов. И конечно, здесь царит атмосфера глубокой, доброжелательной дружбы и взаимовыручки. Желаю вам успехов и всего наилучшего. EOS\n",
      "________\n",
      "top_k_3\n",
      "BOS PER ORG Геральдический совет, Геральдический совет TITLE Работникам и ветеранам органов местного самоуправления TEXT Уважаемые друзья! Поздравляю вас с Днём местного самоуправления в России. В нашей стране органы местного самоуправления имеют давние традиции, которые позволяют эффективно решать важные задачи, стоящие перед отраслью, эффективно решать стоящие перед ними задачи. Важно отметить, что в последние годы в органах местного самоуправления активно внедряются современные, прогрессивные формы местного самоуправления. Они позволяют гражданам не только эффективно решать поставленные задачи в сфере благоустройства, здравоохранения, образования, культуры, но и эффективно решать стоящие перед ними социально-экономические проблемы. Убеждён, что, опираясь на опыт и знания своих предшественников, опираясь на опыт и знания коллег, вы и впредь будете эффективно решать стоящие перед вами задачи на благо родного края и всей России. Желаю вам успехов, благополучия и успехов. EOS\n",
      "________\n",
      "top_k_15\n",
      "BOS PER ORG Геральдический совет, Геральдический совет TITLE Участникам торжественного собрания, посвящённого 70-летию установления дипломатических отношений между Российской Федерацией и Республикой Болгарией TEXT Дорогие друзья! Поздравляю вас со знаменательной датой – 70-летием установления дипломатических отношений между Российской Федерацией и Республикой Болгарией. Эта большая, насыщенная событиями дата – важная составляющая юбилейных дат многих десятилетий, свидетельствующая о глубоких корнях исторических, культурных, семейных связей между нашими странами. Уверен, что нынешние российско-болгарские отношения будут продолжены, будут основаны на исторических, культурных традициях дружбы и взаимовыручки. Искренне желаю вам успехов в делах и начинаниях, в реализации намеченных планов и начинаний. Желаю крепкого здоровья, счастья и всего наилучшего. EOS\n",
      "________\n",
      "top_p_0.9_temp1.5\n",
      "BOS PER ORG Геральдический совет, Геральдический совет TITLE Коллективу и ветеранам Российского фонда мира TEXT Дорогие друзья! Поздравляю вас со знаменательным юбилейным событием – 5-летием создания Российского фонда мира. Основанное 15 октября 1964 года по решению ЦК КПСС Центральный фонд мира объединяет около 20 крупнейших научных, образовательных, культурных, выставочных и просветительских учреждений, общественных, религиозных организаций страны и ряда зарубежных стран, и каждый из этих институтов вносит значительный вклад в развитие нашей многонациональной державы, укрепление взаимопонимания и уважения её интересов. Эти годы являются временем поистине уникального исторического, культурного, интеллектуального роста фонда – его фундаментальных исследований, просветительской, архивной деятельности. Отрадно, что сегодня благодаря вашему подвижническому труду российские гуманитарные центры, национальные исследовательские, просветительские учреждения открыты не только для молодёжи, но и успешно используются государственными структурами в борьбе с проявлениями глобализма и диктатуры. Отрадно, что многие друзья сердечно приветствуют вашу деятельность и неизменно открыты для новых профессиональных интересов. Ещё раз – со Светлым праздником! Ещё раз – с юбилеем российского фонда мира. От души желаю вам здоровья, бодрости духа и воплощения в жизнь намеченных планов. С\n",
      "________\n",
      "top_k_15_temp1.5\n",
      "BOS PER ORG Геральдический совет, Геральдический совет TITLE Коллективу Российского этнографического музея TEXT Ваше Высокопреосвященство! Поздравляю коллектив и ветеранов Российского этнографического музея с Днём рождения. Ваш музей всегда был и остаётся центром притяжения для людей самых разных сословий. С удовлетворением отмечаю неустанный, напряжённый подход к делу с самого начала, искренность и уважительное отношение к многочисленным поколениям своих предшественников, учёных, реставраторов; в основе его работы – уникальные коллекции, передающиеся из поколения в поколение. Отрадно, что вы стремитесь не только сберечь богатейшее культурное, духовное наследие своих предшественников-единомышленников, но и воплощаете в жизнь замечательные гуманистические идеи и просветительские инициативы. И конечно, очень важно приумножать замечательные традиции музея-заповедника. От души желаю вам доброго здоровья и успехов в благородной профессии архивиста-исследователя, способствовать популяризации богатейшего творческого труда многих поколений российских этнографов и реставраторов и популяризации замечательных исторических реликвий – реликвий, заложившихся за века упорных, вдохновённых трудом, ратных подвигов предшественников. Ещё раз – с Днём рождения\n",
      "________\n"
     ]
    }
   ],
   "source": [
    "for method in method2generation_parameters:\n",
    "    print(method)\n",
    "    print(test_df[method].loc[0])\n",
    "    print('________')"
   ]
  },
  {
   "cell_type": "code",
   "execution_count": 82,
   "metadata": {},
   "outputs": [
    {
     "name": "stdout",
     "output_type": "stream",
     "text": [
      "greedy\n",
      "BOS PER ORG Серовского исторического музея TITLE Коллективу Серовского исторического музея TEXT Дорогие друзья! Поздравляю вас с 75-летием Серовского исторического музея. История Серовского исторического музея тесно связана с именами выдающихся учёных, писателей, художников, которые внесли значимый вклад в развитие отечественной культуры, в укрепление её исторического, культурного, духовного потенциала. Важно, что вы бережно храните богатейшее собрание раритетов, которые по праву считаются бесценными памятниками отечественной культуры, которые по праву считаются бесценными достоянием нашего народа. И конечно, важно, что вы уделяете неустанное внимание развитию музейного дела, уделяете неустанное внимание популяризации музейных коллекций, их пополнению экспозициями, рассказывающими об истории родного края, его замечательных традициях и обычаях. Желаю вам успехов и всего наилучшего. EOS\n",
      "________\n",
      "beam_search_5beams\n",
      "BOS PER ORG Серовского исторического музея TITLE Коллективу и ветеранам Серовского исторического музея TEXT Дорогие друзья! Поздравляю вас со знаменательной датой – 100-летием Серовского исторического музея. За прошедшие годы музей вырос в крупный культурный, просветительский центр, стал настоящим центром притяжения для людей самых разных возрастов и профессий. Здесь всегда работали и сегодня трудятся талантливые, увлечённые люди, которые бережно хранят и передают из поколения в поколение богатейшее культурное, духовное наследие своих предшественников, передают из поколения в поколение богатейшие коллекции живописи, декоративно-прикладного искусства, археологических находок, археологических и этнографических коллекций. Убеждён, что вы и впредь будете беречь и приумножать замечательные традиции, заложенные предшественниками. Желаю вам успехов и всего самого доброго. EOS\n",
      "________\n",
      "top_p_0.97\n",
      "BOS PER ORG Серовского исторического музея TITLE Коллективу музея-заповедника «Серовский исторический музей» TEXT Серовского исторического музея TEXT Дорогие друзья! Серовский историко-художественный музей – один из крупнейших и самобытных музеев Сибири. Здесь представлена богатейшая коллекция уникальных книг, археологических находок, предметов искусства, предметов быта и этнографии, произведений декоративно-прикладного искусства, которые по праву считаются бесценными достоянием отечественной культуры, имеют непреходящее значение как духовное и нравственное достояние нашего народа. Желаю вам успехов и всего наилучшего. EOS\n",
      "________\n",
      "top_p_0.9\n",
      "BOS PER ORG Серовского исторического музея TITLE Коллективу Серовского исторического музея TEXT Дорогие друзья! Поздравляю вас со знаменательным событием – 200-летием Серовского исторического музея. Серовский историко-художественный музей занимает одну из ключевых страниц в истории и культуре Рязанской области, вносит большой, поистине уникальный вклад в развитие родного региона. В стенах музея проходят уникальные выставки, выставки, концерты, выставки творческих коллективов, рассказывающие об истории Рязанского края и его выдающихся земляках, о становлении и развитии Рязанского края как крупного центра по снабжению хлебом и топливом, образования, науки, культуры, образования. Важно, что сотрудники музея радушно относятся к гостям, активно участвуют в общественной, просветительской деятельности, уделяют неустанное внимание воспитанию молодых поколений. Уверен, что вы и впредь будете бережно хранить богатейшую галерею подлинных шедевров искусства, которые являются бесценным достоянием нашего Отечества, служить образцом для подражания среди других культур и поколений. Желаю успехов и всего самого доброго. EOS\n",
      "________\n",
      "top_k_3\n",
      "BOS PER ORG Серовского исторического музея TITLE Коллективу Серовского исторического музея TEXT Дорогие друзья! Поздравляю вас с 80-летием Серовского исторического музея. Основанный в 1918 году, ваш музей стал одним из крупнейших в России собраний произведений искусства, которые бережно хранят традиции отечественной и мировой культуры. За прошедшие годы музей вырос в крупный культурный и научный центр, стал настоящим центром притяжения для многочисленных гостей из разных регионов России и зарубежья. И конечно, в музее всегда работали и сегодня трудятся талантливые, инициативные, увлечённые люди, которые вносят значимый вклад в развитие музейного дела, в укрепление культурного, научного потенциала региона, в развитие музейного дела в нашей стране и за рубежом. Желаю вам успехов и всего наилучшего. EOS\n",
      "________\n",
      "top_k_15\n",
      "BOS PER ORG Серовского исторического музея TITLE Коллективу музея TEXT Дорогие друзья! Поздравляю вас с открытием Серовского исторического музея. История его уникального собрания поистине уникальна, она рассказывает о выдающихся исторических и культурных деятелях, известных учёными, искусствоведами, которые внесли значимый вклад в развитие отечественной культуры и искусства, в развитие отечественной науки, науки и образования. В музеях хранятся уникальные раритеты, которые по праву считаются бесценным достоянием отечественной истории. Важно, что вы бережно храните и по-прежнему передаёте из поколения в поколение традиции подвижнического служения музею, уделяете приоритетное внимание популяризации его богатейшего исторического, художественного, духовного наследия, реализации востребованных образовательных, просветительских, просветительских программ. Отрадно, что вы всегда с уважением относитесь к бесценному, бесценному наследию своих предшественников, стремитесь уделять большое внимание сохранению творческого, духовного наследия выдающихся представителей отечественной культуры, образования и медицины. Желаю вам дальнейших успехов. EOS\n",
      "________\n",
      "top_p_0.9_temp1.5\n",
      "BOS PER ORG Серовского исторического музея TITLE Участникам XXVIII Международного исторического биеннале-выставки, Москва, 18–21 октября 2017 года TEXT Дорогие друзья! Рад поздравить вас со знаменательным, 100-летним юбилеем «Серовского исторического музея» в нашей стране. Его создание, первое из старейших региональных филиалов музея, прошло как знаменательное событие в отечественной историографии, укрепляло научное, нравственное, духовно-просветительское значение нашего образования, музея. Благодаря усилиям ваших многочисленных, опытных, инициативных товарищей удалось на многие десятилетия сохранить уникальную историю Серовского краеведческого музея, собрать и установить коллекции самых разных жанров – от древнейших документов о Древнем мире до шедевров изобразительного, книжного, архивного искусства. Это во многом предопределило высокую актуальность музея, формирование его мощного историко-просветительского сектора, позволило расширить возможности его экспозиции, расширить содержательное выставочное пространство. Желаю успехов и всего наилучшего. Ещё раз поздравляю с юбилеем и с наступающими новогодними праздниками. EOS\n",
      "________\n",
      "top_k_15_temp1.5\n",
      "BOS PER ORG Серовского исторического музея TITLE Коллективу и ветеранам музея Серовского исторического музея TEXT Уважаемые друзья! Поздравляю вас со знаменательным событием – 50-летием Серовского историко-архитектурного комплекса – уникального музейного комплекса, возведённого по специальному государственному, творческому проекту академика В. В. Жданова на средства ветеранов Серовского исторического музея (г. Серово). Сегодня это крупное и перспективное по масштабам строительство. Вы по праву можете гордиться богатой историей и выдающимися личностями Серовского музея. На его строительство было выделено более 300 миллионов рублей, из них более 10 – для музейно-производственных нужд на территории Серковского заповедника; другими масштабными, востребованными проектами в области природоохранной, краеведческой и музейных услуг. Важно, что, несмотря на серьёзные испытания на прочность и в непростые погодные условия, проект продолжает радовать своих поклонников новыми и весьма интересными идеями и проектами. Желаю вам здоровья, энергии для осуществления поставленных целей и, конечно, дальнейших успехов. EOS\n",
      "________\n"
     ]
    }
   ],
   "source": [
    "for method in method2generation_parameters:\n",
    "    print(method)\n",
    "    print(test_df[method].loc[1])\n",
    "    print('________')"
   ]
  },
  {
   "cell_type": "code",
   "execution_count": 83,
   "metadata": {},
   "outputs": [
    {
     "name": "stdout",
     "output_type": "stream",
     "text": [
      "greedy\n",
      "BOS PER Генриху Боровику ORG TITLE Патриарху Московскому и всея Руси Кириллу TEXT Ваше Святейшество! Примите сердечные поздравления по случаю Вашего 80-летнего юбилея. Вы по праву пользуетесь высоким авторитетом среди верующих, своим подвижническим служением содействуете укреплению межрелигиозного и межнационального диалога, развитию межконфессиональных и межконфессиональных отношений. И конечно, особо отмечу Ваше активное участие в жизни Русской православной церкви, в укреплении института семьи, воспитании подрастающего поколения. Желаю Вам здоровья, успехов и всего наилучшего. EOS\n",
      "________\n",
      "beam_search_5beams\n",
      "BOS PER Генриху Боровику ORG TITLE Патриарху Московскому и всея Руси Кириллу TEXT Ваше Святейшество! Примите сердечные поздравления с Днём Вашего тезоименитства. Ваше Святейшество! Сердечно поздравляю Вас с Днём Вашего тезоименитства. Ваше Святейшество! Сердечно поздравляю Вас с Днём Вашего тезоименитства. Ваше Святейшество! Сердечно поздравляю Вас с Днём Вашего тезоименитства. Ваше Святейшество! Сердечно поздравляю Вас с Днём Вашего тезоименитства. Ваше Святейшество! Сердечно поздравляю Вас с Днём Вашего тезоименитства. Ваше Святейшество! Сердечно поздравляю Вас с Днём Вашего тезоименитства. Ваше Святейшество! Сердечно поздравляю Вас с Днём Вашего тезоименитства. Ваше Святейшество! Сердечно поздравляю Вас с Днём Вашего тезоименитства. Ваше Святейшество! Сердечно поздравляю Вас с Днём Вашего тезоименитства. Ваше Святейшество! Сердечно поздравляю Вас с Днём Вашего тезо\n",
      "________\n",
      "top_p_0.97\n",
      "BOS PER Генриху Боровику ORG TITLE Ричарду Бриттсу, композитору, народному артисту России TEXT Уважаемый Ричард Геннадьевич! Примите поздравления с 80-летним юбилеем. Вами по праву славились талантливые, по-настоящему преданные искусству исполнители, но главное, что творческая судьба музыканта и композитора тесно связана с Вашим родным и близким городом, которые посвятили себя служению искусству. Завоёванное Вами большое, искреннее признание заслужили Ваши талантливые, искренние песни. От души желаю Вам здоровья и благополучия. EOS\n",
      "________\n",
      "top_p_0.9\n",
      "BOS PER Генриху Боровику ORG TITLE Патриарху Московскому и всея Руси Кириллу TEXT Уважаемый Ваше Святейшество! Сердечно поздравляю Вас с 75-летием. Патриарх Московский и всея Руси Кирилл по праву считается одним из наиболее почитаемых в нашей стране священнослужителей. Он проводит большую, истинно подвижническую, созидательную деятельность, служит высоким духовным идеалам, которые сегодня с полным правом являются в России государственными. Ваше присутствие на важнейших церковных, общественных, просветительских форумах, в поездках по стране и за её пределами играет важную роль в укреплении доверия к подлинно духовным ценностям нашей страны. Отрадно, что Вы продолжаете духовно просвещать молодёжь, укреплять связь между нашей жизнью и духовным развитием, активно занимаетесь благотворительностью. Желаю Вам доброго здоровья и благополучия. EOS\n",
      "________\n",
      "top_k_3\n",
      "BOS PER Генриху Боровику ORG TITLE Патриоту, Президенту Республики Беларусь TEXT Уважаемый Генрих Михайлович! Примите искренние поздравления по случаю Дня Республики. Беларусь по праву считается одним из мировых лидеров в области науки и инновационного развития. За годы своего существования республика прошла большой, содержательный, насыщенный путь, стала крупным, авторитетным центром притяжения для соотечественников и зарубежных партнёров. Уверен, что совместными усилиями мы будем и дальше наращивать темпы социально-экономического развития, совершенствовать инфраструктуру, наращивать темпы социально-экономического развития. От души желаю Вам успехов, крепкого здоровья, благополучия и всего наилучшего. EOS\n",
      "________\n",
      "top_k_15\n",
      "BOS PER Генриху Боровику ORG TITLE Генуе и его соотечественникам, гражданам Болгарии, СНГ, Армении, Белоруссии, Молдавии и других государств, которые своим трудом, энергией, созидательным трудом внесли значимый вклад в укрепление отношений стратегического партнёрства и союзничества между нашими государствами, в укрепление международного гуманитарного сотрудничества. Вы по праву можете гордиться историей Болгарии, её богатыми традициями дружбы и гостеприимства. Важно, что нынешнее поколение граждан России, Болгарии и СНГ в курсе своих дел, активно участвует в жизни Болгарии, активно взаимодействует с институтами гражданского общества, в том числе с Государственной Думе. Это способствует упрочению всего конструктивного российско-белорусского взаимодействия, укреплению безопасности и стабильности в Центральной и Восточной Европе, а также упрочению взаимодействия в рамках Евразийского экономического союза. Это, несомненно, отвечает коренным интересам наших граждан, идёт в русле упрочения безопасности и стабильности в Центральной и Восточной Европе. Желаю Вам доброго здоровья и осуществления намеченных планов. EOS\n",
      "________\n",
      "top_p_0.9_temp1.5\n",
      "BOS PER Генриху Боровику ORG TITLE Патриарху Московскому и всея Руси TITLE Ваше Преосвященство, Преосвященство Филипп! От души поздравляю Вас с Днём Вашего тезоименитства и желаю здоровья, бодрости духа и вдохновения для подвигов. И конечно, знаменательная дата – 60-летие канонизации Святителя Афанасия Великого. В последние дни Вы покидаете Церковь, вносите неоценимый вклад в развитие отечественной экономики, развитие высокотехнологичных секторов экономики. И потому слова «благое дело» звучат в исполнении столь высокого служения Русской православной Церкви. Искренне желаю Вам крепкого здоровья и успехов в благочестии. EOS\n",
      "________\n",
      "top_k_15_temp1.5\n",
      "BOS PER Генриху Боровику ORG TITLE Генриху Боровику, президенту Московского математического общества (МАИ) имени Н. П. Окладникова TEXT Уважаемый Генрих Борисович! Сердечно поздравляю Вас с 85-летием. За последнее время Ваш замечательный наставник и подвижник в решении многих значимых задач убедительно доказал правильность научных взглядов на математику, убедительно доказал, что математическое творчество не нуждается во внешнем влиянии. Ваша деятельная научная, педагогическая, творческая деятельность востребована во все времена, особенно в последние четверть века. Желаю Вам здоровья и всего самого доброго. EOS\n",
      "________\n"
     ]
    }
   ],
   "source": [
    "for method in method2generation_parameters:\n",
    "    print(method)\n",
    "    print(test_df[method].loc[2])\n",
    "    print('________')"
   ]
  },
  {
   "cell_type": "markdown",
   "metadata": {},
   "source": [
    "С организациями модель справилась, с Генрихом Боровиком - нет (только в одном случае сущность повторена, причем от увеличения top_k и температуры обычно ожидается понижение способности повторять заданные ключевые слова.\n",
    "\n",
    "Оценим качество генерации метриками, однако нужно учесть, что на тестовой выборке мы можем оценить только качество генерации для стандартных тематик, на которые действительно существуют поздравления президента"
   ]
  },
  {
   "cell_type": "markdown",
   "metadata": {},
   "source": [
    "# Метрики"
   ]
  },
  {
   "cell_type": "code",
   "execution_count": 11,
   "metadata": {},
   "outputs": [],
   "source": [
    "from generation.postprocessing import get_title_and_text"
   ]
  },
  {
   "cell_type": "code",
   "execution_count": null,
   "metadata": {},
   "outputs": [],
   "source": [
    "for column in ['title_ner', 'text_ner', 'selected_entities']:\n",
    "    test_df[column] = test_df[column].apply(json.loads)"
   ]
  },
  {
   "cell_type": "raw",
   "metadata": {},
   "source": [
    "Посмотрим, насколько хорошо модель справляется с повтором сущностей - какую долю использует в тексте. В кастомной метрике  corpus_entity_representation_proba подсчитывается усредненная по корпусу доля использованных сущностей. Сущность считается использованной, если в тексте встретились все ее стемы"
   ]
  },
  {
   "cell_type": "code",
   "execution_count": 14,
   "metadata": {},
   "outputs": [],
   "source": [
    "for column in ['title_ner', 'text_ner', 'selected_entities']:\n",
    "    test_df[column] = test_df[column].apply(json.loads)"
   ]
  },
  {
   "cell_type": "code",
   "execution_count": 42,
   "metadata": {},
   "outputs": [],
   "source": [
    "from metrics import corpus_entity_representation_proba"
   ]
  },
  {
   "cell_type": "code",
   "execution_count": 12,
   "metadata": {},
   "outputs": [],
   "source": [
    "def add_extracted_text_columns(row, method):\n",
    "    title, text = get_title_and_text(row[method])\n",
    "    row[f'{method}_title'] = title\n",
    "    row[f'{method}_text'] = text\n",
    "    return row"
   ]
  },
  {
   "cell_type": "code",
   "execution_count": 15,
   "metadata": {},
   "outputs": [],
   "source": [
    "for method in method2generation_parameters:\n",
    "    test_df = test_df.apply(lambda row: add_extracted_text_columns(row, method), axis=1)"
   ]
  },
  {
   "cell_type": "code",
   "execution_count": 16,
   "metadata": {},
   "outputs": [],
   "source": [
    "for method in method2generation_parameters:\n",
    "    test_df[f'{method}_joined_text'] = test_df.apply(lambda row: ' '.join((row[f'{method}_title'], row[f'{method}_text'])), axis=1)"
   ]
  },
  {
   "cell_type": "code",
   "execution_count": 80,
   "metadata": {},
   "outputs": [
    {
     "name": "stdout",
     "output_type": "stream",
     "text": [
      "greedy 0.8430059523809523\n",
      "beam_search_5beams 0.8229166666666666\n",
      "top_p_0.97 0.8020833333333334\n",
      "top_p_0.9 0.8154761904761905\n",
      "top_k_3 0.8377976190476191\n",
      "top_k_15 0.7938988095238095\n",
      "top_p_0.9_temp1.5 0.6577380952380952\n",
      "top_k_15_temp1.5 0.7127976190476191\n"
     ]
    }
   ],
   "source": [
    "entities = list(test_df['selected_entities'].apply(get_entities_list))\n",
    "for method in method2generation_parameters:\n",
    "    texts = list(test_df[f'{method}_joined_text'])\n",
    "    print(method, corpus_entity_representation_proba(entities, texts))"
   ]
  },
  {
   "cell_type": "markdown",
   "metadata": {},
   "source": [
    "Посчитаем отдельно для людей и для организаций"
   ]
  },
  {
   "cell_type": "code",
   "execution_count": 86,
   "metadata": {},
   "outputs": [
    {
     "name": "stdout",
     "output_type": "stream",
     "text": [
      "greedy 0.9135802469135802\n",
      "beam_search_5beams 0.8888888888888888\n",
      "top_p_0.97 0.8641975308641975\n",
      "top_p_0.9 0.8919753086419753\n",
      "top_k_3 0.9382716049382716\n",
      "top_k_15 0.8600823045267489\n",
      "top_p_0.9_temp1.5 0.7314814814814815\n",
      "top_k_15_temp1.5 0.8024691358024691\n"
     ]
    }
   ],
   "source": [
    "person_entities = list(test_df['selected_entities'].apply(lambda x: x.get('PER', None)))\n",
    "\n",
    "for method in method2generation_parameters:\n",
    "    texts = list(test_df[f'{method}_joined_text'])\n",
    "    print(method, corpus_entity_representation_proba(person_entities, texts))"
   ]
  },
  {
   "cell_type": "code",
   "execution_count": 88,
   "metadata": {},
   "outputs": [
    {
     "name": "stdout",
     "output_type": "stream",
     "text": [
      "greedy 0.6416666666666667\n",
      "beam_search_5beams 0.6611111111111111\n",
      "top_p_0.97 0.6416666666666667\n",
      "top_p_0.9 0.675\n",
      "top_k_3 0.6138888888888889\n",
      "top_k_15 0.6305555555555555\n",
      "top_p_0.9_temp1.5 0.5166666666666667\n",
      "top_k_15_temp1.5 0.5305555555555556\n"
     ]
    }
   ],
   "source": [
    "organization_entities = list(test_df['selected_entities'].apply(lambda x: x.get('ORG', None)))\n",
    "\n",
    "for method in method2generation_parameters:\n",
    "    texts = list(test_df[f'{method}_joined_text'])\n",
    "    print(method, corpus_entity_representation_proba(organization_entities, texts))"
   ]
  },
  {
   "cell_type": "markdown",
   "metadata": {},
   "source": [
    "По метрикам получается, что с повторением модель справляется хуже, чем с повторением людей. Анализ отдельных примеров давал обратный результат. Возможно, это связано с тем, что есть больше способов переформулировать название организации, сохранив ключевые слова, в то время как имя человека можно либо повторить, либо не повторить (либо заменить инициалы на полное имя или наоборот, но имя обычно повторяется в самом начале заголовка, когда модель еще помнит точную формулировку). По качеству повторения сущности лидирует жадная генерация"
   ]
  },
  {
   "cell_type": "markdown",
   "metadata": {},
   "source": [
    "Посмотрим на метрики сходства с исходным текстом"
   ]
  },
  {
   "cell_type": "code",
   "execution_count": 5,
   "metadata": {},
   "outputs": [],
   "source": [
    "test_df['joined_gold'] = test_df.apply(lambda row: ' '.join([row['title'], row['text']]), axis=1)"
   ]
  },
  {
   "cell_type": "code",
   "execution_count": 10,
   "metadata": {},
   "outputs": [],
   "source": [
    "from metrics import bleu, BERTScoreWrapper"
   ]
  },
  {
   "cell_type": "code",
   "execution_count": 6,
   "metadata": {},
   "outputs": [],
   "source": [
    "gold_texts = list(test_df['joined_gold'])"
   ]
  },
  {
   "cell_type": "markdown",
   "metadata": {},
   "source": [
    "bleu"
   ]
  },
  {
   "cell_type": "code",
   "execution_count": 98,
   "metadata": {},
   "outputs": [
    {
     "name": "stdout",
     "output_type": "stream",
     "text": [
      "greedy 0.08166296470145891\n",
      "beam_search_5beams 0.0743168484506246\n",
      "top_p_0.97 0.0584732233667293\n",
      "top_p_0.9 0.05605404980376607\n",
      "top_k_3 0.06204847777663716\n",
      "top_k_15 0.061023711360241054\n",
      "top_p_0.9_temp1.5 0.03646172248182241\n",
      "top_k_15_temp1.5 0.031190364732806238\n"
     ]
    }
   ],
   "source": [
    "for method in method2generation_parameters:\n",
    "    generated_texts = list(test_df[f'{method}_joined_text'])\n",
    "    print(method, bleu(generated_texts, gold_texts))"
   ]
  },
  {
   "cell_type": "markdown",
   "metadata": {},
   "source": [
    "Bert score"
   ]
  },
  {
   "cell_type": "code",
   "execution_count": 99,
   "metadata": {},
   "outputs": [],
   "source": [
    "bert_scorer = BERTScoreWrapper()"
   ]
  },
  {
   "cell_type": "code",
   "execution_count": 7,
   "metadata": {},
   "outputs": [],
   "source": [
    "import os\n",
    "os.environ[\"TOKENIZERS_PARALLELISM\"] = \"true\""
   ]
  },
  {
   "cell_type": "code",
   "execution_count": 104,
   "metadata": {},
   "outputs": [
    {
     "name": "stdout",
     "output_type": "stream",
     "text": [
      "greedy 0.5616112238778843\n",
      "beam_search_5beams 0.5395463766075494\n",
      "top_p_0.97 0.5641382179391665\n",
      "top_p_0.9 0.5600374709433458\n",
      "top_k_3 0.5634459358031355\n",
      "top_k_15 0.5597071248715318\n",
      "top_p_0.9_temp1.5 0.5509566617762949\n",
      "top_k_15_temp1.5 0.5479242822786016\n"
     ]
    }
   ],
   "source": [
    "for method in method2generation_parameters:\n",
    "    generated_texts = list(test_df[f'{method}_joined_text'])\n",
    "    print(method, bert_scorer(generated_texts, gold_texts))"
   ]
  },
  {
   "cell_type": "code",
   "execution_count": 105,
   "metadata": {},
   "outputs": [],
   "source": [
    "del bert_scorer"
   ]
  },
  {
   "cell_type": "markdown",
   "metadata": {},
   "source": [
    "Жадная генерация или генерация с небольшими значениями top_p или высокими значениями top_k (то есть почти жадная) имеет более высокие метрики "
   ]
  },
  {
   "cell_type": "markdown",
   "metadata": {},
   "source": [
    "Посмотрим на естественность текста. Будем оценивать ее перплексией общеязыковой gpt. \n",
    "При этом важно учесть, что проблемы, свойственные и общеязыковой генеративной модели (зацикливание) вряд ли будут сильно штрафоваться"
   ]
  },
  {
   "cell_type": "code",
   "execution_count": 7,
   "metadata": {},
   "outputs": [],
   "source": [
    "from metrics import PerplexityScorer"
   ]
  },
  {
   "cell_type": "code",
   "execution_count": 8,
   "metadata": {},
   "outputs": [
    {
     "name": "stderr",
     "output_type": "stream",
     "text": [
      "Special tokens have been added in the vocabulary, make sure the associated word embeddings are fine-tuned or trained.\n"
     ]
    }
   ],
   "source": [
    "perplexity_scorer = PerplexityScorer()"
   ]
  },
  {
   "cell_type": "code",
   "execution_count": 9,
   "metadata": {},
   "outputs": [
    {
     "name": "stderr",
     "output_type": "stream",
     "text": [
      "100%|█████████████████████████████████████████| 127/127 [02:43<00:00,  1.29s/it]\n"
     ]
    },
    {
     "data": {
      "text/plain": [
       "13.944804574560932"
      ]
     },
     "execution_count": 9,
     "metadata": {},
     "output_type": "execute_result"
    }
   ],
   "source": [
    "perplexity_scorer(gold_texts)"
   ]
  },
  {
   "cell_type": "code",
   "execution_count": 17,
   "metadata": {},
   "outputs": [
    {
     "name": "stderr",
     "output_type": "stream",
     "text": [
      "100%|█████████████████████████████████████████| 127/127 [02:08<00:00,  1.01s/it]\n"
     ]
    },
    {
     "name": "stdout",
     "output_type": "stream",
     "text": [
      "greedy 9.56672152290194\n"
     ]
    },
    {
     "name": "stderr",
     "output_type": "stream",
     "text": [
      "100%|█████████████████████████████████████████| 127/127 [02:21<00:00,  1.12s/it]\n"
     ]
    },
    {
     "name": "stdout",
     "output_type": "stream",
     "text": [
      "beam_search_5beams 6.759543592535604\n"
     ]
    },
    {
     "name": "stderr",
     "output_type": "stream",
     "text": [
      "100%|█████████████████████████████████████████| 127/127 [02:27<00:00,  1.16s/it]\n"
     ]
    },
    {
     "name": "stdout",
     "output_type": "stream",
     "text": [
      "top_p_0.97 12.505026148998832\n"
     ]
    },
    {
     "name": "stderr",
     "output_type": "stream",
     "text": [
      "100%|█████████████████████████████████████████| 127/127 [02:23<00:00,  1.13s/it]\n"
     ]
    },
    {
     "name": "stdout",
     "output_type": "stream",
     "text": [
      "top_p_0.9 11.428649733385702\n"
     ]
    },
    {
     "name": "stderr",
     "output_type": "stream",
     "text": [
      "100%|█████████████████████████████████████████| 127/127 [02:13<00:00,  1.05s/it]\n"
     ]
    },
    {
     "name": "stdout",
     "output_type": "stream",
     "text": [
      "top_k_3 10.628925195829137\n"
     ]
    },
    {
     "name": "stderr",
     "output_type": "stream",
     "text": [
      "100%|█████████████████████████████████████████| 127/127 [02:23<00:00,  1.13s/it]\n"
     ]
    },
    {
     "name": "stdout",
     "output_type": "stream",
     "text": [
      "top_k_15 11.742940020373487\n"
     ]
    },
    {
     "name": "stderr",
     "output_type": "stream",
     "text": [
      "100%|█████████████████████████████████████████| 127/127 [02:52<00:00,  1.36s/it]\n"
     ]
    },
    {
     "name": "stdout",
     "output_type": "stream",
     "text": [
      "top_p_0.9_temp1.5 15.830171318504753\n"
     ]
    },
    {
     "name": "stderr",
     "output_type": "stream",
     "text": [
      "100%|█████████████████████████████████████████| 127/127 [02:53<00:00,  1.37s/it]"
     ]
    },
    {
     "name": "stdout",
     "output_type": "stream",
     "text": [
      "top_k_15_temp1.5 15.563754291984978\n"
     ]
    },
    {
     "name": "stderr",
     "output_type": "stream",
     "text": [
      "\n"
     ]
    }
   ],
   "source": [
    "for method in method2generation_parameters:\n",
    "    generated_texts = list(test_df[f'{method}_joined_text'])\n",
    "    print(method, perplexity_scorer(generated_texts))"
   ]
  },
  {
   "cell_type": "markdown",
   "metadata": {},
   "source": [
    "Более высокая перплексия при температуре 1.5 ожидаема: я побуждала модель выбирать более неожиданные варианты.\n",
    "Во всех случаях перплексия ниже, чем на реальных текстах. Кажется, что единственный вывод, который можно из этого сделать, - тексты получаются довольно синтетические. Выбирать параметры с наименьшей перплексией нецелесообразно"
   ]
  },
  {
   "cell_type": "markdown",
   "metadata": {},
   "source": [
    "# Множественные генерации"
   ]
  },
  {
   "cell_type": "markdown",
   "metadata": {},
   "source": [
    "Наилучшие метрики показывает жадная генерация, beam search и nucleus sampling со строгими критериями фильтрации логитов немного уступают. Нестрогие критерии фильтрации и повышение температуры снижают долю верно воспроизведенных сущностей"
   ]
  },
  {
   "cell_type": "markdown",
   "metadata": {},
   "source": [
    "Несмотря на превосходство по метрикам, у жадной генерации есть один недостаток с точки зрения практического применения: она стабильно выдает одинаковый результат, в то время как с помощью nucleus_sampling можно сгенерировать несколько вариантов текста в батче и выбрать из них тот, где нужные сущности повторяются. \n",
    "Проверим, поможет ли это в нашем случае"
   ]
  },
  {
   "cell_type": "code",
   "execution_count": 22,
   "metadata": {},
   "outputs": [],
   "source": [
    "def generate_several_versions(prompt, num_return_sequences=5):\n",
    "    encoding = tokenizer(prompt, return_tensors='pt').to(gpt.device)\n",
    "    output = gpt.generate(**encoding,\n",
    "                            **universal_parameters,\n",
    "                            do_sample=True,\n",
    "                            top_p = 0.97,\n",
    "                            # дополнительное ограничение, потому что иначе ухудшалось качество простых случаев\n",
    "                            top_k = 10,\n",
    "                            num_return_sequences=num_return_sequences\n",
    "                           )\n",
    "    return [tokenizer.decode(i) for i in output.tolist()]"
   ]
  },
  {
   "cell_type": "code",
   "execution_count": 23,
   "metadata": {},
   "outputs": [
    {
     "data": {
      "text/plain": [
       "['BOS PER Генриху Боровику ORG TITLE Генриху Боровику, писателю, публицисту, народному артисту СССР TEXT Уважаемый Генрих Григорьевич! Примите поздравления с 85-летним юбилеем. Вас по праву считают талантливым писателем, человеком незаурядным, подвижническим. Ваши произведения интересны, многогранны, всегда вызывают живой интерес и искреннюю симпатию. Желаю Вам здоровья, благополучия и всего наилучшего. EOSEOSEOSEOSEOSEOSEOSEOSEOSEOSEOSEOSEOSEOSEOSEOSEOSEOSEOSEOSEOSEOSEOSEOSEOSEOSEOSEOSEOSEOSEOSEOSEOSEOSEOSEOSEOSEOSEOSEOSEOSEOSEOSEOSEOSEOSEOSEOSEOSEOSEOSEOSEOSEOSEOSEOSEOSEOSEOSEOSEOSEOSEOSEOSEOSEOSEOSEOSEOSEOSEOSEOSEOSEOSEOSEOSEOSEOSEOSEOSEOSEOSEOSEOSEOSEOSEOSEOSEOSEOSEOSEOSEOSEOSEOSEOSEOSEOSEOSEOSEOSEOSEOSEOSEOSEOSEOSEOSEOSEOSEOSEOSEOSEOSEOSEOSEOSEOSEOS',\n",
       " 'BOS PER Генриху Боровику ORG TITLE Патриарху Московскому и всея Руси Кириллу TEXT Ваше Святейшество! Примите тёплые поздравления по случаю Дня преображения Церкви. С удовлетворением отмечаю, что Русская православная церковь продолжает активно участвовать в жизни страны, активно участвует в общественном просвещении. И конечно, отмечу Вашу деятельную, конструктивную деятельность на посту Патриаршего предстоятеля и всей Русской православной церкви, направленную на укрепление института семьи, воспитание подрастающего поколения. Желаю Вам доброго здоровья, успехов и всего наилучшего. EOSEOSEOSEOSEOSEOSEOSEOSEOSEOSEOSEOSEOSEOSEOSEOSEOSEOSEOSEOSEOSEOSEOSEOSEOSEOSEOSEOSEOSEOSEOSEOSEOSEOSEOSEOSEOSEOSEOSEOSEOSEOSEOSEOSEOSEOSEOSEOSEOSEOSEOSEOSEOSEOSEOSEOSEOSEOSEOSEOSEOSEOSEOSEOSEOSEOSEOSEOSEOSEOSEOSEOSEOSEOSEOSEOSEOSEOSEOSEOSEOSEOSEOSEOSEOSEOSEOSEOSEOSEOSEOSEOS',\n",
       " 'BOS PER Генриху Боровику ORG TITLE Патриарху Московскому и всея Руси TEXT Ваше Святейшество! Примите сердечные поздравления с 70-летием канонизации Вас Высокопреосвященством Патриархом Московским и всея Руси. Ваш подвижнический труд и глубокие знания в области православной археологии и православной этнографии стали основой для создания первого в нашей стране музея истории Русской православной старообрядческой общины. Вы по праву можете гордиться многими поколениями Ваших предшественников, которые внесли значительный вклад в сохранение и возрождение самобытной культуры и духовных святынь нашей страны. Желаю Вам доброго здоровья, благополучия и осуществления намеченных планов. С уважением, EOSEOSEOSEOSEOSEOSEOSEOSEOSEOSEOSEOSEOSEOSEOSEOSEOSEOSEOSEOSEOSEOSEOSEOSEOSEOSEOSEOSEOSEOSEOSEOSEOSEOSEOSEOSEOSEOSEOSEOSEOSEOSEOSEOSEOSEOSEOSEOSEOSEOSEOSEOSEOSEOSEOSEOSEOSEOSEOSEOSEOSEOSEOSEOSEOSEOSEOSEOSEOSEOSEOSEOSEOSEOS',\n",
       " 'BOS PER Генриху Боровику ORG TITLE Патриарху Московскому и всея Руси Кириллу TEXT Ваше Святейшество! Сердечно поздравляю Вас с большим, знаменательным событием – 100-летием со дня основания Русской православной старообрядческой церкви. В этот торжественный день, на Святой земле, Русская православная старообрядческая церковь, другие христианские конфессии России отмечают свой юбилей. С удовлетворением отмечу, что за прошедшие четверть века Русская православная старообрядческая церковь выросла в одно из важнейших духовных, просветительских учреждений России, активно участвует в укреплении межконфессиональных, межнациональных, межрелигиозных отношений. Важно, что Вы по праву пользуетесь авторитетом и любовью верующих и общества, уделяете большое внимание вопросам просвещения, просвещения и благотворительности, реализуете востребованные инициативы в различных сферах, уделяете неустанное внимание воспитанию молодёжному, просветительскому, творческому потенциалу молодёжи. Желаю Вам дальнейших успехов и всего самого доброго. С уважением, EOS',\n",
       " 'BOS PER Генриху Боровику ORG TITLE Генриху Боровику, президенту Национального фонда социальной помощи семье и детям TEXT Уважаемый Генрих Леонидович! Примите поздравления с Днём рождения. Вы – выдающийся политик, талантливый государственный деятель, настоящий лидер страны, яркий представитель гражданского общества. Ваша деятельность во главе государства стала свидетельством глубокого уважения к Вашей истории, искренней симпатии к её героическим страницам и традициям. От души желаю Вам здоровья и успехов, а всем Вашим согражданам – благополучия и процветания. EOSEOSEOSEOSEOSEOSEOSEOSEOSEOSEOSEOSEOSEOSEOSEOSEOSEOSEOSEOSEOSEOSEOSEOSEOSEOSEOSEOSEOSEOSEOSEOSEOSEOSEOSEOSEOSEOSEOSEOSEOSEOSEOSEOSEOSEOSEOSEOSEOSEOSEOSEOSEOSEOSEOSEOSEOSEOSEOSEOSEOSEOSEOSEOSEOSEOSEOSEOSEOSEOSEOSEOSEOSEOSEOSEOSEOSEOSEOSEOSEOSEOSEOSEOSEOSEOSEOSEOSEOSEOSEOSEOSEOSEOSEOSEOSEOSEOSEOSEOSEOSEOSEOSEOSEOS']"
      ]
     },
     "execution_count": 23,
     "metadata": {},
     "output_type": "execute_result"
    }
   ],
   "source": [
    "generate_several_versions('BOS PER Генриху Боровику ORG TITLE')"
   ]
  },
  {
   "cell_type": "markdown",
   "metadata": {},
   "source": [
    "Это был один из самых сложных для модели примеров теста. В одном случае из пяти модель повторила имя и фамилию в заголовке, в двух - использовала верное имя в тексте."
   ]
  },
  {
   "cell_type": "code",
   "execution_count": 24,
   "metadata": {},
   "outputs": [
    {
     "data": {
      "text/plain": [
       "['BOS PER ORG Фонд помощи бездомным котятам TITLE Коллективу Фонда помощи бездомным животным TEXT Уважаемые друзья! Рад поздравить вас со 100-летием Фонда помощи бездомным животным. За прошедшие годы вы многое сделали для создания фонда и создания условий для его пополнения. В фонд обращаются люди с ограниченными возможностями, которым необходимо лечение, уход, обустройство квартиры или дома, но они не обращаются к нам за помощью. Многие из них остаются на улице, в трудных жизненных обстоятельствах и, конечно, в качестве нуждающейся в заботе и поддержке. И конечно, важно, что Фонд сотрудничает с государственными, общественными организациями, благотворительными, образовательными, просветительскими организациями. Важно, что вы активно и ответственно относитесь к своей миссии, стремитесь вовлекать в благотворительные, образовательные, образовательные, просветительские инициативы самых разных возрастов, а главное – неравнодушны к проблемам людей с ограниченными возможностями и их проблемам. Уверен, что Фонд продолжит и впредь уделять серьёзное внимание реализации востребованных благотворительных, просветительских, образовательных, благотворительных проектов, направленных на поддержку бездомных и беспризорных животных. Желаю вам успехов и всего наилучшего. EOS',\n",
       " 'BOS PER ORG Фонд помощи бездомным котятам TITLE Работникам и ветеранам Фонда помощи бездомным котятам TEXT Уважаемые друзья! Поздравляю вас с Днём котёнка. В России этот праздник отмечают многие поколения людей, которые искренне любят своё бесценное время, свои добрые, пушистые питомцы и по праву считаются с благородным нравственным наследием своих предшественников. Многие поколения ваших предшественников внесли значимый вклад в развитие благотворительных, образовательных, просветительских инициатив, в развитие благотворительности в нашей стране. И конечно, очень важно, чтобы вы бережно хранили память о своих выдающихся предках, бережно передавали из поколения в поколение их добрые традиции и обычаи. Желаю вам всего наилучшего. EOSEOSEOSEOSEOSEOSEOSEOSEOSEOSEOSEOSEOSEOSEOSEOSEOSEOSEOSEOSEOSEOSEOSEOSEOSEOSEOSEOSEOSEOSEOSEOSEOSEOSEOSEOSEOSEOSEOSEOSEOSEOSEOSEOSEOSEOSEOSEOSEOSEOSEOSEOSEOSEOSEOSEOSEOSEOSEOSEOSEOSEOSEOSEOSEOSEOSEOSEOSEOSEOSEOSEOSEOSEOSEOSEOSEOSEOSEOSEOSEOSEOSEOSEOSEOSEOSEOSEOSEOSEOSEOSEOSEOSEOSEOS',\n",
       " 'BOS PER ORG Фонд помощи бездомным котятам TITLE Коллективу и ветеранам Фонда помощи бездомным котятам TEXT Уважаемые друзья! Поздравляю вас со знаменательной датой – 20-летием Фонда. За прошедшие годы ваш Фонд значительно укрепил свой потенциал, стал одним из признанных лидеров в области содействия семьям с детьми, оказавшимся в непростой жизненной ситуации, и по праву считается одним из лидеров в сфере поддержки и защиты животных. И конечно, отмечу большую, востребованную работу фонда, направленную на развитие благотворительности. Уверен, что нынешний проект, направленный на поддержку бездомных животных и их приютов, будет продолжён в других направлениях, в том числе на популяризацию профессии спасателя, оказание адресной помощи тем, кто нуждается в заботе и помощи. Желаю вам всего самого доброго. EOSEOSEOSEOSEOSEOSEOSEOSEOSEOSEOSEOSEOSEOSEOSEOSEOSEOSEOSEOSEOSEOSEOSEOSEOSEOSEOSEOSEOSEOSEOSEOSEOSEOSEOSEOSEOSEOSEOSEOSEOSEOSEOSEOSEOSEOSEOSEOSEOSEOSEOSEOSEOSEOSEOSEOSEOSEOSEOSEOSEOSEOSEOSEOSEOSEOSEOSEOSEOSEOSEOSEOS',\n",
       " 'BOS PER ORG Фонд помощи бездомным котятам TITLE Жителям Московской области TEXT Уважаемые друзья! Поздравляю вас со знаменательным юбилеем – 75-летием создания фонда помощи животным «Молочная семья». Благодаря большому и разнообразному опыту, слаженным, творческим работам, профессионализму его сотрудников Фонд прошёл большой, насыщенный путь, стал настоящим центром притяжения для представителей всех возрастов, которые нуждаются в заботе и поддержке, стремятся обрести счастье общения и дружбы. Благодаря их увлечённости, энергии и целеустремлённости вы и впредь будете заботиться о благополучии и благополучии своих питомцев, их благополучии и благополучии. И конечно, самые добрые слова и пожелания – вашим дорогим питомцам, которые, несмотря на трудности, радуются жизни, получают радость от общения и общения. Желаю вам успехов, здоровья и осуществления намеченных планов. EOSEOSEOSEOSEOSEOSEOSEOSEOSEOSEOSEOSEOSEOSEOSEOSEOSEOSEOSEOSEOSEOSEOSEOSEOSEOSEOSEOSEOSEOSEOSEOSEOSEOSEOSEOSEOSEOSEOSEOSEOSEOSEOSEOSEOSEOSEOSEOSEOSEOSEOSEOSEOSEOSEOSEOSEOSEOSEOSEOSEOSEOSEOS',\n",
       " 'BOS PER ORG Фонд помощи бездомным котятам TITLE Жителям Санкт-Петербурга TEXT Дорогие друзья! Поздравляю вас с Днём котёнка. Многие поколения ваших предков приумножали его замечательные, истинно человеческие традиции, воспитывали в любви и бережном отношении к своим питомцам. В их трудную, героическую эпоху, на переломе эпох, многие поколения отцов и дедов, дедов и детей трудились в самых разных профессиях, чтобы обеспечить достойное существование и процветание нашего города. Вы по праву гордитесь своей богатой историей и замечательными традициями. И конечно, самые тёплые слова признательности – вашим дорогим дорогим питомцам, их родителям. И конечно, особые слова благодарности – тем, кто помогает животным обрести новую жизнь, кто помогает им обрести любящую семью и настоящих друзей. От души желаю вам успехов, счастья, благополучия и удачи. EOSEOSEOSEOSEOSEOSEOSEOSEOSEOSEOSEOSEOSEOSEOSEOSEOSEOSEOSEOSEOSEOSEOSEOSEOSEOSEOSEOSEOSEOSEOSEOSEOSEOSEOSEOSEOSEOSEOSEOSEOSEOSEOSEOSEOSEOSEOSEOSEOSEOSEOSEOSEOSEOSEOSEOSEOSEOSEOSEOSEOSEOSEOS']"
      ]
     },
     "execution_count": 24,
     "metadata": {},
     "output_type": "execute_result"
    }
   ],
   "source": [
    "generate_several_versions('BOS PER ORG Фонд помощи бездомным котятам TITLE')"
   ]
  },
  {
   "cell_type": "code",
   "execution_count": 25,
   "metadata": {},
   "outputs": [
    {
     "data": {
      "text/plain": [
       "['BOS PER В. Иванову ORG TITLE В. Иванову, учёному-орнитологу, народному артисту РСФСР TEXT Уважаемый Владимир Ильич! Примите поздравления с 80-летним юбилеем. Вас по праву называют выдающимся специалистом в области изучения птиц. Вы посвятили себя избранному делу, внесли значимый вклад в развитие отечественной орнитологии и в сбережение уникального природного фонда России. За годы активной творческой деятельности Вы внесли значимый личный вклад в сбережение уникальных природных ресурсов нашей страны и в сохранение замечательных традиций отечественной орнитологии. Желаю Вам здоровья и всего наилучшего. EOS',\n",
       " 'BOS PER В. Иванову ORG TITLE В. Иванову, лётчику-космонавту, Герою Советского Союза TEXT Уважаемый Владимир Викторович! Примите поздравления с Днём рождения. Вы посвятили себя служению Родине, своим примером и высокой самоотдачей вписали яркие страницы в летопись нашей страны. Ваш труд, подвижничество и искренняя любовь к Родине снискали Вам славу настоящего космонавта и настоящего Героя. Желаю Вам здоровья и благополучия. EOSEOSEOSEOSEOSEOSEOSEOSEOSEOSEOSEOSEOSEOSEOSEOSEOSEOSEOSEOSEOSEOSEOSEOSEOSEOSEOSEOS',\n",
       " 'BOS PER В. Иванову ORG TITLE В. Иванову, победителю чемпионата мира по прыжкам на батуте 2019 года в Будапеште в прыжках на спине TEXT Уважаемый В.Иванов! Поздравляю Вас с триумфом. Вы выступили уверенно, блестяще, уверенно, на отлично. Этот успех стал достойным вкладом в победу отечественной школы прыжков на батуте. Желаю Вам успехов и всего наилучшего. EOSEOSEOSEOSEOSEOSEOSEOSEOSEOSEOSEOSEOSEOSEOSEOSEOSEOSEOSEOSEOSEOSEOSEOSEOSEOSEOSEOSEOSEOSEOSEOSEOSEOSEOS',\n",
       " 'BOS PER В. Иванову ORG TITLE В. Иванову, победителю чемпионата мира по санному спорту 2020 года в Красноярске в личном многоборье TEXT Уважаемый Владимир Сергеевич! От души поздравляю Вас с блестящей победой. Вы продемонстрировали высочайший профессионализм, волю и силу духа, одержали яркую победу в многоборье. Это заслуженная награда за Ваш труд, упорство и волю, за верность своему призванию. Желаю здоровья, бодрости духа и удачи. EOSEOSEOSEOSEOSEOSEOSEOSEOSEOSEOSEOSEOSEOSEOSEOSEOSEOSEOSEOSEOSEOSEOSEOSEOS',\n",
       " 'BOS PER В. Иванову ORG TITLE В. Иванову, лётчику-космонавту, Герою Советского Союза TEXT Уважаемый Вячеслав Николаевич! Примите поздравления с Днём рождения. Вы прошли свой жизненный путь и в полной мере раскрыли свой творческий потенциал. Ваш труд и подвижническая работа заслуживают самого глубокого признания и искренней благодарности. Желаю Вам доброго здоровья и бодрости духа. EOSEOSEOSEOSEOSEOSEOSEOSEOSEOSEOSEOSEOSEOSEOSEOSEOSEOSEOSEOSEOSEOSEOSEOSEOSEOSEOSEOSEOSEOSEOSEOSEOSEOSEOSEOSEOSEOSEOSEOSEOSEOS']"
      ]
     },
     "execution_count": 25,
     "metadata": {},
     "output_type": "execute_result"
    }
   ],
   "source": [
    "generate_several_versions('BOS PER В. Иванову ORG TITLE')"
   ]
  }
 ],
 "metadata": {
  "colab": {
   "name": "generation_parameters.ipynb",
   "provenance": []
  },
  "gpuClass": "standard",
  "kernelspec": {
   "display_name": "Python 3 (ipykernel)",
   "language": "python",
   "name": "python3"
  },
  "language_info": {
   "codemirror_mode": {
    "name": "ipython",
    "version": 3
   },
   "file_extension": ".py",
   "mimetype": "text/x-python",
   "name": "python",
   "nbconvert_exporter": "python",
   "pygments_lexer": "ipython3",
   "version": "3.9.7"
  },
  "widgets": {
   "application/vnd.jupyter.widget-state+json": {
    "0af280cb704942b0b7a103c84ab2ce8e": {
     "model_module": "@jupyter-widgets/base",
     "model_module_version": "1.2.0",
     "model_name": "LayoutModel",
     "state": {
      "_model_module": "@jupyter-widgets/base",
      "_model_module_version": "1.2.0",
      "_model_name": "LayoutModel",
      "_view_count": null,
      "_view_module": "@jupyter-widgets/base",
      "_view_module_version": "1.2.0",
      "_view_name": "LayoutView",
      "align_content": null,
      "align_items": null,
      "align_self": null,
      "border": null,
      "bottom": null,
      "display": null,
      "flex": null,
      "flex_flow": null,
      "grid_area": null,
      "grid_auto_columns": null,
      "grid_auto_flow": null,
      "grid_auto_rows": null,
      "grid_column": null,
      "grid_gap": null,
      "grid_row": null,
      "grid_template_areas": null,
      "grid_template_columns": null,
      "grid_template_rows": null,
      "height": null,
      "justify_content": null,
      "justify_items": null,
      "left": null,
      "margin": null,
      "max_height": null,
      "max_width": null,
      "min_height": null,
      "min_width": null,
      "object_fit": null,
      "object_position": null,
      "order": null,
      "overflow": null,
      "overflow_x": null,
      "overflow_y": null,
      "padding": null,
      "right": null,
      "top": null,
      "visibility": null,
      "width": null
     }
    },
    "0da321d1e70046acbd1a6929d555c80f": {
     "model_module": "@jupyter-widgets/controls",
     "model_module_version": "1.5.0",
     "model_name": "DescriptionStyleModel",
     "state": {
      "_model_module": "@jupyter-widgets/controls",
      "_model_module_version": "1.5.0",
      "_model_name": "DescriptionStyleModel",
      "_view_count": null,
      "_view_module": "@jupyter-widgets/base",
      "_view_module_version": "1.2.0",
      "_view_name": "StyleView",
      "description_width": ""
     }
    },
    "13362b2627194833bf3156ca9538fc18": {
     "model_module": "@jupyter-widgets/controls",
     "model_module_version": "1.5.0",
     "model_name": "HBoxModel",
     "state": {
      "_dom_classes": [],
      "_model_module": "@jupyter-widgets/controls",
      "_model_module_version": "1.5.0",
      "_model_name": "HBoxModel",
      "_view_count": null,
      "_view_module": "@jupyter-widgets/controls",
      "_view_module_version": "1.5.0",
      "_view_name": "HBoxView",
      "box_style": "",
      "children": [
       "IPY_MODEL_f0ecfe07e1844c20bbed409bf14fec8c",
       "IPY_MODEL_89b14835777f42bf99ba50771616784c",
       "IPY_MODEL_646c92e3cb7745ff9b670557fbc18cf7"
      ],
      "layout": "IPY_MODEL_70ea74a525e14123b0ab8d315a24180a"
     }
    },
    "13f9abb9cc2a4280b125e92b768a12ea": {
     "model_module": "@jupyter-widgets/base",
     "model_module_version": "1.2.0",
     "model_name": "LayoutModel",
     "state": {
      "_model_module": "@jupyter-widgets/base",
      "_model_module_version": "1.2.0",
      "_model_name": "LayoutModel",
      "_view_count": null,
      "_view_module": "@jupyter-widgets/base",
      "_view_module_version": "1.2.0",
      "_view_name": "LayoutView",
      "align_content": null,
      "align_items": null,
      "align_self": null,
      "border": null,
      "bottom": null,
      "display": null,
      "flex": null,
      "flex_flow": null,
      "grid_area": null,
      "grid_auto_columns": null,
      "grid_auto_flow": null,
      "grid_auto_rows": null,
      "grid_column": null,
      "grid_gap": null,
      "grid_row": null,
      "grid_template_areas": null,
      "grid_template_columns": null,
      "grid_template_rows": null,
      "height": null,
      "justify_content": null,
      "justify_items": null,
      "left": null,
      "margin": null,
      "max_height": null,
      "max_width": null,
      "min_height": null,
      "min_width": null,
      "object_fit": null,
      "object_position": null,
      "order": null,
      "overflow": null,
      "overflow_x": null,
      "overflow_y": null,
      "padding": null,
      "right": null,
      "top": null,
      "visibility": null,
      "width": null
     }
    },
    "17eebbe466cf418283218b8977a602d5": {
     "model_module": "@jupyter-widgets/controls",
     "model_module_version": "1.5.0",
     "model_name": "DescriptionStyleModel",
     "state": {
      "_model_module": "@jupyter-widgets/controls",
      "_model_module_version": "1.5.0",
      "_model_name": "DescriptionStyleModel",
      "_view_count": null,
      "_view_module": "@jupyter-widgets/base",
      "_view_module_version": "1.2.0",
      "_view_name": "StyleView",
      "description_width": ""
     }
    },
    "2cf525604d694bc2b9cc568b3c273b17": {
     "model_module": "@jupyter-widgets/controls",
     "model_module_version": "1.5.0",
     "model_name": "DescriptionStyleModel",
     "state": {
      "_model_module": "@jupyter-widgets/controls",
      "_model_module_version": "1.5.0",
      "_model_name": "DescriptionStyleModel",
      "_view_count": null,
      "_view_module": "@jupyter-widgets/base",
      "_view_module_version": "1.2.0",
      "_view_name": "StyleView",
      "description_width": ""
     }
    },
    "3f4aa07a1046448bab6bc69cb951c664": {
     "model_module": "@jupyter-widgets/base",
     "model_module_version": "1.2.0",
     "model_name": "LayoutModel",
     "state": {
      "_model_module": "@jupyter-widgets/base",
      "_model_module_version": "1.2.0",
      "_model_name": "LayoutModel",
      "_view_count": null,
      "_view_module": "@jupyter-widgets/base",
      "_view_module_version": "1.2.0",
      "_view_name": "LayoutView",
      "align_content": null,
      "align_items": null,
      "align_self": null,
      "border": null,
      "bottom": null,
      "display": null,
      "flex": null,
      "flex_flow": null,
      "grid_area": null,
      "grid_auto_columns": null,
      "grid_auto_flow": null,
      "grid_auto_rows": null,
      "grid_column": null,
      "grid_gap": null,
      "grid_row": null,
      "grid_template_areas": null,
      "grid_template_columns": null,
      "grid_template_rows": null,
      "height": null,
      "justify_content": null,
      "justify_items": null,
      "left": null,
      "margin": null,
      "max_height": null,
      "max_width": null,
      "min_height": null,
      "min_width": null,
      "object_fit": null,
      "object_position": null,
      "order": null,
      "overflow": null,
      "overflow_x": null,
      "overflow_y": null,
      "padding": null,
      "right": null,
      "top": null,
      "visibility": null,
      "width": null
     }
    },
    "4c32df1ee73a4fc2874d31f1e7f3d341": {
     "model_module": "@jupyter-widgets/base",
     "model_module_version": "1.2.0",
     "model_name": "LayoutModel",
     "state": {
      "_model_module": "@jupyter-widgets/base",
      "_model_module_version": "1.2.0",
      "_model_name": "LayoutModel",
      "_view_count": null,
      "_view_module": "@jupyter-widgets/base",
      "_view_module_version": "1.2.0",
      "_view_name": "LayoutView",
      "align_content": null,
      "align_items": null,
      "align_self": null,
      "border": null,
      "bottom": null,
      "display": null,
      "flex": null,
      "flex_flow": null,
      "grid_area": null,
      "grid_auto_columns": null,
      "grid_auto_flow": null,
      "grid_auto_rows": null,
      "grid_column": null,
      "grid_gap": null,
      "grid_row": null,
      "grid_template_areas": null,
      "grid_template_columns": null,
      "grid_template_rows": null,
      "height": null,
      "justify_content": null,
      "justify_items": null,
      "left": null,
      "margin": null,
      "max_height": null,
      "max_width": null,
      "min_height": null,
      "min_width": null,
      "object_fit": null,
      "object_position": null,
      "order": null,
      "overflow": null,
      "overflow_x": null,
      "overflow_y": null,
      "padding": null,
      "right": null,
      "top": null,
      "visibility": null,
      "width": null
     }
    },
    "513b00cb468240cd8647365bfd1eb75d": {
     "model_module": "@jupyter-widgets/controls",
     "model_module_version": "1.5.0",
     "model_name": "HBoxModel",
     "state": {
      "_dom_classes": [],
      "_model_module": "@jupyter-widgets/controls",
      "_model_module_version": "1.5.0",
      "_model_name": "HBoxModel",
      "_view_count": null,
      "_view_module": "@jupyter-widgets/controls",
      "_view_module_version": "1.5.0",
      "_view_name": "HBoxView",
      "box_style": "",
      "children": [
       "IPY_MODEL_ebb3ee5447fb4ce2898945582a24b0c9",
       "IPY_MODEL_d005d46f229941eb9e1a2b0cd050f068",
       "IPY_MODEL_70f525d60286401ab284fb65e5f43b17"
      ],
      "layout": "IPY_MODEL_3f4aa07a1046448bab6bc69cb951c664"
     }
    },
    "59c6d1b48fe2448293d0746c44756bd7": {
     "model_module": "@jupyter-widgets/controls",
     "model_module_version": "1.5.0",
     "model_name": "DescriptionStyleModel",
     "state": {
      "_model_module": "@jupyter-widgets/controls",
      "_model_module_version": "1.5.0",
      "_model_name": "DescriptionStyleModel",
      "_view_count": null,
      "_view_module": "@jupyter-widgets/base",
      "_view_module_version": "1.2.0",
      "_view_name": "StyleView",
      "description_width": ""
     }
    },
    "646c92e3cb7745ff9b670557fbc18cf7": {
     "model_module": "@jupyter-widgets/controls",
     "model_module_version": "1.5.0",
     "model_name": "HTMLModel",
     "state": {
      "_dom_classes": [],
      "_model_module": "@jupyter-widgets/controls",
      "_model_module_version": "1.5.0",
      "_model_name": "HTMLModel",
      "_view_count": null,
      "_view_module": "@jupyter-widgets/controls",
      "_view_module_version": "1.5.0",
      "_view_name": "HTMLView",
      "description": "",
      "description_tooltip": null,
      "layout": "IPY_MODEL_13f9abb9cc2a4280b125e92b768a12ea",
      "placeholder": "​",
      "style": "IPY_MODEL_2cf525604d694bc2b9cc568b3c273b17",
      "value": " 1.21M/1.21M [00:00&lt;00:00, 4.40MB/s]"
     }
    },
    "6787d30424c646748f01a0f374f755b0": {
     "model_module": "@jupyter-widgets/controls",
     "model_module_version": "1.5.0",
     "model_name": "ProgressStyleModel",
     "state": {
      "_model_module": "@jupyter-widgets/controls",
      "_model_module_version": "1.5.0",
      "_model_name": "ProgressStyleModel",
      "_view_count": null,
      "_view_module": "@jupyter-widgets/base",
      "_view_module_version": "1.2.0",
      "_view_name": "StyleView",
      "bar_color": null,
      "description_width": ""
     }
    },
    "70ea74a525e14123b0ab8d315a24180a": {
     "model_module": "@jupyter-widgets/base",
     "model_module_version": "1.2.0",
     "model_name": "LayoutModel",
     "state": {
      "_model_module": "@jupyter-widgets/base",
      "_model_module_version": "1.2.0",
      "_model_name": "LayoutModel",
      "_view_count": null,
      "_view_module": "@jupyter-widgets/base",
      "_view_module_version": "1.2.0",
      "_view_name": "LayoutView",
      "align_content": null,
      "align_items": null,
      "align_self": null,
      "border": null,
      "bottom": null,
      "display": null,
      "flex": null,
      "flex_flow": null,
      "grid_area": null,
      "grid_auto_columns": null,
      "grid_auto_flow": null,
      "grid_auto_rows": null,
      "grid_column": null,
      "grid_gap": null,
      "grid_row": null,
      "grid_template_areas": null,
      "grid_template_columns": null,
      "grid_template_rows": null,
      "height": null,
      "justify_content": null,
      "justify_items": null,
      "left": null,
      "margin": null,
      "max_height": null,
      "max_width": null,
      "min_height": null,
      "min_width": null,
      "object_fit": null,
      "object_position": null,
      "order": null,
      "overflow": null,
      "overflow_x": null,
      "overflow_y": null,
      "padding": null,
      "right": null,
      "top": null,
      "visibility": null,
      "width": null
     }
    },
    "70f525d60286401ab284fb65e5f43b17": {
     "model_module": "@jupyter-widgets/controls",
     "model_module_version": "1.5.0",
     "model_name": "HTMLModel",
     "state": {
      "_dom_classes": [],
      "_model_module": "@jupyter-widgets/controls",
      "_model_module_version": "1.5.0",
      "_model_name": "HTMLModel",
      "_view_count": null,
      "_view_module": "@jupyter-widgets/controls",
      "_view_module_version": "1.5.0",
      "_view_name": "HTMLView",
      "description": "",
      "description_tooltip": null,
      "layout": "IPY_MODEL_85ab23b6f96b4597b61aaf210e67c95e",
      "placeholder": "​",
      "style": "IPY_MODEL_59c6d1b48fe2448293d0746c44756bd7",
      "value": " 608/608 [00:00&lt;00:00, 6.05kB/s]"
     }
    },
    "759552c47a404a3284296b6e4d341af2": {
     "model_module": "@jupyter-widgets/base",
     "model_module_version": "1.2.0",
     "model_name": "LayoutModel",
     "state": {
      "_model_module": "@jupyter-widgets/base",
      "_model_module_version": "1.2.0",
      "_model_name": "LayoutModel",
      "_view_count": null,
      "_view_module": "@jupyter-widgets/base",
      "_view_module_version": "1.2.0",
      "_view_name": "LayoutView",
      "align_content": null,
      "align_items": null,
      "align_self": null,
      "border": null,
      "bottom": null,
      "display": null,
      "flex": null,
      "flex_flow": null,
      "grid_area": null,
      "grid_auto_columns": null,
      "grid_auto_flow": null,
      "grid_auto_rows": null,
      "grid_column": null,
      "grid_gap": null,
      "grid_row": null,
      "grid_template_areas": null,
      "grid_template_columns": null,
      "grid_template_rows": null,
      "height": null,
      "justify_content": null,
      "justify_items": null,
      "left": null,
      "margin": null,
      "max_height": null,
      "max_width": null,
      "min_height": null,
      "min_width": null,
      "object_fit": null,
      "object_position": null,
      "order": null,
      "overflow": null,
      "overflow_x": null,
      "overflow_y": null,
      "padding": null,
      "right": null,
      "top": null,
      "visibility": null,
      "width": null
     }
    },
    "85ab23b6f96b4597b61aaf210e67c95e": {
     "model_module": "@jupyter-widgets/base",
     "model_module_version": "1.2.0",
     "model_name": "LayoutModel",
     "state": {
      "_model_module": "@jupyter-widgets/base",
      "_model_module_version": "1.2.0",
      "_model_name": "LayoutModel",
      "_view_count": null,
      "_view_module": "@jupyter-widgets/base",
      "_view_module_version": "1.2.0",
      "_view_name": "LayoutView",
      "align_content": null,
      "align_items": null,
      "align_self": null,
      "border": null,
      "bottom": null,
      "display": null,
      "flex": null,
      "flex_flow": null,
      "grid_area": null,
      "grid_auto_columns": null,
      "grid_auto_flow": null,
      "grid_auto_rows": null,
      "grid_column": null,
      "grid_gap": null,
      "grid_row": null,
      "grid_template_areas": null,
      "grid_template_columns": null,
      "grid_template_rows": null,
      "height": null,
      "justify_content": null,
      "justify_items": null,
      "left": null,
      "margin": null,
      "max_height": null,
      "max_width": null,
      "min_height": null,
      "min_width": null,
      "object_fit": null,
      "object_position": null,
      "order": null,
      "overflow": null,
      "overflow_x": null,
      "overflow_y": null,
      "padding": null,
      "right": null,
      "top": null,
      "visibility": null,
      "width": null
     }
    },
    "89b14835777f42bf99ba50771616784c": {
     "model_module": "@jupyter-widgets/controls",
     "model_module_version": "1.5.0",
     "model_name": "FloatProgressModel",
     "state": {
      "_dom_classes": [],
      "_model_module": "@jupyter-widgets/controls",
      "_model_module_version": "1.5.0",
      "_model_name": "FloatProgressModel",
      "_view_count": null,
      "_view_module": "@jupyter-widgets/controls",
      "_view_module_version": "1.5.0",
      "_view_name": "ProgressView",
      "bar_style": "success",
      "description": "",
      "description_tooltip": null,
      "layout": "IPY_MODEL_e42537730b1d4d669249c47fda856a03",
      "max": 1270925,
      "min": 0,
      "orientation": "horizontal",
      "style": "IPY_MODEL_6787d30424c646748f01a0f374f755b0",
      "value": 1270925
     }
    },
    "9191c19940dd46c7992c392022801dd6": {
     "model_module": "@jupyter-widgets/controls",
     "model_module_version": "1.5.0",
     "model_name": "DescriptionStyleModel",
     "state": {
      "_model_module": "@jupyter-widgets/controls",
      "_model_module_version": "1.5.0",
      "_model_name": "DescriptionStyleModel",
      "_view_count": null,
      "_view_module": "@jupyter-widgets/base",
      "_view_module_version": "1.2.0",
      "_view_name": "StyleView",
      "description_width": ""
     }
    },
    "94ca5b76368e482f8f3a34c6a2121f7f": {
     "model_module": "@jupyter-widgets/base",
     "model_module_version": "1.2.0",
     "model_name": "LayoutModel",
     "state": {
      "_model_module": "@jupyter-widgets/base",
      "_model_module_version": "1.2.0",
      "_model_name": "LayoutModel",
      "_view_count": null,
      "_view_module": "@jupyter-widgets/base",
      "_view_module_version": "1.2.0",
      "_view_name": "LayoutView",
      "align_content": null,
      "align_items": null,
      "align_self": null,
      "border": null,
      "bottom": null,
      "display": null,
      "flex": null,
      "flex_flow": null,
      "grid_area": null,
      "grid_auto_columns": null,
      "grid_auto_flow": null,
      "grid_auto_rows": null,
      "grid_column": null,
      "grid_gap": null,
      "grid_row": null,
      "grid_template_areas": null,
      "grid_template_columns": null,
      "grid_template_rows": null,
      "height": null,
      "justify_content": null,
      "justify_items": null,
      "left": null,
      "margin": null,
      "max_height": null,
      "max_width": null,
      "min_height": null,
      "min_width": null,
      "object_fit": null,
      "object_position": null,
      "order": null,
      "overflow": null,
      "overflow_x": null,
      "overflow_y": null,
      "padding": null,
      "right": null,
      "top": null,
      "visibility": null,
      "width": null
     }
    },
    "9afe8862abf843d0bc0225f5714b0fa8": {
     "model_module": "@jupyter-widgets/base",
     "model_module_version": "1.2.0",
     "model_name": "LayoutModel",
     "state": {
      "_model_module": "@jupyter-widgets/base",
      "_model_module_version": "1.2.0",
      "_model_name": "LayoutModel",
      "_view_count": null,
      "_view_module": "@jupyter-widgets/base",
      "_view_module_version": "1.2.0",
      "_view_name": "LayoutView",
      "align_content": null,
      "align_items": null,
      "align_self": null,
      "border": null,
      "bottom": null,
      "display": null,
      "flex": null,
      "flex_flow": null,
      "grid_area": null,
      "grid_auto_columns": null,
      "grid_auto_flow": null,
      "grid_auto_rows": null,
      "grid_column": null,
      "grid_gap": null,
      "grid_row": null,
      "grid_template_areas": null,
      "grid_template_columns": null,
      "grid_template_rows": null,
      "height": null,
      "justify_content": null,
      "justify_items": null,
      "left": null,
      "margin": null,
      "max_height": null,
      "max_width": null,
      "min_height": null,
      "min_width": null,
      "object_fit": null,
      "object_position": null,
      "order": null,
      "overflow": null,
      "overflow_x": null,
      "overflow_y": null,
      "padding": null,
      "right": null,
      "top": null,
      "visibility": null,
      "width": null
     }
    },
    "a23b94db566a4be4af7a8f775f021505": {
     "model_module": "@jupyter-widgets/base",
     "model_module_version": "1.2.0",
     "model_name": "LayoutModel",
     "state": {
      "_model_module": "@jupyter-widgets/base",
      "_model_module_version": "1.2.0",
      "_model_name": "LayoutModel",
      "_view_count": null,
      "_view_module": "@jupyter-widgets/base",
      "_view_module_version": "1.2.0",
      "_view_name": "LayoutView",
      "align_content": null,
      "align_items": null,
      "align_self": null,
      "border": null,
      "bottom": null,
      "display": null,
      "flex": null,
      "flex_flow": null,
      "grid_area": null,
      "grid_auto_columns": null,
      "grid_auto_flow": null,
      "grid_auto_rows": null,
      "grid_column": null,
      "grid_gap": null,
      "grid_row": null,
      "grid_template_areas": null,
      "grid_template_columns": null,
      "grid_template_rows": null,
      "height": null,
      "justify_content": null,
      "justify_items": null,
      "left": null,
      "margin": null,
      "max_height": null,
      "max_width": null,
      "min_height": null,
      "min_width": null,
      "object_fit": null,
      "object_position": null,
      "order": null,
      "overflow": null,
      "overflow_x": null,
      "overflow_y": null,
      "padding": null,
      "right": null,
      "top": null,
      "visibility": null,
      "width": null
     }
    },
    "ac8b0816b8114d54b88fc22767f068a5": {
     "model_module": "@jupyter-widgets/controls",
     "model_module_version": "1.5.0",
     "model_name": "ProgressStyleModel",
     "state": {
      "_model_module": "@jupyter-widgets/controls",
      "_model_module_version": "1.5.0",
      "_model_name": "ProgressStyleModel",
      "_view_count": null,
      "_view_module": "@jupyter-widgets/base",
      "_view_module_version": "1.2.0",
      "_view_name": "StyleView",
      "bar_color": null,
      "description_width": ""
     }
    },
    "bdc5211b4bb743d39a361f82777c4570": {
     "model_module": "@jupyter-widgets/controls",
     "model_module_version": "1.5.0",
     "model_name": "DescriptionStyleModel",
     "state": {
      "_model_module": "@jupyter-widgets/controls",
      "_model_module_version": "1.5.0",
      "_model_name": "DescriptionStyleModel",
      "_view_count": null,
      "_view_module": "@jupyter-widgets/base",
      "_view_module_version": "1.2.0",
      "_view_name": "StyleView",
      "description_width": ""
     }
    },
    "c53385edccaa4e64b13b8b2e2b15099f": {
     "model_module": "@jupyter-widgets/base",
     "model_module_version": "1.2.0",
     "model_name": "LayoutModel",
     "state": {
      "_model_module": "@jupyter-widgets/base",
      "_model_module_version": "1.2.0",
      "_model_name": "LayoutModel",
      "_view_count": null,
      "_view_module": "@jupyter-widgets/base",
      "_view_module_version": "1.2.0",
      "_view_name": "LayoutView",
      "align_content": null,
      "align_items": null,
      "align_self": null,
      "border": null,
      "bottom": null,
      "display": null,
      "flex": null,
      "flex_flow": null,
      "grid_area": null,
      "grid_auto_columns": null,
      "grid_auto_flow": null,
      "grid_auto_rows": null,
      "grid_column": null,
      "grid_gap": null,
      "grid_row": null,
      "grid_template_areas": null,
      "grid_template_columns": null,
      "grid_template_rows": null,
      "height": null,
      "justify_content": null,
      "justify_items": null,
      "left": null,
      "margin": null,
      "max_height": null,
      "max_width": null,
      "min_height": null,
      "min_width": null,
      "object_fit": null,
      "object_position": null,
      "order": null,
      "overflow": null,
      "overflow_x": null,
      "overflow_y": null,
      "padding": null,
      "right": null,
      "top": null,
      "visibility": null,
      "width": null
     }
    },
    "c5a6f08f1b884c95b4396935eab2fbcf": {
     "model_module": "@jupyter-widgets/controls",
     "model_module_version": "1.5.0",
     "model_name": "HTMLModel",
     "state": {
      "_dom_classes": [],
      "_model_module": "@jupyter-widgets/controls",
      "_model_module_version": "1.5.0",
      "_model_name": "HTMLModel",
      "_view_count": null,
      "_view_module": "@jupyter-widgets/controls",
      "_view_module_version": "1.5.0",
      "_view_name": "HTMLView",
      "description": "",
      "description_tooltip": null,
      "layout": "IPY_MODEL_a23b94db566a4be4af7a8f775f021505",
      "placeholder": "​",
      "style": "IPY_MODEL_9191c19940dd46c7992c392022801dd6",
      "value": " 1.63M/1.63M [00:00&lt;00:00, 4.80MB/s]"
     }
    },
    "d005d46f229941eb9e1a2b0cd050f068": {
     "model_module": "@jupyter-widgets/controls",
     "model_module_version": "1.5.0",
     "model_name": "FloatProgressModel",
     "state": {
      "_dom_classes": [],
      "_model_module": "@jupyter-widgets/controls",
      "_model_module_version": "1.5.0",
      "_model_name": "FloatProgressModel",
      "_view_count": null,
      "_view_module": "@jupyter-widgets/controls",
      "_view_module_version": "1.5.0",
      "_view_name": "ProgressView",
      "bar_style": "success",
      "description": "",
      "description_tooltip": null,
      "layout": "IPY_MODEL_9afe8862abf843d0bc0225f5714b0fa8",
      "max": 608,
      "min": 0,
      "orientation": "horizontal",
      "style": "IPY_MODEL_fe43e98c7c8c4ad9aa1cc8b70923bc4c",
      "value": 608
     }
    },
    "e42537730b1d4d669249c47fda856a03": {
     "model_module": "@jupyter-widgets/base",
     "model_module_version": "1.2.0",
     "model_name": "LayoutModel",
     "state": {
      "_model_module": "@jupyter-widgets/base",
      "_model_module_version": "1.2.0",
      "_model_name": "LayoutModel",
      "_view_count": null,
      "_view_module": "@jupyter-widgets/base",
      "_view_module_version": "1.2.0",
      "_view_name": "LayoutView",
      "align_content": null,
      "align_items": null,
      "align_self": null,
      "border": null,
      "bottom": null,
      "display": null,
      "flex": null,
      "flex_flow": null,
      "grid_area": null,
      "grid_auto_columns": null,
      "grid_auto_flow": null,
      "grid_auto_rows": null,
      "grid_column": null,
      "grid_gap": null,
      "grid_row": null,
      "grid_template_areas": null,
      "grid_template_columns": null,
      "grid_template_rows": null,
      "height": null,
      "justify_content": null,
      "justify_items": null,
      "left": null,
      "margin": null,
      "max_height": null,
      "max_width": null,
      "min_height": null,
      "min_width": null,
      "object_fit": null,
      "object_position": null,
      "order": null,
      "overflow": null,
      "overflow_x": null,
      "overflow_y": null,
      "padding": null,
      "right": null,
      "top": null,
      "visibility": null,
      "width": null
     }
    },
    "e516e2d4364147668443eadeba41bc6a": {
     "model_module": "@jupyter-widgets/controls",
     "model_module_version": "1.5.0",
     "model_name": "HBoxModel",
     "state": {
      "_dom_classes": [],
      "_model_module": "@jupyter-widgets/controls",
      "_model_module_version": "1.5.0",
      "_model_name": "HBoxModel",
      "_view_count": null,
      "_view_module": "@jupyter-widgets/controls",
      "_view_module_version": "1.5.0",
      "_view_name": "HBoxView",
      "box_style": "",
      "children": [
       "IPY_MODEL_e6e13e99c505492b9783a373048aa68b",
       "IPY_MODEL_ec34b7ca6d014927be2dd67fe3df5315",
       "IPY_MODEL_c5a6f08f1b884c95b4396935eab2fbcf"
      ],
      "layout": "IPY_MODEL_94ca5b76368e482f8f3a34c6a2121f7f"
     }
    },
    "e6e13e99c505492b9783a373048aa68b": {
     "model_module": "@jupyter-widgets/controls",
     "model_module_version": "1.5.0",
     "model_name": "HTMLModel",
     "state": {
      "_dom_classes": [],
      "_model_module": "@jupyter-widgets/controls",
      "_model_module_version": "1.5.0",
      "_model_name": "HTMLModel",
      "_view_count": null,
      "_view_module": "@jupyter-widgets/controls",
      "_view_module_version": "1.5.0",
      "_view_name": "HTMLView",
      "description": "",
      "description_tooltip": null,
      "layout": "IPY_MODEL_c53385edccaa4e64b13b8b2e2b15099f",
      "placeholder": "​",
      "style": "IPY_MODEL_0da321d1e70046acbd1a6929d555c80f",
      "value": "Downloading: 100%"
     }
    },
    "ebb3ee5447fb4ce2898945582a24b0c9": {
     "model_module": "@jupyter-widgets/controls",
     "model_module_version": "1.5.0",
     "model_name": "HTMLModel",
     "state": {
      "_dom_classes": [],
      "_model_module": "@jupyter-widgets/controls",
      "_model_module_version": "1.5.0",
      "_model_name": "HTMLModel",
      "_view_count": null,
      "_view_module": "@jupyter-widgets/controls",
      "_view_module_version": "1.5.0",
      "_view_name": "HTMLView",
      "description": "",
      "description_tooltip": null,
      "layout": "IPY_MODEL_0af280cb704942b0b7a103c84ab2ce8e",
      "placeholder": "​",
      "style": "IPY_MODEL_17eebbe466cf418283218b8977a602d5",
      "value": "Downloading: 100%"
     }
    },
    "ec34b7ca6d014927be2dd67fe3df5315": {
     "model_module": "@jupyter-widgets/controls",
     "model_module_version": "1.5.0",
     "model_name": "FloatProgressModel",
     "state": {
      "_dom_classes": [],
      "_model_module": "@jupyter-widgets/controls",
      "_model_module_version": "1.5.0",
      "_model_name": "FloatProgressModel",
      "_view_count": null,
      "_view_module": "@jupyter-widgets/controls",
      "_view_module_version": "1.5.0",
      "_view_name": "ProgressView",
      "bar_style": "success",
      "description": "",
      "description_tooltip": null,
      "layout": "IPY_MODEL_4c32df1ee73a4fc2874d31f1e7f3d341",
      "max": 1713123,
      "min": 0,
      "orientation": "horizontal",
      "style": "IPY_MODEL_ac8b0816b8114d54b88fc22767f068a5",
      "value": 1713123
     }
    },
    "f0ecfe07e1844c20bbed409bf14fec8c": {
     "model_module": "@jupyter-widgets/controls",
     "model_module_version": "1.5.0",
     "model_name": "HTMLModel",
     "state": {
      "_dom_classes": [],
      "_model_module": "@jupyter-widgets/controls",
      "_model_module_version": "1.5.0",
      "_model_name": "HTMLModel",
      "_view_count": null,
      "_view_module": "@jupyter-widgets/controls",
      "_view_module_version": "1.5.0",
      "_view_name": "HTMLView",
      "description": "",
      "description_tooltip": null,
      "layout": "IPY_MODEL_759552c47a404a3284296b6e4d341af2",
      "placeholder": "​",
      "style": "IPY_MODEL_bdc5211b4bb743d39a361f82777c4570",
      "value": "Downloading: 100%"
     }
    },
    "fe43e98c7c8c4ad9aa1cc8b70923bc4c": {
     "model_module": "@jupyter-widgets/controls",
     "model_module_version": "1.5.0",
     "model_name": "ProgressStyleModel",
     "state": {
      "_model_module": "@jupyter-widgets/controls",
      "_model_module_version": "1.5.0",
      "_model_name": "ProgressStyleModel",
      "_view_count": null,
      "_view_module": "@jupyter-widgets/base",
      "_view_module_version": "1.2.0",
      "_view_name": "StyleView",
      "bar_color": null,
      "description_width": ""
     }
    }
   }
  }
 },
 "nbformat": 4,
 "nbformat_minor": 1
}
