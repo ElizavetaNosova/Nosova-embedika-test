{
 "cells": [
  {
   "cell_type": "code",
   "execution_count": 3,
   "metadata": {
    "id": "pAimjwDZLcd7"
   },
   "outputs": [],
   "source": [
    "import json\n",
    "import pandas as pd\n",
    "import re\n",
    "import os\n",
    "from copy import copy\n",
    "import math\n",
    "\n",
    "\n",
    "from transformers import AutoTokenizer, AutoModelWithLMHead, get_scheduler\n",
    "import torch\n",
    "from sklearn.model_selection import train_test_split\n",
    "from tqdm.auto import tqdm"
   ]
  },
  {
   "cell_type": "code",
   "execution_count": null,
   "metadata": {
    "id": "VMxRQUjiLVTQ"
   },
   "outputs": [],
   "source": [
    "DATA_DIR = '../data'\n",
    "df = pd.read_csv(os.path.join(DATA_DIR, 'kremlin_ner_dataset.csv'))"
   ]
  },
  {
   "cell_type": "code",
   "execution_count": null,
   "metadata": {
    "id": "BsRbnUeUV-ID"
   },
   "outputs": [],
   "source": [
    "Больше половины текстов имеет тэг \"Поздравления\", оставлю только их:"
   ]
  },
  {
   "cell_type": "code",
   "execution_count": null,
   "metadata": {
    "id": "8ogF3aR2Tkpz"
   },
   "outputs": [],
   "source": [
    "df['tags'].value_counts()"
   ]
  },
  {
   "cell_type": "code",
   "execution_count": 31,
   "metadata": {
    "colab": {
     "base_uri": "https://localhost:8080/"
    },
    "id": "jd4gSn9pV_HP",
    "outputId": "9bf118ec-d428-4997-d6bf-e1ba41adba85"
   },
   "outputs": [
    {
     "data": {
      "text/plain": [
       "0.006731173748422381"
      ]
     },
     "execution_count": 31,
     "metadata": {},
     "output_type": "execute_result"
    }
   ],
   "source": [
    "# Есть тексты без тэга, но их мало. Проверю их тематику вручную\n",
    "df['tags'].isna().mean()"
   ]
  },
  {
   "cell_type": "markdown",
   "metadata": {
    "id": "mNwWD-SKU3Iv"
   },
   "source": [
    "Некоторые тексты без тэгов - поздравления. Это тексты с индексами 851, 1227, 1374 и 2261"
   ]
  },
  {
   "cell_type": "code",
   "execution_count": 23,
   "metadata": {
    "colab": {
     "base_uri": "https://localhost:8080/"
    },
    "id": "xB9eW9GFUsm1",
    "outputId": "daeb945a-7865-4d14-ec14-20f4fa88cee5"
   },
   "outputs": [
    {
     "data": {
      "text/plain": [
       "69      Читателям научно-популярного комментария к Кон...\n",
       "406     Реджепу Тайипу Эрдогану, Президенту Турецкой Р...\n",
       "431     Галине Волчек, художественному руководителю Мо...\n",
       "442     Участникам и гостям хоккейного матча, приуроче...\n",
       "542     Участникам, организаторам и гостям чемпионата ...\n",
       "851     Юрию Григоровичу, хореографу, народному артист...\n",
       "1137     Борису Джонсону, Премьер-министру Великобритании\n",
       "1227    Победителю чемпионата мира по тяжёлой атлетике...\n",
       "1374    Александру Ширвиндту, художественному руководи...\n",
       "1677    Ги Пармелену, Президенту Швейцарской Конфедерации\n",
       "1802    Участникам и гостям мемориального вечера «Хран...\n",
       "1910    Участникам XVII совещания руководителей специа...\n",
       "1992    Участникам торжественной церемонии открытия му...\n",
       "2050                 Жаиру Болсонаро, Президенту Бразилии\n",
       "2205    В.Г.Береговому, Л.Г.Елисеевой (Береговой), М.Т...\n",
       "2261    Наталье Авдеевой, победительнице чемпионата ми...\n",
       "Name: title, dtype: object"
      ]
     },
     "execution_count": 23,
     "metadata": {},
     "output_type": "execute_result"
    }
   ],
   "source": [
    "df[df['tags'].isna()]['title']"
   ]
  },
  {
   "cell_type": "code",
   "execution_count": 32,
   "metadata": {
    "id": "fBAAga9tVmQl"
   },
   "outputs": [],
   "source": [
    "extra_congratulation_df = df.loc[[851, 1227, 1374, 2261]]"
   ]
  },
  {
   "cell_type": "code",
   "execution_count": 33,
   "metadata": {
    "id": "LAn_jiYYVtvF"
   },
   "outputs": [],
   "source": [
    "df = df.dropna()\n",
    "df = df[df['tags'].apply(lambda x: 'Поздравления' in x)]"
   ]
  },
  {
   "cell_type": "code",
   "execution_count": 34,
   "metadata": {
    "id": "aaljAjFRV3kf"
   },
   "outputs": [],
   "source": [
    "df = pd.concat([df, extra_congratulation_df])"
   ]
  },
  {
   "cell_type": "markdown",
   "metadata": {
    "id": "5UXBnBsFXYMk"
   },
   "source": [
    "Посмотрим, есть ли дубли. При скачивании проверялось, что нет случаев полного совпадения ссылки, но один и тот же текст мог быть опубликован с разными ссылками"
   ]
  },
  {
   "cell_type": "code",
   "execution_count": 58,
   "metadata": {
    "colab": {
     "base_uri": "https://localhost:8080/"
    },
    "id": "4Wa7MjlmXkOl",
    "outputId": "7410a287-9fbc-49f5-ebde-42f0f5b3b9dc"
   },
   "outputs": [
    {
     "data": {
      "text/plain": [
       "1262"
      ]
     },
     "execution_count": 58,
     "metadata": {},
     "output_type": "execute_result"
    }
   ],
   "source": [
    "len(df)"
   ]
  },
  {
   "cell_type": "code",
   "execution_count": 60,
   "metadata": {
    "colab": {
     "base_uri": "https://localhost:8080/"
    },
    "id": "y7GWyhhrXlT8",
    "outputId": "49d63154-1149-4d7a-9008-fef98bee41ae"
   },
   "outputs": [
    {
     "data": {
      "text/plain": [
       "1104"
      ]
     },
     "execution_count": 60,
     "metadata": {},
     "output_type": "execute_result"
    }
   ],
   "source": [
    "len(set(df['title']))"
   ]
  },
  {
   "cell_type": "markdown",
   "metadata": {
    "id": "kAsylEn2XptY"
   },
   "source": [
    "Есть совпадающие заголовки, посмотрим на эти случаи"
   ]
  },
  {
   "cell_type": "code",
   "execution_count": 61,
   "metadata": {
    "id": "BZB1us0gXvg3"
   },
   "outputs": [],
   "source": [
    "duplicates = []\n",
    "\n",
    "for title, group in df.groupby('title'):\n",
    "    if len(group) > 1:\n",
    "        duplicates.append(list(group['text']))"
   ]
  },
  {
   "cell_type": "code",
   "execution_count": 63,
   "metadata": {
    "colab": {
     "base_uri": "https://localhost:8080/"
    },
    "id": "6DjNBvIBX7VI",
    "outputId": "3c90ed86-b1a8-416c-e9c0-75178a96341d"
   },
   "outputs": [
    {
     "data": {
      "text/plain": [
       "['Уважаемая Александра Николаевна!\\nПримите сердечные поздравления с Днём рождения.\\nВы принадлежите к легендарной плеяде мастеров, в творчестве которых нашли отражение наиболее яркие, незабываемые страницы отечественной истории, победы и свершения многих поколений, судьба страны.\\nЗамечательные песни, все музыкальные произведения, созданные Вами за годы вдохновенного труда, по праву являются нашим национальным достоянием.\\nЖелаю Вам здоровья, благополучия и всего самого доброго.',\n",
       " 'Уважаемая Александра Николаевна!\\nПримите поздравления с Днём рождения.\\nВас по праву считают выдающимся представителем отечественной культуры, бесконечно талантливым и доброжелательным человеком, великим тружеником и созидателем.\\nУбеждён, что главный секрет Вашего творческого долголетия – искренняя увлечённость любимым делом и огромное уважение к людям, которым Вы щедро дарите тепло своей души и сердца.\\nПозвольте, дорогая Александра Николаевна, пожелать Вам и Николаю Николаевичу здоровья, благополучия и неиссякаемого вдохновения.',\n",
       " 'Уважаемая Александра Николаевна!\\nПримите искренние поздравления с Днём рождения.\\nВас – талантливого композитора, обаятельного и очень доброжелательного человека – знают и любят люди разных возрастов и поколений, которым Вы щедро дарите свои песни, тепло души и сердца.\\nЖелаю Вам здоровья, бодрости духа и всего наилучшего. И конечно, самые добрые слова Николаю Николаевичу.',\n",
       " 'Уважаемая Александра Николаевна!\\nПоздравляю Вас с Днём рождения.\\nВас знают и любят миллионы людей за большой и щедрый талант, удивительную искренность и доброжелательность, за безграничную преданность профессии и, конечно, за Ваши замечательные, жизнеутверждающие и не стареющие с годами песни.\\nОт души желаю Вам и уважаемому Николаю Николаевичу здоровья и благополучия.',\n",
       " 'Уважаемая Александра Николаевна!\\nОт души поздравляю Вас с юбилейным Днём рождения.\\nЯркий, талантливый, увлечённый человек, своим творчеством, всей своей жизнью Вы подаёте достойный пример глубокой, созидательной любви к избранному делу, к людям, к Родине. Ваш вдохновенный труд, огромный вклад в развитие замечательных традиций отечественной культуры снискали Вам высочайшее, поистине всенародное признание.\\nЖелаю Вам и уважаемому Николаю Николаевичу здоровья, благополучия и всего самого доброго.']"
      ]
     },
     "execution_count": 63,
     "metadata": {},
     "output_type": "execute_result"
    }
   ],
   "source": [
    "duplicates[0]"
   ]
  },
  {
   "cell_type": "code",
   "execution_count": 65,
   "metadata": {
    "colab": {
     "base_uri": "https://localhost:8080/"
    },
    "id": "EvlxktxoYAW5",
    "outputId": "43423569-8176-452c-ef4f-ebb7c94595e6"
   },
   "outputs": [
    {
     "data": {
      "text/plain": [
       "['Уважаемый Александр Александрович!\\nПримите искренние поздравления с 75-летним юбилеем.\\nЩедрый талант и вдохновенный творческий труд в кинематографе и на театральной сцене принесли Вам всенародную любовь и профессиональное признание.\\nОтрадно, что и сегодня Вы работаете с полной душевной отдачей, своей многогранной деятельностью вносите значимый вклад в сохранение замечательных традиций отечественного искусства.\\nОт души желаю Вам доброго здоровья и всего наилучшего.',\n",
       " 'Уважаемый Александр Александрович!\\nПримите поздравления с 80-летним юбилеем.\\nБольшой и щедрый талант, безграничная преданность избранному делу помогли Вам добиться признания на ниве созидания и творчества, воплотить в театре и кинематографе яркие, неординарные идеи и замыслы. Важно, что и сегодня Вы объединяете вокруг себя замечательный коллектив Московского театра Et Cetera, радуете публику интересными спектаклями и громкими премьерами. И конечно, отмечу Вашу плодотворную, востребованную работу на посту руководителя Союза театральных деятелей – одной из старейших общественных организаций страны.\\nЖелаю Вам здоровья, вдохновения и всего самого доброго.']"
      ]
     },
     "execution_count": 65,
     "metadata": {},
     "output_type": "execute_result"
    }
   ],
   "source": [
    "duplicates[1]"
   ]
  },
  {
   "cell_type": "code",
   "execution_count": 66,
   "metadata": {
    "colab": {
     "base_uri": "https://localhost:8080/"
    },
    "id": "RXK6xIUCYDyJ",
    "outputId": "cba069d5-ad96-4e78-f3ff-95ea25d899f0"
   },
   "outputs": [
    {
     "data": {
      "text/plain": [
       "['Уважаемый Александр Григорьевич,\\nпримите самые искренние поздравления по случаю Дня рождения.\\nЗа годы работы на посту главы государства Вы снискали высокое уважение соотечественников и значительный авторитет за рубежом как ответственный и дальновидный руководитель, многое делающий для социально-экономического развития Беларуси и защиты её внешнеполитических интересов.\\nВесьма велик Ваш личный вклад в укрепление дружественных отношений между нашими странами, в ускорение взаимовыгодных интеграционных процессов в рамках Союзного государства и Евразийского экономического союза Краткая справка Евразийский экономический союз (ЕАЭС) .\\nХотел бы подтвердить готовность к продолжению нашего товарищеского диалога и конструктивной совместной работы по актуальным вопросам двусторонней, региональной и международной повестки дня. Уверен, это отвечает коренным интересам братских народов России и Беларуси.\\nОт души желаю Вам, уважаемый Александр Григорьевич, крепкого здоровья, счастья, благополучия, успехов в государственной деятельности и всего самого доброго.\\nС уважением,',\n",
       " 'Уважаемый Александр Григорьевич,\\nпримите искренние поздравления по случаю государственного праздника Республики Беларусь – Дня независимости.\\nЭта дата, связанная с освобождением Минска от немецко-фашистских захватчиков в 1944 году, имеет непреходящее значение не только для белорусов, но и для россиян. Наши братские народы, сражаясь плечом к плечу, внесли решающий вклад в Победу над нацизмом.\\nВажно, что сегодня граждане России и Беларуси сохраняют и укрепляют узы дружбы и взаимопомощи. Развивая отношения стратегического партнёрства и союзничества, наши страны вместе преодолевают серьёзные испытания и отстаивают свои интересы на мировой арене.\\nУверен, что совместными усилиями мы будем и впредь наращивать конструктивные двусторонние связи, совершенствовать институты Союзного государства и продвигать интеграционные процессы на евразийском пространстве. Это, несомненно, отвечает коренным интересам россиян и белорусов.\\nОт души желаю Вам крепкого здоровья и успехов, а народу Беларуси – благополучия и процветания.\\nС уважением,',\n",
       " 'Уважаемый Александр Григорьевич,\\nпримите сердечные поздравления с Днём рождения.\\nТрудно переоценить Ваш вклад в развитие дружественных, союзнических связей между нашими странами. Ваши личные усилия в значительной степени способствовали тому, что двустороннее сотрудничество приобрело столь конструктивный, взаимовыгодный характер и благоприятно сказывается на самых различных сторонах жизни граждан России и Белоруссии.\\nХотел бы подтвердить готовность к продолжению совместной работы как по укреплению взаимодействия в рамках Союзного государства, так и по дальнейшему продвижению интеграционных процессов на евразийском пространстве.\\nИскренне желаю Вам, уважаемый Александр Григорьевич, крепкого здоровья, счастья, благополучия, успехов и всего наилучшего.\\nС уважением,',\n",
       " 'Уважаемый Александр Григорьевич,\\nПримите самые искренние поздравления по случаю 65-летия.\\nЧетверть века Вы стоите во главе Беларуси, неустанно работая над укреплением международного авторитета страны и решением стоящих перед ней социально-экономических задач.\\nВы постоянно вносите большой личный вклад в развитие дружественных, союзнических отношений между нашими странами. Уверен, что реализация договоренностей, достигнутых недавно в Санкт-Петербурге, будет способствовать дальнейшему укреплению Союзного государства, наращиванию продуктивного российско-белорусского взаимодействия – как на двусторонней основе, так и в рамках евразийских интеграционных процессов.\\nХотел бы подтвердить готовность к продолжению нашего товарищеского диалога и конструктивной совместной работы на благо братских народов России и Беларуси.\\nОт души желаю Вам, уважаемый Александр Григорьевич, крепкого здоровья, счастья, благополучия и успехов.\\nС уважением,',\n",
       " 'Уважаемый Александр Григорьевич,\\nпримите самые тёплые поздравления по случаю Дня рождения.\\nВысоко ценим Ваши усилия по укреплению союзнических отношений между нашими странами и продвижению взаимовыгодных интеграционных процессов на евразийском пространстве.\\nУверен, что Ваш богатый опыт государственного руководителя будет и впредь служить обеспечению единства и согласия в белорусском обществе, упрочению стабильности и безопасности в стране. Белорусские друзья всегда могут рассчитывать на поддержку России.\\nНе сомневаюсь, что совместными усилиями мы будем и далее всемерно наращивать российско-белорусские связи на различных направлениях.\\nОт души желаю Вам крепкого здоровья, благополучия и успехов.\\nС уважением,']"
      ]
     },
     "execution_count": 66,
     "metadata": {},
     "output_type": "execute_result"
    }
   ],
   "source": [
    "duplicates[2]"
   ]
  },
  {
   "cell_type": "markdown",
   "metadata": {
    "id": "kA9M-LHGYGsC"
   },
   "source": [
    "Совпадающие заголовки - поздравления с днем рождения одного и того же человека в разные годы"
   ]
  },
  {
   "cell_type": "code",
   "execution_count": 36,
   "metadata": {
    "id": "rr1nlEuJLwQS"
   },
   "outputs": [],
   "source": [
    "for column in ['title_ner', 'text_ner']:\n",
    "    df[column] = df[column].apply(json.loads)"
   ]
  },
  {
   "cell_type": "code",
   "execution_count": 4,
   "metadata": {
    "id": "jXxq6U_SL9q9"
   },
   "outputs": [],
   "source": [
    "SELECTED_ENTITIES = ['PER', 'ORG']\n",
    "\n",
    "BOS_TAG = 'BOS'\n",
    "EOS_TAG = 'EOS'\n",
    "TITLE_TAG = 'TITLE'\n",
    "TEXT_TAG = 'TEXT'"
   ]
  },
  {
   "cell_type": "code",
   "execution_count": 38,
   "metadata": {
    "id": "GDMtr3WBMLoy"
   },
   "outputs": [],
   "source": [
    "def join_entities(title_ner, text_ner, selected_entities=SELECTED_ENTITIES):\n",
    "    '''\n",
    "    Для выбранных типов сущностей берет значение из сущностей заголовка (при наличии).\n",
    "    Если сущностей нет в заголовке, берет из текста\n",
    "    '''\n",
    "    joined_entities = {}\n",
    "    for entity_type in selected_entities:\n",
    "        for entities in [title_ner, text_ner]:\n",
    "            if entity_type in entities:\n",
    "                joined_entities[entity_type] = entities[entity_type]\n",
    "                break\n",
    "    return joined_entities"
   ]
  },
  {
   "cell_type": "code",
   "execution_count": 39,
   "metadata": {
    "id": "jUwi02mzOGVw"
   },
   "outputs": [],
   "source": [
    "df['selected_entities'] = df.apply(\n",
    "    lambda row: join_entities(row['title_ner'], row['text_ner']),\n",
    "    axis=1\n",
    ")"
   ]
  },
  {
   "cell_type": "code",
   "execution_count": 40,
   "metadata": {
    "colab": {
     "base_uri": "https://localhost:8080/"
    },
    "id": "T6-nQk5BOUDk",
    "outputId": "4635141b-3a1f-4051-d56f-396b2601c72b"
   },
   "outputs": [
    {
     "data": {
      "text/plain": [
       "count    1299.000000\n",
       "mean        1.063895\n",
       "std         0.568631\n",
       "min         0.000000\n",
       "25%         1.000000\n",
       "50%         1.000000\n",
       "75%         1.000000\n",
       "max         2.000000\n",
       "Name: selected_entities, dtype: float64"
      ]
     },
     "execution_count": 40,
     "metadata": {},
     "output_type": "execute_result"
    }
   ],
   "source": [
    "df['selected_entities'].apply(len).describe()"
   ]
  },
  {
   "cell_type": "markdown",
   "metadata": {
    "id": "DmDntBSKPgkk"
   },
   "source": [
    "Сущности не выделены меньше, чем для четверти примеров"
   ]
  },
  {
   "cell_type": "code",
   "execution_count": 41,
   "metadata": {
    "id": "SIn0TUB7Pfm1"
   },
   "outputs": [],
   "source": [
    "def prepare_text_for_gpt(text:str):\n",
    "    '''\n",
    "    Функция добавляет пробелы после разделителей строки и точек, если пробелов там не было,\n",
    "    потому что при токенизации пробел является частью первого токена слова.\n",
    "    Эмбединги для случаев \"заглавная буква идет не после пробела\" предобучены хуже.\n",
    "    '''\n",
    "    text = re.sub('\\n', ' ', text)\n",
    "    text = re.sub(re.escape('.'), '. ', text)\n",
    "    # если были добавлены двойные пробелы, убираем их\n",
    "    text = re.sub(' +', ' ', text)\n",
    "    return text\n",
    "\n",
    "def format_prompt(row:pd.core.series.Series):\n",
    "    prompt = ''\n",
    "    for entity_tag in SELECTED_ENTITIES:\n",
    "        entity_content = ', '.join(row['selected_entities'].get(entity_tag, []))\n",
    "        prompt += f'{entity_tag} {entity_content} '\n",
    "    prompt = f\"{BOS_TAG} {prompt}{TITLE_TAG} {row['title']} {TEXT_TAG} {row['text']} {EOS_TAG}\"\n",
    "    return prepare_text_for_gpt(prompt)"
   ]
  },
  {
   "cell_type": "code",
   "execution_count": 42,
   "metadata": {
    "id": "E0ABp2ihSFzM"
   },
   "outputs": [],
   "source": [
    "df['prompt'] = df.apply(format_prompt, axis=1)"
   ]
  },
  {
   "cell_type": "markdown",
   "metadata": {
    "id": "YJ1l1jrhSXnf"
   },
   "source": [
    "Посмотрим распределение длин токенизированных текстов"
   ]
  },
  {
   "cell_type": "code",
   "execution_count": 5,
   "metadata": {
    "id": "8t4xIDmKSWTH"
   },
   "outputs": [],
   "source": [
    "PRETRAINED_MODEL_NAME = 'sberbank-ai/rugpt3small_based_on_gpt2'"
   ]
  },
  {
   "cell_type": "code",
   "execution_count": 6,
   "metadata": {
    "colab": {
     "base_uri": "https://localhost:8080/",
     "height": 131,
     "referenced_widgets": [
      "947a3c02a7094316a29726cdaa8e5f00",
      "9204afab3b07417d8ce595805db5494e",
      "68551c87453e49f18927839933eceee5",
      "a437a980f90d4716a9f8d25bd2aa5fa8",
      "52e4d2557c9d405bb00f1b66d9a6ce97",
      "e4dd7dd4211a44d09e46dce5b30705d2",
      "9a541c06e14a4a2bb9479775a03a13e9",
      "c3f228dad64748aca85c9735257db7dc",
      "054833a52f4348c98d10cd9d0c62cff7",
      "51d1a77c0a9d40758d84a85c4dd7d5d4",
      "0467bbf2171447eeaf3bc635f22621ac",
      "96b140ccb11340cc84cd1efdec37feff",
      "f9ed652cca7e448891102fa16f031e18",
      "df72854b72244b83bf590a1020545eab",
      "e832b7bc6b0f459fae52c9286850f4d1",
      "ad7e79befdb848d389f5988d4844f850",
      "83d4682e304b40de975681c522ff45bb",
      "ab3eb8631cad41f2817e3a2215d51e4b",
      "83930410d93547239e81a2e766cb3a92",
      "df34710bcf134de99bd72648c55a9ed2",
      "614e3f99686045a39e943fd5ecf96d1b",
      "624825cff7a7464ca1ae8b06f5b0ce1b",
      "1d5171581f66439b9b0619e28edbce7c",
      "b8621f437ab1427db28df47344abd3ad",
      "911e6ce7b7dc4ec08d26772149bd4646",
      "2102c86c27e443f496eb7d903b399d18",
      "299383aae1cf4218915f218dc9c90214",
      "1277a756c4ac4dfc88a7eba2ec95e7c4",
      "9b74b0299b1140ef9e28d5cda5471116",
      "454aea3dfb6745e6a9022bec1e157d14",
      "1a30cb5cc887419a89d4ee07cd590764",
      "3da14e7bc9cb4b9da2a2330cdf3b5e8c",
      "247c138a88cb418294195f3b2b7f0221"
     ]
    },
    "id": "lxDifSjUTYGf",
    "outputId": "f3568c80-104a-412b-8d28-024599e841ce"
   },
   "outputs": [
    {
     "data": {
      "application/vnd.jupyter.widget-view+json": {
       "model_id": "947a3c02a7094316a29726cdaa8e5f00",
       "version_major": 2,
       "version_minor": 0
      },
      "text/plain": [
       "Downloading:   0%|          | 0.00/608 [00:00<?, ?B/s]"
      ]
     },
     "metadata": {},
     "output_type": "display_data"
    },
    {
     "data": {
      "application/vnd.jupyter.widget-view+json": {
       "model_id": "96b140ccb11340cc84cd1efdec37feff",
       "version_major": 2,
       "version_minor": 0
      },
      "text/plain": [
       "Downloading:   0%|          | 0.00/1.63M [00:00<?, ?B/s]"
      ]
     },
     "metadata": {},
     "output_type": "display_data"
    },
    {
     "data": {
      "application/vnd.jupyter.widget-view+json": {
       "model_id": "1d5171581f66439b9b0619e28edbce7c",
       "version_major": 2,
       "version_minor": 0
      },
      "text/plain": [
       "Downloading:   0%|          | 0.00/1.21M [00:00<?, ?B/s]"
      ]
     },
     "metadata": {},
     "output_type": "display_data"
    },
    {
     "name": "stderr",
     "output_type": "stream",
     "text": [
      "Special tokens have been added in the vocabulary, make sure the associated word embeddings are fine-tuned or trained.\n"
     ]
    }
   ],
   "source": [
    "tokenizer = AutoTokenizer.from_pretrained(PRETRAINED_MODEL_NAME)"
   ]
  },
  {
   "cell_type": "code",
   "execution_count": 7,
   "metadata": {
    "colab": {
     "base_uri": "https://localhost:8080/"
    },
    "id": "HIaO8XyQTdTF",
    "outputId": "42ffff16-a68b-4916-8e66-64e760a59d65"
   },
   "outputs": [
    {
     "data": {
      "text/plain": [
       "7"
      ]
     },
     "execution_count": 7,
     "metadata": {},
     "output_type": "execute_result"
    }
   ],
   "source": [
    "tokenizer.add_special_tokens({'bos_token':BOS_TAG,\n",
    "                              'eos_token':EOS_TAG,\n",
    "                              'pad_token': '[PAD]',\n",
    "                              'additional_special_tokens':[TITLE_TAG, TEXT_TAG, *SELECTED_ENTITIES]})"
   ]
  },
  {
   "cell_type": "code",
   "execution_count": 46,
   "metadata": {
    "id": "_ydrrbP8T6hc"
   },
   "outputs": [],
   "source": [
    "tokenized = []\n",
    "prompts = list(df['prompt'])\n",
    "encoded_prompts_lens = []\n",
    "tokenization_batch_size = 100\n",
    "\n",
    "for batch_idx in range(math.ceil(len(prompts)/tokenization_batch_size)):\n",
    "    batch_start = batch_idx * tokenization_batch_size\n",
    "    batch_end = (batch_idx+1) * tokenization_batch_size\n",
    "    batch = prompts[batch_start:batch_end]\n",
    "    # при большом объеме данных стоило бы сохранить результат токенизации и один раз допадить, \n",
    "    # но сейчас токенизация не занимает много времени\n",
    "    encoded_prompts_lens += [len(i) for i in tokenizer(batch)['input_ids']]\n",
    "df['encoded_prompts_lens'] = encoded_prompts_lens"
   ]
  },
  {
   "cell_type": "code",
   "execution_count": 47,
   "metadata": {
    "colab": {
     "base_uri": "https://localhost:8080/"
    },
    "id": "Bd0VBLZWU6kN",
    "outputId": "1f261384-b68d-494d-b26d-b777922d9b32"
   },
   "outputs": [
    {
     "data": {
      "text/plain": [
       "count    1299.000000\n",
       "mean      178.998460\n",
       "std        56.873538\n",
       "min        82.000000\n",
       "25%       130.000000\n",
       "50%       172.000000\n",
       "75%       216.000000\n",
       "max       480.000000\n",
       "Name: encoded_prompts_lens, dtype: float64"
      ]
     },
     "execution_count": 47,
     "metadata": {},
     "output_type": "execute_result"
    }
   ],
   "source": [
    "df['encoded_prompts_lens'].describe()"
   ]
  },
  {
   "cell_type": "markdown",
   "metadata": {
    "id": "RHscp8IaVC9b"
   },
   "source": [
    "Тексты не превышают ограничения языковой модели, но я все равно уберу самые длинные, чтобы избежать превышения памяти cuda"
   ]
  },
  {
   "cell_type": "code",
   "execution_count": 48,
   "metadata": {
    "id": "Ij-d8wLfeTKB"
   },
   "outputs": [],
   "source": [
    "length_treshold = 300\n",
    "df = df[df['encoded_prompts_lens']<=length_treshold]"
   ]
  },
  {
   "cell_type": "code",
   "execution_count": 49,
   "metadata": {
    "colab": {
     "base_uri": "https://localhost:8080/"
    },
    "id": "RUYCKIG2elK2",
    "outputId": "fd805151-190d-41be-8c3b-f39e99debdb8"
   },
   "outputs": [
    {
     "data": {
      "text/plain": [
       "count    1262.000000\n",
       "mean      174.419176\n",
       "std        50.583849\n",
       "min        82.000000\n",
       "25%       129.000000\n",
       "50%       170.000000\n",
       "75%       212.000000\n",
       "max       300.000000\n",
       "Name: encoded_prompts_lens, dtype: float64"
      ]
     },
     "execution_count": 49,
     "metadata": {},
     "output_type": "execute_result"
    }
   ],
   "source": [
    "df['encoded_prompts_lens'].describe()"
   ]
  },
  {
   "cell_type": "code",
   "execution_count": 50,
   "metadata": {
    "colab": {
     "base_uri": "https://localhost:8080/"
    },
    "id": "AJGSisNIWp0u",
    "outputId": "ec2f518f-f836-401a-c5ca-4c8ca020013e"
   },
   "outputs": [
    {
     "data": {
      "text/plain": [
       "1262"
      ]
     },
     "execution_count": 50,
     "metadata": {},
     "output_type": "execute_result"
    }
   ],
   "source": [
    "len(df)"
   ]
  },
  {
   "cell_type": "code",
   "execution_count": 51,
   "metadata": {
    "id": "AQ677dkSVIZh"
   },
   "outputs": [],
   "source": [
    "train, test = train_test_split(df, test_size=0.1, random_state=42)"
   ]
  },
  {
   "cell_type": "markdown",
   "metadata": {
    "id": "thtzM7ANYVhN"
   },
   "source": [
    "Отметим для тестовых примеров, были ли такие же заголовки представлены в трейне"
   ]
  },
  {
   "cell_type": "code",
   "execution_count": 67,
   "metadata": {
    "id": "UM1lbE86YUbN"
   },
   "outputs": [],
   "source": [
    "known_titles = set(train['title'])\n",
    "test['title_is_known'] = test['title'].apply(lambda x: x in known_titles)"
   ]
  },
  {
   "cell_type": "code",
   "execution_count": 56,
   "metadata": {
    "id": "1dcvEJK0WxXB"
   },
   "outputs": [],
   "source": [
    "for column in ['title_ner', 'text_ner', 'selected_entities']:\n",
    "     test[column] = test[column].apply(json.dumps)"
   ]
  },
  {
   "cell_type": "code",
   "execution_count": 68,
   "metadata": {
    "id": "nziQatCcXD2m"
   },
   "outputs": [],
   "source": [
    "test.to_csv(os.path.join(DATA_DIR, 'test_prompts.csv'), index=False)"
   ]
  },
  {
   "cell_type": "code",
   "execution_count": 9,
   "metadata": {
    "colab": {
     "base_uri": "https://localhost:8080/"
    },
    "id": "3MgHITBlyPPr",
    "outputId": "6d0ff1c5-37d2-46e9-afba-7ee87ed15a5b"
   },
   "outputs": [
    {
     "name": "stdout",
     "output_type": "stream",
     "text": [
      "Mounted at gdrive\n"
     ]
    }
   ],
   "source": [
    "from google.colab import drive\n",
    "drive.mount('gdrive')"
   ]
  },
  {
   "cell_type": "code",
   "execution_count": 10,
   "metadata": {
    "id": "aQwjey-gycff"
   },
   "outputs": [],
   "source": [
    "train = pd.read_csv('gdrive/MyDrive/train_prompts.csv')"
   ]
  },
  {
   "cell_type": "code",
   "execution_count": 25,
   "metadata": {
    "id": "Trvkzh5u2P6Y"
   },
   "outputs": [],
   "source": [
    "test = pd.read_csv('gdrive/MyDrive/test_prompts.csv')"
   ]
  },
  {
   "cell_type": "code",
   "execution_count": 16,
   "metadata": {
    "id": "0tAIXvUGgOSz"
   },
   "outputs": [],
   "source": [
    "# для ускорения обучения полезно сделать так, чтобы в батче подавались тексты примерно одной длины (будет меньше падингов)\n",
    "# ascending=False, чтобы в случае превышения памяти на самых длинных текстах сразу увидеть эту проблему\n",
    "# стоило бы сделать так, чтобы короткие и длинные батчи подавались в перемешку, но (зачеркнуто: мне лень) \n",
    "# при небольшом количестве итераций в эпохе вряд ли модель успеет переобучиться на длину последних (коротких) текстов\n",
    "train.sort_values('encoded_prompts_lens', ascending=False, inplace=True)"
   ]
  },
  {
   "cell_type": "code",
   "execution_count": 12,
   "metadata": {
    "id": "n2OHB5reWeAb"
   },
   "outputs": [],
   "source": [
    "train_batch_size = 5\n",
    "train_dataloader = torch.utils.data.DataLoader(list(train['prompt']), batch_size=train_batch_size)"
   ]
  },
  {
   "cell_type": "code",
   "execution_count": 11,
   "metadata": {
    "id": "luvgVtTeYeUF"
   },
   "outputs": [],
   "source": [
    "device = 'cuda' if torch.cuda.is_available() else 'cpu'"
   ]
  },
  {
   "cell_type": "code",
   "execution_count": 14,
   "metadata": {
    "id": "3W-o0UAidhP3"
   },
   "outputs": [],
   "source": [
    "num_epochs = 10\n",
    "num_training_steps = num_epochs*len(train_dataloader)"
   ]
  },
  {
   "cell_type": "code",
   "execution_count": 15,
   "metadata": {
    "colab": {
     "base_uri": "https://localhost:8080/",
     "height": 105,
     "referenced_widgets": [
      "bf76642cca5341dbb9f931d2610d051e",
      "f0f0ca8acd574edd8168b6a8e91be6ed",
      "c00debd938d8454da62e3035637cd09e",
      "6026bb8dec514903a870b39b6437b482",
      "b766e0ec727f4b9e9f920be4709cc7a9",
      "786f3a68e26740e9a9ed0069baa9b01c",
      "b363ddc3bcdf4870b607b3fb5ea11afc",
      "e1cde6433d6d4d8b94377ac54be8c04a",
      "7c73956ee5c84eb9adb6c4d94281a3cc",
      "c486c1ae917048b58ea2452492212958",
      "69cf1c9bf6a146d5bcd27bb094c8c2f4"
     ]
    },
    "id": "AV6GfKvPWoJm",
    "outputId": "a42c9822-1569-4d5e-8da1-16f31926ab1b"
   },
   "outputs": [
    {
     "name": "stderr",
     "output_type": "stream",
     "text": [
      "/usr/local/lib/python3.7/dist-packages/transformers/models/auto/modeling_auto.py:973: FutureWarning: The class `AutoModelWithLMHead` is deprecated and will be removed in a future version. Please use `AutoModelForCausalLM` for causal language models, `AutoModelForMaskedLM` for masked language models and `AutoModelForSeq2SeqLM` for encoder-decoder models.\n",
      "  FutureWarning,\n"
     ]
    },
    {
     "data": {
      "application/vnd.jupyter.widget-view+json": {
       "model_id": "bf76642cca5341dbb9f931d2610d051e",
       "version_major": 2,
       "version_minor": 0
      },
      "text/plain": [
       "Downloading:   0%|          | 0.00/526M [00:00<?, ?B/s]"
      ]
     },
     "metadata": {},
     "output_type": "display_data"
    }
   ],
   "source": [
    "gpt = AutoModelWithLMHead.from_pretrained(PRETRAINED_MODEL_NAME).to(device).train()\n",
    "gpt.resize_token_embeddings(len(tokenizer))\n",
    "optimizer = torch.optim.AdamW(gpt.parameters(), lr=5e-5)\n",
    "lr_scheduler = get_scheduler(\n",
    "    name=\"linear\", optimizer=optimizer, num_warmup_steps=0, num_training_steps=num_training_steps\n",
    ")"
   ]
  },
  {
   "cell_type": "markdown",
   "metadata": {
    "id": "hJC0FSEocIOV"
   },
   "source": [
    "\n",
    "В генеративных задачах модель с лучшими метриками не обязательно выдает лучший с точки зрения соответствия целевой задаче результат.\n",
    "Для ускорения работы сначала дообучу модель, а потом уже посчитаю метрики на тесте без подсчета метрик для чекпойнтов."
   ]
  },
  {
   "cell_type": "code",
   "execution_count": 16,
   "metadata": {
    "id": "2T4VP34adxQr"
   },
   "outputs": [],
   "source": [
    "SAVE_PATH = 'gdrive/MyDrive/gpt_small_president_letter'"
   ]
  },
  {
   "cell_type": "code",
   "execution_count": 17,
   "metadata": {
    "colab": {
     "base_uri": "https://localhost:8080/",
     "height": 49,
     "referenced_widgets": [
      "ff4902102c26404faf97435e6ecb692a",
      "ae814cc529fb477f89c8890442397a4d",
      "68004e579fff41a28bee2fe4ce63cce8",
      "fec14866bc4f4aada41294a42e7be59b",
      "8ecc73c5534249258280df14e627145a",
      "b75f3db9d7d3490f85aa7450db5aba78",
      "fbe6d834bab84174b6d4862bdd573db1",
      "4e54656a8a854c7bb63e91fd4619a92a",
      "67f9c30e0f6c482fb5521e0594c372de",
      "266ee8c2b0894691bdb7bd1eb5ea35da",
      "1b8d31b23ca442cb862de9ce0822d82d"
     ]
    },
    "id": "TgqkpAcSZ9OA",
    "outputId": "96299094-3eea-4491-8368-d1d729170cdc"
   },
   "outputs": [
    {
     "data": {
      "application/vnd.jupyter.widget-view+json": {
       "model_id": "ff4902102c26404faf97435e6ecb692a",
       "version_major": 2,
       "version_minor": 0
      },
      "text/plain": [
       "  0%|          | 0/2270 [00:00<?, ?it/s]"
      ]
     },
     "metadata": {},
     "output_type": "display_data"
    }
   ],
   "source": [
    "progress_bar = tqdm(range(num_training_steps))\n",
    "\n",
    "for epoch in range(num_epochs):\n",
    "    for batch in train_dataloader:\n",
    "        tokenized_batch = tokenizer(list(batch), return_tensors='pt', padding=True).to(device)\n",
    "        outputs = gpt(**tokenized_batch, labels=tokenized_batch['input_ids'])\n",
    "        loss = outputs.loss\n",
    "        loss.backward()\n",
    "\n",
    "        optimizer.step()\n",
    "        lr_scheduler.step()\n",
    "        optimizer.zero_grad()\n",
    "        progress_bar.update(1)\n",
    "    gpt.save_pretrained(SAVE_PATH)"
   ]
  },
  {
   "cell_type": "markdown",
   "metadata": {
    "id": "J8mrCIE3ucdc"
   },
   "source": [
    "#Проверка на адекватность результата и подбор тактики получения повтора"
   ]
  },
  {
   "cell_type": "markdown",
   "metadata": {
    "id": "ekkbph6HaLj0"
   },
   "source": [
    "Более детальный анализ и подбор параметров будет в другой тетрадке"
   ]
  },
  {
   "cell_type": "code",
   "execution_count": null,
   "metadata": {
    "id": "5DPnRfECdld4"
   },
   "outputs": [],
   "source": [
    "gpt.eval()"
   ]
  },
  {
   "cell_type": "code",
   "execution_count": 23,
   "metadata": {
    "id": "uExa28lldoOU"
   },
   "outputs": [],
   "source": [
    "test.reset_index(inplace=True)"
   ]
  },
  {
   "cell_type": "code",
   "execution_count": 24,
   "metadata": {
    "id": "sWf_E7gkdsnz"
   },
   "outputs": [],
   "source": [
    "real_prompt = test['prompt'].loc[0]"
   ]
  },
  {
   "cell_type": "code",
   "execution_count": 25,
   "metadata": {
    "colab": {
     "base_uri": "https://localhost:8080/",
     "height": 125
    },
    "id": "G6GNAf3Ru7ZB",
    "outputId": "6f4194a5-899d-4675-f38e-c7bbe1df456e"
   },
   "outputs": [
    {
     "data": {
      "application/vnd.google.colaboratory.intrinsic+json": {
       "type": "string"
      },
      "text/plain": [
       "'BOS PER ORG Геральдический совет, Геральдический совет TITLE Участникам конференции, посвящённой 300-летию учреждения и 30-летию восстановления государственной геральдической службы TEXT Уважаемые друзья! Приветствую вас по случаю открытия конференции и поздравляю с 300-летием учреждения и 30-летием восстановления государственной геральдической службы. Отрадно, что 30 лет назад для укрепления исторической связи времён и поколений, формирования и реализации единой государственной политики в сфере геральдики был образован Геральдический совет при Президенте Российской Федерации. За прошедшие годы он внёс значимый вклад в создание соответствующей нормативной базы, в становление важнейших символов российской государственности и практики их использования. И конечно, отмечу творческую, кропотливую деятельность совета, направленную на развитие и совершенствование региональной символики нашей многонациональной страны, в которой в полной мере отразились богатейшие ратные и созидательные традиции народа и его самобытная культура, первозданная красота российской природы. Сегодня Геральдический совет при Президенте Российской Федерации проводит большую научно-исследовательскую, методическую, просветительскую работу. Уверен, вы и впредь будете добросовестно трудиться, успешно решать поставленные задачи. Желаю вам всего наилучшего. EOS'"
      ]
     },
     "execution_count": 25,
     "metadata": {},
     "output_type": "execute_result"
    }
   ],
   "source": [
    "real_prompt"
   ]
  },
  {
   "cell_type": "code",
   "execution_count": 26,
   "metadata": {
    "id": "pLk-185mu-5P"
   },
   "outputs": [],
   "source": [
    "prompt_meta = real_prompt.split(TITLE_TAG)[0] + TITLE_TAG\n",
    "prompt_meta_with_beginning = real_prompt.split(TEXT_TAG)[0] + TEXT_TAG"
   ]
  },
  {
   "cell_type": "code",
   "execution_count": 27,
   "metadata": {
    "colab": {
     "base_uri": "https://localhost:8080/",
     "height": 35
    },
    "id": "SCeVoCd_vYTK",
    "outputId": "f5c46e5e-84e2-4c42-d277-20fc110b493e"
   },
   "outputs": [
    {
     "data": {
      "application/vnd.google.colaboratory.intrinsic+json": {
       "type": "string"
      },
      "text/plain": [
       "'BOS PER ORG Геральдический совет, Геральдический совет TITLE'"
      ]
     },
     "execution_count": 27,
     "metadata": {},
     "output_type": "execute_result"
    }
   ],
   "source": [
    "prompt_meta"
   ]
  },
  {
   "cell_type": "code",
   "execution_count": 28,
   "metadata": {
    "colab": {
     "base_uri": "https://localhost:8080/",
     "height": 53
    },
    "id": "qnEP_Imwvtox",
    "outputId": "5f2c08d1-4a7d-4242-c517-e96c2f07a11a"
   },
   "outputs": [
    {
     "data": {
      "application/vnd.google.colaboratory.intrinsic+json": {
       "type": "string"
      },
      "text/plain": [
       "'BOS PER ORG Геральдический совет, Геральдический совет TITLE Участникам конференции, посвящённой 300-летию учреждения и 30-летию восстановления государственной геральдической службы TEXT'"
      ]
     },
     "execution_count": 28,
     "metadata": {},
     "output_type": "execute_result"
    }
   ],
   "source": [
    "prompt_meta_with_beginning"
   ]
  },
  {
   "cell_type": "code",
   "execution_count": 20,
   "metadata": {
    "id": "9qlxRPY-vuVi"
   },
   "outputs": [],
   "source": [
    "def generate(prompt):\n",
    "   encoding = tokenizer([prompt], return_tensors='pt').to(device)\n",
    "   output = gpt.generate(**encoding, \n",
    "                         min_length=50,\n",
    "                         max_length=250,\n",
    "                         bad_words_ids=[[tokenizer.pad_token_id]],\n",
    "                         eos_token_id=tokenizer.eos_token_id,\n",
    "                         pad_token_id=tokenizer.pad_token_id)\n",
    "   return tokenizer.decode(output[0])"
   ]
  },
  {
   "cell_type": "code",
   "execution_count": 30,
   "metadata": {
    "colab": {
     "base_uri": "https://localhost:8080/",
     "height": 161
    },
    "id": "ygQtSmROwLYI",
    "outputId": "e51a2c53-95ee-4daf-fb60-1d7411401ff7"
   },
   "outputs": [
    {
     "data": {
      "application/vnd.google.colaboratory.intrinsic+json": {
       "type": "string"
      },
      "text/plain": [
       "'BOS PER ORG Геральдический совет, Геральдический совет TITLE Участникам торжественного заседания, посвящённого 100-летию учреждения Геральдического совета при Министерстве Российской Федерации по делам гражданской обороны, чрезвычайным ситуациям и ликвидации последствий стихийных бедствий TEXT Уважаемые друзья! Поздравляю вас с 100-летием учреждения Геральдического совета при Министерстве Российской Федерации по делам гражданской обороны, чрезвычайным ситуациям и ликвидации последствий стихийных бедствий. За прошедшие годы Совет вырос в авторитетный общественный, экспертный центр, внёс значимый вклад в развитие отечественной системы государственного управления. В его деятельности неизменно принимают участие известные учёные, видные государственные и общественные деятели, видные общественные и государственные деятели. Важно, что вы достойно продолжаете традиции своих предшественников, активно внедряете новаторские идеи и подходы, активно взаимодействуете с федеральными и региональными органами власти, общественными организациями, просветительскими, патриотическими, общественными организациями. И конечно, отмечу ваш значимый вклад в укрепление ценностей патриотизма, преемственности поколений, которыми во все времена славилась наша страна. Желаю вам успехов и всего наилучшего. EOS'"
      ]
     },
     "execution_count": 30,
     "metadata": {},
     "output_type": "execute_result"
    }
   ],
   "source": [
    "generate(prompt_meta)"
   ]
  },
  {
   "cell_type": "code",
   "execution_count": 31,
   "metadata": {
    "colab": {
     "base_uri": "https://localhost:8080/",
     "height": 125
    },
    "id": "ntg2VY0Kw3w4",
    "outputId": "72fd80a6-0f10-41dc-fe2b-8c4bc470d0b5"
   },
   "outputs": [
    {
     "data": {
      "application/vnd.google.colaboratory.intrinsic+json": {
       "type": "string"
      },
      "text/plain": [
       "'BOS PER ORG Геральдический совет, Геральдический совет TITLE Участникам конференции, посвящённой 300-летию учреждения и 30-летию восстановления государственной геральдической службы TEXT Дорогие друзья! Поздравляю вас со знаменательной датой – 300-летием учреждения и 30-летия восстановления государственной геральдической службы России. Этот юбилей – важное событие для отечественной культуры, для укрепления отечественного исторического, культурного, духовного наследия, для сбережения нашего богатейшего исторического, духовного наследия. Мы по праву гордимся многими поколениями своих предшественников, которые внесли значимый вклад в развитие отечественной культуры, в укрепление российской государственности, в развитие музейного дела, краеведения, других творческих, просветительских инициатив. Важно, что вы достойно продолжаете традиции своих предшественников, активно участвуете в реализации востребованных образовательных, просветительских, патриотических проектов, которые получают широкое общественное признание. И конечно, особо отмечу ваш значимый вклад в развитие музейного дела, краеведения, других творческих, просветительских инициатив. Желаю вам успехов и всего наилучшего. EOS'"
      ]
     },
     "execution_count": 31,
     "metadata": {},
     "output_type": "execute_result"
    }
   ],
   "source": [
    "generate(prompt_meta_with_beginning)"
   ]
  },
  {
   "cell_type": "markdown",
   "metadata": {
    "id": "bNgob3bRhCQW"
   },
   "source": []
  },
  {
   "cell_type": "code",
   "execution_count": 32,
   "metadata": {
    "id": "U9G52jxthA4F"
   },
   "outputs": [],
   "source": [
    "real_prompt = test['prompt'].loc[1]\n",
    "prompt_meta = real_prompt.split(TITLE_TAG)[0] + TITLE_TAG\n",
    "prompt_meta_with_beginning = real_prompt.split(TEXT_TAG)[0] + TEXT_TAG"
   ]
  },
  {
   "cell_type": "code",
   "execution_count": 33,
   "metadata": {
    "colab": {
     "base_uri": "https://localhost:8080/",
     "height": 125
    },
    "id": "u-Nk6RaZhMC3",
    "outputId": "12877798-fe65-4ae7-c211-d96ed098ee62"
   },
   "outputs": [
    {
     "data": {
      "application/vnd.google.colaboratory.intrinsic+json": {
       "type": "string"
      },
      "text/plain": [
       "'BOS PER ORG Серовского исторического музея TITLE Коллективу Серовского исторического музея TEXT Дорогие друзья! Поздравляю вас со 100-летием Серовского исторического музея. Основанный в 1918 году, музей стал одним из крупнейших в России музеев истории родного края и сегодня по праву считается одним из крупнейших культурных, просветительских центров. Здесь представлены произведения древнерусской живописи, декоративно-прикладного искусства, археологические находки, рассказывающие посетителям об истории Серовского края, его замечательных традициях и обычаях, о самобытных традициях и обычаях проживающих здесь народов. Важно, что нынешний коллектив бережно хранит и пополняет экспозицию музея, уделяет неустанное внимание просветительской, познавательной деятельности, уделяет неустанное внимание реализации востребованных образовательных, информационных, творческих проектов. Желаю вам успехов и всего наилучшего. EOS'"
      ]
     },
     "execution_count": 33,
     "metadata": {},
     "output_type": "execute_result"
    }
   ],
   "source": [
    "generate(prompt_meta)"
   ]
  },
  {
   "cell_type": "code",
   "execution_count": 34,
   "metadata": {
    "colab": {
     "base_uri": "https://localhost:8080/",
     "height": 125
    },
    "id": "GKMxURaihOI5",
    "outputId": "0726a71d-45b4-4758-ec5d-eeda819888ea"
   },
   "outputs": [
    {
     "data": {
      "application/vnd.google.colaboratory.intrinsic+json": {
       "type": "string"
      },
      "text/plain": [
       "'BOS PER ORG Серовского исторического музея TITLE Коллективу Серовского исторического музея TEXT Дорогие друзья! Поздравляю вас со 100-летием Серовского исторического музея. Основанный в 1918 году, музей стал одним из крупнейших в России музеев истории родного края и сегодня по праву считается одним из крупнейших культурных, просветительских центров. Здесь представлены произведения древнерусской живописи, декоративно-прикладного искусства, археологические находки, рассказывающие посетителям об истории Серовского края, его замечательных традициях и обычаях, о самобытных традициях и обычаях проживающих здесь народов. Важно, что нынешний коллектив бережно хранит и пополняет экспозицию музея, уделяет неустанное внимание просветительской, познавательной деятельности, уделяет неустанное внимание реализации востребованных образовательных, информационных, творческих проектов. Желаю вам успехов и всего наилучшего. EOS'"
      ]
     },
     "execution_count": 34,
     "metadata": {},
     "output_type": "execute_result"
    }
   ],
   "source": [
    "generate(prompt_meta_with_beginning)"
   ]
  },
  {
   "cell_type": "markdown",
   "metadata": {
    "id": "iR5t9NN-2pRh"
   },
   "source": [
    "Модель справляется с повторением указанных сущностей-организаций. Проверим, что будет с персонами"
   ]
  },
  {
   "cell_type": "code",
   "execution_count": 44,
   "metadata": {
    "colab": {
     "base_uri": "https://localhost:8080/",
     "height": 89
    },
    "id": "p2qjSKT03ytQ",
    "outputId": "3dabf202-27be-4079-8eb9-8021fb9f0ba8"
   },
   "outputs": [
    {
     "data": {
      "application/vnd.google.colaboratory.intrinsic+json": {
       "type": "string"
      },
      "text/plain": [
       "'BOS PER Анна Ахматова ORG TITLE Анне Ахматовой, поэту, лауреату Государственной премии СССР TEXT Уважаемая Анна Андреевна! Примите поздравления с юбилейным Днём рождения. Вас по праву считают одним из наиболее талантливых, самобытных поэтов современности. Многие годы Вы преданно служите избранному делу, своим творчеством обогащаете замечательные традиции русской поэзии. Отрадно, что и сегодня Вы продолжаете радовать поклонников новыми замечательными стихотворениями, радуете публику интересными, содержательными творческими находками. Желаю Вам здоровья, вдохновения и всего наилучшего. EOS'"
      ]
     },
     "execution_count": 44,
     "metadata": {},
     "output_type": "execute_result"
    }
   ],
   "source": [
    "generate(\"BOS PER Анна Ахматова ORG TITLE\")"
   ]
  },
  {
   "cell_type": "code",
   "execution_count": 45,
   "metadata": {
    "colab": {
     "base_uri": "https://localhost:8080/",
     "height": 89
    },
    "id": "fNLihT4832Yq",
    "outputId": "2a24d1c2-1fa4-4a70-a4f1-37544f2bb01f"
   },
   "outputs": [
    {
     "data": {
      "application/vnd.google.colaboratory.intrinsic+json": {
       "type": "string"
      },
      "text/plain": [
       "'BOS PER Марк Розовский ORG TITLE Марку Розовскому, художнику-модельеру, педагогу, народному художнику России TEXT Уважаемый Марк Анатольевич! Примите поздравления с 80-летним юбилеем. Талантливый художник, скульптор, автор уникальных работ, созданных в самых разных жанрах и техниках, Вы добились впечатляющих профессиональных успехов, создали замечательные иллюстрации к детским книгам, которые учат дружбе, взаимопомощи, любви к родному краю. И конечно, отмечу Вашу многогранную просветительскую, наставническую деятельность, искреннюю заботу о сохранении и развитии замечательных традиций отечественного искусства. Желаю Вам здоровья, вдохновения и всего самого доброго. EOS'"
      ]
     },
     "execution_count": 45,
     "metadata": {},
     "output_type": "execute_result"
    }
   ],
   "source": [
    "generate(\"BOS PER Марк Розовский ORG TITLE\")"
   ]
  },
  {
   "cell_type": "code",
   "execution_count": 47,
   "metadata": {
    "colab": {
     "base_uri": "https://localhost:8080/",
     "height": 89
    },
    "id": "ZC9qPnka4Db6",
    "outputId": "cc6b35a8-9f9e-43f2-959a-79418b77db59"
   },
   "outputs": [
    {
     "data": {
      "application/vnd.google.colaboratory.intrinsic+json": {
       "type": "string"
      },
      "text/plain": [
       "'BOS PER Анна Щербакова ORG TITLE Анне Щербаковой, победительнице XXIX Всемирной зимней универсиады 2019 года в Красноярске в соревнованиях по сноуборду в слоуп-стайле TEXT Уважаемая Анна Сергеевна! Поздравляю Вас с «золотом» красноярской универсиады. Вы достойно представили нашу страну на «домашней» универсиаде, продемонстрировали командную сплочённость и нацеленность на победу. И конечно, особые слова благодарности – тренерам, наставникам, специалистам, всем, кто помогает Вам добиваться успеха. Желаю новых достижений и всего наилучшего. EOS'"
      ]
     },
     "execution_count": 47,
     "metadata": {},
     "output_type": "execute_result"
    }
   ],
   "source": [
    "generate(\"BOS PER Анна Щербакова ORG TITLE\")"
   ]
  },
  {
   "cell_type": "markdown",
   "metadata": {
    "id": "KK7Pv_lQ4VU1"
   },
   "source": [
    "С общеизвестными персонами модель справляется и поомнит примерную сферу деятельности (Ахматова ожила и поменяла свое отношение к СССР, Розовский стал модельером, а Щербакова - сноубордисткой)"
   ]
  },
  {
   "cell_type": "code",
   "execution_count": 41,
   "metadata": {
    "colab": {
     "base_uri": "https://localhost:8080/",
     "height": 107
    },
    "id": "PY4pqkyk2z4m",
    "outputId": "b127bc0e-f1a5-478a-aa0f-91f7bbced5b4"
   },
   "outputs": [
    {
     "data": {
      "application/vnd.google.colaboratory.intrinsic+json": {
       "type": "string"
      },
      "text/plain": [
       "'BOS PER В. С. Иванов ORG TITLE Работникам и ветеранам судостроительной отрасли России TEXT Уважаемые друзья! Поздравляю вас с Днём кораблестроителя. Этот праздник отмечают инженеры, конструкторы, инженеры, представители рабочих профессий, все, кто посвятил себя развитию отечественной экономики, оборонно-промышленного комплекса, укреплению обороноспособности страны. Отрадно, что сегодня отрасль уверенно развивается, наращивает свой потенциал, уверенно наращивает темпы жилищного строительства, реализует востребованные проекты в сфере промышленности и АПК, вносит серьёзный вклад в укрепление национальной экономики и социальной сферы. Уверен, что вы и впредь будете добросовестно трудиться, достойно решать поставленные задачи на благо России и её граждан. Желаю вам успехов и всего наилучшего. EOS'"
      ]
     },
     "execution_count": 41,
     "metadata": {},
     "output_type": "execute_result"
    }
   ],
   "source": [
    "generate(\"BOS PER В. С. Иванов ORG TITLE\")"
   ]
  },
  {
   "cell_type": "code",
   "execution_count": 43,
   "metadata": {
    "colab": {
     "base_uri": "https://localhost:8080/",
     "height": 107
    },
    "id": "bO2zoqMT3R1t",
    "outputId": "462dd9e6-f7c6-442e-c6f5-6dd33aa7e396"
   },
   "outputs": [
    {
     "data": {
      "application/vnd.google.colaboratory.intrinsic+json": {
       "type": "string"
      },
      "text/plain": [
       "'BOS PER А. Петров ORG TITLE Участникам торжественного мероприятия, посвящённого 100-летию создания в России системы скорой медицинской помощи TEXT Уважаемые друзья! Поздравляю вас с юбилеем создания в России системы скорой медицинской помощи. За прошедшие годы она доказала свою эффективность, стала одним из ключевых, ключевых факторов социально-экономического развития страны, стала надёжным, социально значимым звеном отечественной скорой медицинской помощи. Сегодня перед вами стоят серьёзные, востребованные временем задачи, главные из которых – создание современных, современных, высокотехнологичных медицинских услуг, совершенствование профильного здравоохранения, совершенствование диагностики и лечения заболеваний. И конечно, необходимо уделять приоритетное внимание вопросам экологии, сбережения нашего бесценного природного богатства. Желаю вам успехов и всего самого доброго. EOS'"
      ]
     },
     "execution_count": 43,
     "metadata": {},
     "output_type": "execute_result"
    }
   ],
   "source": [
    "generate(\"BOS PER А. Петров ORG TITLE\")"
   ]
  },
  {
   "cell_type": "markdown",
   "metadata": {
    "id": "DTBrkRO35bxv"
   },
   "source": [
    "С обычными фамилиями модель справляется хуже"
   ]
  },
  {
   "cell_type": "code",
   "execution_count": 49,
   "metadata": {
    "colab": {
     "base_uri": "https://localhost:8080/",
     "height": 71
    },
    "id": "sQa7n_oq5kKG",
    "outputId": "6082e9be-2f4c-49e6-a314-24b5ddd9fc8c"
   },
   "outputs": [
    {
     "data": {
      "application/vnd.google.colaboratory.intrinsic+json": {
       "type": "string"
      },
      "text/plain": [
       "'BOS PER В. С. Иванову ORG TITLE В. С. Иванову, победителю XXIX Всемирной зимней универсиады 2019 года в Красноярске в соревнованиях по сноуборду в слоуп-стайле TEXT Уважаемый Владимир Сергеевич! Поздравляю Вас с «золотом» красноярской универсиады. Вы достойно представили нашу страну на «домашней» универсиаде, продемонстрировали отличную подготовку и по-настоящему командный дух. Завоёванное Вами «золото» – заслуженная награда за упорный труд, настойчивость и целеустремлённость. Желаю Вам новых успехов и всего самого доброго. EOS'"
      ]
     },
     "execution_count": 49,
     "metadata": {},
     "output_type": "execute_result"
    }
   ],
   "source": [
    "generate(\"BOS PER В. С. Иванову ORG TITLE\")"
   ]
  },
  {
   "cell_type": "code",
   "execution_count": 50,
   "metadata": {
    "colab": {
     "base_uri": "https://localhost:8080/",
     "height": 89
    },
    "id": "kYrXHidq5n97",
    "outputId": "24306738-7b21-4b5e-df91-5790e12aa4b7"
   },
   "outputs": [
    {
     "data": {
      "application/vnd.google.colaboratory.intrinsic+json": {
       "type": "string"
      },
      "text/plain": [
       "'BOS PER В. С. Петрову ORG TITLE В. С. Петрову, победителю XXIX Всемирной зимней универсиады 2019 года в Красноярске в соревнованиях по сноуборду в слоуп-стайле TEXT Уважаемый Владимир Сергеевич! Поздравляю Вас с триумфом. На соревнованиях в Красноярске Вы проявили себя как сильный, волевой, волевой, нацеленный на результат спортсмен, достойный представитель отечественной школы сноубординга. В напряжённой борьбе с опытными соперниками проявили недюжинный спортивный характер, мастерство и по-настоящему бойцовский характер. И конечно, Ваш успех – значимый вклад в развитие замечательных традиций отечественной школы сноубординга. Желаю Вам новых достижений и всего самого доброго. EOS'"
      ]
     },
     "execution_count": 50,
     "metadata": {},
     "output_type": "execute_result"
    }
   ],
   "source": [
    "generate(\"BOS PER В. С. Петрову ORG TITLE\")"
   ]
  },
  {
   "cell_type": "markdown",
   "metadata": {
    "id": "rkwuDbRY5tDK"
   },
   "source": [
    "Но ситуация поправляется, если ставить фамилию в дательный падеж"
   ]
  },
  {
   "cell_type": "markdown",
   "metadata": {
    "id": "6Vz304sI59LI"
   },
   "source": [
    "Текст генерируется примерно одинаковый. Возможно, nucleus sampling справится с задачей лучше. Проверю это при подборе параметров"
   ]
  },
  {
   "cell_type": "markdown",
   "metadata": {
    "id": "BXBM03ss6QOJ"
   },
   "source": [
    "Проверим фамилии другого типа"
   ]
  },
  {
   "cell_type": "code",
   "execution_count": 52,
   "metadata": {
    "colab": {
     "base_uri": "https://localhost:8080/",
     "height": 71
    },
    "id": "OH63A-A46HcU",
    "outputId": "6431191a-c76b-46e5-9458-a18d96004944"
   },
   "outputs": [
    {
     "data": {
      "application/vnd.google.colaboratory.intrinsic+json": {
       "type": "string"
      },
      "text/plain": [
       "'BOS PER Лотману ORG TITLE Лотману, художнику-модельеру, народному художнику СССР TEXT Уважаемый Лотман! Примите поздравления с 80-летним юбилеем. Вас знают и ценят как талантливого художника, скульптора, как человека, искренне любящего и знающего своё дело. Ваши работы всегда интересны и самобытны, они всегда становятся настоящим событием в мире моды и дизайна, украшают коллекции знаменитых мировых дизайнеров и других известных людей. Желаю Вам здоровья, вдохновения и всего наилучшего. EOS'"
      ]
     },
     "execution_count": 52,
     "metadata": {},
     "output_type": "execute_result"
    }
   ],
   "source": [
    "generate(\"BOS PER Лотману ORG TITLE\")"
   ]
  },
  {
   "cell_type": "code",
   "execution_count": 53,
   "metadata": {
    "colab": {
     "base_uri": "https://localhost:8080/",
     "height": 125
    },
    "id": "ooydMiBc6hhX",
    "outputId": "98b0ec12-7586-447b-bfed-ae96bfdad600"
   },
   "outputs": [
    {
     "data": {
      "application/vnd.google.colaboratory.intrinsic+json": {
       "type": "string"
      },
      "text/plain": [
       "'BOS PER Бонч-Осмаловской ORG TITLE Участникам торжественного мероприятия, посвящённого 100-летию создания в России системы скорой медицинской помощи TEXT Уважаемые друзья! Поздравляю вас с 100-летием создания в России системы скорой медицинской помощи. За прошедшие годы она доказала свою эффективность, стала одним из ключевых, ключевых факторов развития высокотехнологичной медицины, стала настоящим центром притяжения для людей, оказавшихся в сложной жизненной ситуации. Важно, что сегодня вы бережно храните и развиваете замечательные традиции милосердия и подвижничества, заложенные предшественниками, стремитесь эффективно решать стоящие перед медициной задачи, главные из которых – создание современных, современных, современных медицинских услуг, совершенствование диагностической, лечебной базы, совершенствование технологий и методов лечения. И конечно, важно, что вы активно участвуете в реализации востребованных благотворительных, образовательных, просветительских инициатив, активно взаимодействуете с государственными и общественными организациями. Желаю вам успехов и всего наилучшего. EOS'"
      ]
     },
     "execution_count": 53,
     "metadata": {},
     "output_type": "execute_result"
    }
   ],
   "source": [
    "generate(\"BOS PER Бонч-Осмаловской ORG TITLE\")"
   ]
  },
  {
   "cell_type": "code",
   "execution_count": 54,
   "metadata": {
    "colab": {
     "base_uri": "https://localhost:8080/",
     "height": 143
    },
    "id": "m5O5lUJ-60rL",
    "outputId": "971c327b-b8c4-4ca6-a44c-8a07fcdd35cc"
   },
   "outputs": [
    {
     "data": {
      "application/vnd.google.colaboratory.intrinsic+json": {
       "type": "string"
      },
      "text/plain": [
       "'BOS PER Бонч-Осмаловской ORG TITLE Бонч-Осмаловской TEXT Дорогие друзья! Поздравляю вас с 75-летием освобождения Севастополя от немецко-фашистских захватчиков. Севастополь всегда играл особую роль в истории нашей страны, в укреплении российской государственности. Он всегда был надёжной крепостью, обороной Севастополя и Крыма. В памяти народа навеки останется подвиг солдат и офицеров Красной армии, моряков и ополченцев, которые в январе 1944 года в ходе упорных боёв освободили город и весь Крым от немецко-фашистских захватчиков. Севастопольцы свято чтят подвиги отцов и дедов, свято чтят подвиги солдат и офицеров Красной армии, которые в мае 1944 года в ходе упорных боёв освободили полуостров Крым от немецко-фашистских захватчиков. Севастопольцы чтят подвиг солдат и офицеров Красной армии, которые в мае 1944 года в ходе упорных боёв освободили полуостров Крым от немецко-фашистских захватчиков. И конечно, Севастополь гордится героическими страницами ратной летописи Отечества, именами отцов и дедов, которые внесли решающий вклад в Победу. От души желаю вам успехов и всего самого доброго. EOS'"
      ]
     },
     "execution_count": 54,
     "metadata": {},
     "output_type": "execute_result"
    }
   ],
   "source": [
    "generate(\"BOS PER Бонч-Осмаловской ORG TITLE Бонч-Осмаловской \")"
   ]
  },
  {
   "cell_type": "markdown",
   "metadata": {
    "id": "_iaiJJ7o65aO"
   },
   "source": [
    "С некоторыми фамилиями не справляется, даже если передать их в после TITLE"
   ]
  },
  {
   "cell_type": "code",
   "execution_count": 55,
   "metadata": {
    "colab": {
     "base_uri": "https://localhost:8080/",
     "height": 71
    },
    "id": "KOu7Zrv17Ir8",
    "outputId": "afdf5779-5611-4f8d-f76e-ab20543e4335"
   },
   "outputs": [
    {
     "data": {
      "application/vnd.google.colaboratory.intrinsic+json": {
       "type": "string"
      },
      "text/plain": [
       "'BOS PER Бонч-Осмаловской ORG TITLE А. А. Бонч-Осмаловской TEXT Уважаемая Александра Александровна! Примите поздравления с Днём рождения. Вы посвятили себя служению искусству, добились выдающихся профессиональных успехов, внесли значимый вклад в развитие отечественной культуры. Ваши работы в кинематографе и на театральной сцене – свидетельство большого, искреннего уважения к людям, которые посвятили себя служению искусству. Желаю Вам здоровья, благополучия и всего самого доброго. EOS'"
      ]
     },
     "execution_count": 55,
     "metadata": {},
     "output_type": "execute_result"
    }
   ],
   "source": [
    "generate(\"BOS PER Бонч-Осмаловской ORG TITLE А. А. Бонч-Осмаловской \")"
   ]
  },
  {
   "cell_type": "code",
   "execution_count": 59,
   "metadata": {
    "colab": {
     "base_uri": "https://localhost:8080/",
     "height": 89
    },
    "id": "FA_aopbz7V2Y",
    "outputId": "671c86a6-84ee-45ae-99b0-ffc7bdbbd974"
   },
   "outputs": [
    {
     "data": {
      "application/vnd.google.colaboratory.intrinsic+json": {
       "type": "string"
      },
      "text/plain": [
       "'BOS PER Бонч-Осмаловской ORG TITLE Г. Н. Бонч-Осмаловской, лётчику-космонавту, Герою Советского Союза TEXT Уважаемая Галина Николаевна! Примите поздравления с Днём рождения. Вы посвятили свою жизнь сбережению памяти о Великой Отечественной войне, внесли значимый личный вклад в развитие отечественной космонавтики, в укрепление обороноспособности и национальной безопасности страны. И конечно, глубокого уважения заслуживает Ваша ответственная гражданская позиция, значимый вклад в развитие межпланетных и суборбитальных связей. Желаю Вам здоровья, благополучия и всего самого доброго. EOS'"
      ]
     },
     "execution_count": 59,
     "metadata": {},
     "output_type": "execute_result"
    }
   ],
   "source": [
    "generate(\"BOS PER Бонч-Осмаловской ORG TITLE Г. Н. Бонч-Осмаловской\")"
   ]
  },
  {
   "cell_type": "markdown",
   "metadata": {
    "id": "FshNcHUA7hHm"
   },
   "source": [
    "Помогает подставить какие-то инициалы\n",
    "\n",
    "\n"
   ]
  },
  {
   "cell_type": "markdown",
   "metadata": {
    "id": "TsWFaX-H75ki"
   },
   "source": [
    "Проверим, как модель справляется с организациями, не похожими на трейн"
   ]
  },
  {
   "cell_type": "code",
   "execution_count": 60,
   "metadata": {
    "colab": {
     "base_uri": "https://localhost:8080/",
     "height": 125
    },
    "id": "rRUnRZps8Beh",
    "outputId": "33e76ad1-c1ee-434f-961e-8429ed2d8b8b"
   },
   "outputs": [
    {
     "data": {
      "application/vnd.google.colaboratory.intrinsic+json": {
       "type": "string"
      },
      "text/plain": [
       "'BOS PER ORG Психиатрическая больница №1 TITLE Сотрудникам и ветеранам медицинского учреждения, сотрудникам и ветеранам медицинского учреждения «Психиатрическая больница №1» TEXT Уважаемые друзья! Поздравляю вас со знаменательной датой – 100-летием медицинского учреждения «Психиатрическая больница №1». История одного из старейших в России лечебных учреждений поистине впечатляет. Её история берёт начало в 1918 году, когда по инициативе врачей-психиатров, врачей-психиатров, медицинских сестёр милосердия и сестёр милосердия была создана первая в мире стационарная больница. За прошедшее время она прошла большой, насыщенный путь, стала одним из признанных лидеров отечественного здравоохранения. Сегодня в стенах больницы трудятся специалисты высочайшей квалификации, которые искренне заботятся о здоровье людей, ведут обширную просветительскую, благотворительную деятельность, многое делают для решения актуальных проблем современности. Важно, что вы с уважением относитесь к традициям милосердия и подвижничества многих поколений своих предшественников, стремитесь эффективно решать стоящие перед ней задачи. И конечно, отмечу вашу большую, востребованную работу по оказанию действенной, квалифицированной помощи людям, оказавшимся в сложной жизненной ситуации. Желаю вам успехов и всего наилучшего. EOS'"
      ]
     },
     "execution_count": 60,
     "metadata": {},
     "output_type": "execute_result"
    }
   ],
   "source": [
    "generate(\"BOS PER ORG Психиатрическая больница №1 TITLE\")"
   ]
  },
  {
   "cell_type": "code",
   "execution_count": 61,
   "metadata": {
    "colab": {
     "base_uri": "https://localhost:8080/",
     "height": 161
    },
    "id": "D5WSa9zm8HWA",
    "outputId": "41784b2d-5618-4f5f-e5b3-84bb66322b8f"
   },
   "outputs": [
    {
     "data": {
      "application/vnd.google.colaboratory.intrinsic+json": {
       "type": "string"
      },
      "text/plain": [
       "'BOS PER ORG Фонд помощи ЛГБТ TITLE Участникам и гостям торжественного мероприятия, посвящённого 10-летию Фонда «Против ЛГБТ» TEXT Дорогие друзья! Поздравляю вас с 10-летием Фонда «Против ЛГБТ». За прошедшие годы Фонд вырос в крупную, авторитетную общественную организацию, многое сделал для продвижения ценностей и ценностей, лежащих в основе современного общества, укрепления института семьи, воспитания подрастающего поколения. И конечно, особо отмечу вашу большую, востребованную работу по оказанию действенной, действенной помощи тем, кто в наше сложное время нуждается в помощи и поддержке. Важно, что вы с уважением относитесь к традициям, заложенным ветеранами, стремитесь эффективно решать стоящие перед Фондом задачи, главные из которых – поддержка наиболее значимых групп населения, создание условий для их активного участия в жизни страны, гармонизация межнациональных и межрелигиозных отношений, создание условий для развития и популяризации ЛГБТ-культа. И конечно, важно, что Фонд уделяет неустанное внимание реализации востребованных благотворительных, просветительских, благотворительных инициатив, содействует продвижению ценностей и ценностей, лежащих в основе современного общества, укреплению института семьи. Желаю вам успехов и всего наилучшего.'"
      ]
     },
     "execution_count": 61,
     "metadata": {},
     "output_type": "execute_result"
    }
   ],
   "source": [
    "generate(\"BOS PER ORG Фонд помощи ЛГБТ TITLE\")"
   ]
  },
  {
   "cell_type": "code",
   "execution_count": 68,
   "metadata": {
    "colab": {
     "base_uri": "https://localhost:8080/",
     "height": 125
    },
    "id": "9uibGALw9yVX",
    "outputId": "6aa74690-2690-4500-c419-bd65e2a7c997"
   },
   "outputs": [
    {
     "data": {
      "application/vnd.google.colaboratory.intrinsic+json": {
       "type": "string"
      },
      "text/plain": [
       "'BOS PER ORG Европейский суд по правам человека TITLE Судьям Конституционного Суда TEXT Уважаемые судьи Конституционного Суда Российской Федерации! Уважаемые коллеги! Поздравляю вас с 30-летием создания Конституционного Суда Российской Федерации. За прошедшие годы Конституционный Суд прошёл большой путь, накопил серьёзный опыт в обеспечении единства правового пространства страны, в реализации значимых социальных, инфраструктурных, миротворческих проектов. И сегодня он по праву пользуется высоким авторитетом как в отечественной правовой системе, так и в мировой практике. Конституционный Суд играет важную роль в обеспечении единства правового пространства страны, в обеспечении единства правоприменительной практики, в обеспечении единства и равноправия в обществе. Уверен, что вы и впредь будете добросовестно трудиться, эффективно решать поставленные задачи на благо России и её граждан. Желаю вам успехов и всего наилучшего. EOS'"
      ]
     },
     "execution_count": 68,
     "metadata": {},
     "output_type": "execute_result"
    }
   ],
   "source": [
    "generate(\"BOS PER ORG Европейский суд по правам человека TITLE\")"
   ]
  },
  {
   "cell_type": "markdown",
   "metadata": {
    "id": "5EbQKYf58Ziv"
   },
   "source": [
    "С генерацией текстов, не соответствующих позиции чиновников, есть предсказуемые проблемы. "
   ]
  },
  {
   "cell_type": "code",
   "execution_count": 62,
   "metadata": {
    "colab": {
     "base_uri": "https://localhost:8080/",
     "height": 125
    },
    "id": "XuA523K-8k5w",
    "outputId": "639122c3-0e8a-4cda-dc76-a208fb30602f"
   },
   "outputs": [
    {
     "data": {
      "application/vnd.google.colaboratory.intrinsic+json": {
       "type": "string"
      },
      "text/plain": [
       "'BOS PER ORG Фонд помощи беженцам TITLE Участникам и гостям торжественного мероприятия, посвящённого 10-летию Фонда помощи беженцам TEXT Дорогие друзья! Поздравляю вас с 10-летием Фонда помощи беженцам. За прошедшие годы Фонд вырос в крупную, авторитетную структуру, многое сделал для защиты прав и интересов людей, оказавшихся в сложной жизненной ситуации. Оказывал действенную помощь тем, кто попал в беду, и внёс свой вклад в решение гуманитарных проблем, в укрепление мира и стабильности в стране. Важно, что сегодня Фонд динамично развивается, реализует востребованные социальные, просветительские, благотворительные проекты, содействует дальнейшему развитию гуманитарных связей, упрочению взаимопонимания между людьми. Убеждён, что вы и впредь будете добросовестно трудиться, достойно решать поставленные задачи, содействовать упрочению дружбы и взаимопонимания между людьми, укреплению доверия и взаимопонимания между людьми. Желаю вам успехов и всего наилучшего. EOS'"
      ]
     },
     "execution_count": 62,
     "metadata": {},
     "output_type": "execute_result"
    }
   ],
   "source": [
    "generate(\"BOS PER ORG Фонд помощи беженцам TITLE\")"
   ]
  },
  {
   "cell_type": "code",
   "execution_count": 63,
   "metadata": {
    "colab": {
     "base_uri": "https://localhost:8080/",
     "height": 125
    },
    "id": "L4dTK0NT8wKP",
    "outputId": "61515791-4895-4d51-dea4-fe17e2da4b93"
   },
   "outputs": [
    {
     "data": {
      "application/vnd.google.colaboratory.intrinsic+json": {
       "type": "string"
      },
      "text/plain": [
       "'BOS PER ORG Фонд помощи бездомным котятам TITLE Ветеранам Фонда помощи бездомным котятам TEXT Дорогие друзья! Поздравляю вас с Днём котят. Этот замечательный праздник отмечают представители одной из старейших и наиболее ценных в мире групп котят – представители редкого, долгоживущего вида. Они по праву считаются гордостью и гордостью отечественного и мирового сообщества, служат символом заботы о здоровье и благополучии людей. И конечно, особо отмечу их подвижнический, истинно подвижнический труд, который позволил им вырасти настоящими героями, стать истинными патриотами и ратниками Отечества. Важно, что Фонд активно участвует в жизни страны, укрепляет взаимодействие с общественными организациями, реализует востребованные благотворительные, просветительские, патриотические проекты. Убеждён, что вы и впредь будете беречь и приумножать замечательные традиции своих питомцев, заботиться о них, подавать пример преданного служения Родине. Желаю вам успехов и всего наилучшего. EOS'"
      ]
     },
     "execution_count": 63,
     "metadata": {},
     "output_type": "execute_result"
    }
   ],
   "source": [
    "generate(\"BOS PER ORG Фонд помощи бездомным котятам TITLE\")"
   ]
  },
  {
   "cell_type": "markdown",
   "metadata": {
    "id": "DyX_wdlx84ba"
   },
   "source": [
    "С другими названиями такого типа модель справляется намного лучше, хотя все равно подмешивает \"типичное\" содержание"
   ]
  },
  {
   "cell_type": "markdown",
   "metadata": {
    "id": "UVrOkXvZ-x3E"
   },
   "source": []
  },
  {
   "cell_type": "markdown",
   "metadata": {
    "id": "A8cgz8NF-x52"
   },
   "source": [
    "Попробую уменьшить количество эпох - все-таки модель переучилась на какие-то патерны (хотя, возможно, так и задумано)"
   ]
  },
  {
   "cell_type": "markdown",
   "metadata": {
    "id": "tM0Fnafa_ggj"
   },
   "source": [
    "# Уменьшаем количество эпох, чтобы избежать переобучения"
   ]
  },
  {
   "cell_type": "code",
   "execution_count": 13,
   "metadata": {
    "id": "oDj2PeQr-xHB"
   },
   "outputs": [],
   "source": [
    "num_epochs = 3\n",
    "num_training_steps = num_epochs*len(train_dataloader)"
   ]
  },
  {
   "cell_type": "code",
   "execution_count": 14,
   "metadata": {
    "colab": {
     "base_uri": "https://localhost:8080/",
     "height": 105,
     "referenced_widgets": [
      "2fbc4e4be62f495c9cf2621458af6257",
      "9a9c3bd0df7d4122bbb906785f62a37c",
      "3701922da3974e2d9f823cda0337dfa3",
      "39a4ffab484c4977ba0ae4b99b6d88b1",
      "296d96d3980243d586ded143a29f0639",
      "64eaa2d999e34bc08f7a452949f0d151",
      "b338c9d4765d418798b557e0d53a762e",
      "a9ce7051edc54e41af2b0177f2917006",
      "d498eeea2a3c4cc78e9dce96291e8ac0",
      "f7479e6c32684a2b9f1495f078bdea4e",
      "26d400e2fd554b29b62aa5f5ee74dda6"
     ]
    },
    "id": "DxwtuZdT_mWS",
    "outputId": "1dfcb1e6-e193-4b87-cc14-ab4f0aa134c3"
   },
   "outputs": [
    {
     "name": "stderr",
     "output_type": "stream",
     "text": [
      "/usr/local/lib/python3.7/dist-packages/transformers/models/auto/modeling_auto.py:973: FutureWarning: The class `AutoModelWithLMHead` is deprecated and will be removed in a future version. Please use `AutoModelForCausalLM` for causal language models, `AutoModelForMaskedLM` for masked language models and `AutoModelForSeq2SeqLM` for encoder-decoder models.\n",
      "  FutureWarning,\n"
     ]
    },
    {
     "data": {
      "application/vnd.jupyter.widget-view+json": {
       "model_id": "2fbc4e4be62f495c9cf2621458af6257",
       "version_major": 2,
       "version_minor": 0
      },
      "text/plain": [
       "Downloading:   0%|          | 0.00/526M [00:00<?, ?B/s]"
      ]
     },
     "metadata": {},
     "output_type": "display_data"
    }
   ],
   "source": [
    "gpt = AutoModelWithLMHead.from_pretrained(PRETRAINED_MODEL_NAME).to(device).train()\n",
    "gpt.resize_token_embeddings(len(tokenizer))\n",
    "optimizer = torch.optim.AdamW(gpt.parameters(), lr=5e-5)\n",
    "lr_scheduler = get_scheduler(\n",
    "    name=\"linear\", optimizer=optimizer, num_warmup_steps=0, num_training_steps=num_training_steps\n",
    ")"
   ]
  },
  {
   "cell_type": "code",
   "execution_count": 15,
   "metadata": {
    "id": "Cf9MjUh6_vis"
   },
   "outputs": [],
   "source": [
    "SAVE_PATH = 'gdrive/MyDrive/gpt_small_president_letter_3_epochs'"
   ]
  },
  {
   "cell_type": "code",
   "execution_count": 16,
   "metadata": {
    "colab": {
     "base_uri": "https://localhost:8080/",
     "height": 49,
     "referenced_widgets": [
      "69a782f008384b75a92e65cf111382bc",
      "9202e0d203264bf0b4a1ffb2fd56e534",
      "7ee347d7ba4c48559d650f8920a92a58",
      "29bb19528ec04ac298de73d76009a630",
      "890131eafd5246bdad7a79d483f3a19c",
      "35e865800dac4c2dbec2c6a21e2fbab4",
      "0e97c230af2947849a2c820f687490d6",
      "29ac6835549842479a2cdd923940891a",
      "48e47b893d1046eb94cc5040d24395e4",
      "cfb9f5f872234bc4940e6fe7d98ea810",
      "712da929bdd942a988f1058cf3b1c24f"
     ]
    },
    "id": "pFFw63ZV_x0U",
    "outputId": "a6bbc58b-d307-49e5-c05e-6b610c9403ef"
   },
   "outputs": [
    {
     "data": {
      "application/vnd.jupyter.widget-view+json": {
       "model_id": "69a782f008384b75a92e65cf111382bc",
       "version_major": 2,
       "version_minor": 0
      },
      "text/plain": [
       "  0%|          | 0/681 [00:00<?, ?it/s]"
      ]
     },
     "metadata": {},
     "output_type": "display_data"
    }
   ],
   "source": [
    "progress_bar = tqdm(range(num_training_steps))\n",
    "\n",
    "for epoch in range(num_epochs):\n",
    "    for batch in train_dataloader:\n",
    "        tokenized_batch = tokenizer(list(batch), return_tensors='pt', padding=True).to(device)\n",
    "        outputs = gpt(**tokenized_batch, labels=tokenized_batch['input_ids'])\n",
    "        loss = outputs.loss\n",
    "        loss.backward()\n",
    "\n",
    "        optimizer.step()\n",
    "        lr_scheduler.step()\n",
    "        optimizer.zero_grad()\n",
    "        progress_bar.update(1)\n",
    "    gpt.save_pretrained(SAVE_PATH)"
   ]
  },
  {
   "cell_type": "code",
   "execution_count": null,
   "metadata": {
    "id": "RDbIKXK-_6FJ"
   },
   "outputs": [],
   "source": [
    "gpt.eval()"
   ]
  },
  {
   "cell_type": "code",
   "execution_count": 21,
   "metadata": {
    "colab": {
     "base_uri": "https://localhost:8080/",
     "height": 107
    },
    "id": "HeqEIo6hAwO1",
    "outputId": "5cd3d12d-d9b2-46cd-e39f-56faae9969f3"
   },
   "outputs": [
    {
     "data": {
      "application/vnd.google.colaboratory.intrinsic+json": {
       "type": "string"
      },
      "text/plain": [
       "'BOS PER ORG Европейский суд по правам человека TITLE Жителям Республики Марий Эл TEXT Уважаемые друзья! Поздравляю вас с Днём Республики Марий Эл. Этот праздник отмечают представители разных народов, представители разных социальных, религиозных, культурных, деловых кругов, представители органов власти, бизнеса, представители общественных организаций. Отрадно, что вы бережно храните традиции дружбы и взаимовыручки, с уважением относитесь к традициям своих предшественников, стремитесь эффективно решать стоящие перед республикой задачи. И конечно, особо отмечу ваш значимый вклад в укрепление международного гуманитарного сотрудничества, в развитие взаимовыгодного двустороннего сотрудничества в различных сферах. Желаю вам успехов и всего наилучшего. EOS'"
      ]
     },
     "execution_count": 21,
     "metadata": {},
     "output_type": "execute_result"
    }
   ],
   "source": [
    "generate(\"BOS PER ORG Европейский суд по правам человека TITLE\")"
   ]
  },
  {
   "cell_type": "code",
   "execution_count": 22,
   "metadata": {
    "colab": {
     "base_uri": "https://localhost:8080/",
     "height": 125
    },
    "id": "qrlw2EL9Aw_q",
    "outputId": "da814d06-6866-47ae-dbd8-a37fc875a4d9"
   },
   "outputs": [
    {
     "data": {
      "application/vnd.google.colaboratory.intrinsic+json": {
       "type": "string"
      },
      "text/plain": [
       "'BOS PER ORG Фонд помощи ЛГБТ TITLE Участникам и гостям торжественного мероприятия, посвящённого 100-летию Фонда помощи ЛГБТ TEXT Дорогие друзья! Поздравляю вас с 100-летием Фонда помощи ЛГБТ. За прошедшие годы Фонд прошёл большой, насыщенный путь, стал одним из признанных лидеров в сфере благотворительности и просвещения, содействовал развитию института семьи, укреплению института семьи как института гражданского общества, укреплению института семьи как института гражданского общества в нашей стране. Важно, что вы бережно храните и развиваете замечательные традиции милосердия, милосердия и благотворительности, которые передаются из поколения в поколение. Важно, что вы бережно относитесь к бесценному, уникальному наследию своих предшественников, стремитесь содействовать реализации востребованных благотворительных, просветительских, образовательных проектов, содействовать укреплению института семьи, укреплению института семьи как института гражданского общества. Желаю вам успехов и всего наилучшего. EOS'"
      ]
     },
     "execution_count": 22,
     "metadata": {},
     "output_type": "execute_result"
    }
   ],
   "source": [
    "generate(\"BOS PER ORG Фонд помощи ЛГБТ TITLE\")"
   ]
  },
  {
   "cell_type": "code",
   "execution_count": 23,
   "metadata": {
    "colab": {
     "base_uri": "https://localhost:8080/",
     "height": 143
    },
    "id": "-4dVZUZSCI6t",
    "outputId": "0a9c65f3-163a-4926-908b-4ec085bf4c1b"
   },
   "outputs": [
    {
     "data": {
      "application/vnd.google.colaboratory.intrinsic+json": {
       "type": "string"
      },
      "text/plain": [
       "'BOS PER ORG Психиатрическая больница №1 TITLE Коллективу и ветеранам Психиатрической больницы №1 TEXT Уважаемые друзья! Поздравляю вас с 30-летием создания Психиатрической больницы №1. За прошедшие годы коллектив больницы прошёл большой, насыщенный путь, многое сделал для развития и совершенствования медицинского образования в нашей стране. За прошедшие годы коллектив больницы прошёл большой, насыщенный путь, многое сделал для развития и совершенствования медицинского образования в нашей стране. За прошедшие годы коллектив больницы прошёл большой, насыщенный путь, многое сделал для развития и совершенствования медицинского образования в нашей стране. За прошедшие годы коллектив больницы прошёл большой, насыщенный путь, многое сделал для развития и совершенствования медицинского образования в нашей стране. За прошедшие годы коллектив больницы прошёл большой, насыщенный путь, многое сделал для развития и совершенствования медицинского образования в нашей стране. За прошедшие годы коллектив больницы прошёл большой, насыщенный путь, многое сделал для развития и совершенствования медицинского образования в нашей стране. Желаю вам успехов и всего наилучшего. EOS'"
      ]
     },
     "execution_count": 23,
     "metadata": {},
     "output_type": "execute_result"
    }
   ],
   "source": [
    "generate(\"BOS PER ORG Психиатрическая больница №1 TITLE\")"
   ]
  },
  {
   "cell_type": "markdown",
   "metadata": {
    "id": "DZ0iB3Q2BPZr"
   },
   "source": [
    "C \"Фондом помощи ЛГБТ\" этот чекпойнт справляется. \"Европейский суд по правам человека\" модель повторять не стала, но по крайней мере не стала генерировать про другой суд и упомянула \"международное гуманитарное сотрудничество\". В тексте про психиатрическую больницу наблюдается зацикливание (стандартная проблема гпт), это можно будет попробовать исправить подбором параметров"
   ]
  },
  {
   "cell_type": "markdown",
   "metadata": {
    "id": "bCIBHWraBvFK"
   },
   "source": [
    "Проверим теперь, не ухудшилось ли качество менее неожиданных для модели примеров"
   ]
  },
  {
   "cell_type": "code",
   "execution_count": 27,
   "metadata": {
    "colab": {
     "base_uri": "https://localhost:8080/",
     "height": 125
    },
    "id": "d0wBlzG_CBof",
    "outputId": "95112346-5c73-4912-b2d3-e93d9352e26a"
   },
   "outputs": [
    {
     "data": {
      "application/vnd.google.colaboratory.intrinsic+json": {
       "type": "string"
      },
      "text/plain": [
       "'BOS PER ORG Геральдический совет, Геральдический совет TITLE Коллективу и ветеранам Геральдического совета TEXT Дорогие друзья! Поздравляю вас с 75-летием создания Геральдического совета. За прошедшие годы Геральдический совет вырос в крупное, авторитетное общественное объединение, которое объединяет представителей самых разных сословий, представителей разных поколений. Важно, что вы бережно храните традиции своих предшественников, стремитесь эффективно решать поставленные задачи, вносить значимый вклад в развитие отечественной культуры и искусства, в укрепление международного гуманитарного сотрудничества. И конечно, важно, что вы уделяете неустанное внимание реализации востребованных благотворительных, образовательных, просветительских инициатив, уделяете неустанное внимание реализации востребованных благотворительных, образовательных, просветительских инициатив, уделяете неустанное внимание реализации востребованных благотворительных, образовательных, просветительских инициатив, уделяете неустанное внимание реализации востребованных благотворительных, образовательных, просветительских инициатив, уделяете неустанное внимание реализации востребованных благотворительных, образовательных, просветительских инициатив, уделяете неустанное внимание реализации востребованных благотворительных, образовательных, просветительских инициатив, уделяете неустанное внимание реализации востребованных благотворительных, образовательных, просвет'"
      ]
     },
     "execution_count": 27,
     "metadata": {},
     "output_type": "execute_result"
    }
   ],
   "source": [
    "real_prompt = test['prompt'].loc[0]\n",
    "prompt_meta = real_prompt.split(TITLE_TAG)[0] + TITLE_TAG\n",
    "generate(prompt_meta)"
   ]
  },
  {
   "cell_type": "code",
   "execution_count": 28,
   "metadata": {
    "colab": {
     "base_uri": "https://localhost:8080/",
     "height": 107
    },
    "id": "cN2BYOBcCu_G",
    "outputId": "5f5a1ef1-4221-4802-d331-ebd0fd183b68"
   },
   "outputs": [
    {
     "data": {
      "application/vnd.google.colaboratory.intrinsic+json": {
       "type": "string"
      },
      "text/plain": [
       "'BOS PER ORG Серовского исторического музея TITLE Коллективу Серовского исторического музея TEXT Дорогие друзья! Поздравляю вас с 75-летием Серовского исторического музея. История Серовского исторического музея тесно связана с именами выдающихся учёных, писателей, художников, которые внесли значимый вклад в развитие отечественной культуры, в укрепление её исторического, культурного, духовного потенциала. Важно, что вы бережно храните богатейшее собрание раритетов, которые по праву считаются бесценными памятниками отечественной культуры, которые по праву считаются бесценными достоянием нашего народа. И конечно, важно, что вы уделяете неустанное внимание развитию музейного дела, уделяете неустанное внимание популяризации музейных коллекций, их пополнению экспозициями, рассказывающими об истории родного края, его замечательных традициях и обычаях. Желаю вам успехов и всего наилучшего. EOS'"
      ]
     },
     "execution_count": 28,
     "metadata": {},
     "output_type": "execute_result"
    }
   ],
   "source": [
    "real_prompt = test['prompt'].loc[1]\n",
    "prompt_meta = real_prompt.split(TITLE_TAG)[0] + TITLE_TAG\n",
    "generate(prompt_meta)"
   ]
  },
  {
   "cell_type": "code",
   "execution_count": 30,
   "metadata": {
    "colab": {
     "base_uri": "https://localhost:8080/",
     "height": 89
    },
    "id": "tGgWU0jTCrf0",
    "outputId": "54e62e9a-69ef-45e7-9dba-0be6e4ae98f6"
   },
   "outputs": [
    {
     "data": {
      "application/vnd.google.colaboratory.intrinsic+json": {
       "type": "string"
      },
      "text/plain": [
       "'BOS PER Марк Розовский ORG TITLE Марк Розовский, кинорежиссёр, сценарист, продюсер, сценарист, продюсер, сценарист, продюсер, сценарист, продюсер, сценарист, автор сценариев и программ для телевидения, радио и телевидения TEXT Уважаемый Марк Анатольевич! Примите поздравления с 80-летним юбилеем. Вы посвятили себя кинематографу, своим творчеством обогатили отечественный кинематограф, снискали заслуженное признание зрителей. И конечно, отмечу Ваш большой личный вклад в развитие отечественного телевидения, в популяризацию отечественного искусства. Желаю Вам здоровья, благополучия и всего наилучшего. EOS'"
      ]
     },
     "execution_count": 30,
     "metadata": {},
     "output_type": "execute_result"
    }
   ],
   "source": [
    "generate(\"BOS PER Марк Розовский ORG TITLE\")"
   ]
  },
  {
   "cell_type": "code",
   "execution_count": 33,
   "metadata": {
    "colab": {
     "base_uri": "https://localhost:8080/",
     "height": 89
    },
    "id": "cbIBIR_EDFWk",
    "outputId": "d510b4d8-5050-490c-9aa6-3e7266f8c272"
   },
   "outputs": [
    {
     "data": {
      "application/vnd.google.colaboratory.intrinsic+json": {
       "type": "string"
      },
      "text/plain": [
       "'BOS PER Анна Щербакова ORG TITLE Анне Щербаковой, победительнице чемпионата мира по спортивной борьбе 2018 года в Будапеште в соревнованиях по греко-римской борьбе в весовой категории до 97 кг TEXT Уважаемая Анна Сергеевна! Поздравляю Вас с триумфом. Вы блестяще выступили на чемпионате мира в Будапеште, убедительно подтвердили свои лидерские позиции в мировом греко-римском спорте. И конечно, особые слова благодарности Вашим тренерам и наставникам, которые помогли Вам в напряжённой борьбе одолеть сильных соперников. Желаю Вам новых достижений и всего наилучшего. EOS'"
      ]
     },
     "execution_count": 33,
     "metadata": {},
     "output_type": "execute_result"
    }
   ],
   "source": [
    "generate(\"BOS PER Анна Щербакова ORG TITLE\")"
   ]
  },
  {
   "cell_type": "code",
   "execution_count": 34,
   "metadata": {
    "colab": {
     "base_uri": "https://localhost:8080/",
     "height": 71
    },
    "id": "UpQ-xsakDhgH",
    "outputId": "d9f58721-86c5-4b65-855c-92fbb1d1f656"
   },
   "outputs": [
    {
     "data": {
      "application/vnd.google.colaboratory.intrinsic+json": {
       "type": "string"
      },
      "text/plain": [
       "'BOS PER Алина Загитова ORG TITLE Алине Загитовой, победительнице чемпионата мира по художественной гимнастике 2018 года в Будапеште в упражнениях с мячом TEXT Уважаемая Алина Сергеевна! Поздравляю Вас с триумфом. Вы блестяще выступили на чемпионате мира в Будапеште, убедительно подтвердили свои лидерские позиции в мировом фигурном катании. И конечно, особые слова признательности – в адрес Ваших тренеров, наставников, всех, кто поддерживал Вас на пути к успеху. Желаю Вам новых достижений и всего самого доброго. EOS'"
      ]
     },
     "execution_count": 34,
     "metadata": {},
     "output_type": "execute_result"
    }
   ],
   "source": [
    "generate(\"BOS PER Алина Загитова ORG TITLE\")"
   ]
  },
  {
   "cell_type": "markdown",
   "metadata": {
    "id": "GZEcoKXsDA-C"
   },
   "source": [
    "Теперь модель чуть лучше помнит, чем именно занимаются люди: с профессией Розовского она справилась. Но опять наблюдается зацикливание.\n",
    "\n",
    "Фигуристкам модель упорно приписывает другие виды спорта. Впрочем, модель угадала, что они весят меньше 97 кг"
   ]
  },
  {
   "cell_type": "code",
   "execution_count": 35,
   "metadata": {
    "colab": {
     "base_uri": "https://localhost:8080/",
     "height": 125
    },
    "id": "mc77Nvc2DyeA",
    "outputId": "b47eb16d-89b0-4079-be81-3a56e67cf459"
   },
   "outputs": [
    {
     "data": {
      "application/vnd.google.colaboratory.intrinsic+json": {
       "type": "string"
      },
      "text/plain": [
       "'BOS PER А. Петров ORG TITLE Участникам торжественного мероприятия, посвящённого 100-летию создания в России института скорой помощи имени А. П. Павлова TEXT Уважаемые друзья! Поздравляю вас с 100-летием создания в России института скорой помощи имени А. П. Павлова. За прошедшие годы институт прошёл большой, насыщенный путь, стал одним из признанных лидеров отечественной медицины. За прошедшие годы институт прошёл большой, насыщенный путь, стал одним из признанных лидеров отечественной медицины. За прошедшие годы институт прошёл большой, насыщенный путь, стал одним из признанных лидеров отечественной медицины. За прошедшие годы институт прошёл большой, насыщенный путь, стал одним из признанных лидеров отечественной медицины. За прошедшие годы институт прошёл большой, насыщенный путь, стал одним из признанных лидеров отечественной медицины. За прошедшие годы институт прошёл большой, насыщенный путь, стал одним из признанных лидеров отечественной медицины. Важно, что вы с уважением относитесь к традициям своих предшественников, стремитесь к новым достижениям, стремитесь к новым, востребованным профессиям. Желаю вам успехов и всего наилучшего. EOS'"
      ]
     },
     "execution_count": 35,
     "metadata": {},
     "output_type": "execute_result"
    }
   ],
   "source": [
    "generate(\"BOS PER А. Петров ORG TITLE\")"
   ]
  },
  {
   "cell_type": "code",
   "execution_count": 36,
   "metadata": {
    "colab": {
     "base_uri": "https://localhost:8080/",
     "height": 89
    },
    "id": "LyEdZ7UUD6mm",
    "outputId": "05b7a01b-28e9-49b1-c3ba-5cdea19e9c2d"
   },
   "outputs": [
    {
     "data": {
      "application/vnd.google.colaboratory.intrinsic+json": {
       "type": "string"
      },
      "text/plain": [
       "'BOS PER А. Петрову ORG TITLE А. Петрову, победителю чемпионата мира по водным видам спорта 2019 года в Будапеште в соревнованиях по плаванию на дистанции 200 метров брассом TEXT Уважаемый Александр Сергеевич! Поздравляю Вас с триумфом. Вы блестяще выступили на чемпионате мира в Будапеште, продемонстрировали отличную подготовку, отличную физическую подготовку и по праву стали первым в истории чемпионом мира в плавании брассом. И конечно, особые слова благодарности – Вашим тренерам, наставникам, всем, кто поддерживал Вас на пути к успеху. Желаю Вам новых достижений и всего самого доброго. EOS'"
      ]
     },
     "execution_count": 36,
     "metadata": {},
     "output_type": "execute_result"
    }
   ],
   "source": [
    "generate(\"BOS PER А. Петрову ORG TITLE\")"
   ]
  },
  {
   "cell_type": "code",
   "execution_count": 37,
   "metadata": {
    "colab": {
     "base_uri": "https://localhost:8080/",
     "height": 107
    },
    "id": "xOtcMh6kD9KR",
    "outputId": "a6e42dac-0389-449e-b29f-90754baebdb7"
   },
   "outputs": [
    {
     "data": {
      "application/vnd.google.colaboratory.intrinsic+json": {
       "type": "string"
      },
      "text/plain": [
       "'BOS PER В. Иванов ORG TITLE Коллективу и ветеранам АО «РЖД» TEXT Уважаемые друзья! Поздравляю вас с 25-летием создания акционерного общества «РЖД». За прошедшие годы «РЖД» накопил солидный опыт, заложил традиции надёжного, динамично развивающегося железнодорожного транспорта, стал одним из признанных лидеров отечественного железнодорожного транспорта. За прошедшие годы «РЖД» прошёл большой путь, заложил замечательные традиции, заложенные многими поколениями его предшественников. Сегодня «РЖД» – это динамично развивающийся, динамично развивающийся транспортный узел, способный обеспечить потребности самых разных регионов страны. Важно, что вы бережно храните традиции своих предшественников, стремитесь эффективно решать поставленные задачи, эффективно решать поставленные задачи на благо России и её граждан. Желаю вам успехов и всего наилучшего. EOS'"
      ]
     },
     "execution_count": 37,
     "metadata": {},
     "output_type": "execute_result"
    }
   ],
   "source": [
    "generate(\"BOS PER В. Иванов ORG TITLE\")"
   ]
  },
  {
   "cell_type": "code",
   "execution_count": 38,
   "metadata": {
    "colab": {
     "base_uri": "https://localhost:8080/",
     "height": 89
    },
    "id": "ueglIlBuD_0_",
    "outputId": "23362aa6-95e5-40b7-a289-44f211f66dd2"
   },
   "outputs": [
    {
     "data": {
      "application/vnd.google.colaboratory.intrinsic+json": {
       "type": "string"
      },
      "text/plain": [
       "'BOS PER В. Иванову ORG TITLE В. Иванову, победителю чемпионата мира по водным видам спорта 2019 года в Будапеште в соревнованиях по плаванию на дистанции 200 метров брассом TEXT Уважаемый Владимир Иванович! Поздравляю Вас с триумфом. Вы блестяще выступили на чемпионате мира в Будапеште, продемонстрировали отличную подготовку, отличную физическую подготовку, умение держать удар и уверенно идти вперёд. И конечно, особые слова благодарности Вашим тренерам и наставникам, которые помогли Вам в напряжённой борьбе с сильными соперниками, в напряжённой борьбе с сильными эмоциями и настроем на победу. Желаю Вам новых достижений и всего самого доброго. EOS'"
      ]
     },
     "execution_count": 38,
     "metadata": {},
     "output_type": "execute_result"
    }
   ],
   "source": [
    "generate(\"BOS PER В. Иванову ORG TITLE\")"
   ]
  },
  {
   "cell_type": "markdown",
   "metadata": {
    "id": "32acmNZwEJE8"
   },
   "source": [
    "Проблема с восприятием персон в именительном падеже сохраняется, но легко чинится"
   ]
  },
  {
   "cell_type": "code",
   "execution_count": 45,
   "metadata": {
    "colab": {
     "base_uri": "https://localhost:8080/",
     "height": 89
    },
    "id": "PYtjmBR3E2Sz",
    "outputId": "2b9597e6-40bd-49a3-8db1-0bcff70153aa"
   },
   "outputs": [
    {
     "data": {
      "application/vnd.google.colaboratory.intrinsic+json": {
       "type": "string"
      },
      "text/plain": [
       "'BOS PER Бонч-Осмаловской ORG TITLE Коллективу и ветеранам АО «НПО «НПО «НПО «НПО «НПО «НПО «НПО «НПО «НПО «НПО «НПО «НПО «НПО «НПО «НПО «НПО «НПО «НПО «НПО «НПО «НПО «НПО «НПО «НПО «НПО «НПО «НПО «НПО «НПО «НПО «НПО «НПО «НПО «НПО «НПО «НПО «НПО «НПО «НПО «НПО «НПО «НПО «НПО «НПО «НПО «НПО «НПО «НПО «НПО «НПО «НПО «НПО «НПО «НПО «НПО «НПО «НПО «НПО «НПО «НПО «НПО «НПО «НПО «НПО «НПО «НПО «НПО «НПО «НПО «НПО «НПО «НПО «НПО «НПО «НПО «НПО «'"
      ]
     },
     "execution_count": 45,
     "metadata": {},
     "output_type": "execute_result"
    }
   ],
   "source": [
    "generate(\"BOS PER Бонч-Осмаловской ORG TITLE\")"
   ]
  },
  {
   "cell_type": "code",
   "execution_count": 47,
   "metadata": {
    "colab": {
     "base_uri": "https://localhost:8080/",
     "height": 125
    },
    "id": "frWWkczIFGo4",
    "outputId": "3be44b69-0999-4048-f6b2-2524d5aedd89"
   },
   "outputs": [
    {
     "data": {
      "application/vnd.google.colaboratory.intrinsic+json": {
       "type": "string"
      },
      "text/plain": [
       "'BOS PER Бонч-Осмаловской ORG TITLE Бонч-Осмаловской городской клинической больнице TEXT Уважаемые друзья! Поздравляю вас с 75-летием создания больницы. За прошедшие годы больница прошла большой, насыщенный путь, стала одним из признанных лидеров в сфере здравоохранения. За прошедшие годы больница прошла большой, насыщенный путь, стала одним из признанных лидеров в сфере здравоохранения. За прошедшие годы больница прошла большой, насыщенный путь, стала одним из признанных лидеров в сфере здравоохранения. За прошедшие годы больница прошла большой, насыщенный путь, стала одним из признанных лидеров в сфере здравоохранения. За прошедшие годы больница прошла большой, насыщенный путь, стала одним из признанных лидеров в сфере здравоохранения. За прошедшие годы больница прошла большой, насыщенный путь, стала одним из признанных лидеров в сфере здравоохранения. Желаю вам успехов и всего самого доброго. EOS'"
      ]
     },
     "execution_count": 47,
     "metadata": {},
     "output_type": "execute_result"
    }
   ],
   "source": [
    "generate(\"BOS PER Бонч-Осмаловской ORG TITLE Бонч-Осмаловской\")"
   ]
  },
  {
   "cell_type": "code",
   "execution_count": 46,
   "metadata": {
    "colab": {
     "base_uri": "https://localhost:8080/",
     "height": 89
    },
    "id": "L7blrIaJE2an",
    "outputId": "445fafae-04bd-4c99-be5c-f3dc3f96f904"
   },
   "outputs": [
    {
     "data": {
      "application/vnd.google.colaboratory.intrinsic+json": {
       "type": "string"
      },
      "text/plain": [
       "'BOS PER А. А. Бонч-Осмаловской ORG TITLE А. А. Бонч-Осмаловской, актрисе театра и кино, народной артистке РСФСР TEXT Уважаемая Александра Александровна! Примите поздравления с юбилейным Днём рождения. Вы посвятили себя актёрскому искусству, своим творчеством обогатили отечественный кинематограф, снискали заслуженное признание зрителей и зрителей разных поколений. И конечно, отмечу Ваш большой личный вклад в развитие отечественного кинематографа, в укрепление его авторитета как одного из признанных лидеров отечественного искусства. Желаю Вам здоровья, благополучия и всего наилучшего. EOS'"
      ]
     },
     "execution_count": 46,
     "metadata": {},
     "output_type": "execute_result"
    }
   ],
   "source": [
    "generate(\"BOS PER А. А. Бонч-Осмаловской ORG TITLE\")"
   ]
  },
  {
   "cell_type": "markdown",
   "metadata": {
    "id": "zyt9FjDhFNub"
   },
   "source": [
    "С нестандартными фамилиями также нужны инициалы"
   ]
  },
  {
   "cell_type": "markdown",
   "metadata": {
    "id": "ih7g6RyxFdh7"
   },
   "source": [
    "Посмотрим, что получится, если передавать текст, испорченный при автоматической постановке в дательный падеж"
   ]
  },
  {
   "cell_type": "code",
   "execution_count": 49,
   "metadata": {
    "colab": {
     "base_uri": "https://localhost:8080/",
     "height": 71
    },
    "id": "TLquChPAFZT8",
    "outputId": "40e3baac-5576-4a34-e18d-0afc5e3b088a"
   },
   "outputs": [
    {
     "data": {
      "application/vnd.google.colaboratory.intrinsic+json": {
       "type": "string"
      },
      "text/plain": [
       "'BOS PER Иванову автору фильму ORG TITLE Иванову автору фильма «Иван Грозный, или Сага о царе Салтане» TEXT Уважаемый Иван Васильевич! Примите поздравления с 80-летним юбилеем. Вы по праву можете гордиться многими поколениями своих предшественников, которые внесли значимый вклад в развитие отечественного кинематографа, в развитие отечественного театра и кинематографа. И конечно, отмечу Ваш большой личный вклад в укрепление авторитета России как великой державы. Желаю Вам здоровья, благополучия и всего наилучшего. EOS'"
      ]
     },
     "execution_count": 49,
     "metadata": {},
     "output_type": "execute_result"
    }
   ],
   "source": [
    "generate(\"BOS PER Иванову автору фильму ORG TITLE\")"
   ]
  },
  {
   "cell_type": "code",
   "execution_count": 50,
   "metadata": {
    "colab": {
     "base_uri": "https://localhost:8080/",
     "height": 89
    },
    "id": "jrXPHPsNFwac",
    "outputId": "bc7c4153-2946-457b-c471-7c922b32c736"
   },
   "outputs": [
    {
     "data": {
      "application/vnd.google.colaboratory.intrinsic+json": {
       "type": "string"
      },
      "text/plain": [
       "'BOS PER Иванову основателю унивенситету ORG TITLE Иванову основателю унивенситетского унивенситета TEXT Уважаемый Иван Иванович! Примите поздравления с 80-летним юбилеем. Вы посвятили себя служению Отечеству, своим трудом внесли значимый вклад в развитие отечественной школы физкультуры, в укрепление института физкультурника, в развитие массового спорта в нашей стране. И конечно, особо отмечу Ваш личный вклад в развитие отечественного спорта высших достижений, в укрепление института физкультурника в нашей стране. Желаю Вам здоровья, успехов и всего наилучшего. EOS'"
      ]
     },
     "execution_count": 50,
     "metadata": {},
     "output_type": "execute_result"
    }
   ],
   "source": [
    "generate(\"BOS PER Иванову основателю унивенситету ORG TITLE\")"
   ]
  },
  {
   "cell_type": "code",
   "execution_count": 51,
   "metadata": {
    "colab": {
     "base_uri": "https://localhost:8080/",
     "height": 89
    },
    "id": "1O9dQkHHF2_v",
    "outputId": "27fdd1af-b42a-45a3-bb26-113058f1db9e"
   },
   "outputs": [
    {
     "data": {
      "application/vnd.google.colaboratory.intrinsic+json": {
       "type": "string"
      },
      "text/plain": [
       "'BOS PER Кардиганову герою Россию ORG TITLE Кардиганову герою России, актёру театра и кино, народному артисту России TEXT Уважаемый Кардиганович! Примите поздравления с Днём рождения. Вы посвятили свою жизнь служению искусству, своим талантом и благородством снискали высокое профессиональное признание и искреннюю любовь зрителей. И конечно, отмечу Вашу востребованную общественную деятельность, активное участие в реализации востребованных благотворительных, просветительских, патриотических инициатив. Желаю Вам здоровья, благополучия и всего наилучшего. EOS'"
      ]
     },
     "execution_count": 51,
     "metadata": {},
     "output_type": "execute_result"
    }
   ],
   "source": [
    "generate(\"BOS PER Кардиганову герою Россию ORG TITLE\")"
   ]
  },
  {
   "cell_type": "markdown",
   "metadata": {
    "id": "67pyJR4yGDAq"
   },
   "source": [
    "Модель умеет сама исправлять падеж, так что можно просто ставить все существительные в дательный падеж, даже если пользователь введет в поле какой-то текст помимо фамилии\n",
    "\n",
    "Фамилию модель все-таки может портить, но первый раз она ее смогла повторить"
   ]
  }
 ],
 "metadata": {
  "accelerator": "GPU",
  "colab": {
   "collapsed_sections": [],
   "name": "train_generation.ipynb",
   "provenance": []
  },
  "gpuClass": "standard",
  "kernelspec": {
   "display_name": "Python 3 (ipykernel)",
   "language": "python",
   "name": "python3"
  },
  "language_info": {
   "codemirror_mode": {
    "name": "ipython",
    "version": 3
   },
   "file_extension": ".py",
   "mimetype": "text/x-python",
   "name": "python",
   "nbconvert_exporter": "python",
   "pygments_lexer": "ipython3",
   "version": "3.9.7"
  },
  "widgets": {
   "application/vnd.jupyter.widget-state+json": {
    "0467bbf2171447eeaf3bc635f22621ac": {
     "model_module": "@jupyter-widgets/controls",
     "model_module_version": "1.5.0",
     "model_name": "DescriptionStyleModel",
     "state": {
      "_model_module": "@jupyter-widgets/controls",
      "_model_module_version": "1.5.0",
      "_model_name": "DescriptionStyleModel",
      "_view_count": null,
      "_view_module": "@jupyter-widgets/base",
      "_view_module_version": "1.2.0",
      "_view_name": "StyleView",
      "description_width": ""
     }
    },
    "054833a52f4348c98d10cd9d0c62cff7": {
     "model_module": "@jupyter-widgets/controls",
     "model_module_version": "1.5.0",
     "model_name": "ProgressStyleModel",
     "state": {
      "_model_module": "@jupyter-widgets/controls",
      "_model_module_version": "1.5.0",
      "_model_name": "ProgressStyleModel",
      "_view_count": null,
      "_view_module": "@jupyter-widgets/base",
      "_view_module_version": "1.2.0",
      "_view_name": "StyleView",
      "bar_color": null,
      "description_width": ""
     }
    },
    "0e97c230af2947849a2c820f687490d6": {
     "model_module": "@jupyter-widgets/controls",
     "model_module_version": "1.5.0",
     "model_name": "DescriptionStyleModel",
     "state": {
      "_model_module": "@jupyter-widgets/controls",
      "_model_module_version": "1.5.0",
      "_model_name": "DescriptionStyleModel",
      "_view_count": null,
      "_view_module": "@jupyter-widgets/base",
      "_view_module_version": "1.2.0",
      "_view_name": "StyleView",
      "description_width": ""
     }
    },
    "1277a756c4ac4dfc88a7eba2ec95e7c4": {
     "model_module": "@jupyter-widgets/base",
     "model_module_version": "1.2.0",
     "model_name": "LayoutModel",
     "state": {
      "_model_module": "@jupyter-widgets/base",
      "_model_module_version": "1.2.0",
      "_model_name": "LayoutModel",
      "_view_count": null,
      "_view_module": "@jupyter-widgets/base",
      "_view_module_version": "1.2.0",
      "_view_name": "LayoutView",
      "align_content": null,
      "align_items": null,
      "align_self": null,
      "border": null,
      "bottom": null,
      "display": null,
      "flex": null,
      "flex_flow": null,
      "grid_area": null,
      "grid_auto_columns": null,
      "grid_auto_flow": null,
      "grid_auto_rows": null,
      "grid_column": null,
      "grid_gap": null,
      "grid_row": null,
      "grid_template_areas": null,
      "grid_template_columns": null,
      "grid_template_rows": null,
      "height": null,
      "justify_content": null,
      "justify_items": null,
      "left": null,
      "margin": null,
      "max_height": null,
      "max_width": null,
      "min_height": null,
      "min_width": null,
      "object_fit": null,
      "object_position": null,
      "order": null,
      "overflow": null,
      "overflow_x": null,
      "overflow_y": null,
      "padding": null,
      "right": null,
      "top": null,
      "visibility": null,
      "width": null
     }
    },
    "1a30cb5cc887419a89d4ee07cd590764": {
     "model_module": "@jupyter-widgets/controls",
     "model_module_version": "1.5.0",
     "model_name": "ProgressStyleModel",
     "state": {
      "_model_module": "@jupyter-widgets/controls",
      "_model_module_version": "1.5.0",
      "_model_name": "ProgressStyleModel",
      "_view_count": null,
      "_view_module": "@jupyter-widgets/base",
      "_view_module_version": "1.2.0",
      "_view_name": "StyleView",
      "bar_color": null,
      "description_width": ""
     }
    },
    "1b8d31b23ca442cb862de9ce0822d82d": {
     "model_module": "@jupyter-widgets/controls",
     "model_module_version": "1.5.0",
     "model_name": "DescriptionStyleModel",
     "state": {
      "_model_module": "@jupyter-widgets/controls",
      "_model_module_version": "1.5.0",
      "_model_name": "DescriptionStyleModel",
      "_view_count": null,
      "_view_module": "@jupyter-widgets/base",
      "_view_module_version": "1.2.0",
      "_view_name": "StyleView",
      "description_width": ""
     }
    },
    "1d5171581f66439b9b0619e28edbce7c": {
     "model_module": "@jupyter-widgets/controls",
     "model_module_version": "1.5.0",
     "model_name": "HBoxModel",
     "state": {
      "_dom_classes": [],
      "_model_module": "@jupyter-widgets/controls",
      "_model_module_version": "1.5.0",
      "_model_name": "HBoxModel",
      "_view_count": null,
      "_view_module": "@jupyter-widgets/controls",
      "_view_module_version": "1.5.0",
      "_view_name": "HBoxView",
      "box_style": "",
      "children": [
       "IPY_MODEL_b8621f437ab1427db28df47344abd3ad",
       "IPY_MODEL_911e6ce7b7dc4ec08d26772149bd4646",
       "IPY_MODEL_2102c86c27e443f496eb7d903b399d18"
      ],
      "layout": "IPY_MODEL_299383aae1cf4218915f218dc9c90214"
     }
    },
    "2102c86c27e443f496eb7d903b399d18": {
     "model_module": "@jupyter-widgets/controls",
     "model_module_version": "1.5.0",
     "model_name": "HTMLModel",
     "state": {
      "_dom_classes": [],
      "_model_module": "@jupyter-widgets/controls",
      "_model_module_version": "1.5.0",
      "_model_name": "HTMLModel",
      "_view_count": null,
      "_view_module": "@jupyter-widgets/controls",
      "_view_module_version": "1.5.0",
      "_view_name": "HTMLView",
      "description": "",
      "description_tooltip": null,
      "layout": "IPY_MODEL_3da14e7bc9cb4b9da2a2330cdf3b5e8c",
      "placeholder": "​",
      "style": "IPY_MODEL_247c138a88cb418294195f3b2b7f0221",
      "value": " 1.21M/1.21M [00:00&lt;00:00, 1.96MB/s]"
     }
    },
    "247c138a88cb418294195f3b2b7f0221": {
     "model_module": "@jupyter-widgets/controls",
     "model_module_version": "1.5.0",
     "model_name": "DescriptionStyleModel",
     "state": {
      "_model_module": "@jupyter-widgets/controls",
      "_model_module_version": "1.5.0",
      "_model_name": "DescriptionStyleModel",
      "_view_count": null,
      "_view_module": "@jupyter-widgets/base",
      "_view_module_version": "1.2.0",
      "_view_name": "StyleView",
      "description_width": ""
     }
    },
    "266ee8c2b0894691bdb7bd1eb5ea35da": {
     "model_module": "@jupyter-widgets/base",
     "model_module_version": "1.2.0",
     "model_name": "LayoutModel",
     "state": {
      "_model_module": "@jupyter-widgets/base",
      "_model_module_version": "1.2.0",
      "_model_name": "LayoutModel",
      "_view_count": null,
      "_view_module": "@jupyter-widgets/base",
      "_view_module_version": "1.2.0",
      "_view_name": "LayoutView",
      "align_content": null,
      "align_items": null,
      "align_self": null,
      "border": null,
      "bottom": null,
      "display": null,
      "flex": null,
      "flex_flow": null,
      "grid_area": null,
      "grid_auto_columns": null,
      "grid_auto_flow": null,
      "grid_auto_rows": null,
      "grid_column": null,
      "grid_gap": null,
      "grid_row": null,
      "grid_template_areas": null,
      "grid_template_columns": null,
      "grid_template_rows": null,
      "height": null,
      "justify_content": null,
      "justify_items": null,
      "left": null,
      "margin": null,
      "max_height": null,
      "max_width": null,
      "min_height": null,
      "min_width": null,
      "object_fit": null,
      "object_position": null,
      "order": null,
      "overflow": null,
      "overflow_x": null,
      "overflow_y": null,
      "padding": null,
      "right": null,
      "top": null,
      "visibility": null,
      "width": null
     }
    },
    "26d400e2fd554b29b62aa5f5ee74dda6": {
     "model_module": "@jupyter-widgets/controls",
     "model_module_version": "1.5.0",
     "model_name": "DescriptionStyleModel",
     "state": {
      "_model_module": "@jupyter-widgets/controls",
      "_model_module_version": "1.5.0",
      "_model_name": "DescriptionStyleModel",
      "_view_count": null,
      "_view_module": "@jupyter-widgets/base",
      "_view_module_version": "1.2.0",
      "_view_name": "StyleView",
      "description_width": ""
     }
    },
    "296d96d3980243d586ded143a29f0639": {
     "model_module": "@jupyter-widgets/base",
     "model_module_version": "1.2.0",
     "model_name": "LayoutModel",
     "state": {
      "_model_module": "@jupyter-widgets/base",
      "_model_module_version": "1.2.0",
      "_model_name": "LayoutModel",
      "_view_count": null,
      "_view_module": "@jupyter-widgets/base",
      "_view_module_version": "1.2.0",
      "_view_name": "LayoutView",
      "align_content": null,
      "align_items": null,
      "align_self": null,
      "border": null,
      "bottom": null,
      "display": null,
      "flex": null,
      "flex_flow": null,
      "grid_area": null,
      "grid_auto_columns": null,
      "grid_auto_flow": null,
      "grid_auto_rows": null,
      "grid_column": null,
      "grid_gap": null,
      "grid_row": null,
      "grid_template_areas": null,
      "grid_template_columns": null,
      "grid_template_rows": null,
      "height": null,
      "justify_content": null,
      "justify_items": null,
      "left": null,
      "margin": null,
      "max_height": null,
      "max_width": null,
      "min_height": null,
      "min_width": null,
      "object_fit": null,
      "object_position": null,
      "order": null,
      "overflow": null,
      "overflow_x": null,
      "overflow_y": null,
      "padding": null,
      "right": null,
      "top": null,
      "visibility": null,
      "width": null
     }
    },
    "299383aae1cf4218915f218dc9c90214": {
     "model_module": "@jupyter-widgets/base",
     "model_module_version": "1.2.0",
     "model_name": "LayoutModel",
     "state": {
      "_model_module": "@jupyter-widgets/base",
      "_model_module_version": "1.2.0",
      "_model_name": "LayoutModel",
      "_view_count": null,
      "_view_module": "@jupyter-widgets/base",
      "_view_module_version": "1.2.0",
      "_view_name": "LayoutView",
      "align_content": null,
      "align_items": null,
      "align_self": null,
      "border": null,
      "bottom": null,
      "display": null,
      "flex": null,
      "flex_flow": null,
      "grid_area": null,
      "grid_auto_columns": null,
      "grid_auto_flow": null,
      "grid_auto_rows": null,
      "grid_column": null,
      "grid_gap": null,
      "grid_row": null,
      "grid_template_areas": null,
      "grid_template_columns": null,
      "grid_template_rows": null,
      "height": null,
      "justify_content": null,
      "justify_items": null,
      "left": null,
      "margin": null,
      "max_height": null,
      "max_width": null,
      "min_height": null,
      "min_width": null,
      "object_fit": null,
      "object_position": null,
      "order": null,
      "overflow": null,
      "overflow_x": null,
      "overflow_y": null,
      "padding": null,
      "right": null,
      "top": null,
      "visibility": null,
      "width": null
     }
    },
    "29ac6835549842479a2cdd923940891a": {
     "model_module": "@jupyter-widgets/base",
     "model_module_version": "1.2.0",
     "model_name": "LayoutModel",
     "state": {
      "_model_module": "@jupyter-widgets/base",
      "_model_module_version": "1.2.0",
      "_model_name": "LayoutModel",
      "_view_count": null,
      "_view_module": "@jupyter-widgets/base",
      "_view_module_version": "1.2.0",
      "_view_name": "LayoutView",
      "align_content": null,
      "align_items": null,
      "align_self": null,
      "border": null,
      "bottom": null,
      "display": null,
      "flex": null,
      "flex_flow": null,
      "grid_area": null,
      "grid_auto_columns": null,
      "grid_auto_flow": null,
      "grid_auto_rows": null,
      "grid_column": null,
      "grid_gap": null,
      "grid_row": null,
      "grid_template_areas": null,
      "grid_template_columns": null,
      "grid_template_rows": null,
      "height": null,
      "justify_content": null,
      "justify_items": null,
      "left": null,
      "margin": null,
      "max_height": null,
      "max_width": null,
      "min_height": null,
      "min_width": null,
      "object_fit": null,
      "object_position": null,
      "order": null,
      "overflow": null,
      "overflow_x": null,
      "overflow_y": null,
      "padding": null,
      "right": null,
      "top": null,
      "visibility": null,
      "width": null
     }
    },
    "29bb19528ec04ac298de73d76009a630": {
     "model_module": "@jupyter-widgets/controls",
     "model_module_version": "1.5.0",
     "model_name": "HTMLModel",
     "state": {
      "_dom_classes": [],
      "_model_module": "@jupyter-widgets/controls",
      "_model_module_version": "1.5.0",
      "_model_name": "HTMLModel",
      "_view_count": null,
      "_view_module": "@jupyter-widgets/controls",
      "_view_module_version": "1.5.0",
      "_view_name": "HTMLView",
      "description": "",
      "description_tooltip": null,
      "layout": "IPY_MODEL_cfb9f5f872234bc4940e6fe7d98ea810",
      "placeholder": "​",
      "style": "IPY_MODEL_712da929bdd942a988f1058cf3b1c24f",
      "value": " 681/681 [04:34&lt;00:00,  2.51it/s]"
     }
    },
    "2fbc4e4be62f495c9cf2621458af6257": {
     "model_module": "@jupyter-widgets/controls",
     "model_module_version": "1.5.0",
     "model_name": "HBoxModel",
     "state": {
      "_dom_classes": [],
      "_model_module": "@jupyter-widgets/controls",
      "_model_module_version": "1.5.0",
      "_model_name": "HBoxModel",
      "_view_count": null,
      "_view_module": "@jupyter-widgets/controls",
      "_view_module_version": "1.5.0",
      "_view_name": "HBoxView",
      "box_style": "",
      "children": [
       "IPY_MODEL_9a9c3bd0df7d4122bbb906785f62a37c",
       "IPY_MODEL_3701922da3974e2d9f823cda0337dfa3",
       "IPY_MODEL_39a4ffab484c4977ba0ae4b99b6d88b1"
      ],
      "layout": "IPY_MODEL_296d96d3980243d586ded143a29f0639"
     }
    },
    "35e865800dac4c2dbec2c6a21e2fbab4": {
     "model_module": "@jupyter-widgets/base",
     "model_module_version": "1.2.0",
     "model_name": "LayoutModel",
     "state": {
      "_model_module": "@jupyter-widgets/base",
      "_model_module_version": "1.2.0",
      "_model_name": "LayoutModel",
      "_view_count": null,
      "_view_module": "@jupyter-widgets/base",
      "_view_module_version": "1.2.0",
      "_view_name": "LayoutView",
      "align_content": null,
      "align_items": null,
      "align_self": null,
      "border": null,
      "bottom": null,
      "display": null,
      "flex": null,
      "flex_flow": null,
      "grid_area": null,
      "grid_auto_columns": null,
      "grid_auto_flow": null,
      "grid_auto_rows": null,
      "grid_column": null,
      "grid_gap": null,
      "grid_row": null,
      "grid_template_areas": null,
      "grid_template_columns": null,
      "grid_template_rows": null,
      "height": null,
      "justify_content": null,
      "justify_items": null,
      "left": null,
      "margin": null,
      "max_height": null,
      "max_width": null,
      "min_height": null,
      "min_width": null,
      "object_fit": null,
      "object_position": null,
      "order": null,
      "overflow": null,
      "overflow_x": null,
      "overflow_y": null,
      "padding": null,
      "right": null,
      "top": null,
      "visibility": null,
      "width": null
     }
    },
    "3701922da3974e2d9f823cda0337dfa3": {
     "model_module": "@jupyter-widgets/controls",
     "model_module_version": "1.5.0",
     "model_name": "FloatProgressModel",
     "state": {
      "_dom_classes": [],
      "_model_module": "@jupyter-widgets/controls",
      "_model_module_version": "1.5.0",
      "_model_name": "FloatProgressModel",
      "_view_count": null,
      "_view_module": "@jupyter-widgets/controls",
      "_view_module_version": "1.5.0",
      "_view_name": "ProgressView",
      "bar_style": "success",
      "description": "",
      "description_tooltip": null,
      "layout": "IPY_MODEL_a9ce7051edc54e41af2b0177f2917006",
      "max": 551290714,
      "min": 0,
      "orientation": "horizontal",
      "style": "IPY_MODEL_d498eeea2a3c4cc78e9dce96291e8ac0",
      "value": 551290714
     }
    },
    "39a4ffab484c4977ba0ae4b99b6d88b1": {
     "model_module": "@jupyter-widgets/controls",
     "model_module_version": "1.5.0",
     "model_name": "HTMLModel",
     "state": {
      "_dom_classes": [],
      "_model_module": "@jupyter-widgets/controls",
      "_model_module_version": "1.5.0",
      "_model_name": "HTMLModel",
      "_view_count": null,
      "_view_module": "@jupyter-widgets/controls",
      "_view_module_version": "1.5.0",
      "_view_name": "HTMLView",
      "description": "",
      "description_tooltip": null,
      "layout": "IPY_MODEL_f7479e6c32684a2b9f1495f078bdea4e",
      "placeholder": "​",
      "style": "IPY_MODEL_26d400e2fd554b29b62aa5f5ee74dda6",
      "value": " 526M/526M [00:12&lt;00:00, 33.0MB/s]"
     }
    },
    "3da14e7bc9cb4b9da2a2330cdf3b5e8c": {
     "model_module": "@jupyter-widgets/base",
     "model_module_version": "1.2.0",
     "model_name": "LayoutModel",
     "state": {
      "_model_module": "@jupyter-widgets/base",
      "_model_module_version": "1.2.0",
      "_model_name": "LayoutModel",
      "_view_count": null,
      "_view_module": "@jupyter-widgets/base",
      "_view_module_version": "1.2.0",
      "_view_name": "LayoutView",
      "align_content": null,
      "align_items": null,
      "align_self": null,
      "border": null,
      "bottom": null,
      "display": null,
      "flex": null,
      "flex_flow": null,
      "grid_area": null,
      "grid_auto_columns": null,
      "grid_auto_flow": null,
      "grid_auto_rows": null,
      "grid_column": null,
      "grid_gap": null,
      "grid_row": null,
      "grid_template_areas": null,
      "grid_template_columns": null,
      "grid_template_rows": null,
      "height": null,
      "justify_content": null,
      "justify_items": null,
      "left": null,
      "margin": null,
      "max_height": null,
      "max_width": null,
      "min_height": null,
      "min_width": null,
      "object_fit": null,
      "object_position": null,
      "order": null,
      "overflow": null,
      "overflow_x": null,
      "overflow_y": null,
      "padding": null,
      "right": null,
      "top": null,
      "visibility": null,
      "width": null
     }
    },
    "454aea3dfb6745e6a9022bec1e157d14": {
     "model_module": "@jupyter-widgets/base",
     "model_module_version": "1.2.0",
     "model_name": "LayoutModel",
     "state": {
      "_model_module": "@jupyter-widgets/base",
      "_model_module_version": "1.2.0",
      "_model_name": "LayoutModel",
      "_view_count": null,
      "_view_module": "@jupyter-widgets/base",
      "_view_module_version": "1.2.0",
      "_view_name": "LayoutView",
      "align_content": null,
      "align_items": null,
      "align_self": null,
      "border": null,
      "bottom": null,
      "display": null,
      "flex": null,
      "flex_flow": null,
      "grid_area": null,
      "grid_auto_columns": null,
      "grid_auto_flow": null,
      "grid_auto_rows": null,
      "grid_column": null,
      "grid_gap": null,
      "grid_row": null,
      "grid_template_areas": null,
      "grid_template_columns": null,
      "grid_template_rows": null,
      "height": null,
      "justify_content": null,
      "justify_items": null,
      "left": null,
      "margin": null,
      "max_height": null,
      "max_width": null,
      "min_height": null,
      "min_width": null,
      "object_fit": null,
      "object_position": null,
      "order": null,
      "overflow": null,
      "overflow_x": null,
      "overflow_y": null,
      "padding": null,
      "right": null,
      "top": null,
      "visibility": null,
      "width": null
     }
    },
    "48e47b893d1046eb94cc5040d24395e4": {
     "model_module": "@jupyter-widgets/controls",
     "model_module_version": "1.5.0",
     "model_name": "ProgressStyleModel",
     "state": {
      "_model_module": "@jupyter-widgets/controls",
      "_model_module_version": "1.5.0",
      "_model_name": "ProgressStyleModel",
      "_view_count": null,
      "_view_module": "@jupyter-widgets/base",
      "_view_module_version": "1.2.0",
      "_view_name": "StyleView",
      "bar_color": null,
      "description_width": ""
     }
    },
    "4e54656a8a854c7bb63e91fd4619a92a": {
     "model_module": "@jupyter-widgets/base",
     "model_module_version": "1.2.0",
     "model_name": "LayoutModel",
     "state": {
      "_model_module": "@jupyter-widgets/base",
      "_model_module_version": "1.2.0",
      "_model_name": "LayoutModel",
      "_view_count": null,
      "_view_module": "@jupyter-widgets/base",
      "_view_module_version": "1.2.0",
      "_view_name": "LayoutView",
      "align_content": null,
      "align_items": null,
      "align_self": null,
      "border": null,
      "bottom": null,
      "display": null,
      "flex": null,
      "flex_flow": null,
      "grid_area": null,
      "grid_auto_columns": null,
      "grid_auto_flow": null,
      "grid_auto_rows": null,
      "grid_column": null,
      "grid_gap": null,
      "grid_row": null,
      "grid_template_areas": null,
      "grid_template_columns": null,
      "grid_template_rows": null,
      "height": null,
      "justify_content": null,
      "justify_items": null,
      "left": null,
      "margin": null,
      "max_height": null,
      "max_width": null,
      "min_height": null,
      "min_width": null,
      "object_fit": null,
      "object_position": null,
      "order": null,
      "overflow": null,
      "overflow_x": null,
      "overflow_y": null,
      "padding": null,
      "right": null,
      "top": null,
      "visibility": null,
      "width": null
     }
    },
    "51d1a77c0a9d40758d84a85c4dd7d5d4": {
     "model_module": "@jupyter-widgets/base",
     "model_module_version": "1.2.0",
     "model_name": "LayoutModel",
     "state": {
      "_model_module": "@jupyter-widgets/base",
      "_model_module_version": "1.2.0",
      "_model_name": "LayoutModel",
      "_view_count": null,
      "_view_module": "@jupyter-widgets/base",
      "_view_module_version": "1.2.0",
      "_view_name": "LayoutView",
      "align_content": null,
      "align_items": null,
      "align_self": null,
      "border": null,
      "bottom": null,
      "display": null,
      "flex": null,
      "flex_flow": null,
      "grid_area": null,
      "grid_auto_columns": null,
      "grid_auto_flow": null,
      "grid_auto_rows": null,
      "grid_column": null,
      "grid_gap": null,
      "grid_row": null,
      "grid_template_areas": null,
      "grid_template_columns": null,
      "grid_template_rows": null,
      "height": null,
      "justify_content": null,
      "justify_items": null,
      "left": null,
      "margin": null,
      "max_height": null,
      "max_width": null,
      "min_height": null,
      "min_width": null,
      "object_fit": null,
      "object_position": null,
      "order": null,
      "overflow": null,
      "overflow_x": null,
      "overflow_y": null,
      "padding": null,
      "right": null,
      "top": null,
      "visibility": null,
      "width": null
     }
    },
    "52e4d2557c9d405bb00f1b66d9a6ce97": {
     "model_module": "@jupyter-widgets/base",
     "model_module_version": "1.2.0",
     "model_name": "LayoutModel",
     "state": {
      "_model_module": "@jupyter-widgets/base",
      "_model_module_version": "1.2.0",
      "_model_name": "LayoutModel",
      "_view_count": null,
      "_view_module": "@jupyter-widgets/base",
      "_view_module_version": "1.2.0",
      "_view_name": "LayoutView",
      "align_content": null,
      "align_items": null,
      "align_self": null,
      "border": null,
      "bottom": null,
      "display": null,
      "flex": null,
      "flex_flow": null,
      "grid_area": null,
      "grid_auto_columns": null,
      "grid_auto_flow": null,
      "grid_auto_rows": null,
      "grid_column": null,
      "grid_gap": null,
      "grid_row": null,
      "grid_template_areas": null,
      "grid_template_columns": null,
      "grid_template_rows": null,
      "height": null,
      "justify_content": null,
      "justify_items": null,
      "left": null,
      "margin": null,
      "max_height": null,
      "max_width": null,
      "min_height": null,
      "min_width": null,
      "object_fit": null,
      "object_position": null,
      "order": null,
      "overflow": null,
      "overflow_x": null,
      "overflow_y": null,
      "padding": null,
      "right": null,
      "top": null,
      "visibility": null,
      "width": null
     }
    },
    "6026bb8dec514903a870b39b6437b482": {
     "model_module": "@jupyter-widgets/controls",
     "model_module_version": "1.5.0",
     "model_name": "HTMLModel",
     "state": {
      "_dom_classes": [],
      "_model_module": "@jupyter-widgets/controls",
      "_model_module_version": "1.5.0",
      "_model_name": "HTMLModel",
      "_view_count": null,
      "_view_module": "@jupyter-widgets/controls",
      "_view_module_version": "1.5.0",
      "_view_name": "HTMLView",
      "description": "",
      "description_tooltip": null,
      "layout": "IPY_MODEL_c486c1ae917048b58ea2452492212958",
      "placeholder": "​",
      "style": "IPY_MODEL_69cf1c9bf6a146d5bcd27bb094c8c2f4",
      "value": " 526M/526M [00:10&lt;00:00, 63.7MB/s]"
     }
    },
    "614e3f99686045a39e943fd5ecf96d1b": {
     "model_module": "@jupyter-widgets/base",
     "model_module_version": "1.2.0",
     "model_name": "LayoutModel",
     "state": {
      "_model_module": "@jupyter-widgets/base",
      "_model_module_version": "1.2.0",
      "_model_name": "LayoutModel",
      "_view_count": null,
      "_view_module": "@jupyter-widgets/base",
      "_view_module_version": "1.2.0",
      "_view_name": "LayoutView",
      "align_content": null,
      "align_items": null,
      "align_self": null,
      "border": null,
      "bottom": null,
      "display": null,
      "flex": null,
      "flex_flow": null,
      "grid_area": null,
      "grid_auto_columns": null,
      "grid_auto_flow": null,
      "grid_auto_rows": null,
      "grid_column": null,
      "grid_gap": null,
      "grid_row": null,
      "grid_template_areas": null,
      "grid_template_columns": null,
      "grid_template_rows": null,
      "height": null,
      "justify_content": null,
      "justify_items": null,
      "left": null,
      "margin": null,
      "max_height": null,
      "max_width": null,
      "min_height": null,
      "min_width": null,
      "object_fit": null,
      "object_position": null,
      "order": null,
      "overflow": null,
      "overflow_x": null,
      "overflow_y": null,
      "padding": null,
      "right": null,
      "top": null,
      "visibility": null,
      "width": null
     }
    },
    "624825cff7a7464ca1ae8b06f5b0ce1b": {
     "model_module": "@jupyter-widgets/controls",
     "model_module_version": "1.5.0",
     "model_name": "DescriptionStyleModel",
     "state": {
      "_model_module": "@jupyter-widgets/controls",
      "_model_module_version": "1.5.0",
      "_model_name": "DescriptionStyleModel",
      "_view_count": null,
      "_view_module": "@jupyter-widgets/base",
      "_view_module_version": "1.2.0",
      "_view_name": "StyleView",
      "description_width": ""
     }
    },
    "64eaa2d999e34bc08f7a452949f0d151": {
     "model_module": "@jupyter-widgets/base",
     "model_module_version": "1.2.0",
     "model_name": "LayoutModel",
     "state": {
      "_model_module": "@jupyter-widgets/base",
      "_model_module_version": "1.2.0",
      "_model_name": "LayoutModel",
      "_view_count": null,
      "_view_module": "@jupyter-widgets/base",
      "_view_module_version": "1.2.0",
      "_view_name": "LayoutView",
      "align_content": null,
      "align_items": null,
      "align_self": null,
      "border": null,
      "bottom": null,
      "display": null,
      "flex": null,
      "flex_flow": null,
      "grid_area": null,
      "grid_auto_columns": null,
      "grid_auto_flow": null,
      "grid_auto_rows": null,
      "grid_column": null,
      "grid_gap": null,
      "grid_row": null,
      "grid_template_areas": null,
      "grid_template_columns": null,
      "grid_template_rows": null,
      "height": null,
      "justify_content": null,
      "justify_items": null,
      "left": null,
      "margin": null,
      "max_height": null,
      "max_width": null,
      "min_height": null,
      "min_width": null,
      "object_fit": null,
      "object_position": null,
      "order": null,
      "overflow": null,
      "overflow_x": null,
      "overflow_y": null,
      "padding": null,
      "right": null,
      "top": null,
      "visibility": null,
      "width": null
     }
    },
    "67f9c30e0f6c482fb5521e0594c372de": {
     "model_module": "@jupyter-widgets/controls",
     "model_module_version": "1.5.0",
     "model_name": "ProgressStyleModel",
     "state": {
      "_model_module": "@jupyter-widgets/controls",
      "_model_module_version": "1.5.0",
      "_model_name": "ProgressStyleModel",
      "_view_count": null,
      "_view_module": "@jupyter-widgets/base",
      "_view_module_version": "1.2.0",
      "_view_name": "StyleView",
      "bar_color": null,
      "description_width": ""
     }
    },
    "68004e579fff41a28bee2fe4ce63cce8": {
     "model_module": "@jupyter-widgets/controls",
     "model_module_version": "1.5.0",
     "model_name": "FloatProgressModel",
     "state": {
      "_dom_classes": [],
      "_model_module": "@jupyter-widgets/controls",
      "_model_module_version": "1.5.0",
      "_model_name": "FloatProgressModel",
      "_view_count": null,
      "_view_module": "@jupyter-widgets/controls",
      "_view_module_version": "1.5.0",
      "_view_name": "ProgressView",
      "bar_style": "",
      "description": "",
      "description_tooltip": null,
      "layout": "IPY_MODEL_4e54656a8a854c7bb63e91fd4619a92a",
      "max": 2270,
      "min": 0,
      "orientation": "horizontal",
      "style": "IPY_MODEL_67f9c30e0f6c482fb5521e0594c372de",
      "value": 2270
     }
    },
    "68551c87453e49f18927839933eceee5": {
     "model_module": "@jupyter-widgets/controls",
     "model_module_version": "1.5.0",
     "model_name": "FloatProgressModel",
     "state": {
      "_dom_classes": [],
      "_model_module": "@jupyter-widgets/controls",
      "_model_module_version": "1.5.0",
      "_model_name": "FloatProgressModel",
      "_view_count": null,
      "_view_module": "@jupyter-widgets/controls",
      "_view_module_version": "1.5.0",
      "_view_name": "ProgressView",
      "bar_style": "success",
      "description": "",
      "description_tooltip": null,
      "layout": "IPY_MODEL_c3f228dad64748aca85c9735257db7dc",
      "max": 608,
      "min": 0,
      "orientation": "horizontal",
      "style": "IPY_MODEL_054833a52f4348c98d10cd9d0c62cff7",
      "value": 608
     }
    },
    "69a782f008384b75a92e65cf111382bc": {
     "model_module": "@jupyter-widgets/controls",
     "model_module_version": "1.5.0",
     "model_name": "HBoxModel",
     "state": {
      "_dom_classes": [],
      "_model_module": "@jupyter-widgets/controls",
      "_model_module_version": "1.5.0",
      "_model_name": "HBoxModel",
      "_view_count": null,
      "_view_module": "@jupyter-widgets/controls",
      "_view_module_version": "1.5.0",
      "_view_name": "HBoxView",
      "box_style": "",
      "children": [
       "IPY_MODEL_9202e0d203264bf0b4a1ffb2fd56e534",
       "IPY_MODEL_7ee347d7ba4c48559d650f8920a92a58",
       "IPY_MODEL_29bb19528ec04ac298de73d76009a630"
      ],
      "layout": "IPY_MODEL_890131eafd5246bdad7a79d483f3a19c"
     }
    },
    "69cf1c9bf6a146d5bcd27bb094c8c2f4": {
     "model_module": "@jupyter-widgets/controls",
     "model_module_version": "1.5.0",
     "model_name": "DescriptionStyleModel",
     "state": {
      "_model_module": "@jupyter-widgets/controls",
      "_model_module_version": "1.5.0",
      "_model_name": "DescriptionStyleModel",
      "_view_count": null,
      "_view_module": "@jupyter-widgets/base",
      "_view_module_version": "1.2.0",
      "_view_name": "StyleView",
      "description_width": ""
     }
    },
    "712da929bdd942a988f1058cf3b1c24f": {
     "model_module": "@jupyter-widgets/controls",
     "model_module_version": "1.5.0",
     "model_name": "DescriptionStyleModel",
     "state": {
      "_model_module": "@jupyter-widgets/controls",
      "_model_module_version": "1.5.0",
      "_model_name": "DescriptionStyleModel",
      "_view_count": null,
      "_view_module": "@jupyter-widgets/base",
      "_view_module_version": "1.2.0",
      "_view_name": "StyleView",
      "description_width": ""
     }
    },
    "786f3a68e26740e9a9ed0069baa9b01c": {
     "model_module": "@jupyter-widgets/base",
     "model_module_version": "1.2.0",
     "model_name": "LayoutModel",
     "state": {
      "_model_module": "@jupyter-widgets/base",
      "_model_module_version": "1.2.0",
      "_model_name": "LayoutModel",
      "_view_count": null,
      "_view_module": "@jupyter-widgets/base",
      "_view_module_version": "1.2.0",
      "_view_name": "LayoutView",
      "align_content": null,
      "align_items": null,
      "align_self": null,
      "border": null,
      "bottom": null,
      "display": null,
      "flex": null,
      "flex_flow": null,
      "grid_area": null,
      "grid_auto_columns": null,
      "grid_auto_flow": null,
      "grid_auto_rows": null,
      "grid_column": null,
      "grid_gap": null,
      "grid_row": null,
      "grid_template_areas": null,
      "grid_template_columns": null,
      "grid_template_rows": null,
      "height": null,
      "justify_content": null,
      "justify_items": null,
      "left": null,
      "margin": null,
      "max_height": null,
      "max_width": null,
      "min_height": null,
      "min_width": null,
      "object_fit": null,
      "object_position": null,
      "order": null,
      "overflow": null,
      "overflow_x": null,
      "overflow_y": null,
      "padding": null,
      "right": null,
      "top": null,
      "visibility": null,
      "width": null
     }
    },
    "7c73956ee5c84eb9adb6c4d94281a3cc": {
     "model_module": "@jupyter-widgets/controls",
     "model_module_version": "1.5.0",
     "model_name": "ProgressStyleModel",
     "state": {
      "_model_module": "@jupyter-widgets/controls",
      "_model_module_version": "1.5.0",
      "_model_name": "ProgressStyleModel",
      "_view_count": null,
      "_view_module": "@jupyter-widgets/base",
      "_view_module_version": "1.2.0",
      "_view_name": "StyleView",
      "bar_color": null,
      "description_width": ""
     }
    },
    "7ee347d7ba4c48559d650f8920a92a58": {
     "model_module": "@jupyter-widgets/controls",
     "model_module_version": "1.5.0",
     "model_name": "FloatProgressModel",
     "state": {
      "_dom_classes": [],
      "_model_module": "@jupyter-widgets/controls",
      "_model_module_version": "1.5.0",
      "_model_name": "FloatProgressModel",
      "_view_count": null,
      "_view_module": "@jupyter-widgets/controls",
      "_view_module_version": "1.5.0",
      "_view_name": "ProgressView",
      "bar_style": "",
      "description": "",
      "description_tooltip": null,
      "layout": "IPY_MODEL_29ac6835549842479a2cdd923940891a",
      "max": 681,
      "min": 0,
      "orientation": "horizontal",
      "style": "IPY_MODEL_48e47b893d1046eb94cc5040d24395e4",
      "value": 681
     }
    },
    "83930410d93547239e81a2e766cb3a92": {
     "model_module": "@jupyter-widgets/base",
     "model_module_version": "1.2.0",
     "model_name": "LayoutModel",
     "state": {
      "_model_module": "@jupyter-widgets/base",
      "_model_module_version": "1.2.0",
      "_model_name": "LayoutModel",
      "_view_count": null,
      "_view_module": "@jupyter-widgets/base",
      "_view_module_version": "1.2.0",
      "_view_name": "LayoutView",
      "align_content": null,
      "align_items": null,
      "align_self": null,
      "border": null,
      "bottom": null,
      "display": null,
      "flex": null,
      "flex_flow": null,
      "grid_area": null,
      "grid_auto_columns": null,
      "grid_auto_flow": null,
      "grid_auto_rows": null,
      "grid_column": null,
      "grid_gap": null,
      "grid_row": null,
      "grid_template_areas": null,
      "grid_template_columns": null,
      "grid_template_rows": null,
      "height": null,
      "justify_content": null,
      "justify_items": null,
      "left": null,
      "margin": null,
      "max_height": null,
      "max_width": null,
      "min_height": null,
      "min_width": null,
      "object_fit": null,
      "object_position": null,
      "order": null,
      "overflow": null,
      "overflow_x": null,
      "overflow_y": null,
      "padding": null,
      "right": null,
      "top": null,
      "visibility": null,
      "width": null
     }
    },
    "83d4682e304b40de975681c522ff45bb": {
     "model_module": "@jupyter-widgets/base",
     "model_module_version": "1.2.0",
     "model_name": "LayoutModel",
     "state": {
      "_model_module": "@jupyter-widgets/base",
      "_model_module_version": "1.2.0",
      "_model_name": "LayoutModel",
      "_view_count": null,
      "_view_module": "@jupyter-widgets/base",
      "_view_module_version": "1.2.0",
      "_view_name": "LayoutView",
      "align_content": null,
      "align_items": null,
      "align_self": null,
      "border": null,
      "bottom": null,
      "display": null,
      "flex": null,
      "flex_flow": null,
      "grid_area": null,
      "grid_auto_columns": null,
      "grid_auto_flow": null,
      "grid_auto_rows": null,
      "grid_column": null,
      "grid_gap": null,
      "grid_row": null,
      "grid_template_areas": null,
      "grid_template_columns": null,
      "grid_template_rows": null,
      "height": null,
      "justify_content": null,
      "justify_items": null,
      "left": null,
      "margin": null,
      "max_height": null,
      "max_width": null,
      "min_height": null,
      "min_width": null,
      "object_fit": null,
      "object_position": null,
      "order": null,
      "overflow": null,
      "overflow_x": null,
      "overflow_y": null,
      "padding": null,
      "right": null,
      "top": null,
      "visibility": null,
      "width": null
     }
    },
    "890131eafd5246bdad7a79d483f3a19c": {
     "model_module": "@jupyter-widgets/base",
     "model_module_version": "1.2.0",
     "model_name": "LayoutModel",
     "state": {
      "_model_module": "@jupyter-widgets/base",
      "_model_module_version": "1.2.0",
      "_model_name": "LayoutModel",
      "_view_count": null,
      "_view_module": "@jupyter-widgets/base",
      "_view_module_version": "1.2.0",
      "_view_name": "LayoutView",
      "align_content": null,
      "align_items": null,
      "align_self": null,
      "border": null,
      "bottom": null,
      "display": null,
      "flex": null,
      "flex_flow": null,
      "grid_area": null,
      "grid_auto_columns": null,
      "grid_auto_flow": null,
      "grid_auto_rows": null,
      "grid_column": null,
      "grid_gap": null,
      "grid_row": null,
      "grid_template_areas": null,
      "grid_template_columns": null,
      "grid_template_rows": null,
      "height": null,
      "justify_content": null,
      "justify_items": null,
      "left": null,
      "margin": null,
      "max_height": null,
      "max_width": null,
      "min_height": null,
      "min_width": null,
      "object_fit": null,
      "object_position": null,
      "order": null,
      "overflow": null,
      "overflow_x": null,
      "overflow_y": null,
      "padding": null,
      "right": null,
      "top": null,
      "visibility": null,
      "width": null
     }
    },
    "8ecc73c5534249258280df14e627145a": {
     "model_module": "@jupyter-widgets/base",
     "model_module_version": "1.2.0",
     "model_name": "LayoutModel",
     "state": {
      "_model_module": "@jupyter-widgets/base",
      "_model_module_version": "1.2.0",
      "_model_name": "LayoutModel",
      "_view_count": null,
      "_view_module": "@jupyter-widgets/base",
      "_view_module_version": "1.2.0",
      "_view_name": "LayoutView",
      "align_content": null,
      "align_items": null,
      "align_self": null,
      "border": null,
      "bottom": null,
      "display": null,
      "flex": null,
      "flex_flow": null,
      "grid_area": null,
      "grid_auto_columns": null,
      "grid_auto_flow": null,
      "grid_auto_rows": null,
      "grid_column": null,
      "grid_gap": null,
      "grid_row": null,
      "grid_template_areas": null,
      "grid_template_columns": null,
      "grid_template_rows": null,
      "height": null,
      "justify_content": null,
      "justify_items": null,
      "left": null,
      "margin": null,
      "max_height": null,
      "max_width": null,
      "min_height": null,
      "min_width": null,
      "object_fit": null,
      "object_position": null,
      "order": null,
      "overflow": null,
      "overflow_x": null,
      "overflow_y": null,
      "padding": null,
      "right": null,
      "top": null,
      "visibility": null,
      "width": null
     }
    },
    "911e6ce7b7dc4ec08d26772149bd4646": {
     "model_module": "@jupyter-widgets/controls",
     "model_module_version": "1.5.0",
     "model_name": "FloatProgressModel",
     "state": {
      "_dom_classes": [],
      "_model_module": "@jupyter-widgets/controls",
      "_model_module_version": "1.5.0",
      "_model_name": "FloatProgressModel",
      "_view_count": null,
      "_view_module": "@jupyter-widgets/controls",
      "_view_module_version": "1.5.0",
      "_view_name": "ProgressView",
      "bar_style": "success",
      "description": "",
      "description_tooltip": null,
      "layout": "IPY_MODEL_454aea3dfb6745e6a9022bec1e157d14",
      "max": 1270925,
      "min": 0,
      "orientation": "horizontal",
      "style": "IPY_MODEL_1a30cb5cc887419a89d4ee07cd590764",
      "value": 1270925
     }
    },
    "9202e0d203264bf0b4a1ffb2fd56e534": {
     "model_module": "@jupyter-widgets/controls",
     "model_module_version": "1.5.0",
     "model_name": "HTMLModel",
     "state": {
      "_dom_classes": [],
      "_model_module": "@jupyter-widgets/controls",
      "_model_module_version": "1.5.0",
      "_model_name": "HTMLModel",
      "_view_count": null,
      "_view_module": "@jupyter-widgets/controls",
      "_view_module_version": "1.5.0",
      "_view_name": "HTMLView",
      "description": "",
      "description_tooltip": null,
      "layout": "IPY_MODEL_35e865800dac4c2dbec2c6a21e2fbab4",
      "placeholder": "​",
      "style": "IPY_MODEL_0e97c230af2947849a2c820f687490d6",
      "value": "100%"
     }
    },
    "9204afab3b07417d8ce595805db5494e": {
     "model_module": "@jupyter-widgets/controls",
     "model_module_version": "1.5.0",
     "model_name": "HTMLModel",
     "state": {
      "_dom_classes": [],
      "_model_module": "@jupyter-widgets/controls",
      "_model_module_version": "1.5.0",
      "_model_name": "HTMLModel",
      "_view_count": null,
      "_view_module": "@jupyter-widgets/controls",
      "_view_module_version": "1.5.0",
      "_view_name": "HTMLView",
      "description": "",
      "description_tooltip": null,
      "layout": "IPY_MODEL_e4dd7dd4211a44d09e46dce5b30705d2",
      "placeholder": "​",
      "style": "IPY_MODEL_9a541c06e14a4a2bb9479775a03a13e9",
      "value": "Downloading: 100%"
     }
    },
    "947a3c02a7094316a29726cdaa8e5f00": {
     "model_module": "@jupyter-widgets/controls",
     "model_module_version": "1.5.0",
     "model_name": "HBoxModel",
     "state": {
      "_dom_classes": [],
      "_model_module": "@jupyter-widgets/controls",
      "_model_module_version": "1.5.0",
      "_model_name": "HBoxModel",
      "_view_count": null,
      "_view_module": "@jupyter-widgets/controls",
      "_view_module_version": "1.5.0",
      "_view_name": "HBoxView",
      "box_style": "",
      "children": [
       "IPY_MODEL_9204afab3b07417d8ce595805db5494e",
       "IPY_MODEL_68551c87453e49f18927839933eceee5",
       "IPY_MODEL_a437a980f90d4716a9f8d25bd2aa5fa8"
      ],
      "layout": "IPY_MODEL_52e4d2557c9d405bb00f1b66d9a6ce97"
     }
    },
    "96b140ccb11340cc84cd1efdec37feff": {
     "model_module": "@jupyter-widgets/controls",
     "model_module_version": "1.5.0",
     "model_name": "HBoxModel",
     "state": {
      "_dom_classes": [],
      "_model_module": "@jupyter-widgets/controls",
      "_model_module_version": "1.5.0",
      "_model_name": "HBoxModel",
      "_view_count": null,
      "_view_module": "@jupyter-widgets/controls",
      "_view_module_version": "1.5.0",
      "_view_name": "HBoxView",
      "box_style": "",
      "children": [
       "IPY_MODEL_f9ed652cca7e448891102fa16f031e18",
       "IPY_MODEL_df72854b72244b83bf590a1020545eab",
       "IPY_MODEL_e832b7bc6b0f459fae52c9286850f4d1"
      ],
      "layout": "IPY_MODEL_ad7e79befdb848d389f5988d4844f850"
     }
    },
    "9a541c06e14a4a2bb9479775a03a13e9": {
     "model_module": "@jupyter-widgets/controls",
     "model_module_version": "1.5.0",
     "model_name": "DescriptionStyleModel",
     "state": {
      "_model_module": "@jupyter-widgets/controls",
      "_model_module_version": "1.5.0",
      "_model_name": "DescriptionStyleModel",
      "_view_count": null,
      "_view_module": "@jupyter-widgets/base",
      "_view_module_version": "1.2.0",
      "_view_name": "StyleView",
      "description_width": ""
     }
    },
    "9a9c3bd0df7d4122bbb906785f62a37c": {
     "model_module": "@jupyter-widgets/controls",
     "model_module_version": "1.5.0",
     "model_name": "HTMLModel",
     "state": {
      "_dom_classes": [],
      "_model_module": "@jupyter-widgets/controls",
      "_model_module_version": "1.5.0",
      "_model_name": "HTMLModel",
      "_view_count": null,
      "_view_module": "@jupyter-widgets/controls",
      "_view_module_version": "1.5.0",
      "_view_name": "HTMLView",
      "description": "",
      "description_tooltip": null,
      "layout": "IPY_MODEL_64eaa2d999e34bc08f7a452949f0d151",
      "placeholder": "​",
      "style": "IPY_MODEL_b338c9d4765d418798b557e0d53a762e",
      "value": "Downloading: 100%"
     }
    },
    "9b74b0299b1140ef9e28d5cda5471116": {
     "model_module": "@jupyter-widgets/controls",
     "model_module_version": "1.5.0",
     "model_name": "DescriptionStyleModel",
     "state": {
      "_model_module": "@jupyter-widgets/controls",
      "_model_module_version": "1.5.0",
      "_model_name": "DescriptionStyleModel",
      "_view_count": null,
      "_view_module": "@jupyter-widgets/base",
      "_view_module_version": "1.2.0",
      "_view_name": "StyleView",
      "description_width": ""
     }
    },
    "a437a980f90d4716a9f8d25bd2aa5fa8": {
     "model_module": "@jupyter-widgets/controls",
     "model_module_version": "1.5.0",
     "model_name": "HTMLModel",
     "state": {
      "_dom_classes": [],
      "_model_module": "@jupyter-widgets/controls",
      "_model_module_version": "1.5.0",
      "_model_name": "HTMLModel",
      "_view_count": null,
      "_view_module": "@jupyter-widgets/controls",
      "_view_module_version": "1.5.0",
      "_view_name": "HTMLView",
      "description": "",
      "description_tooltip": null,
      "layout": "IPY_MODEL_51d1a77c0a9d40758d84a85c4dd7d5d4",
      "placeholder": "​",
      "style": "IPY_MODEL_0467bbf2171447eeaf3bc635f22621ac",
      "value": " 608/608 [00:00&lt;00:00, 18.6kB/s]"
     }
    },
    "a9ce7051edc54e41af2b0177f2917006": {
     "model_module": "@jupyter-widgets/base",
     "model_module_version": "1.2.0",
     "model_name": "LayoutModel",
     "state": {
      "_model_module": "@jupyter-widgets/base",
      "_model_module_version": "1.2.0",
      "_model_name": "LayoutModel",
      "_view_count": null,
      "_view_module": "@jupyter-widgets/base",
      "_view_module_version": "1.2.0",
      "_view_name": "LayoutView",
      "align_content": null,
      "align_items": null,
      "align_self": null,
      "border": null,
      "bottom": null,
      "display": null,
      "flex": null,
      "flex_flow": null,
      "grid_area": null,
      "grid_auto_columns": null,
      "grid_auto_flow": null,
      "grid_auto_rows": null,
      "grid_column": null,
      "grid_gap": null,
      "grid_row": null,
      "grid_template_areas": null,
      "grid_template_columns": null,
      "grid_template_rows": null,
      "height": null,
      "justify_content": null,
      "justify_items": null,
      "left": null,
      "margin": null,
      "max_height": null,
      "max_width": null,
      "min_height": null,
      "min_width": null,
      "object_fit": null,
      "object_position": null,
      "order": null,
      "overflow": null,
      "overflow_x": null,
      "overflow_y": null,
      "padding": null,
      "right": null,
      "top": null,
      "visibility": null,
      "width": null
     }
    },
    "ab3eb8631cad41f2817e3a2215d51e4b": {
     "model_module": "@jupyter-widgets/controls",
     "model_module_version": "1.5.0",
     "model_name": "DescriptionStyleModel",
     "state": {
      "_model_module": "@jupyter-widgets/controls",
      "_model_module_version": "1.5.0",
      "_model_name": "DescriptionStyleModel",
      "_view_count": null,
      "_view_module": "@jupyter-widgets/base",
      "_view_module_version": "1.2.0",
      "_view_name": "StyleView",
      "description_width": ""
     }
    },
    "ad7e79befdb848d389f5988d4844f850": {
     "model_module": "@jupyter-widgets/base",
     "model_module_version": "1.2.0",
     "model_name": "LayoutModel",
     "state": {
      "_model_module": "@jupyter-widgets/base",
      "_model_module_version": "1.2.0",
      "_model_name": "LayoutModel",
      "_view_count": null,
      "_view_module": "@jupyter-widgets/base",
      "_view_module_version": "1.2.0",
      "_view_name": "LayoutView",
      "align_content": null,
      "align_items": null,
      "align_self": null,
      "border": null,
      "bottom": null,
      "display": null,
      "flex": null,
      "flex_flow": null,
      "grid_area": null,
      "grid_auto_columns": null,
      "grid_auto_flow": null,
      "grid_auto_rows": null,
      "grid_column": null,
      "grid_gap": null,
      "grid_row": null,
      "grid_template_areas": null,
      "grid_template_columns": null,
      "grid_template_rows": null,
      "height": null,
      "justify_content": null,
      "justify_items": null,
      "left": null,
      "margin": null,
      "max_height": null,
      "max_width": null,
      "min_height": null,
      "min_width": null,
      "object_fit": null,
      "object_position": null,
      "order": null,
      "overflow": null,
      "overflow_x": null,
      "overflow_y": null,
      "padding": null,
      "right": null,
      "top": null,
      "visibility": null,
      "width": null
     }
    },
    "ae814cc529fb477f89c8890442397a4d": {
     "model_module": "@jupyter-widgets/controls",
     "model_module_version": "1.5.0",
     "model_name": "HTMLModel",
     "state": {
      "_dom_classes": [],
      "_model_module": "@jupyter-widgets/controls",
      "_model_module_version": "1.5.0",
      "_model_name": "HTMLModel",
      "_view_count": null,
      "_view_module": "@jupyter-widgets/controls",
      "_view_module_version": "1.5.0",
      "_view_name": "HTMLView",
      "description": "",
      "description_tooltip": null,
      "layout": "IPY_MODEL_b75f3db9d7d3490f85aa7450db5aba78",
      "placeholder": "​",
      "style": "IPY_MODEL_fbe6d834bab84174b6d4862bdd573db1",
      "value": "100%"
     }
    },
    "b338c9d4765d418798b557e0d53a762e": {
     "model_module": "@jupyter-widgets/controls",
     "model_module_version": "1.5.0",
     "model_name": "DescriptionStyleModel",
     "state": {
      "_model_module": "@jupyter-widgets/controls",
      "_model_module_version": "1.5.0",
      "_model_name": "DescriptionStyleModel",
      "_view_count": null,
      "_view_module": "@jupyter-widgets/base",
      "_view_module_version": "1.2.0",
      "_view_name": "StyleView",
      "description_width": ""
     }
    },
    "b363ddc3bcdf4870b607b3fb5ea11afc": {
     "model_module": "@jupyter-widgets/controls",
     "model_module_version": "1.5.0",
     "model_name": "DescriptionStyleModel",
     "state": {
      "_model_module": "@jupyter-widgets/controls",
      "_model_module_version": "1.5.0",
      "_model_name": "DescriptionStyleModel",
      "_view_count": null,
      "_view_module": "@jupyter-widgets/base",
      "_view_module_version": "1.2.0",
      "_view_name": "StyleView",
      "description_width": ""
     }
    },
    "b75f3db9d7d3490f85aa7450db5aba78": {
     "model_module": "@jupyter-widgets/base",
     "model_module_version": "1.2.0",
     "model_name": "LayoutModel",
     "state": {
      "_model_module": "@jupyter-widgets/base",
      "_model_module_version": "1.2.0",
      "_model_name": "LayoutModel",
      "_view_count": null,
      "_view_module": "@jupyter-widgets/base",
      "_view_module_version": "1.2.0",
      "_view_name": "LayoutView",
      "align_content": null,
      "align_items": null,
      "align_self": null,
      "border": null,
      "bottom": null,
      "display": null,
      "flex": null,
      "flex_flow": null,
      "grid_area": null,
      "grid_auto_columns": null,
      "grid_auto_flow": null,
      "grid_auto_rows": null,
      "grid_column": null,
      "grid_gap": null,
      "grid_row": null,
      "grid_template_areas": null,
      "grid_template_columns": null,
      "grid_template_rows": null,
      "height": null,
      "justify_content": null,
      "justify_items": null,
      "left": null,
      "margin": null,
      "max_height": null,
      "max_width": null,
      "min_height": null,
      "min_width": null,
      "object_fit": null,
      "object_position": null,
      "order": null,
      "overflow": null,
      "overflow_x": null,
      "overflow_y": null,
      "padding": null,
      "right": null,
      "top": null,
      "visibility": null,
      "width": null
     }
    },
    "b766e0ec727f4b9e9f920be4709cc7a9": {
     "model_module": "@jupyter-widgets/base",
     "model_module_version": "1.2.0",
     "model_name": "LayoutModel",
     "state": {
      "_model_module": "@jupyter-widgets/base",
      "_model_module_version": "1.2.0",
      "_model_name": "LayoutModel",
      "_view_count": null,
      "_view_module": "@jupyter-widgets/base",
      "_view_module_version": "1.2.0",
      "_view_name": "LayoutView",
      "align_content": null,
      "align_items": null,
      "align_self": null,
      "border": null,
      "bottom": null,
      "display": null,
      "flex": null,
      "flex_flow": null,
      "grid_area": null,
      "grid_auto_columns": null,
      "grid_auto_flow": null,
      "grid_auto_rows": null,
      "grid_column": null,
      "grid_gap": null,
      "grid_row": null,
      "grid_template_areas": null,
      "grid_template_columns": null,
      "grid_template_rows": null,
      "height": null,
      "justify_content": null,
      "justify_items": null,
      "left": null,
      "margin": null,
      "max_height": null,
      "max_width": null,
      "min_height": null,
      "min_width": null,
      "object_fit": null,
      "object_position": null,
      "order": null,
      "overflow": null,
      "overflow_x": null,
      "overflow_y": null,
      "padding": null,
      "right": null,
      "top": null,
      "visibility": null,
      "width": null
     }
    },
    "b8621f437ab1427db28df47344abd3ad": {
     "model_module": "@jupyter-widgets/controls",
     "model_module_version": "1.5.0",
     "model_name": "HTMLModel",
     "state": {
      "_dom_classes": [],
      "_model_module": "@jupyter-widgets/controls",
      "_model_module_version": "1.5.0",
      "_model_name": "HTMLModel",
      "_view_count": null,
      "_view_module": "@jupyter-widgets/controls",
      "_view_module_version": "1.5.0",
      "_view_name": "HTMLView",
      "description": "",
      "description_tooltip": null,
      "layout": "IPY_MODEL_1277a756c4ac4dfc88a7eba2ec95e7c4",
      "placeholder": "​",
      "style": "IPY_MODEL_9b74b0299b1140ef9e28d5cda5471116",
      "value": "Downloading: 100%"
     }
    },
    "bf76642cca5341dbb9f931d2610d051e": {
     "model_module": "@jupyter-widgets/controls",
     "model_module_version": "1.5.0",
     "model_name": "HBoxModel",
     "state": {
      "_dom_classes": [],
      "_model_module": "@jupyter-widgets/controls",
      "_model_module_version": "1.5.0",
      "_model_name": "HBoxModel",
      "_view_count": null,
      "_view_module": "@jupyter-widgets/controls",
      "_view_module_version": "1.5.0",
      "_view_name": "HBoxView",
      "box_style": "",
      "children": [
       "IPY_MODEL_f0f0ca8acd574edd8168b6a8e91be6ed",
       "IPY_MODEL_c00debd938d8454da62e3035637cd09e",
       "IPY_MODEL_6026bb8dec514903a870b39b6437b482"
      ],
      "layout": "IPY_MODEL_b766e0ec727f4b9e9f920be4709cc7a9"
     }
    },
    "c00debd938d8454da62e3035637cd09e": {
     "model_module": "@jupyter-widgets/controls",
     "model_module_version": "1.5.0",
     "model_name": "FloatProgressModel",
     "state": {
      "_dom_classes": [],
      "_model_module": "@jupyter-widgets/controls",
      "_model_module_version": "1.5.0",
      "_model_name": "FloatProgressModel",
      "_view_count": null,
      "_view_module": "@jupyter-widgets/controls",
      "_view_module_version": "1.5.0",
      "_view_name": "ProgressView",
      "bar_style": "success",
      "description": "",
      "description_tooltip": null,
      "layout": "IPY_MODEL_e1cde6433d6d4d8b94377ac54be8c04a",
      "max": 551290714,
      "min": 0,
      "orientation": "horizontal",
      "style": "IPY_MODEL_7c73956ee5c84eb9adb6c4d94281a3cc",
      "value": 551290714
     }
    },
    "c3f228dad64748aca85c9735257db7dc": {
     "model_module": "@jupyter-widgets/base",
     "model_module_version": "1.2.0",
     "model_name": "LayoutModel",
     "state": {
      "_model_module": "@jupyter-widgets/base",
      "_model_module_version": "1.2.0",
      "_model_name": "LayoutModel",
      "_view_count": null,
      "_view_module": "@jupyter-widgets/base",
      "_view_module_version": "1.2.0",
      "_view_name": "LayoutView",
      "align_content": null,
      "align_items": null,
      "align_self": null,
      "border": null,
      "bottom": null,
      "display": null,
      "flex": null,
      "flex_flow": null,
      "grid_area": null,
      "grid_auto_columns": null,
      "grid_auto_flow": null,
      "grid_auto_rows": null,
      "grid_column": null,
      "grid_gap": null,
      "grid_row": null,
      "grid_template_areas": null,
      "grid_template_columns": null,
      "grid_template_rows": null,
      "height": null,
      "justify_content": null,
      "justify_items": null,
      "left": null,
      "margin": null,
      "max_height": null,
      "max_width": null,
      "min_height": null,
      "min_width": null,
      "object_fit": null,
      "object_position": null,
      "order": null,
      "overflow": null,
      "overflow_x": null,
      "overflow_y": null,
      "padding": null,
      "right": null,
      "top": null,
      "visibility": null,
      "width": null
     }
    },
    "c486c1ae917048b58ea2452492212958": {
     "model_module": "@jupyter-widgets/base",
     "model_module_version": "1.2.0",
     "model_name": "LayoutModel",
     "state": {
      "_model_module": "@jupyter-widgets/base",
      "_model_module_version": "1.2.0",
      "_model_name": "LayoutModel",
      "_view_count": null,
      "_view_module": "@jupyter-widgets/base",
      "_view_module_version": "1.2.0",
      "_view_name": "LayoutView",
      "align_content": null,
      "align_items": null,
      "align_self": null,
      "border": null,
      "bottom": null,
      "display": null,
      "flex": null,
      "flex_flow": null,
      "grid_area": null,
      "grid_auto_columns": null,
      "grid_auto_flow": null,
      "grid_auto_rows": null,
      "grid_column": null,
      "grid_gap": null,
      "grid_row": null,
      "grid_template_areas": null,
      "grid_template_columns": null,
      "grid_template_rows": null,
      "height": null,
      "justify_content": null,
      "justify_items": null,
      "left": null,
      "margin": null,
      "max_height": null,
      "max_width": null,
      "min_height": null,
      "min_width": null,
      "object_fit": null,
      "object_position": null,
      "order": null,
      "overflow": null,
      "overflow_x": null,
      "overflow_y": null,
      "padding": null,
      "right": null,
      "top": null,
      "visibility": null,
      "width": null
     }
    },
    "cfb9f5f872234bc4940e6fe7d98ea810": {
     "model_module": "@jupyter-widgets/base",
     "model_module_version": "1.2.0",
     "model_name": "LayoutModel",
     "state": {
      "_model_module": "@jupyter-widgets/base",
      "_model_module_version": "1.2.0",
      "_model_name": "LayoutModel",
      "_view_count": null,
      "_view_module": "@jupyter-widgets/base",
      "_view_module_version": "1.2.0",
      "_view_name": "LayoutView",
      "align_content": null,
      "align_items": null,
      "align_self": null,
      "border": null,
      "bottom": null,
      "display": null,
      "flex": null,
      "flex_flow": null,
      "grid_area": null,
      "grid_auto_columns": null,
      "grid_auto_flow": null,
      "grid_auto_rows": null,
      "grid_column": null,
      "grid_gap": null,
      "grid_row": null,
      "grid_template_areas": null,
      "grid_template_columns": null,
      "grid_template_rows": null,
      "height": null,
      "justify_content": null,
      "justify_items": null,
      "left": null,
      "margin": null,
      "max_height": null,
      "max_width": null,
      "min_height": null,
      "min_width": null,
      "object_fit": null,
      "object_position": null,
      "order": null,
      "overflow": null,
      "overflow_x": null,
      "overflow_y": null,
      "padding": null,
      "right": null,
      "top": null,
      "visibility": null,
      "width": null
     }
    },
    "d498eeea2a3c4cc78e9dce96291e8ac0": {
     "model_module": "@jupyter-widgets/controls",
     "model_module_version": "1.5.0",
     "model_name": "ProgressStyleModel",
     "state": {
      "_model_module": "@jupyter-widgets/controls",
      "_model_module_version": "1.5.0",
      "_model_name": "ProgressStyleModel",
      "_view_count": null,
      "_view_module": "@jupyter-widgets/base",
      "_view_module_version": "1.2.0",
      "_view_name": "StyleView",
      "bar_color": null,
      "description_width": ""
     }
    },
    "df34710bcf134de99bd72648c55a9ed2": {
     "model_module": "@jupyter-widgets/controls",
     "model_module_version": "1.5.0",
     "model_name": "ProgressStyleModel",
     "state": {
      "_model_module": "@jupyter-widgets/controls",
      "_model_module_version": "1.5.0",
      "_model_name": "ProgressStyleModel",
      "_view_count": null,
      "_view_module": "@jupyter-widgets/base",
      "_view_module_version": "1.2.0",
      "_view_name": "StyleView",
      "bar_color": null,
      "description_width": ""
     }
    },
    "df72854b72244b83bf590a1020545eab": {
     "model_module": "@jupyter-widgets/controls",
     "model_module_version": "1.5.0",
     "model_name": "FloatProgressModel",
     "state": {
      "_dom_classes": [],
      "_model_module": "@jupyter-widgets/controls",
      "_model_module_version": "1.5.0",
      "_model_name": "FloatProgressModel",
      "_view_count": null,
      "_view_module": "@jupyter-widgets/controls",
      "_view_module_version": "1.5.0",
      "_view_name": "ProgressView",
      "bar_style": "success",
      "description": "",
      "description_tooltip": null,
      "layout": "IPY_MODEL_83930410d93547239e81a2e766cb3a92",
      "max": 1713123,
      "min": 0,
      "orientation": "horizontal",
      "style": "IPY_MODEL_df34710bcf134de99bd72648c55a9ed2",
      "value": 1713123
     }
    },
    "e1cde6433d6d4d8b94377ac54be8c04a": {
     "model_module": "@jupyter-widgets/base",
     "model_module_version": "1.2.0",
     "model_name": "LayoutModel",
     "state": {
      "_model_module": "@jupyter-widgets/base",
      "_model_module_version": "1.2.0",
      "_model_name": "LayoutModel",
      "_view_count": null,
      "_view_module": "@jupyter-widgets/base",
      "_view_module_version": "1.2.0",
      "_view_name": "LayoutView",
      "align_content": null,
      "align_items": null,
      "align_self": null,
      "border": null,
      "bottom": null,
      "display": null,
      "flex": null,
      "flex_flow": null,
      "grid_area": null,
      "grid_auto_columns": null,
      "grid_auto_flow": null,
      "grid_auto_rows": null,
      "grid_column": null,
      "grid_gap": null,
      "grid_row": null,
      "grid_template_areas": null,
      "grid_template_columns": null,
      "grid_template_rows": null,
      "height": null,
      "justify_content": null,
      "justify_items": null,
      "left": null,
      "margin": null,
      "max_height": null,
      "max_width": null,
      "min_height": null,
      "min_width": null,
      "object_fit": null,
      "object_position": null,
      "order": null,
      "overflow": null,
      "overflow_x": null,
      "overflow_y": null,
      "padding": null,
      "right": null,
      "top": null,
      "visibility": null,
      "width": null
     }
    },
    "e4dd7dd4211a44d09e46dce5b30705d2": {
     "model_module": "@jupyter-widgets/base",
     "model_module_version": "1.2.0",
     "model_name": "LayoutModel",
     "state": {
      "_model_module": "@jupyter-widgets/base",
      "_model_module_version": "1.2.0",
      "_model_name": "LayoutModel",
      "_view_count": null,
      "_view_module": "@jupyter-widgets/base",
      "_view_module_version": "1.2.0",
      "_view_name": "LayoutView",
      "align_content": null,
      "align_items": null,
      "align_self": null,
      "border": null,
      "bottom": null,
      "display": null,
      "flex": null,
      "flex_flow": null,
      "grid_area": null,
      "grid_auto_columns": null,
      "grid_auto_flow": null,
      "grid_auto_rows": null,
      "grid_column": null,
      "grid_gap": null,
      "grid_row": null,
      "grid_template_areas": null,
      "grid_template_columns": null,
      "grid_template_rows": null,
      "height": null,
      "justify_content": null,
      "justify_items": null,
      "left": null,
      "margin": null,
      "max_height": null,
      "max_width": null,
      "min_height": null,
      "min_width": null,
      "object_fit": null,
      "object_position": null,
      "order": null,
      "overflow": null,
      "overflow_x": null,
      "overflow_y": null,
      "padding": null,
      "right": null,
      "top": null,
      "visibility": null,
      "width": null
     }
    },
    "e832b7bc6b0f459fae52c9286850f4d1": {
     "model_module": "@jupyter-widgets/controls",
     "model_module_version": "1.5.0",
     "model_name": "HTMLModel",
     "state": {
      "_dom_classes": [],
      "_model_module": "@jupyter-widgets/controls",
      "_model_module_version": "1.5.0",
      "_model_name": "HTMLModel",
      "_view_count": null,
      "_view_module": "@jupyter-widgets/controls",
      "_view_module_version": "1.5.0",
      "_view_name": "HTMLView",
      "description": "",
      "description_tooltip": null,
      "layout": "IPY_MODEL_614e3f99686045a39e943fd5ecf96d1b",
      "placeholder": "​",
      "style": "IPY_MODEL_624825cff7a7464ca1ae8b06f5b0ce1b",
      "value": " 1.63M/1.63M [00:00&lt;00:00, 2.62MB/s]"
     }
    },
    "f0f0ca8acd574edd8168b6a8e91be6ed": {
     "model_module": "@jupyter-widgets/controls",
     "model_module_version": "1.5.0",
     "model_name": "HTMLModel",
     "state": {
      "_dom_classes": [],
      "_model_module": "@jupyter-widgets/controls",
      "_model_module_version": "1.5.0",
      "_model_name": "HTMLModel",
      "_view_count": null,
      "_view_module": "@jupyter-widgets/controls",
      "_view_module_version": "1.5.0",
      "_view_name": "HTMLView",
      "description": "",
      "description_tooltip": null,
      "layout": "IPY_MODEL_786f3a68e26740e9a9ed0069baa9b01c",
      "placeholder": "​",
      "style": "IPY_MODEL_b363ddc3bcdf4870b607b3fb5ea11afc",
      "value": "Downloading: 100%"
     }
    },
    "f7479e6c32684a2b9f1495f078bdea4e": {
     "model_module": "@jupyter-widgets/base",
     "model_module_version": "1.2.0",
     "model_name": "LayoutModel",
     "state": {
      "_model_module": "@jupyter-widgets/base",
      "_model_module_version": "1.2.0",
      "_model_name": "LayoutModel",
      "_view_count": null,
      "_view_module": "@jupyter-widgets/base",
      "_view_module_version": "1.2.0",
      "_view_name": "LayoutView",
      "align_content": null,
      "align_items": null,
      "align_self": null,
      "border": null,
      "bottom": null,
      "display": null,
      "flex": null,
      "flex_flow": null,
      "grid_area": null,
      "grid_auto_columns": null,
      "grid_auto_flow": null,
      "grid_auto_rows": null,
      "grid_column": null,
      "grid_gap": null,
      "grid_row": null,
      "grid_template_areas": null,
      "grid_template_columns": null,
      "grid_template_rows": null,
      "height": null,
      "justify_content": null,
      "justify_items": null,
      "left": null,
      "margin": null,
      "max_height": null,
      "max_width": null,
      "min_height": null,
      "min_width": null,
      "object_fit": null,
      "object_position": null,
      "order": null,
      "overflow": null,
      "overflow_x": null,
      "overflow_y": null,
      "padding": null,
      "right": null,
      "top": null,
      "visibility": null,
      "width": null
     }
    },
    "f9ed652cca7e448891102fa16f031e18": {
     "model_module": "@jupyter-widgets/controls",
     "model_module_version": "1.5.0",
     "model_name": "HTMLModel",
     "state": {
      "_dom_classes": [],
      "_model_module": "@jupyter-widgets/controls",
      "_model_module_version": "1.5.0",
      "_model_name": "HTMLModel",
      "_view_count": null,
      "_view_module": "@jupyter-widgets/controls",
      "_view_module_version": "1.5.0",
      "_view_name": "HTMLView",
      "description": "",
      "description_tooltip": null,
      "layout": "IPY_MODEL_83d4682e304b40de975681c522ff45bb",
      "placeholder": "​",
      "style": "IPY_MODEL_ab3eb8631cad41f2817e3a2215d51e4b",
      "value": "Downloading: 100%"
     }
    },
    "fbe6d834bab84174b6d4862bdd573db1": {
     "model_module": "@jupyter-widgets/controls",
     "model_module_version": "1.5.0",
     "model_name": "DescriptionStyleModel",
     "state": {
      "_model_module": "@jupyter-widgets/controls",
      "_model_module_version": "1.5.0",
      "_model_name": "DescriptionStyleModel",
      "_view_count": null,
      "_view_module": "@jupyter-widgets/base",
      "_view_module_version": "1.2.0",
      "_view_name": "StyleView",
      "description_width": ""
     }
    },
    "fec14866bc4f4aada41294a42e7be59b": {
     "model_module": "@jupyter-widgets/controls",
     "model_module_version": "1.5.0",
     "model_name": "HTMLModel",
     "state": {
      "_dom_classes": [],
      "_model_module": "@jupyter-widgets/controls",
      "_model_module_version": "1.5.0",
      "_model_name": "HTMLModel",
      "_view_count": null,
      "_view_module": "@jupyter-widgets/controls",
      "_view_module_version": "1.5.0",
      "_view_name": "HTMLView",
      "description": "",
      "description_tooltip": null,
      "layout": "IPY_MODEL_266ee8c2b0894691bdb7bd1eb5ea35da",
      "placeholder": "​",
      "style": "IPY_MODEL_1b8d31b23ca442cb862de9ce0822d82d",
      "value": " 2270/2270 [14:12&lt;00:00,  2.72it/s]"
     }
    },
    "ff4902102c26404faf97435e6ecb692a": {
     "model_module": "@jupyter-widgets/controls",
     "model_module_version": "1.5.0",
     "model_name": "HBoxModel",
     "state": {
      "_dom_classes": [],
      "_model_module": "@jupyter-widgets/controls",
      "_model_module_version": "1.5.0",
      "_model_name": "HBoxModel",
      "_view_count": null,
      "_view_module": "@jupyter-widgets/controls",
      "_view_module_version": "1.5.0",
      "_view_name": "HBoxView",
      "box_style": "",
      "children": [
       "IPY_MODEL_ae814cc529fb477f89c8890442397a4d",
       "IPY_MODEL_68004e579fff41a28bee2fe4ce63cce8",
       "IPY_MODEL_fec14866bc4f4aada41294a42e7be59b"
      ],
      "layout": "IPY_MODEL_8ecc73c5534249258280df14e627145a"
     }
    }
   }
  }
 },
 "nbformat": 4,
 "nbformat_minor": 1
}
