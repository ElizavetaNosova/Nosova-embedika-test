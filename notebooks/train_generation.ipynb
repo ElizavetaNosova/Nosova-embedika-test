{
  "cells": [
    {
      "cell_type": "code",
      "execution_count": null,
      "metadata": {
        "id": "ABKpghXR7zon"
      },
      "outputs": [],
      "source": [
        "from google.colab import files"
      ]
    },
    {
      "cell_type": "code",
      "execution_count": null,
      "metadata": {
        "id": "SpV-K1Q78zsT"
      },
      "outputs": [],
      "source": [
        "files.upload()"
      ]
    },
    {
      "cell_type": "code",
      "source": [
        "import json\n",
        "import pandas as pd\n",
        "import re\n",
        "import os\n",
        "from copy import copy\n",
        "import math\n",
        "\n",
        "\n",
        "from transformers import AutoTokenizer, AutoModelWithLMHead, get_scheduler\n",
        "import torch\n",
        "from sklearn.model_selection import train_test_split\n",
        "from tqdm.auto import tqdm"
      ],
      "metadata": {
        "id": "pAimjwDZLcd7"
      },
      "execution_count": null,
      "outputs": []
    },
    {
      "cell_type": "code",
      "source": [
        "#DATA_DIR = '../data'\n",
        "DATA_DIR = ''\n",
        "df = pd.read_csv(os.path.join(DATA_DIR, 'kremlin_ner_dataset.csv'))"
      ],
      "metadata": {
        "id": "VMxRQUjiLVTQ"
      },
      "execution_count": null,
      "outputs": []
    },
    {
      "cell_type": "code",
      "source": [
        "for column in ['title_ner', 'text_ner']:\n",
        "    df[column] = df[column].apply(json.loads)"
      ],
      "metadata": {
        "id": "rr1nlEuJLwQS"
      },
      "execution_count": null,
      "outputs": []
    },
    {
      "cell_type": "code",
      "source": [
        "SELECTED_ENTITIES = ['PER', 'ORG']\n",
        "\n",
        "BOS_TAG = 'BOS'\n",
        "EOS_TAG = 'EOS'\n",
        "TITLE_TAG = 'TITLE'\n",
        "TEXT_TAG = 'TEXT'"
      ],
      "metadata": {
        "id": "jXxq6U_SL9q9"
      },
      "execution_count": null,
      "outputs": []
    },
    {
      "cell_type": "code",
      "source": [
        "def join_entities(title_ner, text_ner, selected_entities=SELECTED_ENTITIES):\n",
        "    '''\n",
        "    Для выбранных типов сущностей берет значение из сущностей заголовка (при наличии).\n",
        "    Если сущностей нет в заголовке, берет из текста\n",
        "    '''\n",
        "    joined_entities = {}\n",
        "    for entity_type in selected_entities:\n",
        "        for entities in [title_ner, text_ner]:\n",
        "            if entity_type in entities:\n",
        "                joined_entities[entity_type] = entities[entity_type]\n",
        "                break\n",
        "    return joined_entities"
      ],
      "metadata": {
        "id": "GDMtr3WBMLoy"
      },
      "execution_count": null,
      "outputs": []
    },
    {
      "cell_type": "code",
      "source": [
        "df['selected_entities'] = df.apply(\n",
        "    lambda row: join_entities(row['title_ner'], row['text_ner']),\n",
        "    axis=1\n",
        ")"
      ],
      "metadata": {
        "id": "jUwi02mzOGVw"
      },
      "execution_count": null,
      "outputs": []
    },
    {
      "cell_type": "code",
      "source": [
        "df['selected_entities'].apply(len).describe()"
      ],
      "metadata": {
        "colab": {
          "base_uri": "https://localhost:8080/"
        },
        "id": "T6-nQk5BOUDk",
        "outputId": "1d766389-95cf-435c-f673-b1bcb7f0c2b9"
      },
      "execution_count": null,
      "outputs": [
        {
          "output_type": "execute_result",
          "data": {
            "text/plain": [
              "count    2380.000000\n",
              "mean        0.944118\n",
              "std         0.601095\n",
              "min         0.000000\n",
              "25%         1.000000\n",
              "50%         1.000000\n",
              "75%         1.000000\n",
              "max         2.000000\n",
              "Name: selected_entities, dtype: float64"
            ]
          },
          "metadata": {},
          "execution_count": 7
        }
      ]
    },
    {
      "cell_type": "markdown",
      "source": [
        "Сущности не выделены меньше, чем для четверти примеров"
      ],
      "metadata": {
        "id": "DmDntBSKPgkk"
      }
    },
    {
      "cell_type": "code",
      "source": [
        "def prepare_text_for_gpt(text:str):\n",
        "    '''\n",
        "    Функция добавляет пробелы после разделителей строки и точек, если пробелов там не было,\n",
        "    потому что при токенизации пробел является частью первого токена слова.\n",
        "    Эмбединги для случаев \"заглавная буква идет не после пробела\" предобучены хуже.\n",
        "    '''\n",
        "    text = re.sub('\\n', ' ', text)\n",
        "    text = re.sub(re.escape('.'), '. ', text)\n",
        "    # если были добавлены двойные пробелы, убираем их\n",
        "    text = re.sub(' +', ' ', text)\n",
        "    return text\n",
        "\n",
        "def format_prompt(row:pd.core.series.Series):\n",
        "    prompt = ''\n",
        "    for entity_tag in SELECTED_ENTITIES:\n",
        "        entity_content = ', '.join(row['selected_entities'].get(entity_tag, []))\n",
        "        prompt += f'{entity_tag} {entity_content} '\n",
        "    prompt = f\"{BOS_TAG} {prompt}{TITLE_TAG} {row['title']} {TEXT_TAG} {row['text']} {EOS_TAG}\"\n",
        "    return prepare_text_for_gpt(prompt)"
      ],
      "metadata": {
        "id": "SIn0TUB7Pfm1"
      },
      "execution_count": null,
      "outputs": []
    },
    {
      "cell_type": "code",
      "source": [
        "df['prompt'] = df.apply(format_prompt, axis=1)"
      ],
      "metadata": {
        "id": "E0ABp2ihSFzM"
      },
      "execution_count": null,
      "outputs": []
    },
    {
      "cell_type": "markdown",
      "source": [
        "Посмотрим распределение длин токенизированных текстов"
      ],
      "metadata": {
        "id": "YJ1l1jrhSXnf"
      }
    },
    {
      "cell_type": "code",
      "source": [
        "PRETRAINED_MODEL_NAME = 'sberbank-ai/rugpt3small_based_on_gpt2'"
      ],
      "metadata": {
        "id": "8t4xIDmKSWTH"
      },
      "execution_count": null,
      "outputs": []
    },
    {
      "cell_type": "code",
      "source": [
        "tokenizer = AutoTokenizer.from_pretrained(PRETRAINED_MODEL_NAME)"
      ],
      "metadata": {
        "colab": {
          "base_uri": "https://localhost:8080/"
        },
        "id": "lxDifSjUTYGf",
        "outputId": "19623a3e-000c-4457-c89c-41c3c9d7cee1"
      },
      "execution_count": null,
      "outputs": [
        {
          "output_type": "stream",
          "name": "stderr",
          "text": [
            "Special tokens have been added in the vocabulary, make sure the associated word embeddings are fine-tuned or trained.\n"
          ]
        }
      ]
    },
    {
      "cell_type": "code",
      "source": [
        "tokenizer.add_special_tokens({'bos_token':BOS_TAG,\n",
        "                              'eos_token':EOS_TAG,\n",
        "                              'pad_token': '[PAD]',\n",
        "                              'additional_special_tokens':[TITLE_TAG, TEXT_TAG, *SELECTED_ENTITIES]})"
      ],
      "metadata": {
        "colab": {
          "base_uri": "https://localhost:8080/"
        },
        "id": "HIaO8XyQTdTF",
        "outputId": "845f1b86-130e-4612-ee73-0f04ef8dacdf"
      },
      "execution_count": null,
      "outputs": [
        {
          "output_type": "execute_result",
          "data": {
            "text/plain": [
              "7"
            ]
          },
          "metadata": {},
          "execution_count": 12
        }
      ]
    },
    {
      "cell_type": "code",
      "source": [
        "tokenized = []\n",
        "prompts = list(df['prompt'])\n",
        "encoded_prompts_lens = []\n",
        "tokenization_batch_size = 100\n",
        "\n",
        "for batch_idx in range(math.ceil(len(prompts)/tokenization_batch_size)):\n",
        "    batch_start = batch_idx * tokenization_batch_size\n",
        "    batch_end = (batch_idx+1) * tokenization_batch_size\n",
        "    batch = prompts[batch_start:batch_end]\n",
        "    # при большом объеме данных стоило бы сохранить результат токенизации и один раз допадить, \n",
        "    # но сейчас токенизация не занимает много времени\n",
        "    encoded_prompts_lens += [len(i) for i in tokenizer(batch)['input_ids']]\n",
        "df['encoded_prompts_lens'] = encoded_prompts_lens"
      ],
      "metadata": {
        "id": "_ydrrbP8T6hc"
      },
      "execution_count": null,
      "outputs": []
    },
    {
      "cell_type": "code",
      "source": [
        "df['encoded_prompts_lens'].describe()"
      ],
      "metadata": {
        "colab": {
          "base_uri": "https://localhost:8080/"
        },
        "id": "Bd0VBLZWU6kN",
        "outputId": "97c3b3b8-d3b0-43e3-f746-9c2b6246deb3"
      },
      "execution_count": null,
      "outputs": [
        {
          "output_type": "execute_result",
          "data": {
            "text/plain": [
              "count    2380.000000\n",
              "mean      192.957563\n",
              "std        60.398859\n",
              "min        64.000000\n",
              "25%       144.000000\n",
              "50%       192.000000\n",
              "75%       231.000000\n",
              "max       534.000000\n",
              "Name: encoded_prompts_lens, dtype: float64"
            ]
          },
          "metadata": {},
          "execution_count": 14
        }
      ]
    },
    {
      "cell_type": "markdown",
      "source": [
        "Тексты не превышают ограничения языковой модели, но я все равно уберу самые длинные, чтобы избежать превышения памяти cuda"
      ],
      "metadata": {
        "id": "RHscp8IaVC9b"
      }
    },
    {
      "cell_type": "code",
      "source": [
        "length_treshold = 250\n",
        "df = df[df['encoded_prompts_lens']<=length_treshold]"
      ],
      "metadata": {
        "id": "Ij-d8wLfeTKB"
      },
      "execution_count": null,
      "outputs": []
    },
    {
      "cell_type": "code",
      "source": [
        "df['encoded_prompts_lens'].describe()"
      ],
      "metadata": {
        "colab": {
          "base_uri": "https://localhost:8080/"
        },
        "id": "RUYCKIG2elK2",
        "outputId": "3d39bf38-3c3b-4fd5-db14-9c5f9fcb54e5"
      },
      "execution_count": null,
      "outputs": [
        {
          "output_type": "execute_result",
          "data": {
            "text/plain": [
              "count    1993.000000\n",
              "mean      174.416959\n",
              "std        44.061091\n",
              "min        64.000000\n",
              "25%       135.000000\n",
              "50%       179.000000\n",
              "75%       211.000000\n",
              "max       250.000000\n",
              "Name: encoded_prompts_lens, dtype: float64"
            ]
          },
          "metadata": {},
          "execution_count": 16
        }
      ]
    },
    {
      "cell_type": "code",
      "source": [
        "train, test = train_test_split(df, test_size=0.1, random_state=42)"
      ],
      "metadata": {
        "id": "AQ677dkSVIZh"
      },
      "execution_count": null,
      "outputs": []
    },
    {
      "cell_type": "code",
      "source": [
        "# для ускорения обучения полезно сделать так, чтобы в батче подавались тексты примерно одной длины (будет меньше падингов)\n",
        "# ascending=False, чтобы в случае превышения памяти на самых длинных текстах сразу увидеть эту проблему\n",
        "# стоило бы сделать так, чтобы короткие и длинные батчи подавались в перемешку, но (зачеркнуто: мне лень) \n",
        "# при небольшом количестве итераций в эпохе вряд ли модель успеет переобучиться на длину последних (коротких) текстов\n",
        "train.sort_values('encoded_prompts_lens', ascending=False, inplace=True)"
      ],
      "metadata": {
        "id": "0tAIXvUGgOSz"
      },
      "execution_count": null,
      "outputs": []
    },
    {
      "cell_type": "code",
      "source": [
        "train.soft_values('encoded_prompts_lens')"
      ],
      "metadata": {
        "id": "5wAMP80xgJfj"
      },
      "execution_count": null,
      "outputs": []
    },
    {
      "cell_type": "code",
      "source": [
        "train_batch_size = 5\n",
        "train_dataloader = torch.utils.data.DataLoader(list(train['prompt']), batch_size=train_batch_size)"
      ],
      "metadata": {
        "id": "n2OHB5reWeAb"
      },
      "execution_count": null,
      "outputs": []
    },
    {
      "cell_type": "code",
      "source": [
        "device = 'cuda' if torch.cuda.is_available() else 'cpu'"
      ],
      "metadata": {
        "id": "luvgVtTeYeUF"
      },
      "execution_count": null,
      "outputs": []
    },
    {
      "cell_type": "code",
      "source": [
        "num_epochs = 25\n",
        "num_training_steps = num_epochs*len(train_dataloader)"
      ],
      "metadata": {
        "id": "3W-o0UAidhP3"
      },
      "execution_count": null,
      "outputs": []
    },
    {
      "cell_type": "code",
      "source": [
        "gpt = AutoModelWithLMHead.from_pretrained(PRETRAINED_MODEL_NAME).to(device).train()\n",
        "gpt.resize_token_embeddings(len(tokenizer))\n",
        "optimizer = torch.optim.AdamW(gpt.parameters(), lr=5e-5)\n",
        "lr_scheduler = get_scheduler(\n",
        "    name=\"linear\", optimizer=optimizer, num_warmup_steps=0, num_training_steps=num_training_steps\n",
        ")"
      ],
      "metadata": {
        "colab": {
          "base_uri": "https://localhost:8080/"
        },
        "id": "AV6GfKvPWoJm",
        "outputId": "88197b36-c6f0-42dc-c08c-dc2605620fe6"
      },
      "execution_count": null,
      "outputs": [
        {
          "output_type": "stream",
          "name": "stderr",
          "text": [
            "/usr/local/lib/python3.7/dist-packages/transformers/models/auto/modeling_auto.py:973: FutureWarning: The class `AutoModelWithLMHead` is deprecated and will be removed in a future version. Please use `AutoModelForCausalLM` for causal language models, `AutoModelForMaskedLM` for masked language models and `AutoModelForSeq2SeqLM` for encoder-decoder models.\n",
            "  FutureWarning,\n"
          ]
        }
      ]
    },
    {
      "cell_type": "markdown",
      "source": [
        "\n",
        "В генеративных задачах модель с лучшими метриками не обязательно выдает лучший с точки зрения соответствия целевой задаче результат.\n",
        "Для ускорения работы сначала дообучу модель, а потом уже посчитаю метрики на тесте без подсчета метрик для чекпойнтов."
      ],
      "metadata": {
        "id": "hJC0FSEocIOV"
      }
    },
    {
      "cell_type": "code",
      "source": [
        "from google.colab import drive\n",
        "drive.mount('gdrive')"
      ],
      "metadata": {
        "colab": {
          "base_uri": "https://localhost:8080/"
        },
        "id": "Zxmcd5XjeHvA",
        "outputId": "c30531f6-2d72-4dc9-f854-5618ac9b2e0f"
      },
      "execution_count": null,
      "outputs": [
        {
          "output_type": "stream",
          "name": "stdout",
          "text": [
            "Drive already mounted at gdrive; to attempt to forcibly remount, call drive.mount(\"gdrive\", force_remount=True).\n"
          ]
        }
      ]
    },
    {
      "cell_type": "code",
      "source": [
        "SAVE_PATH = 'gdrive/MyDrive/gpt_small_president_letter'"
      ],
      "metadata": {
        "id": "2T4VP34adxQr"
      },
      "execution_count": null,
      "outputs": []
    },
    {
      "cell_type": "code",
      "source": [
        "progress_bar = tqdm(range(num_training_steps))\n",
        "\n",
        "for epoch in range(num_epochs):\n",
        "    for batch in train_dataloader:\n",
        "        tokenized_batch = tokenizer(list(batch), return_tensors='pt', padding=True).to(device)\n",
        "        outputs = gpt(**tokenized_batch, labels=tokenized_batch['input_ids'])\n",
        "        loss = outputs.loss\n",
        "        loss.backward()\n",
        "\n",
        "        optimizer.step()\n",
        "        lr_scheduler.step()\n",
        "        optimizer.zero_grad()\n",
        "        progress_bar.update(1)\n",
        "    gpt.save_pretrained(SAVE_PATH)"
      ],
      "metadata": {
        "colab": {
          "base_uri": "https://localhost:8080/",
          "height": 49,
          "referenced_widgets": [
            "27ca3b091d3840599bf4020e44b3f424",
            "2d125ecaa9044814a52bc188fe7b5c77",
            "5c12d759c253426098adeca528d84268",
            "1f00d6b8edde47a59efbc43e0d39cde5",
            "51acaa3edabc46a8b59b36dbda0b053f",
            "6876e772345b4191bebcbac98581f759",
            "e7c897cd252b49e3a554b2ae5e5dd52b",
            "5a2e1b8b6c3c4e7fbf7f0493a0cd8594",
            "291f020e961d43c8878661be0b15950d",
            "f3a1841c37c34d2aa09c0f8710ab5ad2",
            "f8229d025bb94d8e95a7ac6af7f4fa72"
          ]
        },
        "id": "TgqkpAcSZ9OA",
        "outputId": "651f540c-2b25-4518-afc4-d58f80974bd1"
      },
      "execution_count": null,
      "outputs": [
        {
          "data": {
            "application/vnd.jupyter.widget-view+json": {
              "model_id": "27ca3b091d3840599bf4020e44b3f424",
              "version_major": 2,
              "version_minor": 0
            },
            "text/plain": [
              "  0%|          | 0/8975 [00:00<?, ?it/s]"
            ]
          },
          "metadata": {},
          "output_type": "display_data"
        }
      ]
    },
    {
      "cell_type": "markdown",
      "source": [
        "Проверка на адекватность результата (более детальный анализ и подбор параметров будет в другой тетрадке)"
      ],
      "metadata": {
        "id": "J8mrCIE3ucdc"
      }
    },
    {
      "cell_type": "code",
      "source": [
        "gpt.eval()"
      ],
      "metadata": {
        "id": "5DPnRfECdld4"
      },
      "execution_count": null,
      "outputs": []
    },
    {
      "cell_type": "code",
      "source": [
        "test.reset_index(inplace=True)"
      ],
      "metadata": {
        "id": "uExa28lldoOU"
      },
      "execution_count": null,
      "outputs": []
    },
    {
      "cell_type": "code",
      "source": [
        "real_prompt = test['prompt'].loc[0]"
      ],
      "metadata": {
        "id": "sWf_E7gkdsnz"
      },
      "execution_count": null,
      "outputs": []
    },
    {
      "cell_type": "code",
      "source": [
        "real_prompt"
      ],
      "metadata": {
        "colab": {
          "base_uri": "https://localhost:8080/",
          "height": 89
        },
        "id": "G6GNAf3Ru7ZB",
        "outputId": "7ac580c9-b62e-4753-f4b8-db3e2a5d73e1"
      },
      "execution_count": null,
      "outputs": [
        {
          "output_type": "execute_result",
          "data": {
            "text/plain": [
              "'BOS PER Сергея Крамаренко ORG Вооружённых Сил TITLE Родным и близким Героя Советского Союза Сергея Крамаренко TEXT С глубоким прискорбием узнал о кончине Сергея Макаровича Крамаренко. Сергей Макарович Крамаренко был мужественным, сильным духом человеком, фронтовиком, участником важнейших сражений Великой Отечественной. А после войны он посвятил себя развитию Вооружённых Сил страны, патриотическому воспитанию молодёжи, укреплению замечательных традиций ветеранского движения. Светлая память о Сергее Крамаренко, Герое Советского Союза, легендарном лётчике, навсегда сохранится в сердцах его родных, сослуживцев, коллег и друзей. EOS'"
            ],
            "application/vnd.google.colaboratory.intrinsic+json": {
              "type": "string"
            }
          },
          "metadata": {},
          "execution_count": 40
        }
      ]
    },
    {
      "cell_type": "code",
      "source": [
        "prompt_meta = real_prompt.split(TITLE_TAG)[0] + TITLE_TAG\n",
        "prompt_meta_with_beginning = real_prompt.split(TEXT_TAG)[0] + TEXT_TAG"
      ],
      "metadata": {
        "id": "pLk-185mu-5P"
      },
      "execution_count": null,
      "outputs": []
    },
    {
      "cell_type": "code",
      "source": [
        "prompt_meta"
      ],
      "metadata": {
        "colab": {
          "base_uri": "https://localhost:8080/",
          "height": 35
        },
        "id": "SCeVoCd_vYTK",
        "outputId": "8ec7b6be-1be3-451b-bc97-d09cfbfc0ca5"
      },
      "execution_count": null,
      "outputs": [
        {
          "output_type": "execute_result",
          "data": {
            "text/plain": [
              "'BOS PER Сергея Крамаренко ORG Вооружённых Сил TITLE'"
            ],
            "application/vnd.google.colaboratory.intrinsic+json": {
              "type": "string"
            }
          },
          "metadata": {},
          "execution_count": 47
        }
      ]
    },
    {
      "cell_type": "code",
      "source": [
        "prompt_meta_with_beginning"
      ],
      "metadata": {
        "colab": {
          "base_uri": "https://localhost:8080/",
          "height": 35
        },
        "id": "qnEP_Imwvtox",
        "outputId": "260e0a09-c26a-422f-dcfc-61c8794f0128"
      },
      "execution_count": null,
      "outputs": [
        {
          "output_type": "execute_result",
          "data": {
            "text/plain": [
              "'BOS PER Сергея Крамаренко ORG Вооружённых Сил TITLE Родным и близким Героя Советского Союза Сергея Крамаренко TEXT'"
            ],
            "application/vnd.google.colaboratory.intrinsic+json": {
              "type": "string"
            }
          },
          "metadata": {},
          "execution_count": 48
        }
      ]
    },
    {
      "cell_type": "code",
      "source": [
        "def generate(prompt):\n",
        "   encoding = tokenizer([prompt], return_tensors='pt').to(device)\n",
        "   output = gpt.generate(**encoding, \n",
        "                         min_length=50,\n",
        "                         max_length=250,\n",
        "                         bad_words_ids=[[tokenizer.pad_token_id]],\n",
        "                         eos_token_id=tokenizer.eos_token_id)\n",
        "   return tokenizer.decode(output[0])"
      ],
      "metadata": {
        "id": "9qlxRPY-vuVi"
      },
      "execution_count": null,
      "outputs": []
    },
    {
      "cell_type": "code",
      "source": [
        "generate(prompt_meta)"
      ],
      "metadata": {
        "colab": {
          "base_uri": "https://localhost:8080/",
          "height": 107
        },
        "id": "ygQtSmROwLYI",
        "outputId": "e55a611d-7fc2-4163-c728-72676227f067"
      },
      "execution_count": null,
      "outputs": [
        {
          "output_type": "stream",
          "name": "stderr",
          "text": [
            "Setting `pad_token_id` to `eos_token_id`:50259 for open-end generation.\n"
          ]
        },
        {
          "output_type": "execute_result",
          "data": {
            "text/plain": [
              "'BOS PER Сергея Крамаренко ORG Вооружённых Сил TITLE Родным и близким Сергея Крамаренко TEXT Примите глубокие соболезнования в связи с кончиной Сергея Леонидовича Крамаренко. Сергей Леонидович был опытным руководителем, честным, порядочным, очень отзывчивым и доброжелательным человеком. Все, кто знал Сергея Леонидовича, ценили его за высокую компетентность, силу воли и мужество, честность и порядочность, верность своим принципам и долгу. Светлая память о Сергее Леонидовиче Крамаренко навсегда сохранится в сердцах близких, коллег, друзей. EOS'"
            ],
            "application/vnd.google.colaboratory.intrinsic+json": {
              "type": "string"
            }
          },
          "metadata": {},
          "execution_count": 61
        }
      ]
    },
    {
      "cell_type": "code",
      "source": [
        "generate(prompt_meta_with_beginning)"
      ],
      "metadata": {
        "colab": {
          "base_uri": "https://localhost:8080/",
          "height": 125
        },
        "id": "ntg2VY0Kw3w4",
        "outputId": "b28e2649-7ba1-428c-a8a6-493858dd6c43"
      },
      "execution_count": null,
      "outputs": [
        {
          "output_type": "stream",
          "name": "stderr",
          "text": [
            "Setting `pad_token_id` to `eos_token_id`:50259 for open-end generation.\n"
          ]
        },
        {
          "output_type": "execute_result",
          "data": {
            "text/plain": [
              "'BOS PER Сергея Крамаренко ORG Вооружённых Сил TITLE Родным и близким Героя Советского Союза Сергея Крамаренко TEXT Примите глубокие соболезнования в связи с кончиной Сергея Леонидовича Крамаренко. Сергей Леонидович был выдающимся представителем прославленного поколения победителей, волевым, энергичным человеком, настоящим патриотом и патриотом. Он всегда стремился приносить пользу Родине, достойно решать ответственные задачи, добивался успеха в сложнейшей оперативной работе. За годы ответственной работы, в том числе в переломное для нашей страны время Сергей Леонидович внёс значимый личный вклад в укрепление Вооружённых Сил, укрепление обороноспособности и национальной безопасности страны. Светлая память о Сергее Леонидовиче Крамаренко навсегда сохранится в наших сердцах. EOS'"
            ],
            "application/vnd.google.colaboratory.intrinsic+json": {
              "type": "string"
            }
          },
          "metadata": {},
          "execution_count": 62
        }
      ]
    },
    {
      "cell_type": "markdown",
      "source": [
        "Результат настолько хороший, что это кажется подозрительным. Модель могла знать отчество и титул Крамаренко, но вряд ли могла угадать уже при первой генерации (без названия), что президент обращается к близким Крамаренко в связи с его смертью. \n",
        "\n",
        "Возможно, в датасете были дубли с разными ссылками. Попробую проверить на данных, которых точно не было в трейне"
      ],
      "metadata": {
        "id": "kcQjv82YxTzh"
      }
    },
    {
      "cell_type": "code",
      "source": [
        "dummy_prompt = 'BOS PER Сергей Иванов ORG Психиатрическая больница №1 TITLE'"
      ],
      "metadata": {
        "id": "ofwlYOGzyG11"
      },
      "execution_count": 64,
      "outputs": []
    },
    {
      "cell_type": "code",
      "source": [
        "generate(dummy_prompt)"
      ],
      "metadata": {
        "colab": {
          "base_uri": "https://localhost:8080/",
          "height": 143
        },
        "id": "2Su6JLyHySIc",
        "outputId": "9c4a33de-3723-47b0-f981-9e24a9340330"
      },
      "execution_count": 65,
      "outputs": [
        {
          "output_type": "stream",
          "name": "stderr",
          "text": [
            "Setting `pad_token_id` to `eos_token_id`:50259 for open-end generation.\n"
          ]
        },
        {
          "output_type": "execute_result",
          "data": {
            "text/plain": [
              "'BOS PER Сергей Иванов ORG Психиатрическая больница №1 TITLE Сотрудникам и ветеранам Психиатрической больницы №1 TEXT Уважаемые друзья! Поздравляю вас с большой, знаменательной датой – 100-летием Психиатрической больницы №1. Одна из крупнейших в стране, знаменитая Психиатрическая больница имени С. С. Ланового, по праву славится богатой историей, замечательными традициями, гостеприимным, радушным приёмом и радушием, с которым здесь встречают пациентов. Здесь проводится большая, многогранная работа, направленная на профилактику и оздоровление людей с ограниченными возможностями по здоровью, совершенствование профильного законодательства. И конечно, отмечу ваше активное участие в реализации востребованных благотворительных, просветительских, патриотических проектов. Уверен, что коллектив больницы и впредь будет беречь и развивать замечательные традиции своих предшественников, достойно решать стоящие перед ней задачи. Желаю вам успехов и всего наилучшего. EOS'"
            ],
            "application/vnd.google.colaboratory.intrinsic+json": {
              "type": "string"
            }
          },
          "metadata": {},
          "execution_count": 65
        }
      ]
    },
    {
      "cell_type": "markdown",
      "source": [
        "Кажется, что модель видела слишком много обращений к военным (\"сотрудникам и ветеранам\").\n",
        "Название организации повторятся правильно, имя человека не использовано, но нет и неверного имени (имени С. С. Ланового - не имя человека, которого поздравляют).\n",
        "\n",
        "Интересно, что психиатр С.Лановая действительно существует)"
      ],
      "metadata": {
        "id": "rRbreqwSyfRt"
      }
    }
  ],
  "metadata": {
    "colab": {
      "name": "train_generation.ipynb",
      "provenance": [],
      "collapsed_sections": []
    },
    "kernelspec": {
      "display_name": "Python 3",
      "name": "python3"
    },
    "language_info": {
      "name": "python"
    },
    "accelerator": "GPU",
    "gpuClass": "standard",
    "widgets": {
      "application/vnd.jupyter.widget-state+json": {
        "27ca3b091d3840599bf4020e44b3f424": {
          "model_module": "@jupyter-widgets/controls",
          "model_name": "HBoxModel",
          "model_module_version": "1.5.0",
          "state": {
            "_dom_classes": [],
            "_model_module": "@jupyter-widgets/controls",
            "_model_module_version": "1.5.0",
            "_model_name": "HBoxModel",
            "_view_count": null,
            "_view_module": "@jupyter-widgets/controls",
            "_view_module_version": "1.5.0",
            "_view_name": "HBoxView",
            "box_style": "",
            "children": [
              "IPY_MODEL_2d125ecaa9044814a52bc188fe7b5c77",
              "IPY_MODEL_5c12d759c253426098adeca528d84268",
              "IPY_MODEL_1f00d6b8edde47a59efbc43e0d39cde5"
            ],
            "layout": "IPY_MODEL_51acaa3edabc46a8b59b36dbda0b053f"
          }
        },
        "2d125ecaa9044814a52bc188fe7b5c77": {
          "model_module": "@jupyter-widgets/controls",
          "model_name": "HTMLModel",
          "model_module_version": "1.5.0",
          "state": {
            "_dom_classes": [],
            "_model_module": "@jupyter-widgets/controls",
            "_model_module_version": "1.5.0",
            "_model_name": "HTMLModel",
            "_view_count": null,
            "_view_module": "@jupyter-widgets/controls",
            "_view_module_version": "1.5.0",
            "_view_name": "HTMLView",
            "description": "",
            "description_tooltip": null,
            "layout": "IPY_MODEL_6876e772345b4191bebcbac98581f759",
            "placeholder": "​",
            "style": "IPY_MODEL_e7c897cd252b49e3a554b2ae5e5dd52b",
            "value": "100%"
          }
        },
        "5c12d759c253426098adeca528d84268": {
          "model_module": "@jupyter-widgets/controls",
          "model_name": "FloatProgressModel",
          "model_module_version": "1.5.0",
          "state": {
            "_dom_classes": [],
            "_model_module": "@jupyter-widgets/controls",
            "_model_module_version": "1.5.0",
            "_model_name": "FloatProgressModel",
            "_view_count": null,
            "_view_module": "@jupyter-widgets/controls",
            "_view_module_version": "1.5.0",
            "_view_name": "ProgressView",
            "bar_style": "",
            "description": "",
            "description_tooltip": null,
            "layout": "IPY_MODEL_5a2e1b8b6c3c4e7fbf7f0493a0cd8594",
            "max": 8975,
            "min": 0,
            "orientation": "horizontal",
            "style": "IPY_MODEL_291f020e961d43c8878661be0b15950d",
            "value": 8975
          }
        },
        "1f00d6b8edde47a59efbc43e0d39cde5": {
          "model_module": "@jupyter-widgets/controls",
          "model_name": "HTMLModel",
          "model_module_version": "1.5.0",
          "state": {
            "_dom_classes": [],
            "_model_module": "@jupyter-widgets/controls",
            "_model_module_version": "1.5.0",
            "_model_name": "HTMLModel",
            "_view_count": null,
            "_view_module": "@jupyter-widgets/controls",
            "_view_module_version": "1.5.0",
            "_view_name": "HTMLView",
            "description": "",
            "description_tooltip": null,
            "layout": "IPY_MODEL_f3a1841c37c34d2aa09c0f8710ab5ad2",
            "placeholder": "​",
            "style": "IPY_MODEL_f8229d025bb94d8e95a7ac6af7f4fa72",
            "value": " 8975/8975 [56:59&lt;00:00,  3.06it/s]"
          }
        },
        "51acaa3edabc46a8b59b36dbda0b053f": {
          "model_module": "@jupyter-widgets/base",
          "model_name": "LayoutModel",
          "model_module_version": "1.2.0",
          "state": {
            "_model_module": "@jupyter-widgets/base",
            "_model_module_version": "1.2.0",
            "_model_name": "LayoutModel",
            "_view_count": null,
            "_view_module": "@jupyter-widgets/base",
            "_view_module_version": "1.2.0",
            "_view_name": "LayoutView",
            "align_content": null,
            "align_items": null,
            "align_self": null,
            "border": null,
            "bottom": null,
            "display": null,
            "flex": null,
            "flex_flow": null,
            "grid_area": null,
            "grid_auto_columns": null,
            "grid_auto_flow": null,
            "grid_auto_rows": null,
            "grid_column": null,
            "grid_gap": null,
            "grid_row": null,
            "grid_template_areas": null,
            "grid_template_columns": null,
            "grid_template_rows": null,
            "height": null,
            "justify_content": null,
            "justify_items": null,
            "left": null,
            "margin": null,
            "max_height": null,
            "max_width": null,
            "min_height": null,
            "min_width": null,
            "object_fit": null,
            "object_position": null,
            "order": null,
            "overflow": null,
            "overflow_x": null,
            "overflow_y": null,
            "padding": null,
            "right": null,
            "top": null,
            "visibility": null,
            "width": null
          }
        },
        "6876e772345b4191bebcbac98581f759": {
          "model_module": "@jupyter-widgets/base",
          "model_name": "LayoutModel",
          "model_module_version": "1.2.0",
          "state": {
            "_model_module": "@jupyter-widgets/base",
            "_model_module_version": "1.2.0",
            "_model_name": "LayoutModel",
            "_view_count": null,
            "_view_module": "@jupyter-widgets/base",
            "_view_module_version": "1.2.0",
            "_view_name": "LayoutView",
            "align_content": null,
            "align_items": null,
            "align_self": null,
            "border": null,
            "bottom": null,
            "display": null,
            "flex": null,
            "flex_flow": null,
            "grid_area": null,
            "grid_auto_columns": null,
            "grid_auto_flow": null,
            "grid_auto_rows": null,
            "grid_column": null,
            "grid_gap": null,
            "grid_row": null,
            "grid_template_areas": null,
            "grid_template_columns": null,
            "grid_template_rows": null,
            "height": null,
            "justify_content": null,
            "justify_items": null,
            "left": null,
            "margin": null,
            "max_height": null,
            "max_width": null,
            "min_height": null,
            "min_width": null,
            "object_fit": null,
            "object_position": null,
            "order": null,
            "overflow": null,
            "overflow_x": null,
            "overflow_y": null,
            "padding": null,
            "right": null,
            "top": null,
            "visibility": null,
            "width": null
          }
        },
        "e7c897cd252b49e3a554b2ae5e5dd52b": {
          "model_module": "@jupyter-widgets/controls",
          "model_name": "DescriptionStyleModel",
          "model_module_version": "1.5.0",
          "state": {
            "_model_module": "@jupyter-widgets/controls",
            "_model_module_version": "1.5.0",
            "_model_name": "DescriptionStyleModel",
            "_view_count": null,
            "_view_module": "@jupyter-widgets/base",
            "_view_module_version": "1.2.0",
            "_view_name": "StyleView",
            "description_width": ""
          }
        },
        "5a2e1b8b6c3c4e7fbf7f0493a0cd8594": {
          "model_module": "@jupyter-widgets/base",
          "model_name": "LayoutModel",
          "model_module_version": "1.2.0",
          "state": {
            "_model_module": "@jupyter-widgets/base",
            "_model_module_version": "1.2.0",
            "_model_name": "LayoutModel",
            "_view_count": null,
            "_view_module": "@jupyter-widgets/base",
            "_view_module_version": "1.2.0",
            "_view_name": "LayoutView",
            "align_content": null,
            "align_items": null,
            "align_self": null,
            "border": null,
            "bottom": null,
            "display": null,
            "flex": null,
            "flex_flow": null,
            "grid_area": null,
            "grid_auto_columns": null,
            "grid_auto_flow": null,
            "grid_auto_rows": null,
            "grid_column": null,
            "grid_gap": null,
            "grid_row": null,
            "grid_template_areas": null,
            "grid_template_columns": null,
            "grid_template_rows": null,
            "height": null,
            "justify_content": null,
            "justify_items": null,
            "left": null,
            "margin": null,
            "max_height": null,
            "max_width": null,
            "min_height": null,
            "min_width": null,
            "object_fit": null,
            "object_position": null,
            "order": null,
            "overflow": null,
            "overflow_x": null,
            "overflow_y": null,
            "padding": null,
            "right": null,
            "top": null,
            "visibility": null,
            "width": null
          }
        },
        "291f020e961d43c8878661be0b15950d": {
          "model_module": "@jupyter-widgets/controls",
          "model_name": "ProgressStyleModel",
          "model_module_version": "1.5.0",
          "state": {
            "_model_module": "@jupyter-widgets/controls",
            "_model_module_version": "1.5.0",
            "_model_name": "ProgressStyleModel",
            "_view_count": null,
            "_view_module": "@jupyter-widgets/base",
            "_view_module_version": "1.2.0",
            "_view_name": "StyleView",
            "bar_color": null,
            "description_width": ""
          }
        },
        "f3a1841c37c34d2aa09c0f8710ab5ad2": {
          "model_module": "@jupyter-widgets/base",
          "model_name": "LayoutModel",
          "model_module_version": "1.2.0",
          "state": {
            "_model_module": "@jupyter-widgets/base",
            "_model_module_version": "1.2.0",
            "_model_name": "LayoutModel",
            "_view_count": null,
            "_view_module": "@jupyter-widgets/base",
            "_view_module_version": "1.2.0",
            "_view_name": "LayoutView",
            "align_content": null,
            "align_items": null,
            "align_self": null,
            "border": null,
            "bottom": null,
            "display": null,
            "flex": null,
            "flex_flow": null,
            "grid_area": null,
            "grid_auto_columns": null,
            "grid_auto_flow": null,
            "grid_auto_rows": null,
            "grid_column": null,
            "grid_gap": null,
            "grid_row": null,
            "grid_template_areas": null,
            "grid_template_columns": null,
            "grid_template_rows": null,
            "height": null,
            "justify_content": null,
            "justify_items": null,
            "left": null,
            "margin": null,
            "max_height": null,
            "max_width": null,
            "min_height": null,
            "min_width": null,
            "object_fit": null,
            "object_position": null,
            "order": null,
            "overflow": null,
            "overflow_x": null,
            "overflow_y": null,
            "padding": null,
            "right": null,
            "top": null,
            "visibility": null,
            "width": null
          }
        },
        "f8229d025bb94d8e95a7ac6af7f4fa72": {
          "model_module": "@jupyter-widgets/controls",
          "model_name": "DescriptionStyleModel",
          "model_module_version": "1.5.0",
          "state": {
            "_model_module": "@jupyter-widgets/controls",
            "_model_module_version": "1.5.0",
            "_model_name": "DescriptionStyleModel",
            "_view_count": null,
            "_view_module": "@jupyter-widgets/base",
            "_view_module_version": "1.2.0",
            "_view_name": "StyleView",
            "description_width": ""
          }
        }
      }
    }
  },
  "nbformat": 4,
  "nbformat_minor": 0
}