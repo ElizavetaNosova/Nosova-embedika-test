{
  "cells": [
    {
      "cell_type": "code",
      "execution_count": 1,
      "metadata": {
        "id": "ABKpghXR7zon"
      },
      "outputs": [],
      "source": [
        "from google.colab import files"
      ]
    },
    {
      "cell_type": "code",
      "source": [
        "from google.colab import drive\n",
        "drive.mount('gdrive')"
      ],
      "metadata": {
        "colab": {
          "base_uri": "https://localhost:8080/"
        },
        "id": "vcPf17pNvjB4",
        "outputId": "da725a12-8e94-41eb-de04-b7949c10643b"
      },
      "execution_count": 2,
      "outputs": [
        {
          "output_type": "stream",
          "name": "stdout",
          "text": [
            "Mounted at gdrive\n"
          ]
        }
      ]
    },
    {
      "cell_type": "code",
      "execution_count": null,
      "metadata": {
        "id": "SpV-K1Q78zsT"
      },
      "outputs": [],
      "source": [
        "files.upload()"
      ]
    },
    {
      "cell_type": "code",
      "source": [
        "!pip install transformers"
      ],
      "metadata": {
        "colab": {
          "base_uri": "https://localhost:8080/"
        },
        "id": "er1hmxOvxZOK",
        "outputId": "2b1726f6-40f6-4eb8-b8e6-a3522193cb06"
      },
      "execution_count": 18,
      "outputs": [
        {
          "output_type": "stream",
          "name": "stdout",
          "text": [
            "Looking in indexes: https://pypi.org/simple, https://us-python.pkg.dev/colab-wheels/public/simple/\n",
            "Collecting transformers\n",
            "  Downloading transformers-4.20.1-py3-none-any.whl (4.4 MB)\n",
            "\u001b[K     |████████████████████████████████| 4.4 MB 4.3 MB/s \n",
            "\u001b[?25hRequirement already satisfied: regex!=2019.12.17 in /usr/local/lib/python3.7/dist-packages (from transformers) (2022.6.2)\n",
            "Collecting pyyaml>=5.1\n",
            "  Downloading PyYAML-6.0-cp37-cp37m-manylinux_2_5_x86_64.manylinux1_x86_64.manylinux_2_12_x86_64.manylinux2010_x86_64.whl (596 kB)\n",
            "\u001b[K     |████████████████████████████████| 596 kB 55.6 MB/s \n",
            "\u001b[?25hCollecting tokenizers!=0.11.3,<0.13,>=0.11.1\n",
            "  Downloading tokenizers-0.12.1-cp37-cp37m-manylinux_2_12_x86_64.manylinux2010_x86_64.whl (6.6 MB)\n",
            "\u001b[K     |████████████████████████████████| 6.6 MB 40.6 MB/s \n",
            "\u001b[?25hRequirement already satisfied: requests in /usr/local/lib/python3.7/dist-packages (from transformers) (2.23.0)\n",
            "Requirement already satisfied: packaging>=20.0 in /usr/local/lib/python3.7/dist-packages (from transformers) (21.3)\n",
            "Requirement already satisfied: importlib-metadata in /usr/local/lib/python3.7/dist-packages (from transformers) (4.12.0)\n",
            "Requirement already satisfied: tqdm>=4.27 in /usr/local/lib/python3.7/dist-packages (from transformers) (4.64.0)\n",
            "Requirement already satisfied: numpy>=1.17 in /usr/local/lib/python3.7/dist-packages (from transformers) (1.21.6)\n",
            "Collecting huggingface-hub<1.0,>=0.1.0\n",
            "  Downloading huggingface_hub-0.8.1-py3-none-any.whl (101 kB)\n",
            "\u001b[K     |████████████████████████████████| 101 kB 11.1 MB/s \n",
            "\u001b[?25hRequirement already satisfied: filelock in /usr/local/lib/python3.7/dist-packages (from transformers) (3.7.1)\n",
            "Requirement already satisfied: typing-extensions>=3.7.4.3 in /usr/local/lib/python3.7/dist-packages (from huggingface-hub<1.0,>=0.1.0->transformers) (4.1.1)\n",
            "Requirement already satisfied: pyparsing!=3.0.5,>=2.0.2 in /usr/local/lib/python3.7/dist-packages (from packaging>=20.0->transformers) (3.0.9)\n",
            "Requirement already satisfied: zipp>=0.5 in /usr/local/lib/python3.7/dist-packages (from importlib-metadata->transformers) (3.8.0)\n",
            "Requirement already satisfied: urllib3!=1.25.0,!=1.25.1,<1.26,>=1.21.1 in /usr/local/lib/python3.7/dist-packages (from requests->transformers) (1.24.3)\n",
            "Requirement already satisfied: chardet<4,>=3.0.2 in /usr/local/lib/python3.7/dist-packages (from requests->transformers) (3.0.4)\n",
            "Requirement already satisfied: certifi>=2017.4.17 in /usr/local/lib/python3.7/dist-packages (from requests->transformers) (2022.6.15)\n",
            "Requirement already satisfied: idna<3,>=2.5 in /usr/local/lib/python3.7/dist-packages (from requests->transformers) (2.10)\n",
            "Installing collected packages: pyyaml, tokenizers, huggingface-hub, transformers\n",
            "  Attempting uninstall: pyyaml\n",
            "    Found existing installation: PyYAML 3.13\n",
            "    Uninstalling PyYAML-3.13:\n",
            "      Successfully uninstalled PyYAML-3.13\n",
            "Successfully installed huggingface-hub-0.8.1 pyyaml-6.0 tokenizers-0.12.1 transformers-4.20.1\n"
          ]
        }
      ]
    },
    {
      "cell_type": "code",
      "source": [
        "import json\n",
        "import pandas as pd\n",
        "import re\n",
        "import os\n",
        "from copy import copy\n",
        "import math\n",
        "\n",
        "\n",
        "from transformers import AutoTokenizer, AutoModelWithLMHead, get_scheduler\n",
        "import torch\n",
        "from sklearn.model_selection import train_test_split\n",
        "from tqdm.auto import tqdm"
      ],
      "metadata": {
        "id": "pAimjwDZLcd7"
      },
      "execution_count": 19,
      "outputs": []
    },
    {
      "cell_type": "code",
      "source": [
        "#DATA_DIR = '../data'\n",
        "DATA_DIR = ''\n",
        "df = pd.read_csv(os.path.join(DATA_DIR, 'kremlin_ner_dataset.csv'))"
      ],
      "metadata": {
        "id": "VMxRQUjiLVTQ"
      },
      "execution_count": 37,
      "outputs": []
    },
    {
      "cell_type": "code",
      "source": [
        "len(df)"
      ],
      "metadata": {
        "colab": {
          "base_uri": "https://localhost:8080/"
        },
        "id": "7nSQALKRUSgT",
        "outputId": "ea000ee1-5c6d-49ae-b4c3-84c3406cda64"
      },
      "execution_count": 39,
      "outputs": [
        {
          "output_type": "execute_result",
          "data": {
            "text/plain": [
              "2380"
            ]
          },
          "metadata": {},
          "execution_count": 39
        }
      ]
    },
    {
      "cell_type": "code",
      "source": [
        "len(set(df['url']))"
      ],
      "metadata": {
        "colab": {
          "base_uri": "https://localhost:8080/"
        },
        "id": "1YzsbgWAUWPe",
        "outputId": "2fc8831a-e888-4eb3-ca0f-2656228170d0"
      },
      "execution_count": 41,
      "outputs": [
        {
          "output_type": "execute_result",
          "data": {
            "text/plain": [
              "2380"
            ]
          },
          "metadata": {},
          "execution_count": 41
        }
      ]
    },
    {
      "cell_type": "code",
      "source": [
        "len(set(df['title']))"
      ],
      "metadata": {
        "colab": {
          "base_uri": "https://localhost:8080/"
        },
        "id": "yglqPiXOUaHP",
        "outputId": "4e007bd3-1e8f-4240-bd54-5edfde7a01f2"
      },
      "execution_count": 42,
      "outputs": [
        {
          "output_type": "execute_result",
          "data": {
            "text/plain": [
              "2146"
            ]
          },
          "metadata": {},
          "execution_count": 42
        }
      ]
    },
    {
      "cell_type": "code",
      "source": [
        "len(set(df['text']))"
      ],
      "metadata": {
        "colab": {
          "base_uri": "https://localhost:8080/"
        },
        "id": "H58M1TjrUc_I",
        "outputId": "55af4d55-6935-41af-c3ff-bb7af6cc390a"
      },
      "execution_count": 43,
      "outputs": [
        {
          "output_type": "execute_result",
          "data": {
            "text/plain": [
              "2379"
            ]
          },
          "metadata": {},
          "execution_count": 43
        }
      ]
    },
    {
      "cell_type": "markdown",
      "source": [
        "Есть случаи, когда в датасете представлено несколько разных текстов с одинаковыми названиями. Посмотрим на них"
      ],
      "metadata": {
        "id": "WHx-3y3tUfrX"
      }
    },
    {
      "cell_type": "code",
      "source": [
        "duplicates = []\n",
        "for title, group in df.groupby('title'):\n",
        "    if len(group) > 1:\n",
        "        duplicates.append((title, list(group['text'])))"
      ],
      "metadata": {
        "id": "1cirl1OWUtLQ"
      },
      "execution_count": 54,
      "outputs": []
    },
    {
      "cell_type": "code",
      "source": [
        "duplicates[0]"
      ],
      "metadata": {
        "colab": {
          "base_uri": "https://localhost:8080/"
        },
        "id": "rqN0LVYWUtQH",
        "outputId": "bf94f096-2af0-4d34-eba1-3350e3f241b1"
      },
      "execution_count": 55,
      "outputs": [
        {
          "output_type": "execute_result",
          "data": {
            "text/plain": [
              "('Абдельфаттаху Сиси, Президенту Арабской Республики Египет',\n",
              " ['Уважаемый господин Президент, дорогой друг,\\nПримите глубокие соболезнования по случаю трагических последствий железнодорожной катастрофы, произошедшей на центральном вокзале Каира.\\nВ России разделяют скорбь тех, кто потерял своих родных и близких в результате этого происшествия, и надеются на скорейшее выздоровление всех пострадавших.\\nС уважением,',\n",
              "  'Уважаемый господин Президент,\\nдорогой друг,\\nпримите глубокие соболезнования в связи с кончиной бывшего Президента Египта Хосни Мубарака.\\nВ России будут помнить о его большом личном вкладе в развитие дружественных отношений и взаимовыгодного сотрудничества между нашими странами.\\nПрошу передать слова искреннего сочувствия родным и близким покойного.\\nС уважением,',\n",
              "  'Уважаемый господин Президент, дорогой друг,\\nпримите глубокие соболезнования в связи с трагическими последствиями железнодорожной катастрофы в провинции Сохаг.\\nПрошу передать слова искреннего сочувствия и поддержки родным и близким погибших, а также пожелания скорейшего выздоровления всем пострадавшим.'])"
            ]
          },
          "metadata": {},
          "execution_count": 55
        }
      ]
    },
    {
      "cell_type": "code",
      "source": [
        "duplicates[1]"
      ],
      "metadata": {
        "colab": {
          "base_uri": "https://localhost:8080/"
        },
        "id": "AFJ4F2VgVgOA",
        "outputId": "7481aa23-678e-4d85-b15b-b3b0397c89aa"
      },
      "execution_count": 56,
      "outputs": [
        {
          "output_type": "execute_result",
          "data": {
            "text/plain": [
              "('Абдулу Хамиду, Президенту Народной Республики Бангладеш; Шейх Хасине, Премьер-министру Народной Республики Бангладеш',\n",
              " ['Уважаемый господин Президент,\\nУважаемая госпожа Премьер-министр,\\nпримите глубокие соболезнования в связи с аварией самолёта бангладешской авиакомпании в аэропорту Катманду, повлёкшей человеческие жертвы.\\nПрошу передать слова искреннего сочувствия и поддержки семьям погибших, пожелания скорейшего выздоровления всем пострадавшим.\\nС уважением,',\n",
              "  'Уважаемый господин Президент,\\nУважаемая госпожа Премьер-министр,\\nпримите сердечные поздравления по случаю 50-летия установления дипломатических отношений между нашими государствами.\\nВот уже полвека связи между Москвой и Даккой неизменно развиваются в духе дружбы и взаимного уважения.\\nУверен, что совместными усилиями мы обеспечим дальнейшее наращивание конструктивного двустороннего сотрудничества в различных областях. Это в полной мере отвечает интересам народов России и Бангладеш, идёт в русле упрочения региональной стабильности и безопасности.\\nИскренне желаю вам доброго здоровья и успехов, а всем вашим согражданам – мира и благополучия.\\nС уважением,'])"
            ]
          },
          "metadata": {},
          "execution_count": 56
        }
      ]
    },
    {
      "cell_type": "code",
      "source": [
        "duplicates[10]"
      ],
      "metadata": {
        "colab": {
          "base_uri": "https://localhost:8080/"
        },
        "id": "gMFVBbCrVkdd",
        "outputId": "9bdd6c6f-23bf-4ada-dc62-0ea40d777f81"
      },
      "execution_count": 57,
      "outputs": [
        {
          "output_type": "execute_result",
          "data": {
            "text/plain": [
              "('Василию Лановому, актёру театра и кино, народному артисту СССР',\n",
              " ['Уважаемый Василий Семёнович!\\nПримите поздравления с Днём рождения.\\nС Вашим именем и многолетней творческой деятельностью связаны яркие страницы истории отечественного театра и кинематографа, целое созвездие талантливых, самобытных, незабываемых ролей.\\nИ конечно, отмечу Ваш значимый вклад в укрепление патриотических традиций, которыми по праву славится наша страна, в воспитание молодёжи на высоких духовно-нравственных идеалах и ценностях.\\nЖелаю Вам здоровья, успехов и всего наилучшего.',\n",
              "  'Уважаемый Василий Семёнович!\\nПримите тёплые поздравления с Днём рождения.\\nВы посвятили свою жизнь служению искусству и на этом поприще достигли признанных высот, завоевали поистине всенародную славу. Ваше яркое, многогранное творчество, деятельное участие в общественных, просветительских, благотворительных проектах, неоценимый личный вклад в сбережение наших патриотических традиций, воспитание молодёжи достойны самого глубокого уважения.\\nЖелаю Вам крепкого здоровья, успехов и благополучия.',\n",
              "  'Уважаемый Василий Семёнович!\\nПримите поздравления с 85-летием.\\nВаш юбилей – большое событие для любителей театра и кинематографа, для почитателей Вашего щедрого, самобытного дарования. Яркие, незабываемые роли, созданные Вами за годы неустанного творческого поиска, стали подлинным эталоном актёрского мастерства, примером преданного служения искусству.\\nИ конечно, особо отмечу Вашу ответственную гражданскую позицию и огромное внимание, которое Вы уделяете сбережению памяти о героях Великой Отечественной войны, воспитанию подрастающего поколения в духе патриотизма и уважения к ратным страницам нашей истории.\\nОт души желаю Вам здоровья, успехов, исполнения намеченных планов.',\n",
              "  'Уважаемый Василий Семёнович!\\nПримите сердечные поздравления с Днём рождения.\\nМногочисленные почитатели Вашего таланта ценят и искренне любят Вас за верность своему призванию, родному Вахтанговскому театру. И конечно, они с огромным уважением относятся к Вашей востребованной общественной деятельности, направленной на сбережение исторической памяти о Великой Отечественной войне, воспитание молодёжи на высоких примерах патриотизма и гражданственности.\\nЖелаю Вам бодрости духа, здоровья и творческого долголетия.'])"
            ]
          },
          "metadata": {},
          "execution_count": 57
        }
      ]
    },
    {
      "cell_type": "markdown",
      "source": [
        "Это обращения к одим и тем же людям по разным поводам (разные события в Египте и Бангладеше) или поздравления в днем рождения в разные годы. "
      ],
      "metadata": {
        "id": "Bt_NPhMjV8XA"
      }
    },
    {
      "cell_type": "code",
      "source": [
        "for column in ['title_ner', 'text_ner']:\n",
        "    df[column] = df[column].apply(json.loads)"
      ],
      "metadata": {
        "id": "rr1nlEuJLwQS"
      },
      "execution_count": 8,
      "outputs": []
    },
    {
      "cell_type": "code",
      "source": [
        "SELECTED_ENTITIES = ['PER', 'ORG']\n",
        "\n",
        "BOS_TAG = 'BOS'\n",
        "EOS_TAG = 'EOS'\n",
        "TITLE_TAG = 'TITLE'\n",
        "TEXT_TAG = 'TEXT'"
      ],
      "metadata": {
        "id": "jXxq6U_SL9q9"
      },
      "execution_count": 20,
      "outputs": []
    },
    {
      "cell_type": "code",
      "source": [
        "def join_entities(title_ner, text_ner, selected_entities=SELECTED_ENTITIES):\n",
        "    '''\n",
        "    Для выбранных типов сущностей берет значение из сущностей заголовка (при наличии).\n",
        "    Если сущностей нет в заголовке, берет из текста\n",
        "    '''\n",
        "    joined_entities = {}\n",
        "    for entity_type in selected_entities:\n",
        "        for entities in [title_ner, text_ner]:\n",
        "            if entity_type in entities:\n",
        "                joined_entities[entity_type] = entities[entity_type]\n",
        "                break\n",
        "    return joined_entities"
      ],
      "metadata": {
        "id": "GDMtr3WBMLoy"
      },
      "execution_count": 21,
      "outputs": []
    },
    {
      "cell_type": "code",
      "source": [
        "df['selected_entities'] = df.apply(\n",
        "    lambda row: join_entities(row['title_ner'], row['text_ner']),\n",
        "    axis=1\n",
        ")"
      ],
      "metadata": {
        "id": "jUwi02mzOGVw"
      },
      "execution_count": 22,
      "outputs": []
    },
    {
      "cell_type": "code",
      "source": [
        "df['selected_entities'].apply(len).describe()"
      ],
      "metadata": {
        "colab": {
          "base_uri": "https://localhost:8080/"
        },
        "id": "T6-nQk5BOUDk",
        "outputId": "045648f6-b074-4d96-a44e-10b108f18759"
      },
      "execution_count": 23,
      "outputs": [
        {
          "output_type": "execute_result",
          "data": {
            "text/plain": [
              "count    2380.000000\n",
              "mean        0.944118\n",
              "std         0.601095\n",
              "min         0.000000\n",
              "25%         1.000000\n",
              "50%         1.000000\n",
              "75%         1.000000\n",
              "max         2.000000\n",
              "Name: selected_entities, dtype: float64"
            ]
          },
          "metadata": {},
          "execution_count": 23
        }
      ]
    },
    {
      "cell_type": "markdown",
      "source": [
        "Сущности не выделены меньше, чем для четверти примеров"
      ],
      "metadata": {
        "id": "DmDntBSKPgkk"
      }
    },
    {
      "cell_type": "code",
      "source": [
        "def prepare_text_for_gpt(text:str):\n",
        "    '''\n",
        "    Функция добавляет пробелы после разделителей строки и точек, если пробелов там не было,\n",
        "    потому что при токенизации пробел является частью первого токена слова.\n",
        "    Эмбединги для случаев \"заглавная буква идет не после пробела\" предобучены хуже.\n",
        "    '''\n",
        "    text = re.sub('\\n', ' ', text)\n",
        "    text = re.sub(re.escape('.'), '. ', text)\n",
        "    # если были добавлены двойные пробелы, убираем их\n",
        "    text = re.sub(' +', ' ', text)\n",
        "    return text\n",
        "\n",
        "def format_prompt(row:pd.core.series.Series):\n",
        "    prompt = ''\n",
        "    for entity_tag in SELECTED_ENTITIES:\n",
        "        entity_content = ', '.join(row['selected_entities'].get(entity_tag, []))\n",
        "        prompt += f'{entity_tag} {entity_content} '\n",
        "    prompt = f\"{BOS_TAG} {prompt}{TITLE_TAG} {row['title']} {TEXT_TAG} {row['text']} {EOS_TAG}\"\n",
        "    return prepare_text_for_gpt(prompt)"
      ],
      "metadata": {
        "id": "SIn0TUB7Pfm1"
      },
      "execution_count": 24,
      "outputs": []
    },
    {
      "cell_type": "code",
      "source": [
        "df['prompt'] = df.apply(format_prompt, axis=1)"
      ],
      "metadata": {
        "id": "E0ABp2ihSFzM"
      },
      "execution_count": 25,
      "outputs": []
    },
    {
      "cell_type": "markdown",
      "source": [
        "Посмотрим распределение длин токенизированных текстов"
      ],
      "metadata": {
        "id": "YJ1l1jrhSXnf"
      }
    },
    {
      "cell_type": "code",
      "source": [
        "PRETRAINED_MODEL_NAME = 'sberbank-ai/rugpt3small_based_on_gpt2'"
      ],
      "metadata": {
        "id": "8t4xIDmKSWTH"
      },
      "execution_count": 26,
      "outputs": []
    },
    {
      "cell_type": "code",
      "source": [
        "tokenizer = AutoTokenizer.from_pretrained(PRETRAINED_MODEL_NAME)"
      ],
      "metadata": {
        "colab": {
          "base_uri": "https://localhost:8080/",
          "height": 131,
          "referenced_widgets": [
            "7ef27f3675a04c758e59f98754b8335c",
            "04322255bccb44ce96ffb1190344ea76",
            "9ee174a5dece4673a4e67c05d3695be1",
            "7a885add4ce74f46ba1a4ed19e64c199",
            "0621111e977f4a5e811c04d271a64833",
            "427702be31fc41e08ddf712dc6a8c4ff",
            "1ea4930f4ffa4752a783b77203135f97",
            "85af439948cb441db85d038ac9a83383",
            "573d9dcbe58f4ed89748d25530eccef5",
            "78589281b07b4fd38364fb77e08c51bf",
            "f478212efdc747909d8e5b708aa64b6f",
            "737ad4783285498cb8581ef8e6cb6c17",
            "b0042c89ca404f7bafacf129586bf7e8",
            "fb9994f2c0ff43da87e5134c6951a4cb",
            "b72326f64c6e451c832276dbb3bfd98c",
            "0802d827e31940f4abbe9443eedff5dd",
            "6290af4692b34400b4e11c1017aa1020",
            "b0d13ed398c8461ab6fbcac29be5407e",
            "e46e363829ee4b5290c06d6a61e2c22c",
            "c9b0e168854245578727882640be5245",
            "e0d79caa0f00436c8e37d435966b019f",
            "9ae21957404844b58311d2ed16895329",
            "da83e1a02a5f452a8f7db77c58cf6c40",
            "eaf80efa59164cae9dbdeeba7ed76171",
            "622d477feaf645d38b740ff20e60adb7",
            "0e9fa6230d5341e0b50d68a94673d814",
            "63982247fe2b4d4fbf08a491fd9bdfbc",
            "63353257412143f89474f8bf18398c81",
            "5e2504309c054a4186f637cd37175241",
            "389db3c36f63472f84131dcd0e705733",
            "78aabf6ef5d64897bd66857aae552c59",
            "b8ec8341ac0f4ab28f939b226e8cdf92",
            "f80e0306f1114838ab86502e5dab2f8b"
          ]
        },
        "id": "lxDifSjUTYGf",
        "outputId": "70b794d8-8790-4a2b-fdc4-c42194eb1441"
      },
      "execution_count": 27,
      "outputs": [
        {
          "output_type": "display_data",
          "data": {
            "text/plain": [
              "Downloading:   0%|          | 0.00/608 [00:00<?, ?B/s]"
            ],
            "application/vnd.jupyter.widget-view+json": {
              "version_major": 2,
              "version_minor": 0,
              "model_id": "7ef27f3675a04c758e59f98754b8335c"
            }
          },
          "metadata": {}
        },
        {
          "output_type": "display_data",
          "data": {
            "text/plain": [
              "Downloading:   0%|          | 0.00/1.63M [00:00<?, ?B/s]"
            ],
            "application/vnd.jupyter.widget-view+json": {
              "version_major": 2,
              "version_minor": 0,
              "model_id": "737ad4783285498cb8581ef8e6cb6c17"
            }
          },
          "metadata": {}
        },
        {
          "output_type": "display_data",
          "data": {
            "text/plain": [
              "Downloading:   0%|          | 0.00/1.21M [00:00<?, ?B/s]"
            ],
            "application/vnd.jupyter.widget-view+json": {
              "version_major": 2,
              "version_minor": 0,
              "model_id": "da83e1a02a5f452a8f7db77c58cf6c40"
            }
          },
          "metadata": {}
        },
        {
          "output_type": "stream",
          "name": "stderr",
          "text": [
            "Special tokens have been added in the vocabulary, make sure the associated word embeddings are fine-tuned or trained.\n"
          ]
        }
      ]
    },
    {
      "cell_type": "code",
      "source": [
        "tokenizer.add_special_tokens({'bos_token':BOS_TAG,\n",
        "                              'eos_token':EOS_TAG,\n",
        "                              'pad_token': '[PAD]',\n",
        "                              'additional_special_tokens':[TITLE_TAG, TEXT_TAG, *SELECTED_ENTITIES]})"
      ],
      "metadata": {
        "colab": {
          "base_uri": "https://localhost:8080/"
        },
        "id": "HIaO8XyQTdTF",
        "outputId": "19013814-4d2f-4f13-ea8d-d3490fcb3da5"
      },
      "execution_count": 28,
      "outputs": [
        {
          "output_type": "execute_result",
          "data": {
            "text/plain": [
              "7"
            ]
          },
          "metadata": {},
          "execution_count": 28
        }
      ]
    },
    {
      "cell_type": "code",
      "source": [
        "tokenized = []\n",
        "prompts = list(df['prompt'])\n",
        "encoded_prompts_lens = []\n",
        "tokenization_batch_size = 100\n",
        "\n",
        "for batch_idx in range(math.ceil(len(prompts)/tokenization_batch_size)):\n",
        "    batch_start = batch_idx * tokenization_batch_size\n",
        "    batch_end = (batch_idx+1) * tokenization_batch_size\n",
        "    batch = prompts[batch_start:batch_end]\n",
        "    # при большом объеме данных стоило бы сохранить результат токенизации и один раз допадить, \n",
        "    # но сейчас токенизация не занимает много времени\n",
        "    encoded_prompts_lens += [len(i) for i in tokenizer(batch)['input_ids']]\n",
        "df['encoded_prompts_lens'] = encoded_prompts_lens"
      ],
      "metadata": {
        "id": "_ydrrbP8T6hc"
      },
      "execution_count": 29,
      "outputs": []
    },
    {
      "cell_type": "code",
      "source": [
        "df['encoded_prompts_lens'].describe()"
      ],
      "metadata": {
        "colab": {
          "base_uri": "https://localhost:8080/"
        },
        "id": "Bd0VBLZWU6kN",
        "outputId": "ea44370e-8626-40d1-bc17-2b22fb4b70ab"
      },
      "execution_count": 30,
      "outputs": [
        {
          "output_type": "execute_result",
          "data": {
            "text/plain": [
              "count    2380.000000\n",
              "mean      192.957563\n",
              "std        60.398859\n",
              "min        64.000000\n",
              "25%       144.000000\n",
              "50%       192.000000\n",
              "75%       231.000000\n",
              "max       534.000000\n",
              "Name: encoded_prompts_lens, dtype: float64"
            ]
          },
          "metadata": {},
          "execution_count": 30
        }
      ]
    },
    {
      "cell_type": "markdown",
      "source": [
        "Тексты не превышают ограничения языковой модели, но я все равно уберу самые длинные, чтобы избежать превышения памяти cuda"
      ],
      "metadata": {
        "id": "RHscp8IaVC9b"
      }
    },
    {
      "cell_type": "code",
      "source": [
        "length_treshold = 250\n",
        "df = df[df['encoded_prompts_lens']<=length_treshold]"
      ],
      "metadata": {
        "id": "Ij-d8wLfeTKB"
      },
      "execution_count": 31,
      "outputs": []
    },
    {
      "cell_type": "code",
      "source": [
        "df['encoded_prompts_lens'].describe()"
      ],
      "metadata": {
        "colab": {
          "base_uri": "https://localhost:8080/"
        },
        "id": "RUYCKIG2elK2",
        "outputId": "3d39bf38-3c3b-4fd5-db14-9c5f9fcb54e5"
      },
      "execution_count": null,
      "outputs": [
        {
          "output_type": "execute_result",
          "data": {
            "text/plain": [
              "count    1993.000000\n",
              "mean      174.416959\n",
              "std        44.061091\n",
              "min        64.000000\n",
              "25%       135.000000\n",
              "50%       179.000000\n",
              "75%       211.000000\n",
              "max       250.000000\n",
              "Name: encoded_prompts_lens, dtype: float64"
            ]
          },
          "metadata": {},
          "execution_count": 16
        }
      ]
    },
    {
      "cell_type": "code",
      "source": [
        "train, test = train_test_split(df, test_size=0.1, random_state=42)"
      ],
      "metadata": {
        "id": "AQ677dkSVIZh"
      },
      "execution_count": 32,
      "outputs": []
    },
    {
      "cell_type": "code",
      "source": [
        "train_titles = set(train['title'])\n",
        "test['title_is_known'] = test['title'].apply(lambda x: int(x in train_titles))"
      ],
      "metadata": {
        "id": "BgnEedXAX23R"
      },
      "execution_count": 77,
      "outputs": []
    },
    {
      "cell_type": "code",
      "source": [
        "for column in ['title_ner', 'text_ner', 'selected_entities']:\n",
        "    test[column] = test[column].apply(json.dumps)"
      ],
      "metadata": {
        "id": "bctXDjPcZI05"
      },
      "execution_count": 80,
      "outputs": []
    },
    {
      "cell_type": "code",
      "source": [
        "test.to_csv('gdrive/MyDrive/test_prompts.csv',index=False)"
      ],
      "metadata": {
        "id": "FMe0b8Azx3aa"
      },
      "execution_count": 81,
      "outputs": []
    },
    {
      "cell_type": "code",
      "source": [
        "# для ускорения обучения полезно сделать так, чтобы в батче подавались тексты примерно одной длины (будет меньше падингов)\n",
        "# ascending=False, чтобы в случае превышения памяти на самых длинных текстах сразу увидеть эту проблему\n",
        "# стоило бы сделать так, чтобы короткие и длинные батчи подавались в перемешку, но (зачеркнуто: мне лень) \n",
        "# при небольшом количестве итераций в эпохе вряд ли модель успеет переобучиться на длину последних (коротких) текстов\n",
        "train.sort_values('encoded_prompts_lens', ascending=False, inplace=True)"
      ],
      "metadata": {
        "id": "0tAIXvUGgOSz"
      },
      "execution_count": null,
      "outputs": []
    },
    {
      "cell_type": "code",
      "source": [
        "train.soft_values('encoded_prompts_lens')"
      ],
      "metadata": {
        "id": "5wAMP80xgJfj"
      },
      "execution_count": null,
      "outputs": []
    },
    {
      "cell_type": "code",
      "source": [
        "train_batch_size = 5\n",
        "train_dataloader = torch.utils.data.DataLoader(list(train['prompt']), batch_size=train_batch_size)"
      ],
      "metadata": {
        "id": "n2OHB5reWeAb"
      },
      "execution_count": null,
      "outputs": []
    },
    {
      "cell_type": "code",
      "source": [
        "device = 'cuda' if torch.cuda.is_available() else 'cpu'"
      ],
      "metadata": {
        "id": "luvgVtTeYeUF"
      },
      "execution_count": null,
      "outputs": []
    },
    {
      "cell_type": "code",
      "source": [
        "num_epochs = 25\n",
        "num_training_steps = num_epochs*len(train_dataloader)"
      ],
      "metadata": {
        "id": "3W-o0UAidhP3"
      },
      "execution_count": null,
      "outputs": []
    },
    {
      "cell_type": "code",
      "source": [
        "gpt = AutoModelWithLMHead.from_pretrained(PRETRAINED_MODEL_NAME).to(device).train()\n",
        "gpt.resize_token_embeddings(len(tokenizer))\n",
        "optimizer = torch.optim.AdamW(gpt.parameters(), lr=5e-5)\n",
        "lr_scheduler = get_scheduler(\n",
        "    name=\"linear\", optimizer=optimizer, num_warmup_steps=0, num_training_steps=num_training_steps\n",
        ")"
      ],
      "metadata": {
        "colab": {
          "base_uri": "https://localhost:8080/"
        },
        "id": "AV6GfKvPWoJm",
        "outputId": "88197b36-c6f0-42dc-c08c-dc2605620fe6"
      },
      "execution_count": null,
      "outputs": [
        {
          "output_type": "stream",
          "name": "stderr",
          "text": [
            "/usr/local/lib/python3.7/dist-packages/transformers/models/auto/modeling_auto.py:973: FutureWarning: The class `AutoModelWithLMHead` is deprecated and will be removed in a future version. Please use `AutoModelForCausalLM` for causal language models, `AutoModelForMaskedLM` for masked language models and `AutoModelForSeq2SeqLM` for encoder-decoder models.\n",
            "  FutureWarning,\n"
          ]
        }
      ]
    },
    {
      "cell_type": "markdown",
      "source": [
        "\n",
        "В генеративных задачах модель с лучшими метриками не обязательно выдает лучший с точки зрения соответствия целевой задаче результат.\n",
        "Для ускорения работы сначала дообучу модель, а потом уже посчитаю метрики на тесте без подсчета метрик для чекпойнтов."
      ],
      "metadata": {
        "id": "hJC0FSEocIOV"
      }
    },
    {
      "cell_type": "code",
      "source": [
        "SAVE_PATH = 'gdrive/MyDrive/gpt_small_president_letter'"
      ],
      "metadata": {
        "id": "2T4VP34adxQr"
      },
      "execution_count": null,
      "outputs": []
    },
    {
      "cell_type": "code",
      "source": [
        "progress_bar = tqdm(range(num_training_steps))\n",
        "\n",
        "for epoch in range(num_epochs):\n",
        "    for batch in train_dataloader:\n",
        "        tokenized_batch = tokenizer(batch, return_tensors='pt', padding=True).to(device)\n",
        "        outputs = gpt(**tokenized_batch, labels=tokenized_batch['input_ids'])\n",
        "        loss = outputs.loss\n",
        "        loss.backward()\n",
        "\n",
        "        optimizer.step()\n",
        "        lr_scheduler.step()\n",
        "        optimizer.zero_grad()\n",
        "        progress_bar.update(1)\n",
        "    gpt.save_pretrained(SAVE_PATH)"
      ],
      "metadata": {
        "colab": {
          "base_uri": "https://localhost:8080/",
          "height": 49,
          "referenced_widgets": [
            "27ca3b091d3840599bf4020e44b3f424",
            "2d125ecaa9044814a52bc188fe7b5c77",
            "5c12d759c253426098adeca528d84268",
            "1f00d6b8edde47a59efbc43e0d39cde5",
            "51acaa3edabc46a8b59b36dbda0b053f",
            "6876e772345b4191bebcbac98581f759",
            "e7c897cd252b49e3a554b2ae5e5dd52b",
            "5a2e1b8b6c3c4e7fbf7f0493a0cd8594",
            "291f020e961d43c8878661be0b15950d",
            "f3a1841c37c34d2aa09c0f8710ab5ad2",
            "f8229d025bb94d8e95a7ac6af7f4fa72"
          ]
        },
        "id": "TgqkpAcSZ9OA",
        "outputId": "651f540c-2b25-4518-afc4-d58f80974bd1"
      },
      "execution_count": null,
      "outputs": [
        {
          "data": {
            "application/vnd.jupyter.widget-view+json": {
              "model_id": "27ca3b091d3840599bf4020e44b3f424",
              "version_major": 2,
              "version_minor": 0
            },
            "text/plain": [
              "  0%|          | 0/8975 [00:00<?, ?it/s]"
            ]
          },
          "metadata": {},
          "output_type": "display_data"
        }
      ]
    },
    {
      "cell_type": "markdown",
      "source": [
        "Проверка на адекватность результата (более детальный анализ и подбор параметров будет в другой тетрадке)"
      ],
      "metadata": {
        "id": "J8mrCIE3ucdc"
      }
    },
    {
      "cell_type": "code",
      "source": [
        "gpt.eval()"
      ],
      "metadata": {
        "id": "5DPnRfECdld4"
      },
      "execution_count": null,
      "outputs": []
    },
    {
      "cell_type": "code",
      "source": [
        "test.reset_index(inplace=True)"
      ],
      "metadata": {
        "id": "uExa28lldoOU"
      },
      "execution_count": null,
      "outputs": []
    },
    {
      "cell_type": "code",
      "source": [
        "real_prompt = test['prompt'].loc[0]"
      ],
      "metadata": {
        "id": "sWf_E7gkdsnz"
      },
      "execution_count": null,
      "outputs": []
    },
    {
      "cell_type": "code",
      "source": [
        "real_prompt"
      ],
      "metadata": {
        "colab": {
          "base_uri": "https://localhost:8080/",
          "height": 89
        },
        "id": "G6GNAf3Ru7ZB",
        "outputId": "7ac580c9-b62e-4753-f4b8-db3e2a5d73e1"
      },
      "execution_count": null,
      "outputs": [
        {
          "output_type": "execute_result",
          "data": {
            "text/plain": [
              "'BOS PER Сергея Крамаренко ORG Вооружённых Сил TITLE Родным и близким Героя Советского Союза Сергея Крамаренко TEXT С глубоким прискорбием узнал о кончине Сергея Макаровича Крамаренко. Сергей Макарович Крамаренко был мужественным, сильным духом человеком, фронтовиком, участником важнейших сражений Великой Отечественной. А после войны он посвятил себя развитию Вооружённых Сил страны, патриотическому воспитанию молодёжи, укреплению замечательных традиций ветеранского движения. Светлая память о Сергее Крамаренко, Герое Советского Союза, легендарном лётчике, навсегда сохранится в сердцах его родных, сослуживцев, коллег и друзей. EOS'"
            ],
            "application/vnd.google.colaboratory.intrinsic+json": {
              "type": "string"
            }
          },
          "metadata": {},
          "execution_count": 40
        }
      ]
    },
    {
      "cell_type": "code",
      "source": [
        "prompt_meta = real_prompt.split(TITLE_TAG)[0] + TITLE_TAG\n",
        "prompt_meta_with_beginning = real_prompt.split(TEXT_TAG)[0] + TEXT_TAG"
      ],
      "metadata": {
        "id": "pLk-185mu-5P"
      },
      "execution_count": null,
      "outputs": []
    },
    {
      "cell_type": "code",
      "source": [
        "prompt_meta"
      ],
      "metadata": {
        "colab": {
          "base_uri": "https://localhost:8080/",
          "height": 35
        },
        "id": "SCeVoCd_vYTK",
        "outputId": "8ec7b6be-1be3-451b-bc97-d09cfbfc0ca5"
      },
      "execution_count": null,
      "outputs": [
        {
          "output_type": "execute_result",
          "data": {
            "text/plain": [
              "'BOS PER Сергея Крамаренко ORG Вооружённых Сил TITLE'"
            ],
            "application/vnd.google.colaboratory.intrinsic+json": {
              "type": "string"
            }
          },
          "metadata": {},
          "execution_count": 47
        }
      ]
    },
    {
      "cell_type": "code",
      "source": [
        "prompt_meta_with_beginning"
      ],
      "metadata": {
        "colab": {
          "base_uri": "https://localhost:8080/",
          "height": 35
        },
        "id": "qnEP_Imwvtox",
        "outputId": "260e0a09-c26a-422f-dcfc-61c8794f0128"
      },
      "execution_count": null,
      "outputs": [
        {
          "output_type": "execute_result",
          "data": {
            "text/plain": [
              "'BOS PER Сергея Крамаренко ORG Вооружённых Сил TITLE Родным и близким Героя Советского Союза Сергея Крамаренко TEXT'"
            ],
            "application/vnd.google.colaboratory.intrinsic+json": {
              "type": "string"
            }
          },
          "metadata": {},
          "execution_count": 48
        }
      ]
    },
    {
      "cell_type": "code",
      "source": [
        "def generate(prompt):\n",
        "   encoding = tokenizer([prompt], return_tensors='pt').to(device)\n",
        "   output = gpt.generate(**encoding, \n",
        "                         min_length=50,\n",
        "                         max_length=250,\n",
        "                         bad_words_ids=[[tokenizer.pad_token_id]],\n",
        "                         eos_token_id=tokenizer.eos_token_id)\n",
        "   return tokenizer.decode(output[0])"
      ],
      "metadata": {
        "id": "9qlxRPY-vuVi"
      },
      "execution_count": null,
      "outputs": []
    },
    {
      "cell_type": "code",
      "source": [
        "generate(prompt_meta)"
      ],
      "metadata": {
        "colab": {
          "base_uri": "https://localhost:8080/",
          "height": 107
        },
        "id": "ygQtSmROwLYI",
        "outputId": "e55a611d-7fc2-4163-c728-72676227f067"
      },
      "execution_count": null,
      "outputs": [
        {
          "output_type": "stream",
          "name": "stderr",
          "text": [
            "Setting `pad_token_id` to `eos_token_id`:50259 for open-end generation.\n"
          ]
        },
        {
          "output_type": "execute_result",
          "data": {
            "text/plain": [
              "'BOS PER Сергея Крамаренко ORG Вооружённых Сил TITLE Родным и близким Сергея Крамаренко TEXT Примите глубокие соболезнования в связи с кончиной Сергея Леонидовича Крамаренко. Сергей Леонидович был опытным руководителем, честным, порядочным, очень отзывчивым и доброжелательным человеком. Все, кто знал Сергея Леонидовича, ценили его за высокую компетентность, силу воли и мужество, честность и порядочность, верность своим принципам и долгу. Светлая память о Сергее Леонидовиче Крамаренко навсегда сохранится в сердцах близких, коллег, друзей. EOS'"
            ],
            "application/vnd.google.colaboratory.intrinsic+json": {
              "type": "string"
            }
          },
          "metadata": {},
          "execution_count": 61
        }
      ]
    },
    {
      "cell_type": "code",
      "source": [
        "generate(prompt_meta_with_beginning)"
      ],
      "metadata": {
        "colab": {
          "base_uri": "https://localhost:8080/",
          "height": 125
        },
        "id": "ntg2VY0Kw3w4",
        "outputId": "b28e2649-7ba1-428c-a8a6-493858dd6c43"
      },
      "execution_count": null,
      "outputs": [
        {
          "output_type": "stream",
          "name": "stderr",
          "text": [
            "Setting `pad_token_id` to `eos_token_id`:50259 for open-end generation.\n"
          ]
        },
        {
          "output_type": "execute_result",
          "data": {
            "text/plain": [
              "'BOS PER Сергея Крамаренко ORG Вооружённых Сил TITLE Родным и близким Героя Советского Союза Сергея Крамаренко TEXT Примите глубокие соболезнования в связи с кончиной Сергея Леонидовича Крамаренко. Сергей Леонидович был выдающимся представителем прославленного поколения победителей, волевым, энергичным человеком, настоящим патриотом и патриотом. Он всегда стремился приносить пользу Родине, достойно решать ответственные задачи, добивался успеха в сложнейшей оперативной работе. За годы ответственной работы, в том числе в переломное для нашей страны время Сергей Леонидович внёс значимый личный вклад в укрепление Вооружённых Сил, укрепление обороноспособности и национальной безопасности страны. Светлая память о Сергее Леонидовиче Крамаренко навсегда сохранится в наших сердцах. EOS'"
            ],
            "application/vnd.google.colaboratory.intrinsic+json": {
              "type": "string"
            }
          },
          "metadata": {},
          "execution_count": 62
        }
      ]
    },
    {
      "cell_type": "markdown",
      "source": [
        "Результат настолько хороший, что это кажется подозрительным. В трейне дублей или других текстов про Крамаренко точно не был (см. ниже)."
      ],
      "metadata": {
        "id": "kcQjv82YxTzh"
      }
    },
    {
      "cell_type": "code",
      "source": [
        "train[train['prompt'].apply(lambda x:'Крамаренко' in x)]"
      ],
      "metadata": {
        "id": "iKGjglSGZoK-",
        "outputId": "3a8ab3d6-2fad-46ff-86a2-9297b760edeb",
        "colab": {
          "base_uri": "https://localhost:8080/",
          "height": 49
        }
      },
      "execution_count": 85,
      "outputs": [
        {
          "output_type": "execute_result",
          "data": {
            "text/plain": [
              "Empty DataFrame\n",
              "Columns: [url, title, text, title_ner, text_ner, selected_entities, prompt, encoded_prompts_lens]\n",
              "Index: []"
            ],
            "text/html": [
              "\n",
              "  <div id=\"df-f5fb2610-990d-4c6b-b24a-1dad4a1cb8d3\">\n",
              "    <div class=\"colab-df-container\">\n",
              "      <div>\n",
              "<style scoped>\n",
              "    .dataframe tbody tr th:only-of-type {\n",
              "        vertical-align: middle;\n",
              "    }\n",
              "\n",
              "    .dataframe tbody tr th {\n",
              "        vertical-align: top;\n",
              "    }\n",
              "\n",
              "    .dataframe thead th {\n",
              "        text-align: right;\n",
              "    }\n",
              "</style>\n",
              "<table border=\"1\" class=\"dataframe\">\n",
              "  <thead>\n",
              "    <tr style=\"text-align: right;\">\n",
              "      <th></th>\n",
              "      <th>url</th>\n",
              "      <th>title</th>\n",
              "      <th>text</th>\n",
              "      <th>title_ner</th>\n",
              "      <th>text_ner</th>\n",
              "      <th>selected_entities</th>\n",
              "      <th>prompt</th>\n",
              "      <th>encoded_prompts_lens</th>\n",
              "    </tr>\n",
              "  </thead>\n",
              "  <tbody>\n",
              "  </tbody>\n",
              "</table>\n",
              "</div>\n",
              "      <button class=\"colab-df-convert\" onclick=\"convertToInteractive('df-f5fb2610-990d-4c6b-b24a-1dad4a1cb8d3')\"\n",
              "              title=\"Convert this dataframe to an interactive table.\"\n",
              "              style=\"display:none;\">\n",
              "        \n",
              "  <svg xmlns=\"http://www.w3.org/2000/svg\" height=\"24px\"viewBox=\"0 0 24 24\"\n",
              "       width=\"24px\">\n",
              "    <path d=\"M0 0h24v24H0V0z\" fill=\"none\"/>\n",
              "    <path d=\"M18.56 5.44l.94 2.06.94-2.06 2.06-.94-2.06-.94-.94-2.06-.94 2.06-2.06.94zm-11 1L8.5 8.5l.94-2.06 2.06-.94-2.06-.94L8.5 2.5l-.94 2.06-2.06.94zm10 10l.94 2.06.94-2.06 2.06-.94-2.06-.94-.94-2.06-.94 2.06-2.06.94z\"/><path d=\"M17.41 7.96l-1.37-1.37c-.4-.4-.92-.59-1.43-.59-.52 0-1.04.2-1.43.59L10.3 9.45l-7.72 7.72c-.78.78-.78 2.05 0 2.83L4 21.41c.39.39.9.59 1.41.59.51 0 1.02-.2 1.41-.59l7.78-7.78 2.81-2.81c.8-.78.8-2.07 0-2.86zM5.41 20L4 18.59l7.72-7.72 1.47 1.35L5.41 20z\"/>\n",
              "  </svg>\n",
              "      </button>\n",
              "      \n",
              "  <style>\n",
              "    .colab-df-container {\n",
              "      display:flex;\n",
              "      flex-wrap:wrap;\n",
              "      gap: 12px;\n",
              "    }\n",
              "\n",
              "    .colab-df-convert {\n",
              "      background-color: #E8F0FE;\n",
              "      border: none;\n",
              "      border-radius: 50%;\n",
              "      cursor: pointer;\n",
              "      display: none;\n",
              "      fill: #1967D2;\n",
              "      height: 32px;\n",
              "      padding: 0 0 0 0;\n",
              "      width: 32px;\n",
              "    }\n",
              "\n",
              "    .colab-df-convert:hover {\n",
              "      background-color: #E2EBFA;\n",
              "      box-shadow: 0px 1px 2px rgba(60, 64, 67, 0.3), 0px 1px 3px 1px rgba(60, 64, 67, 0.15);\n",
              "      fill: #174EA6;\n",
              "    }\n",
              "\n",
              "    [theme=dark] .colab-df-convert {\n",
              "      background-color: #3B4455;\n",
              "      fill: #D2E3FC;\n",
              "    }\n",
              "\n",
              "    [theme=dark] .colab-df-convert:hover {\n",
              "      background-color: #434B5C;\n",
              "      box-shadow: 0px 1px 3px 1px rgba(0, 0, 0, 0.15);\n",
              "      filter: drop-shadow(0px 1px 2px rgba(0, 0, 0, 0.3));\n",
              "      fill: #FFFFFF;\n",
              "    }\n",
              "  </style>\n",
              "\n",
              "      <script>\n",
              "        const buttonEl =\n",
              "          document.querySelector('#df-f5fb2610-990d-4c6b-b24a-1dad4a1cb8d3 button.colab-df-convert');\n",
              "        buttonEl.style.display =\n",
              "          google.colab.kernel.accessAllowed ? 'block' : 'none';\n",
              "\n",
              "        async function convertToInteractive(key) {\n",
              "          const element = document.querySelector('#df-f5fb2610-990d-4c6b-b24a-1dad4a1cb8d3');\n",
              "          const dataTable =\n",
              "            await google.colab.kernel.invokeFunction('convertToInteractive',\n",
              "                                                     [key], {});\n",
              "          if (!dataTable) return;\n",
              "\n",
              "          const docLinkHtml = 'Like what you see? Visit the ' +\n",
              "            '<a target=\"_blank\" href=https://colab.research.google.com/notebooks/data_table.ipynb>data table notebook</a>'\n",
              "            + ' to learn more about interactive tables.';\n",
              "          element.innerHTML = '';\n",
              "          dataTable['output_type'] = 'display_data';\n",
              "          await google.colab.output.renderOutput(dataTable, element);\n",
              "          const docLink = document.createElement('div');\n",
              "          docLink.innerHTML = docLinkHtml;\n",
              "          element.appendChild(docLink);\n",
              "        }\n",
              "      </script>\n",
              "    </div>\n",
              "  </div>\n",
              "  "
            ]
          },
          "metadata": {},
          "execution_count": 85
        }
      ]
    },
    {
      "cell_type": "markdown",
      "source": [
        "\n",
        "Попробую проверить на данных, которых точно не было в трейне:"
      ],
      "metadata": {
        "id": "hsVrJAkKZuch"
      }
    },
    {
      "cell_type": "code",
      "source": [
        "dummy_prompt = 'BOS PER Сергей Иванов ORG Психиатрическая больница №1 TITLE'"
      ],
      "metadata": {
        "id": "ofwlYOGzyG11"
      },
      "execution_count": null,
      "outputs": []
    },
    {
      "cell_type": "code",
      "source": [
        "generate(dummy_prompt)"
      ],
      "metadata": {
        "colab": {
          "base_uri": "https://localhost:8080/",
          "height": 143
        },
        "id": "2Su6JLyHySIc",
        "outputId": "9c4a33de-3723-47b0-f981-9e24a9340330"
      },
      "execution_count": null,
      "outputs": [
        {
          "output_type": "stream",
          "name": "stderr",
          "text": [
            "Setting `pad_token_id` to `eos_token_id`:50259 for open-end generation.\n"
          ]
        },
        {
          "output_type": "execute_result",
          "data": {
            "text/plain": [
              "'BOS PER Сергей Иванов ORG Психиатрическая больница №1 TITLE Сотрудникам и ветеранам Психиатрической больницы №1 TEXT Уважаемые друзья! Поздравляю вас с большой, знаменательной датой – 100-летием Психиатрической больницы №1. Одна из крупнейших в стране, знаменитая Психиатрическая больница имени С. С. Ланового, по праву славится богатой историей, замечательными традициями, гостеприимным, радушным приёмом и радушием, с которым здесь встречают пациентов. Здесь проводится большая, многогранная работа, направленная на профилактику и оздоровление людей с ограниченными возможностями по здоровью, совершенствование профильного законодательства. И конечно, отмечу ваше активное участие в реализации востребованных благотворительных, просветительских, патриотических проектов. Уверен, что коллектив больницы и впредь будет беречь и развивать замечательные традиции своих предшественников, достойно решать стоящие перед ней задачи. Желаю вам успехов и всего наилучшего. EOS'"
            ],
            "application/vnd.google.colaboratory.intrinsic+json": {
              "type": "string"
            }
          },
          "metadata": {},
          "execution_count": 65
        }
      ]
    },
    {
      "cell_type": "markdown",
      "source": [
        "Кажется, что модель видела слишком много обращений к военным (\"сотрудникам и ветеранам\").\n",
        "Название организации повторятся правильно, имя человека не использовано, но нет и неверного имени (имени С. С. Ланового - не имя человека, которого поздравляют).\n",
        "\n",
        "Интересно, что психиатр С.Лановая действительно существует)"
      ],
      "metadata": {
        "id": "rRbreqwSyfRt"
      }
    }
  ],
  "metadata": {
    "colab": {
      "name": "train_generation.ipynb",
      "provenance": [],
      "collapsed_sections": []
    },
    "kernelspec": {
      "display_name": "Python 3",
      "name": "python3"
    },
    "language_info": {
      "name": "python"
    },
    "gpuClass": "standard",
    "widgets": {
      "application/vnd.jupyter.widget-state+json": {
        "27ca3b091d3840599bf4020e44b3f424": {
          "model_module": "@jupyter-widgets/controls",
          "model_name": "HBoxModel",
          "model_module_version": "1.5.0",
          "state": {
            "_dom_classes": [],
            "_model_module": "@jupyter-widgets/controls",
            "_model_module_version": "1.5.0",
            "_model_name": "HBoxModel",
            "_view_count": null,
            "_view_module": "@jupyter-widgets/controls",
            "_view_module_version": "1.5.0",
            "_view_name": "HBoxView",
            "box_style": "",
            "children": [
              "IPY_MODEL_2d125ecaa9044814a52bc188fe7b5c77",
              "IPY_MODEL_5c12d759c253426098adeca528d84268",
              "IPY_MODEL_1f00d6b8edde47a59efbc43e0d39cde5"
            ],
            "layout": "IPY_MODEL_51acaa3edabc46a8b59b36dbda0b053f"
          }
        },
        "2d125ecaa9044814a52bc188fe7b5c77": {
          "model_module": "@jupyter-widgets/controls",
          "model_name": "HTMLModel",
          "model_module_version": "1.5.0",
          "state": {
            "_dom_classes": [],
            "_model_module": "@jupyter-widgets/controls",
            "_model_module_version": "1.5.0",
            "_model_name": "HTMLModel",
            "_view_count": null,
            "_view_module": "@jupyter-widgets/controls",
            "_view_module_version": "1.5.0",
            "_view_name": "HTMLView",
            "description": "",
            "description_tooltip": null,
            "layout": "IPY_MODEL_6876e772345b4191bebcbac98581f759",
            "placeholder": "​",
            "style": "IPY_MODEL_e7c897cd252b49e3a554b2ae5e5dd52b",
            "value": "100%"
          }
        },
        "5c12d759c253426098adeca528d84268": {
          "model_module": "@jupyter-widgets/controls",
          "model_name": "FloatProgressModel",
          "model_module_version": "1.5.0",
          "state": {
            "_dom_classes": [],
            "_model_module": "@jupyter-widgets/controls",
            "_model_module_version": "1.5.0",
            "_model_name": "FloatProgressModel",
            "_view_count": null,
            "_view_module": "@jupyter-widgets/controls",
            "_view_module_version": "1.5.0",
            "_view_name": "ProgressView",
            "bar_style": "",
            "description": "",
            "description_tooltip": null,
            "layout": "IPY_MODEL_5a2e1b8b6c3c4e7fbf7f0493a0cd8594",
            "max": 8975,
            "min": 0,
            "orientation": "horizontal",
            "style": "IPY_MODEL_291f020e961d43c8878661be0b15950d",
            "value": 8975
          }
        },
        "1f00d6b8edde47a59efbc43e0d39cde5": {
          "model_module": "@jupyter-widgets/controls",
          "model_name": "HTMLModel",
          "model_module_version": "1.5.0",
          "state": {
            "_dom_classes": [],
            "_model_module": "@jupyter-widgets/controls",
            "_model_module_version": "1.5.0",
            "_model_name": "HTMLModel",
            "_view_count": null,
            "_view_module": "@jupyter-widgets/controls",
            "_view_module_version": "1.5.0",
            "_view_name": "HTMLView",
            "description": "",
            "description_tooltip": null,
            "layout": "IPY_MODEL_f3a1841c37c34d2aa09c0f8710ab5ad2",
            "placeholder": "​",
            "style": "IPY_MODEL_f8229d025bb94d8e95a7ac6af7f4fa72",
            "value": " 8975/8975 [56:59&lt;00:00,  3.06it/s]"
          }
        },
        "51acaa3edabc46a8b59b36dbda0b053f": {
          "model_module": "@jupyter-widgets/base",
          "model_name": "LayoutModel",
          "model_module_version": "1.2.0",
          "state": {
            "_model_module": "@jupyter-widgets/base",
            "_model_module_version": "1.2.0",
            "_model_name": "LayoutModel",
            "_view_count": null,
            "_view_module": "@jupyter-widgets/base",
            "_view_module_version": "1.2.0",
            "_view_name": "LayoutView",
            "align_content": null,
            "align_items": null,
            "align_self": null,
            "border": null,
            "bottom": null,
            "display": null,
            "flex": null,
            "flex_flow": null,
            "grid_area": null,
            "grid_auto_columns": null,
            "grid_auto_flow": null,
            "grid_auto_rows": null,
            "grid_column": null,
            "grid_gap": null,
            "grid_row": null,
            "grid_template_areas": null,
            "grid_template_columns": null,
            "grid_template_rows": null,
            "height": null,
            "justify_content": null,
            "justify_items": null,
            "left": null,
            "margin": null,
            "max_height": null,
            "max_width": null,
            "min_height": null,
            "min_width": null,
            "object_fit": null,
            "object_position": null,
            "order": null,
            "overflow": null,
            "overflow_x": null,
            "overflow_y": null,
            "padding": null,
            "right": null,
            "top": null,
            "visibility": null,
            "width": null
          }
        },
        "6876e772345b4191bebcbac98581f759": {
          "model_module": "@jupyter-widgets/base",
          "model_name": "LayoutModel",
          "model_module_version": "1.2.0",
          "state": {
            "_model_module": "@jupyter-widgets/base",
            "_model_module_version": "1.2.0",
            "_model_name": "LayoutModel",
            "_view_count": null,
            "_view_module": "@jupyter-widgets/base",
            "_view_module_version": "1.2.0",
            "_view_name": "LayoutView",
            "align_content": null,
            "align_items": null,
            "align_self": null,
            "border": null,
            "bottom": null,
            "display": null,
            "flex": null,
            "flex_flow": null,
            "grid_area": null,
            "grid_auto_columns": null,
            "grid_auto_flow": null,
            "grid_auto_rows": null,
            "grid_column": null,
            "grid_gap": null,
            "grid_row": null,
            "grid_template_areas": null,
            "grid_template_columns": null,
            "grid_template_rows": null,
            "height": null,
            "justify_content": null,
            "justify_items": null,
            "left": null,
            "margin": null,
            "max_height": null,
            "max_width": null,
            "min_height": null,
            "min_width": null,
            "object_fit": null,
            "object_position": null,
            "order": null,
            "overflow": null,
            "overflow_x": null,
            "overflow_y": null,
            "padding": null,
            "right": null,
            "top": null,
            "visibility": null,
            "width": null
          }
        },
        "e7c897cd252b49e3a554b2ae5e5dd52b": {
          "model_module": "@jupyter-widgets/controls",
          "model_name": "DescriptionStyleModel",
          "model_module_version": "1.5.0",
          "state": {
            "_model_module": "@jupyter-widgets/controls",
            "_model_module_version": "1.5.0",
            "_model_name": "DescriptionStyleModel",
            "_view_count": null,
            "_view_module": "@jupyter-widgets/base",
            "_view_module_version": "1.2.0",
            "_view_name": "StyleView",
            "description_width": ""
          }
        },
        "5a2e1b8b6c3c4e7fbf7f0493a0cd8594": {
          "model_module": "@jupyter-widgets/base",
          "model_name": "LayoutModel",
          "model_module_version": "1.2.0",
          "state": {
            "_model_module": "@jupyter-widgets/base",
            "_model_module_version": "1.2.0",
            "_model_name": "LayoutModel",
            "_view_count": null,
            "_view_module": "@jupyter-widgets/base",
            "_view_module_version": "1.2.0",
            "_view_name": "LayoutView",
            "align_content": null,
            "align_items": null,
            "align_self": null,
            "border": null,
            "bottom": null,
            "display": null,
            "flex": null,
            "flex_flow": null,
            "grid_area": null,
            "grid_auto_columns": null,
            "grid_auto_flow": null,
            "grid_auto_rows": null,
            "grid_column": null,
            "grid_gap": null,
            "grid_row": null,
            "grid_template_areas": null,
            "grid_template_columns": null,
            "grid_template_rows": null,
            "height": null,
            "justify_content": null,
            "justify_items": null,
            "left": null,
            "margin": null,
            "max_height": null,
            "max_width": null,
            "min_height": null,
            "min_width": null,
            "object_fit": null,
            "object_position": null,
            "order": null,
            "overflow": null,
            "overflow_x": null,
            "overflow_y": null,
            "padding": null,
            "right": null,
            "top": null,
            "visibility": null,
            "width": null
          }
        },
        "291f020e961d43c8878661be0b15950d": {
          "model_module": "@jupyter-widgets/controls",
          "model_name": "ProgressStyleModel",
          "model_module_version": "1.5.0",
          "state": {
            "_model_module": "@jupyter-widgets/controls",
            "_model_module_version": "1.5.0",
            "_model_name": "ProgressStyleModel",
            "_view_count": null,
            "_view_module": "@jupyter-widgets/base",
            "_view_module_version": "1.2.0",
            "_view_name": "StyleView",
            "bar_color": null,
            "description_width": ""
          }
        },
        "f3a1841c37c34d2aa09c0f8710ab5ad2": {
          "model_module": "@jupyter-widgets/base",
          "model_name": "LayoutModel",
          "model_module_version": "1.2.0",
          "state": {
            "_model_module": "@jupyter-widgets/base",
            "_model_module_version": "1.2.0",
            "_model_name": "LayoutModel",
            "_view_count": null,
            "_view_module": "@jupyter-widgets/base",
            "_view_module_version": "1.2.0",
            "_view_name": "LayoutView",
            "align_content": null,
            "align_items": null,
            "align_self": null,
            "border": null,
            "bottom": null,
            "display": null,
            "flex": null,
            "flex_flow": null,
            "grid_area": null,
            "grid_auto_columns": null,
            "grid_auto_flow": null,
            "grid_auto_rows": null,
            "grid_column": null,
            "grid_gap": null,
            "grid_row": null,
            "grid_template_areas": null,
            "grid_template_columns": null,
            "grid_template_rows": null,
            "height": null,
            "justify_content": null,
            "justify_items": null,
            "left": null,
            "margin": null,
            "max_height": null,
            "max_width": null,
            "min_height": null,
            "min_width": null,
            "object_fit": null,
            "object_position": null,
            "order": null,
            "overflow": null,
            "overflow_x": null,
            "overflow_y": null,
            "padding": null,
            "right": null,
            "top": null,
            "visibility": null,
            "width": null
          }
        },
        "f8229d025bb94d8e95a7ac6af7f4fa72": {
          "model_module": "@jupyter-widgets/controls",
          "model_name": "DescriptionStyleModel",
          "model_module_version": "1.5.0",
          "state": {
            "_model_module": "@jupyter-widgets/controls",
            "_model_module_version": "1.5.0",
            "_model_name": "DescriptionStyleModel",
            "_view_count": null,
            "_view_module": "@jupyter-widgets/base",
            "_view_module_version": "1.2.0",
            "_view_name": "StyleView",
            "description_width": ""
          }
        },
        "7ef27f3675a04c758e59f98754b8335c": {
          "model_module": "@jupyter-widgets/controls",
          "model_name": "HBoxModel",
          "model_module_version": "1.5.0",
          "state": {
            "_dom_classes": [],
            "_model_module": "@jupyter-widgets/controls",
            "_model_module_version": "1.5.0",
            "_model_name": "HBoxModel",
            "_view_count": null,
            "_view_module": "@jupyter-widgets/controls",
            "_view_module_version": "1.5.0",
            "_view_name": "HBoxView",
            "box_style": "",
            "children": [
              "IPY_MODEL_04322255bccb44ce96ffb1190344ea76",
              "IPY_MODEL_9ee174a5dece4673a4e67c05d3695be1",
              "IPY_MODEL_7a885add4ce74f46ba1a4ed19e64c199"
            ],
            "layout": "IPY_MODEL_0621111e977f4a5e811c04d271a64833"
          }
        },
        "04322255bccb44ce96ffb1190344ea76": {
          "model_module": "@jupyter-widgets/controls",
          "model_name": "HTMLModel",
          "model_module_version": "1.5.0",
          "state": {
            "_dom_classes": [],
            "_model_module": "@jupyter-widgets/controls",
            "_model_module_version": "1.5.0",
            "_model_name": "HTMLModel",
            "_view_count": null,
            "_view_module": "@jupyter-widgets/controls",
            "_view_module_version": "1.5.0",
            "_view_name": "HTMLView",
            "description": "",
            "description_tooltip": null,
            "layout": "IPY_MODEL_427702be31fc41e08ddf712dc6a8c4ff",
            "placeholder": "​",
            "style": "IPY_MODEL_1ea4930f4ffa4752a783b77203135f97",
            "value": "Downloading: 100%"
          }
        },
        "9ee174a5dece4673a4e67c05d3695be1": {
          "model_module": "@jupyter-widgets/controls",
          "model_name": "FloatProgressModel",
          "model_module_version": "1.5.0",
          "state": {
            "_dom_classes": [],
            "_model_module": "@jupyter-widgets/controls",
            "_model_module_version": "1.5.0",
            "_model_name": "FloatProgressModel",
            "_view_count": null,
            "_view_module": "@jupyter-widgets/controls",
            "_view_module_version": "1.5.0",
            "_view_name": "ProgressView",
            "bar_style": "success",
            "description": "",
            "description_tooltip": null,
            "layout": "IPY_MODEL_85af439948cb441db85d038ac9a83383",
            "max": 608,
            "min": 0,
            "orientation": "horizontal",
            "style": "IPY_MODEL_573d9dcbe58f4ed89748d25530eccef5",
            "value": 608
          }
        },
        "7a885add4ce74f46ba1a4ed19e64c199": {
          "model_module": "@jupyter-widgets/controls",
          "model_name": "HTMLModel",
          "model_module_version": "1.5.0",
          "state": {
            "_dom_classes": [],
            "_model_module": "@jupyter-widgets/controls",
            "_model_module_version": "1.5.0",
            "_model_name": "HTMLModel",
            "_view_count": null,
            "_view_module": "@jupyter-widgets/controls",
            "_view_module_version": "1.5.0",
            "_view_name": "HTMLView",
            "description": "",
            "description_tooltip": null,
            "layout": "IPY_MODEL_78589281b07b4fd38364fb77e08c51bf",
            "placeholder": "​",
            "style": "IPY_MODEL_f478212efdc747909d8e5b708aa64b6f",
            "value": " 608/608 [00:00&lt;00:00, 14.6kB/s]"
          }
        },
        "0621111e977f4a5e811c04d271a64833": {
          "model_module": "@jupyter-widgets/base",
          "model_name": "LayoutModel",
          "model_module_version": "1.2.0",
          "state": {
            "_model_module": "@jupyter-widgets/base",
            "_model_module_version": "1.2.0",
            "_model_name": "LayoutModel",
            "_view_count": null,
            "_view_module": "@jupyter-widgets/base",
            "_view_module_version": "1.2.0",
            "_view_name": "LayoutView",
            "align_content": null,
            "align_items": null,
            "align_self": null,
            "border": null,
            "bottom": null,
            "display": null,
            "flex": null,
            "flex_flow": null,
            "grid_area": null,
            "grid_auto_columns": null,
            "grid_auto_flow": null,
            "grid_auto_rows": null,
            "grid_column": null,
            "grid_gap": null,
            "grid_row": null,
            "grid_template_areas": null,
            "grid_template_columns": null,
            "grid_template_rows": null,
            "height": null,
            "justify_content": null,
            "justify_items": null,
            "left": null,
            "margin": null,
            "max_height": null,
            "max_width": null,
            "min_height": null,
            "min_width": null,
            "object_fit": null,
            "object_position": null,
            "order": null,
            "overflow": null,
            "overflow_x": null,
            "overflow_y": null,
            "padding": null,
            "right": null,
            "top": null,
            "visibility": null,
            "width": null
          }
        },
        "427702be31fc41e08ddf712dc6a8c4ff": {
          "model_module": "@jupyter-widgets/base",
          "model_name": "LayoutModel",
          "model_module_version": "1.2.0",
          "state": {
            "_model_module": "@jupyter-widgets/base",
            "_model_module_version": "1.2.0",
            "_model_name": "LayoutModel",
            "_view_count": null,
            "_view_module": "@jupyter-widgets/base",
            "_view_module_version": "1.2.0",
            "_view_name": "LayoutView",
            "align_content": null,
            "align_items": null,
            "align_self": null,
            "border": null,
            "bottom": null,
            "display": null,
            "flex": null,
            "flex_flow": null,
            "grid_area": null,
            "grid_auto_columns": null,
            "grid_auto_flow": null,
            "grid_auto_rows": null,
            "grid_column": null,
            "grid_gap": null,
            "grid_row": null,
            "grid_template_areas": null,
            "grid_template_columns": null,
            "grid_template_rows": null,
            "height": null,
            "justify_content": null,
            "justify_items": null,
            "left": null,
            "margin": null,
            "max_height": null,
            "max_width": null,
            "min_height": null,
            "min_width": null,
            "object_fit": null,
            "object_position": null,
            "order": null,
            "overflow": null,
            "overflow_x": null,
            "overflow_y": null,
            "padding": null,
            "right": null,
            "top": null,
            "visibility": null,
            "width": null
          }
        },
        "1ea4930f4ffa4752a783b77203135f97": {
          "model_module": "@jupyter-widgets/controls",
          "model_name": "DescriptionStyleModel",
          "model_module_version": "1.5.0",
          "state": {
            "_model_module": "@jupyter-widgets/controls",
            "_model_module_version": "1.5.0",
            "_model_name": "DescriptionStyleModel",
            "_view_count": null,
            "_view_module": "@jupyter-widgets/base",
            "_view_module_version": "1.2.0",
            "_view_name": "StyleView",
            "description_width": ""
          }
        },
        "85af439948cb441db85d038ac9a83383": {
          "model_module": "@jupyter-widgets/base",
          "model_name": "LayoutModel",
          "model_module_version": "1.2.0",
          "state": {
            "_model_module": "@jupyter-widgets/base",
            "_model_module_version": "1.2.0",
            "_model_name": "LayoutModel",
            "_view_count": null,
            "_view_module": "@jupyter-widgets/base",
            "_view_module_version": "1.2.0",
            "_view_name": "LayoutView",
            "align_content": null,
            "align_items": null,
            "align_self": null,
            "border": null,
            "bottom": null,
            "display": null,
            "flex": null,
            "flex_flow": null,
            "grid_area": null,
            "grid_auto_columns": null,
            "grid_auto_flow": null,
            "grid_auto_rows": null,
            "grid_column": null,
            "grid_gap": null,
            "grid_row": null,
            "grid_template_areas": null,
            "grid_template_columns": null,
            "grid_template_rows": null,
            "height": null,
            "justify_content": null,
            "justify_items": null,
            "left": null,
            "margin": null,
            "max_height": null,
            "max_width": null,
            "min_height": null,
            "min_width": null,
            "object_fit": null,
            "object_position": null,
            "order": null,
            "overflow": null,
            "overflow_x": null,
            "overflow_y": null,
            "padding": null,
            "right": null,
            "top": null,
            "visibility": null,
            "width": null
          }
        },
        "573d9dcbe58f4ed89748d25530eccef5": {
          "model_module": "@jupyter-widgets/controls",
          "model_name": "ProgressStyleModel",
          "model_module_version": "1.5.0",
          "state": {
            "_model_module": "@jupyter-widgets/controls",
            "_model_module_version": "1.5.0",
            "_model_name": "ProgressStyleModel",
            "_view_count": null,
            "_view_module": "@jupyter-widgets/base",
            "_view_module_version": "1.2.0",
            "_view_name": "StyleView",
            "bar_color": null,
            "description_width": ""
          }
        },
        "78589281b07b4fd38364fb77e08c51bf": {
          "model_module": "@jupyter-widgets/base",
          "model_name": "LayoutModel",
          "model_module_version": "1.2.0",
          "state": {
            "_model_module": "@jupyter-widgets/base",
            "_model_module_version": "1.2.0",
            "_model_name": "LayoutModel",
            "_view_count": null,
            "_view_module": "@jupyter-widgets/base",
            "_view_module_version": "1.2.0",
            "_view_name": "LayoutView",
            "align_content": null,
            "align_items": null,
            "align_self": null,
            "border": null,
            "bottom": null,
            "display": null,
            "flex": null,
            "flex_flow": null,
            "grid_area": null,
            "grid_auto_columns": null,
            "grid_auto_flow": null,
            "grid_auto_rows": null,
            "grid_column": null,
            "grid_gap": null,
            "grid_row": null,
            "grid_template_areas": null,
            "grid_template_columns": null,
            "grid_template_rows": null,
            "height": null,
            "justify_content": null,
            "justify_items": null,
            "left": null,
            "margin": null,
            "max_height": null,
            "max_width": null,
            "min_height": null,
            "min_width": null,
            "object_fit": null,
            "object_position": null,
            "order": null,
            "overflow": null,
            "overflow_x": null,
            "overflow_y": null,
            "padding": null,
            "right": null,
            "top": null,
            "visibility": null,
            "width": null
          }
        },
        "f478212efdc747909d8e5b708aa64b6f": {
          "model_module": "@jupyter-widgets/controls",
          "model_name": "DescriptionStyleModel",
          "model_module_version": "1.5.0",
          "state": {
            "_model_module": "@jupyter-widgets/controls",
            "_model_module_version": "1.5.0",
            "_model_name": "DescriptionStyleModel",
            "_view_count": null,
            "_view_module": "@jupyter-widgets/base",
            "_view_module_version": "1.2.0",
            "_view_name": "StyleView",
            "description_width": ""
          }
        },
        "737ad4783285498cb8581ef8e6cb6c17": {
          "model_module": "@jupyter-widgets/controls",
          "model_name": "HBoxModel",
          "model_module_version": "1.5.0",
          "state": {
            "_dom_classes": [],
            "_model_module": "@jupyter-widgets/controls",
            "_model_module_version": "1.5.0",
            "_model_name": "HBoxModel",
            "_view_count": null,
            "_view_module": "@jupyter-widgets/controls",
            "_view_module_version": "1.5.0",
            "_view_name": "HBoxView",
            "box_style": "",
            "children": [
              "IPY_MODEL_b0042c89ca404f7bafacf129586bf7e8",
              "IPY_MODEL_fb9994f2c0ff43da87e5134c6951a4cb",
              "IPY_MODEL_b72326f64c6e451c832276dbb3bfd98c"
            ],
            "layout": "IPY_MODEL_0802d827e31940f4abbe9443eedff5dd"
          }
        },
        "b0042c89ca404f7bafacf129586bf7e8": {
          "model_module": "@jupyter-widgets/controls",
          "model_name": "HTMLModel",
          "model_module_version": "1.5.0",
          "state": {
            "_dom_classes": [],
            "_model_module": "@jupyter-widgets/controls",
            "_model_module_version": "1.5.0",
            "_model_name": "HTMLModel",
            "_view_count": null,
            "_view_module": "@jupyter-widgets/controls",
            "_view_module_version": "1.5.0",
            "_view_name": "HTMLView",
            "description": "",
            "description_tooltip": null,
            "layout": "IPY_MODEL_6290af4692b34400b4e11c1017aa1020",
            "placeholder": "​",
            "style": "IPY_MODEL_b0d13ed398c8461ab6fbcac29be5407e",
            "value": "Downloading: 100%"
          }
        },
        "fb9994f2c0ff43da87e5134c6951a4cb": {
          "model_module": "@jupyter-widgets/controls",
          "model_name": "FloatProgressModel",
          "model_module_version": "1.5.0",
          "state": {
            "_dom_classes": [],
            "_model_module": "@jupyter-widgets/controls",
            "_model_module_version": "1.5.0",
            "_model_name": "FloatProgressModel",
            "_view_count": null,
            "_view_module": "@jupyter-widgets/controls",
            "_view_module_version": "1.5.0",
            "_view_name": "ProgressView",
            "bar_style": "success",
            "description": "",
            "description_tooltip": null,
            "layout": "IPY_MODEL_e46e363829ee4b5290c06d6a61e2c22c",
            "max": 1713123,
            "min": 0,
            "orientation": "horizontal",
            "style": "IPY_MODEL_c9b0e168854245578727882640be5245",
            "value": 1713123
          }
        },
        "b72326f64c6e451c832276dbb3bfd98c": {
          "model_module": "@jupyter-widgets/controls",
          "model_name": "HTMLModel",
          "model_module_version": "1.5.0",
          "state": {
            "_dom_classes": [],
            "_model_module": "@jupyter-widgets/controls",
            "_model_module_version": "1.5.0",
            "_model_name": "HTMLModel",
            "_view_count": null,
            "_view_module": "@jupyter-widgets/controls",
            "_view_module_version": "1.5.0",
            "_view_name": "HTMLView",
            "description": "",
            "description_tooltip": null,
            "layout": "IPY_MODEL_e0d79caa0f00436c8e37d435966b019f",
            "placeholder": "​",
            "style": "IPY_MODEL_9ae21957404844b58311d2ed16895329",
            "value": " 1.63M/1.63M [00:01&lt;00:00, 1.33MB/s]"
          }
        },
        "0802d827e31940f4abbe9443eedff5dd": {
          "model_module": "@jupyter-widgets/base",
          "model_name": "LayoutModel",
          "model_module_version": "1.2.0",
          "state": {
            "_model_module": "@jupyter-widgets/base",
            "_model_module_version": "1.2.0",
            "_model_name": "LayoutModel",
            "_view_count": null,
            "_view_module": "@jupyter-widgets/base",
            "_view_module_version": "1.2.0",
            "_view_name": "LayoutView",
            "align_content": null,
            "align_items": null,
            "align_self": null,
            "border": null,
            "bottom": null,
            "display": null,
            "flex": null,
            "flex_flow": null,
            "grid_area": null,
            "grid_auto_columns": null,
            "grid_auto_flow": null,
            "grid_auto_rows": null,
            "grid_column": null,
            "grid_gap": null,
            "grid_row": null,
            "grid_template_areas": null,
            "grid_template_columns": null,
            "grid_template_rows": null,
            "height": null,
            "justify_content": null,
            "justify_items": null,
            "left": null,
            "margin": null,
            "max_height": null,
            "max_width": null,
            "min_height": null,
            "min_width": null,
            "object_fit": null,
            "object_position": null,
            "order": null,
            "overflow": null,
            "overflow_x": null,
            "overflow_y": null,
            "padding": null,
            "right": null,
            "top": null,
            "visibility": null,
            "width": null
          }
        },
        "6290af4692b34400b4e11c1017aa1020": {
          "model_module": "@jupyter-widgets/base",
          "model_name": "LayoutModel",
          "model_module_version": "1.2.0",
          "state": {
            "_model_module": "@jupyter-widgets/base",
            "_model_module_version": "1.2.0",
            "_model_name": "LayoutModel",
            "_view_count": null,
            "_view_module": "@jupyter-widgets/base",
            "_view_module_version": "1.2.0",
            "_view_name": "LayoutView",
            "align_content": null,
            "align_items": null,
            "align_self": null,
            "border": null,
            "bottom": null,
            "display": null,
            "flex": null,
            "flex_flow": null,
            "grid_area": null,
            "grid_auto_columns": null,
            "grid_auto_flow": null,
            "grid_auto_rows": null,
            "grid_column": null,
            "grid_gap": null,
            "grid_row": null,
            "grid_template_areas": null,
            "grid_template_columns": null,
            "grid_template_rows": null,
            "height": null,
            "justify_content": null,
            "justify_items": null,
            "left": null,
            "margin": null,
            "max_height": null,
            "max_width": null,
            "min_height": null,
            "min_width": null,
            "object_fit": null,
            "object_position": null,
            "order": null,
            "overflow": null,
            "overflow_x": null,
            "overflow_y": null,
            "padding": null,
            "right": null,
            "top": null,
            "visibility": null,
            "width": null
          }
        },
        "b0d13ed398c8461ab6fbcac29be5407e": {
          "model_module": "@jupyter-widgets/controls",
          "model_name": "DescriptionStyleModel",
          "model_module_version": "1.5.0",
          "state": {
            "_model_module": "@jupyter-widgets/controls",
            "_model_module_version": "1.5.0",
            "_model_name": "DescriptionStyleModel",
            "_view_count": null,
            "_view_module": "@jupyter-widgets/base",
            "_view_module_version": "1.2.0",
            "_view_name": "StyleView",
            "description_width": ""
          }
        },
        "e46e363829ee4b5290c06d6a61e2c22c": {
          "model_module": "@jupyter-widgets/base",
          "model_name": "LayoutModel",
          "model_module_version": "1.2.0",
          "state": {
            "_model_module": "@jupyter-widgets/base",
            "_model_module_version": "1.2.0",
            "_model_name": "LayoutModel",
            "_view_count": null,
            "_view_module": "@jupyter-widgets/base",
            "_view_module_version": "1.2.0",
            "_view_name": "LayoutView",
            "align_content": null,
            "align_items": null,
            "align_self": null,
            "border": null,
            "bottom": null,
            "display": null,
            "flex": null,
            "flex_flow": null,
            "grid_area": null,
            "grid_auto_columns": null,
            "grid_auto_flow": null,
            "grid_auto_rows": null,
            "grid_column": null,
            "grid_gap": null,
            "grid_row": null,
            "grid_template_areas": null,
            "grid_template_columns": null,
            "grid_template_rows": null,
            "height": null,
            "justify_content": null,
            "justify_items": null,
            "left": null,
            "margin": null,
            "max_height": null,
            "max_width": null,
            "min_height": null,
            "min_width": null,
            "object_fit": null,
            "object_position": null,
            "order": null,
            "overflow": null,
            "overflow_x": null,
            "overflow_y": null,
            "padding": null,
            "right": null,
            "top": null,
            "visibility": null,
            "width": null
          }
        },
        "c9b0e168854245578727882640be5245": {
          "model_module": "@jupyter-widgets/controls",
          "model_name": "ProgressStyleModel",
          "model_module_version": "1.5.0",
          "state": {
            "_model_module": "@jupyter-widgets/controls",
            "_model_module_version": "1.5.0",
            "_model_name": "ProgressStyleModel",
            "_view_count": null,
            "_view_module": "@jupyter-widgets/base",
            "_view_module_version": "1.2.0",
            "_view_name": "StyleView",
            "bar_color": null,
            "description_width": ""
          }
        },
        "e0d79caa0f00436c8e37d435966b019f": {
          "model_module": "@jupyter-widgets/base",
          "model_name": "LayoutModel",
          "model_module_version": "1.2.0",
          "state": {
            "_model_module": "@jupyter-widgets/base",
            "_model_module_version": "1.2.0",
            "_model_name": "LayoutModel",
            "_view_count": null,
            "_view_module": "@jupyter-widgets/base",
            "_view_module_version": "1.2.0",
            "_view_name": "LayoutView",
            "align_content": null,
            "align_items": null,
            "align_self": null,
            "border": null,
            "bottom": null,
            "display": null,
            "flex": null,
            "flex_flow": null,
            "grid_area": null,
            "grid_auto_columns": null,
            "grid_auto_flow": null,
            "grid_auto_rows": null,
            "grid_column": null,
            "grid_gap": null,
            "grid_row": null,
            "grid_template_areas": null,
            "grid_template_columns": null,
            "grid_template_rows": null,
            "height": null,
            "justify_content": null,
            "justify_items": null,
            "left": null,
            "margin": null,
            "max_height": null,
            "max_width": null,
            "min_height": null,
            "min_width": null,
            "object_fit": null,
            "object_position": null,
            "order": null,
            "overflow": null,
            "overflow_x": null,
            "overflow_y": null,
            "padding": null,
            "right": null,
            "top": null,
            "visibility": null,
            "width": null
          }
        },
        "9ae21957404844b58311d2ed16895329": {
          "model_module": "@jupyter-widgets/controls",
          "model_name": "DescriptionStyleModel",
          "model_module_version": "1.5.0",
          "state": {
            "_model_module": "@jupyter-widgets/controls",
            "_model_module_version": "1.5.0",
            "_model_name": "DescriptionStyleModel",
            "_view_count": null,
            "_view_module": "@jupyter-widgets/base",
            "_view_module_version": "1.2.0",
            "_view_name": "StyleView",
            "description_width": ""
          }
        },
        "da83e1a02a5f452a8f7db77c58cf6c40": {
          "model_module": "@jupyter-widgets/controls",
          "model_name": "HBoxModel",
          "model_module_version": "1.5.0",
          "state": {
            "_dom_classes": [],
            "_model_module": "@jupyter-widgets/controls",
            "_model_module_version": "1.5.0",
            "_model_name": "HBoxModel",
            "_view_count": null,
            "_view_module": "@jupyter-widgets/controls",
            "_view_module_version": "1.5.0",
            "_view_name": "HBoxView",
            "box_style": "",
            "children": [
              "IPY_MODEL_eaf80efa59164cae9dbdeeba7ed76171",
              "IPY_MODEL_622d477feaf645d38b740ff20e60adb7",
              "IPY_MODEL_0e9fa6230d5341e0b50d68a94673d814"
            ],
            "layout": "IPY_MODEL_63982247fe2b4d4fbf08a491fd9bdfbc"
          }
        },
        "eaf80efa59164cae9dbdeeba7ed76171": {
          "model_module": "@jupyter-widgets/controls",
          "model_name": "HTMLModel",
          "model_module_version": "1.5.0",
          "state": {
            "_dom_classes": [],
            "_model_module": "@jupyter-widgets/controls",
            "_model_module_version": "1.5.0",
            "_model_name": "HTMLModel",
            "_view_count": null,
            "_view_module": "@jupyter-widgets/controls",
            "_view_module_version": "1.5.0",
            "_view_name": "HTMLView",
            "description": "",
            "description_tooltip": null,
            "layout": "IPY_MODEL_63353257412143f89474f8bf18398c81",
            "placeholder": "​",
            "style": "IPY_MODEL_5e2504309c054a4186f637cd37175241",
            "value": "Downloading: 100%"
          }
        },
        "622d477feaf645d38b740ff20e60adb7": {
          "model_module": "@jupyter-widgets/controls",
          "model_name": "FloatProgressModel",
          "model_module_version": "1.5.0",
          "state": {
            "_dom_classes": [],
            "_model_module": "@jupyter-widgets/controls",
            "_model_module_version": "1.5.0",
            "_model_name": "FloatProgressModel",
            "_view_count": null,
            "_view_module": "@jupyter-widgets/controls",
            "_view_module_version": "1.5.0",
            "_view_name": "ProgressView",
            "bar_style": "success",
            "description": "",
            "description_tooltip": null,
            "layout": "IPY_MODEL_389db3c36f63472f84131dcd0e705733",
            "max": 1270925,
            "min": 0,
            "orientation": "horizontal",
            "style": "IPY_MODEL_78aabf6ef5d64897bd66857aae552c59",
            "value": 1270925
          }
        },
        "0e9fa6230d5341e0b50d68a94673d814": {
          "model_module": "@jupyter-widgets/controls",
          "model_name": "HTMLModel",
          "model_module_version": "1.5.0",
          "state": {
            "_dom_classes": [],
            "_model_module": "@jupyter-widgets/controls",
            "_model_module_version": "1.5.0",
            "_model_name": "HTMLModel",
            "_view_count": null,
            "_view_module": "@jupyter-widgets/controls",
            "_view_module_version": "1.5.0",
            "_view_name": "HTMLView",
            "description": "",
            "description_tooltip": null,
            "layout": "IPY_MODEL_b8ec8341ac0f4ab28f939b226e8cdf92",
            "placeholder": "​",
            "style": "IPY_MODEL_f80e0306f1114838ab86502e5dab2f8b",
            "value": " 1.21M/1.21M [00:01&lt;00:00, 1.16MB/s]"
          }
        },
        "63982247fe2b4d4fbf08a491fd9bdfbc": {
          "model_module": "@jupyter-widgets/base",
          "model_name": "LayoutModel",
          "model_module_version": "1.2.0",
          "state": {
            "_model_module": "@jupyter-widgets/base",
            "_model_module_version": "1.2.0",
            "_model_name": "LayoutModel",
            "_view_count": null,
            "_view_module": "@jupyter-widgets/base",
            "_view_module_version": "1.2.0",
            "_view_name": "LayoutView",
            "align_content": null,
            "align_items": null,
            "align_self": null,
            "border": null,
            "bottom": null,
            "display": null,
            "flex": null,
            "flex_flow": null,
            "grid_area": null,
            "grid_auto_columns": null,
            "grid_auto_flow": null,
            "grid_auto_rows": null,
            "grid_column": null,
            "grid_gap": null,
            "grid_row": null,
            "grid_template_areas": null,
            "grid_template_columns": null,
            "grid_template_rows": null,
            "height": null,
            "justify_content": null,
            "justify_items": null,
            "left": null,
            "margin": null,
            "max_height": null,
            "max_width": null,
            "min_height": null,
            "min_width": null,
            "object_fit": null,
            "object_position": null,
            "order": null,
            "overflow": null,
            "overflow_x": null,
            "overflow_y": null,
            "padding": null,
            "right": null,
            "top": null,
            "visibility": null,
            "width": null
          }
        },
        "63353257412143f89474f8bf18398c81": {
          "model_module": "@jupyter-widgets/base",
          "model_name": "LayoutModel",
          "model_module_version": "1.2.0",
          "state": {
            "_model_module": "@jupyter-widgets/base",
            "_model_module_version": "1.2.0",
            "_model_name": "LayoutModel",
            "_view_count": null,
            "_view_module": "@jupyter-widgets/base",
            "_view_module_version": "1.2.0",
            "_view_name": "LayoutView",
            "align_content": null,
            "align_items": null,
            "align_self": null,
            "border": null,
            "bottom": null,
            "display": null,
            "flex": null,
            "flex_flow": null,
            "grid_area": null,
            "grid_auto_columns": null,
            "grid_auto_flow": null,
            "grid_auto_rows": null,
            "grid_column": null,
            "grid_gap": null,
            "grid_row": null,
            "grid_template_areas": null,
            "grid_template_columns": null,
            "grid_template_rows": null,
            "height": null,
            "justify_content": null,
            "justify_items": null,
            "left": null,
            "margin": null,
            "max_height": null,
            "max_width": null,
            "min_height": null,
            "min_width": null,
            "object_fit": null,
            "object_position": null,
            "order": null,
            "overflow": null,
            "overflow_x": null,
            "overflow_y": null,
            "padding": null,
            "right": null,
            "top": null,
            "visibility": null,
            "width": null
          }
        },
        "5e2504309c054a4186f637cd37175241": {
          "model_module": "@jupyter-widgets/controls",
          "model_name": "DescriptionStyleModel",
          "model_module_version": "1.5.0",
          "state": {
            "_model_module": "@jupyter-widgets/controls",
            "_model_module_version": "1.5.0",
            "_model_name": "DescriptionStyleModel",
            "_view_count": null,
            "_view_module": "@jupyter-widgets/base",
            "_view_module_version": "1.2.0",
            "_view_name": "StyleView",
            "description_width": ""
          }
        },
        "389db3c36f63472f84131dcd0e705733": {
          "model_module": "@jupyter-widgets/base",
          "model_name": "LayoutModel",
          "model_module_version": "1.2.0",
          "state": {
            "_model_module": "@jupyter-widgets/base",
            "_model_module_version": "1.2.0",
            "_model_name": "LayoutModel",
            "_view_count": null,
            "_view_module": "@jupyter-widgets/base",
            "_view_module_version": "1.2.0",
            "_view_name": "LayoutView",
            "align_content": null,
            "align_items": null,
            "align_self": null,
            "border": null,
            "bottom": null,
            "display": null,
            "flex": null,
            "flex_flow": null,
            "grid_area": null,
            "grid_auto_columns": null,
            "grid_auto_flow": null,
            "grid_auto_rows": null,
            "grid_column": null,
            "grid_gap": null,
            "grid_row": null,
            "grid_template_areas": null,
            "grid_template_columns": null,
            "grid_template_rows": null,
            "height": null,
            "justify_content": null,
            "justify_items": null,
            "left": null,
            "margin": null,
            "max_height": null,
            "max_width": null,
            "min_height": null,
            "min_width": null,
            "object_fit": null,
            "object_position": null,
            "order": null,
            "overflow": null,
            "overflow_x": null,
            "overflow_y": null,
            "padding": null,
            "right": null,
            "top": null,
            "visibility": null,
            "width": null
          }
        },
        "78aabf6ef5d64897bd66857aae552c59": {
          "model_module": "@jupyter-widgets/controls",
          "model_name": "ProgressStyleModel",
          "model_module_version": "1.5.0",
          "state": {
            "_model_module": "@jupyter-widgets/controls",
            "_model_module_version": "1.5.0",
            "_model_name": "ProgressStyleModel",
            "_view_count": null,
            "_view_module": "@jupyter-widgets/base",
            "_view_module_version": "1.2.0",
            "_view_name": "StyleView",
            "bar_color": null,
            "description_width": ""
          }
        },
        "b8ec8341ac0f4ab28f939b226e8cdf92": {
          "model_module": "@jupyter-widgets/base",
          "model_name": "LayoutModel",
          "model_module_version": "1.2.0",
          "state": {
            "_model_module": "@jupyter-widgets/base",
            "_model_module_version": "1.2.0",
            "_model_name": "LayoutModel",
            "_view_count": null,
            "_view_module": "@jupyter-widgets/base",
            "_view_module_version": "1.2.0",
            "_view_name": "LayoutView",
            "align_content": null,
            "align_items": null,
            "align_self": null,
            "border": null,
            "bottom": null,
            "display": null,
            "flex": null,
            "flex_flow": null,
            "grid_area": null,
            "grid_auto_columns": null,
            "grid_auto_flow": null,
            "grid_auto_rows": null,
            "grid_column": null,
            "grid_gap": null,
            "grid_row": null,
            "grid_template_areas": null,
            "grid_template_columns": null,
            "grid_template_rows": null,
            "height": null,
            "justify_content": null,
            "justify_items": null,
            "left": null,
            "margin": null,
            "max_height": null,
            "max_width": null,
            "min_height": null,
            "min_width": null,
            "object_fit": null,
            "object_position": null,
            "order": null,
            "overflow": null,
            "overflow_x": null,
            "overflow_y": null,
            "padding": null,
            "right": null,
            "top": null,
            "visibility": null,
            "width": null
          }
        },
        "f80e0306f1114838ab86502e5dab2f8b": {
          "model_module": "@jupyter-widgets/controls",
          "model_name": "DescriptionStyleModel",
          "model_module_version": "1.5.0",
          "state": {
            "_model_module": "@jupyter-widgets/controls",
            "_model_module_version": "1.5.0",
            "_model_name": "DescriptionStyleModel",
            "_view_count": null,
            "_view_module": "@jupyter-widgets/base",
            "_view_module_version": "1.2.0",
            "_view_name": "StyleView",
            "description_width": ""
          }
        }
      }
    }
  },
  "nbformat": 4,
  "nbformat_minor": 0
}